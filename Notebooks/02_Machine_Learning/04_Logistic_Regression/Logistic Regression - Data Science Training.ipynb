{
 "cells": [
  {
   "cell_type": "markdown",
   "metadata": {},
   "source": [
    "# Logistic Regression - Data Science Training"
   ]
  },
  {
   "cell_type": "markdown",
   "metadata": {},
   "source": [
    "### What Is Classification?\n",
    "Classification is an area of supervised machine learning that tries to predict which class or category some entity belongs to, based on its features.\n",
    "The features or variables can take one of two forms:\n",
    "\n",
    "* **Independent variables**, also called inputs or predictors, don’t depend on other features of interest (or at least you assume so for the purpose of the analysis).\n",
    "* **Dependent variables**, also called outputs or responses, depend on the independent variables."
   ]
  },
  {
   "cell_type": "markdown",
   "metadata": {},
   "source": [
    "#### There are two main types of classification problems:\n",
    "\n",
    "* Binary or binomial classification: exactly two classes to choose between (usually 0 and 1, true and false, or positive and negative)\n",
    "* Multiclass or multinomial classification: three or more classes of the outputs to choose from"
   ]
  },
  {
   "cell_type": "markdown",
   "metadata": {},
   "source": [
    "### Why can't we use Linear regression for Classification?\n",
    "* A linear model does not output probabilities, but it treats the classes as numbers (0 and 1) and fits the best hyperplane (for a single feature, it is a line) that minimizes the distances between the points and the hyperplane. So it simply interpolates between the points, and you cannot interpret it as probabilities.\n",
    "\n",
    "* A linear model also extrapolates and gives you values **below zero and above one**. This is a good sign that there might be a smarter approach to classification.\n",
    "\n",
    "* Since the predicted outcome is not a probability, but a linear interpolation between points, there is no meaningful threshold at which you can distinguish one class from the other."
   ]
  },
  {
   "cell_type": "markdown",
   "metadata": {},
   "source": [
    "## What is Logistic Regression?\n",
    "Logistic Regression is a Machine Learning classification algorithm that is used to predict the probability of a categorical dependent variable. In logistic regression, the dependent variable is a binary variable that contains data coded as 1 (yes, success, etc.) or 0 (no, failure, etc.). In other words, the logistic regression model predicts P(Y=1) as a function of X."
   ]
  },
  {
   "cell_type": "markdown",
   "metadata": {},
   "source": [
    "### Types of Questions Binary Logistic Regression Can Answer\n",
    "Q. How does the probability of getting lung cancer (yes vs. no) change for every additional pound a person is overweight and for every pack of cigarettes smoked per day?\n",
    "\n",
    "Q. Do body weight, calorie intake, fat intake, and age have an influence on the probability of having a heart attack (yes vs. no)?"
   ]
  },
  {
   "cell_type": "markdown",
   "metadata": {},
   "source": [
    "<img src='logistic_formula.png'>"
   ]
  },
  {
   "cell_type": "markdown",
   "metadata": {},
   "source": [
    "### Difference between Linear Regression and Logistic Regression\n",
    "<img src='linear_vs_logistic_regression.jpg'  style='width:700px;height:300px'/>"
   ]
  },
  {
   "cell_type": "markdown",
   "metadata": {},
   "source": [
    "## Logistic Regression Assumptions\n",
    "* Binary logistic regression requires the dependent variable to be binary.\n",
    "* For a binary regression, the factor level 1 of the dependent variable should represent the desired outcome.\n",
    "* Only the meaningful variables should be included.\n",
    "* The independent variables should be independent of each other. That is, the model should have little or no multicollinearity.\n",
    "* The independent variables are linearly related to the log odds."
   ]
  },
  {
   "cell_type": "code",
   "execution_count": 1,
   "metadata": {},
   "outputs": [
    {
     "name": "stdout",
     "output_type": "stream",
     "text": [
      "(891, 11)\n"
     ]
    },
    {
     "data": {
      "text/html": [
       "<div>\n",
       "<style scoped>\n",
       "    .dataframe tbody tr th:only-of-type {\n",
       "        vertical-align: middle;\n",
       "    }\n",
       "\n",
       "    .dataframe tbody tr th {\n",
       "        vertical-align: top;\n",
       "    }\n",
       "\n",
       "    .dataframe thead th {\n",
       "        text-align: right;\n",
       "    }\n",
       "</style>\n",
       "<table border=\"1\" class=\"dataframe\">\n",
       "  <thead>\n",
       "    <tr style=\"text-align: right;\">\n",
       "      <th></th>\n",
       "      <th>Survived</th>\n",
       "      <th>Age</th>\n",
       "      <th>Fare</th>\n",
       "      <th>TravelAlone</th>\n",
       "      <th>Pclass_1</th>\n",
       "      <th>Pclass_2</th>\n",
       "      <th>Pclass_3</th>\n",
       "      <th>Embarked_C</th>\n",
       "      <th>Embarked_Q</th>\n",
       "      <th>Embarked_S</th>\n",
       "      <th>Sex_male</th>\n",
       "    </tr>\n",
       "    <tr>\n",
       "      <th>PassengerId</th>\n",
       "      <th></th>\n",
       "      <th></th>\n",
       "      <th></th>\n",
       "      <th></th>\n",
       "      <th></th>\n",
       "      <th></th>\n",
       "      <th></th>\n",
       "      <th></th>\n",
       "      <th></th>\n",
       "      <th></th>\n",
       "      <th></th>\n",
       "    </tr>\n",
       "  </thead>\n",
       "  <tbody>\n",
       "    <tr>\n",
       "      <th>1</th>\n",
       "      <td>0</td>\n",
       "      <td>22.0</td>\n",
       "      <td>7.2500</td>\n",
       "      <td>0</td>\n",
       "      <td>0</td>\n",
       "      <td>0</td>\n",
       "      <td>1</td>\n",
       "      <td>0</td>\n",
       "      <td>0</td>\n",
       "      <td>1</td>\n",
       "      <td>1</td>\n",
       "    </tr>\n",
       "    <tr>\n",
       "      <th>2</th>\n",
       "      <td>1</td>\n",
       "      <td>38.0</td>\n",
       "      <td>71.2833</td>\n",
       "      <td>0</td>\n",
       "      <td>1</td>\n",
       "      <td>0</td>\n",
       "      <td>0</td>\n",
       "      <td>1</td>\n",
       "      <td>0</td>\n",
       "      <td>0</td>\n",
       "      <td>0</td>\n",
       "    </tr>\n",
       "    <tr>\n",
       "      <th>3</th>\n",
       "      <td>1</td>\n",
       "      <td>26.0</td>\n",
       "      <td>7.9250</td>\n",
       "      <td>1</td>\n",
       "      <td>0</td>\n",
       "      <td>0</td>\n",
       "      <td>1</td>\n",
       "      <td>0</td>\n",
       "      <td>0</td>\n",
       "      <td>1</td>\n",
       "      <td>0</td>\n",
       "    </tr>\n",
       "    <tr>\n",
       "      <th>4</th>\n",
       "      <td>1</td>\n",
       "      <td>35.0</td>\n",
       "      <td>53.1000</td>\n",
       "      <td>0</td>\n",
       "      <td>1</td>\n",
       "      <td>0</td>\n",
       "      <td>0</td>\n",
       "      <td>0</td>\n",
       "      <td>0</td>\n",
       "      <td>1</td>\n",
       "      <td>0</td>\n",
       "    </tr>\n",
       "    <tr>\n",
       "      <th>5</th>\n",
       "      <td>0</td>\n",
       "      <td>35.0</td>\n",
       "      <td>8.0500</td>\n",
       "      <td>1</td>\n",
       "      <td>0</td>\n",
       "      <td>0</td>\n",
       "      <td>1</td>\n",
       "      <td>0</td>\n",
       "      <td>0</td>\n",
       "      <td>1</td>\n",
       "      <td>1</td>\n",
       "    </tr>\n",
       "  </tbody>\n",
       "</table>\n",
       "</div>"
      ],
      "text/plain": [
       "             Survived   Age     Fare  TravelAlone  Pclass_1  Pclass_2  \\\n",
       "PassengerId                                                             \n",
       "1                   0  22.0   7.2500            0         0         0   \n",
       "2                   1  38.0  71.2833            0         1         0   \n",
       "3                   1  26.0   7.9250            1         0         0   \n",
       "4                   1  35.0  53.1000            0         1         0   \n",
       "5                   0  35.0   8.0500            1         0         0   \n",
       "\n",
       "             Pclass_3  Embarked_C  Embarked_Q  Embarked_S  Sex_male  \n",
       "PassengerId                                                          \n",
       "1                   1           0           0           1         1  \n",
       "2                   0           1           0           0         0  \n",
       "3                   1           0           0           1         0  \n",
       "4                   0           0           0           1         0  \n",
       "5                   1           0           0           1         1  "
      ]
     },
     "execution_count": 1,
     "metadata": {},
     "output_type": "execute_result"
    }
   ],
   "source": [
    "#reading the data\n",
    "import pandas as pd\n",
    "data=pd.read_csv('data_titanic.csv').set_index('PassengerId')\n",
    "print(data.shape)\n",
    "data.head()"
   ]
  },
  {
   "cell_type": "code",
   "execution_count": 2,
   "metadata": {},
   "outputs": [
    {
     "name": "stdout",
     "output_type": "stream",
     "text": [
      "(712, 10) (179, 10) (712,) (179,)\n"
     ]
    }
   ],
   "source": [
    "from sklearn.model_selection import train_test_split\n",
    "X_train, X_test, y_train, y_test = train_test_split(data.drop('Survived',axis=1), data['Survived'], test_size=0.2)#, random_state=42)\n",
    "\n",
    "print(X_train.shape, X_test.shape, y_train.shape, y_test.shape)"
   ]
  },
  {
   "cell_type": "code",
   "execution_count": 22,
   "metadata": {},
   "outputs": [
    {
     "data": {
      "text/plain": [
       "<seaborn.axisgrid.PairGrid at 0x212ba594358>"
      ]
     },
     "execution_count": 22,
     "metadata": {},
     "output_type": "execute_result"
    },
    {
     "data": {
      "image/png": "[encoded data removed]",
      "text/plain": [
       "<Figure size 411.875x360 with 6 Axes>"
      ]
     },
     "metadata": {
      "needs_background": "light"
     },
     "output_type": "display_data"
    }
   ],
   "source": [
    "import seaborn as sns\n",
    "sns.pairplot(data,vars=['Age','Fare'],hue='Survived')"
   ]
  },
  {
   "cell_type": "code",
   "execution_count": 5,
   "metadata": {},
   "outputs": [
    {
     "name": "stdout",
     "output_type": "stream",
     "text": [
      "EDA on Important Variables\n",
      "Event Rate by : TravelAlone\n",
      "\n",
      " \t\t\tEvent Rate by  TravelAlone\n",
      "   TravelAlone  Event  Total  Perc_Members  Perc_Event  Event_Rate\n",
      "0            0    133    272      0.382022    0.501887    0.488971\n",
      "1            1    132    440      0.617978    0.498113    0.300000\n"
     ]
    },
    {
     "data": {
      "image/png": "[encoded data removed]",
      "text/plain": [
       "<Figure size 432x288 with 1 Axes>"
      ]
     },
     "metadata": {
      "needs_background": "light"
     },
     "output_type": "display_data"
    },
    {
     "name": "stdout",
     "output_type": "stream",
     "text": [
      "Event Rate by : Pclass_1\n",
      "\n",
      " \t\t\tEvent Rate by  Pclass_1\n",
      "   Pclass_1  Event  Total  Perc_Members  Perc_Event  Event_Rate\n",
      "0         0    166    543       0.76264    0.626415    0.305709\n",
      "1         1     99    169       0.23736    0.373585    0.585799\n"
     ]
    },
    {
     "data": {
      "image/png": "[encoded data removed]",
      "text/plain": [
       "<Figure size 432x288 with 1 Axes>"
      ]
     },
     "metadata": {
      "needs_background": "light"
     },
     "output_type": "display_data"
    },
    {
     "name": "stdout",
     "output_type": "stream",
     "text": [
      "Event Rate by : Pclass_2\n",
      "\n",
      " \t\t\tEvent Rate by  Pclass_2\n",
      "   Pclass_2  Event  Total  Perc_Members  Perc_Event  Event_Rate\n",
      "0         0    198    561      0.787921     0.74717    0.352941\n",
      "1         1     67    151      0.212079     0.25283    0.443709\n"
     ]
    },
    {
     "data": {
      "image/png": "[encoded data removed]",
      "text/plain": [
       "<Figure size 432x288 with 1 Axes>"
      ]
     },
     "metadata": {
      "needs_background": "light"
     },
     "output_type": "display_data"
    },
    {
     "name": "stdout",
     "output_type": "stream",
     "text": [
      "Event Rate by : Pclass_3\n",
      "\n",
      " \t\t\tEvent Rate by  Pclass_3\n",
      "   Pclass_3  Event  Total  Perc_Members  Perc_Event  Event_Rate\n",
      "0         0    166    320      0.449438    0.626415    0.518750\n",
      "1         1     99    392      0.550562    0.373585    0.252551\n"
     ]
    },
    {
     "data": {
      "image/png": "[encoded data removed]",
      "text/plain": [
       "<Figure size 432x288 with 1 Axes>"
      ]
     },
     "metadata": {
      "needs_background": "light"
     },
     "output_type": "display_data"
    },
    {
     "name": "stdout",
     "output_type": "stream",
     "text": [
      "Event Rate by : Embarked_C\n",
      "\n",
      " \t\t\tEvent Rate by  Embarked_C\n",
      "   Embarked_C  Event  Total  Perc_Members  Perc_Event  Event_Rate\n",
      "0           0    190    577      0.810393    0.716981    0.329289\n",
      "1           1     75    135      0.189607    0.283019    0.555556\n"
     ]
    },
    {
     "data": {
      "image/png": "[encoded data removed]",
      "text/plain": [
       "<Figure size 432x288 with 1 Axes>"
      ]
     },
     "metadata": {
      "needs_background": "light"
     },
     "output_type": "display_data"
    },
    {
     "name": "stdout",
     "output_type": "stream",
     "text": [
      "Event Rate by : Embarked_Q\n",
      "\n",
      " \t\t\tEvent Rate by  Embarked_Q\n",
      "   Embarked_Q  Event  Total  Perc_Members  Perc_Event  Event_Rate\n",
      "0           0    241    653      0.917135    0.909434    0.369066\n",
      "1           1     24     59      0.082865    0.090566    0.406780\n"
     ]
    },
    {
     "data": {
      "image/png": "[encoded data removed]",
      "text/plain": [
       "<Figure size 432x288 with 1 Axes>"
      ]
     },
     "metadata": {
      "needs_background": "light"
     },
     "output_type": "display_data"
    },
    {
     "name": "stdout",
     "output_type": "stream",
     "text": [
      "Event Rate by : Embarked_S\n",
      "\n",
      " \t\t\tEvent Rate by  Embarked_S\n",
      "   Embarked_S  Event  Total  Perc_Members  Perc_Event  Event_Rate\n",
      "0           0     99    194      0.272472    0.373585    0.510309\n",
      "1           1    166    518      0.727528    0.626415    0.320463\n"
     ]
    },
    {
     "data": {
      "image/png": "[encoded data removed]",
      "text/plain": [
       "<Figure size 432x288 with 1 Axes>"
      ]
     },
     "metadata": {
      "needs_background": "light"
     },
     "output_type": "display_data"
    },
    {
     "name": "stdout",
     "output_type": "stream",
     "text": [
      "Event Rate by : Sex_male\n",
      "\n",
      " \t\t\tEvent Rate by  Sex_male\n",
      "   Sex_male  Event  Total  Perc_Members  Perc_Event  Event_Rate\n",
      "0         0    182    245      0.344101    0.686792    0.742857\n",
      "1         1     83    467      0.655899    0.313208    0.177730\n"
     ]
    },
    {
     "data": {
      "image/png": "[encoded data removed]",
      "text/plain": [
       "<Figure size 432x288 with 1 Axes>"
      ]
     },
     "metadata": {
      "needs_background": "light"
     },
     "output_type": "display_data"
    }
   ],
   "source": [
    "EDA_Imp(X_train,y_train,X_train.columns[2:])"
   ]
  },
  {
   "cell_type": "markdown",
   "metadata": {},
   "source": [
    "## Python has two most commonly used packages from where you can implement Logistic Regression:\n",
    "### statsmodels\n",
    "\n",
    "#### Generalized linear models in statsmodels\n",
    "\n",
    "* There are nice formulas for the mean, variance, score function, etc for data from these distributions. They fit by maximum likelihood; by default, it is done using iteratively reweighted least squares.\n",
    "\n",
    "* The output of this model includes all kinds of metrics based on the likelihood. To use these measures, you must believe the distributional assumptions, namely that the data truly follow the relationship you’re estimating. That said, statsmodels offers a convenient summary method that prints out the estimated coefficients, standard errors, etc. in a table.\n",
    "\n",
    "#### Discrete choice models in statsmodels\n",
    "\n",
    "* statsmodels offers a second way to do logistic regression. This one is part of its Discrete choice models module. It also uses maximum likelihood to fit, but uses more general optimization methods. The user can choose from among many common optimization methods, but the default is Newton-Raphson (which, it turns out, is equivalent to iteratively reweighted least squares for logistic regression).\n",
    "\n",
    "* The output of this method is similar to the GLM, but includes some methods specific to discrete models. This could be useful when we’re doing prediction – sometimes we want binary predictions (rather than probabilities), ROC curves and confusion matrices, etc.\n"
   ]
  },
  {
   "cell_type": "code",
   "execution_count": 6,
   "metadata": {},
   "outputs": [
    {
     "name": "stderr",
     "output_type": "stream",
     "text": [
      "C:\\Users\\pbhere\\AppData\\Local\\Continuum\\anaconda3\\lib\\site-packages\\numpy\\core\\fromnumeric.py:2389: FutureWarning: Method .ptp is deprecated and will be removed in a future version. Use numpy.ptp instead.\n",
      "  return ptp(axis=axis, out=out, **kwargs)\n"
     ]
    },
    {
     "data": {
      "text/html": [
       "<div>\n",
       "<style scoped>\n",
       "    .dataframe tbody tr th:only-of-type {\n",
       "        vertical-align: middle;\n",
       "    }\n",
       "\n",
       "    .dataframe tbody tr th {\n",
       "        vertical-align: top;\n",
       "    }\n",
       "\n",
       "    .dataframe thead th {\n",
       "        text-align: right;\n",
       "    }\n",
       "</style>\n",
       "<table border=\"1\" class=\"dataframe\">\n",
       "  <thead>\n",
       "    <tr style=\"text-align: right;\">\n",
       "      <th></th>\n",
       "      <th>const</th>\n",
       "      <th>Age</th>\n",
       "      <th>Fare</th>\n",
       "      <th>TravelAlone</th>\n",
       "      <th>Pclass_1</th>\n",
       "      <th>Pclass_2</th>\n",
       "      <th>Pclass_3</th>\n",
       "      <th>Embarked_C</th>\n",
       "      <th>Embarked_Q</th>\n",
       "      <th>Embarked_S</th>\n",
       "      <th>Sex_male</th>\n",
       "    </tr>\n",
       "    <tr>\n",
       "      <th>PassengerId</th>\n",
       "      <th></th>\n",
       "      <th></th>\n",
       "      <th></th>\n",
       "      <th></th>\n",
       "      <th></th>\n",
       "      <th></th>\n",
       "      <th></th>\n",
       "      <th></th>\n",
       "      <th></th>\n",
       "      <th></th>\n",
       "      <th></th>\n",
       "    </tr>\n",
       "  </thead>\n",
       "  <tbody>\n",
       "    <tr>\n",
       "      <th>488</th>\n",
       "      <td>1.0</td>\n",
       "      <td>58.0</td>\n",
       "      <td>29.700</td>\n",
       "      <td>1</td>\n",
       "      <td>1</td>\n",
       "      <td>0</td>\n",
       "      <td>0</td>\n",
       "      <td>1</td>\n",
       "      <td>0</td>\n",
       "      <td>0</td>\n",
       "      <td>1</td>\n",
       "    </tr>\n",
       "    <tr>\n",
       "      <th>575</th>\n",
       "      <td>1.0</td>\n",
       "      <td>16.0</td>\n",
       "      <td>8.050</td>\n",
       "      <td>1</td>\n",
       "      <td>0</td>\n",
       "      <td>0</td>\n",
       "      <td>1</td>\n",
       "      <td>0</td>\n",
       "      <td>0</td>\n",
       "      <td>1</td>\n",
       "      <td>1</td>\n",
       "    </tr>\n",
       "    <tr>\n",
       "      <th>564</th>\n",
       "      <td>1.0</td>\n",
       "      <td>28.0</td>\n",
       "      <td>8.050</td>\n",
       "      <td>1</td>\n",
       "      <td>0</td>\n",
       "      <td>0</td>\n",
       "      <td>1</td>\n",
       "      <td>0</td>\n",
       "      <td>0</td>\n",
       "      <td>1</td>\n",
       "      <td>1</td>\n",
       "    </tr>\n",
       "    <tr>\n",
       "      <th>819</th>\n",
       "      <td>1.0</td>\n",
       "      <td>43.0</td>\n",
       "      <td>6.450</td>\n",
       "      <td>1</td>\n",
       "      <td>0</td>\n",
       "      <td>0</td>\n",
       "      <td>1</td>\n",
       "      <td>0</td>\n",
       "      <td>0</td>\n",
       "      <td>1</td>\n",
       "      <td>1</td>\n",
       "    </tr>\n",
       "    <tr>\n",
       "      <th>765</th>\n",
       "      <td>1.0</td>\n",
       "      <td>16.0</td>\n",
       "      <td>7.775</td>\n",
       "      <td>1</td>\n",
       "      <td>0</td>\n",
       "      <td>0</td>\n",
       "      <td>1</td>\n",
       "      <td>0</td>\n",
       "      <td>0</td>\n",
       "      <td>1</td>\n",
       "      <td>1</td>\n",
       "    </tr>\n",
       "  </tbody>\n",
       "</table>\n",
       "</div>"
      ],
      "text/plain": [
       "             const   Age    Fare  TravelAlone  Pclass_1  Pclass_2  Pclass_3  \\\n",
       "PassengerId                                                                   \n",
       "488            1.0  58.0  29.700            1         1         0         0   \n",
       "575            1.0  16.0   8.050            1         0         0         1   \n",
       "564            1.0  28.0   8.050            1         0         0         1   \n",
       "819            1.0  43.0   6.450            1         0         0         1   \n",
       "765            1.0  16.0   7.775            1         0         0         1   \n",
       "\n",
       "             Embarked_C  Embarked_Q  Embarked_S  Sex_male  \n",
       "PassengerId                                                \n",
       "488                   1           0           0         1  \n",
       "575                   0           0           1         1  \n",
       "564                   0           0           1         1  \n",
       "819                   0           0           1         1  \n",
       "765                   0           0           1         1  "
      ]
     },
     "execution_count": 6,
     "metadata": {},
     "output_type": "execute_result"
    }
   ],
   "source": [
    "# Adding constant to the data\n",
    "import statsmodels \n",
    "X_train1=statsmodels.tools.tools.add_constant(X_train)\n",
    "X_train1.head()"
   ]
  },
  {
   "cell_type": "code",
   "execution_count": 25,
   "metadata": {},
   "outputs": [
    {
     "name": "stdout",
     "output_type": "stream",
     "text": [
      "Optimization terminated successfully.\n",
      "         Current function value: 0.447734\n",
      "         Iterations 10\n"
     ]
    },
    {
     "data": {
      "text/html": [
       "<table class=\"simpletable\">\n",
       "<caption>Logit Regression Results</caption>\n",
       "<tr>\n",
       "  <th>Dep. Variable:</th>     <td>Survived</td>     <th>  No. Observations:  </th>  <td>   712</td>  \n",
       "</tr>\n",
       "<tr>\n",
       "  <th>Model:</th>               <td>Logit</td>      <th>  Df Residuals:      </th>  <td>   703</td>  \n",
       "</tr>\n",
       "<tr>\n",
       "  <th>Method:</th>               <td>MLE</td>       <th>  Df Model:          </th>  <td>     8</td>  \n",
       "</tr>\n",
       "<tr>\n",
       "  <th>Date:</th>          <td>Fri, 31 Jul 2020</td> <th>  Pseudo R-squ.:     </th>  <td>0.3217</td>  \n",
       "</tr>\n",
       "<tr>\n",
       "  <th>Time:</th>              <td>12:59:44</td>     <th>  Log-Likelihood:    </th> <td> -318.79</td> \n",
       "</tr>\n",
       "<tr>\n",
       "  <th>converged:</th>           <td>True</td>       <th>  LL-Null:           </th> <td> -470.00</td> \n",
       "</tr>\n",
       "<tr>\n",
       "  <th> </th>                      <td> </td>        <th>  LLR p-value:       </th> <td>1.254e-60</td>\n",
       "</tr>\n",
       "</table>\n",
       "<table class=\"simpletable\">\n",
       "<tr>\n",
       "       <td></td>          <th>coef</th>     <th>std err</th>      <th>z</th>      <th>P>|z|</th>  <th>[0.025</th>    <th>0.975]</th>  \n",
       "</tr>\n",
       "<tr>\n",
       "  <th>const</th>       <td>    1.5099</td> <td> 3.67e+06</td> <td> 4.12e-07</td> <td> 1.000</td> <td>-7.18e+06</td> <td> 7.18e+06</td>\n",
       "</tr>\n",
       "<tr>\n",
       "  <th>Age</th>         <td>   -0.0299</td> <td>    0.009</td> <td>   -3.486</td> <td> 0.000</td> <td>   -0.047</td> <td>   -0.013</td>\n",
       "</tr>\n",
       "<tr>\n",
       "  <th>Fare</th>        <td>   -0.0015</td> <td>    0.003</td> <td>   -0.567</td> <td> 0.571</td> <td>   -0.007</td> <td>    0.004</td>\n",
       "</tr>\n",
       "<tr>\n",
       "  <th>TravelAlone</th> <td>    0.1049</td> <td>    0.221</td> <td>    0.476</td> <td> 0.634</td> <td>   -0.327</td> <td>    0.537</td>\n",
       "</tr>\n",
       "<tr>\n",
       "  <th>Pclass_1</th>    <td>    1.4942</td> <td> 1.23e+07</td> <td> 1.21e-07</td> <td> 1.000</td> <td>-2.42e+07</td> <td> 2.42e+07</td>\n",
       "</tr>\n",
       "<tr>\n",
       "  <th>Pclass_2</th>    <td>    0.6394</td> <td> 1.33e+07</td> <td> 4.81e-08</td> <td> 1.000</td> <td>-2.61e+07</td> <td> 2.61e+07</td>\n",
       "</tr>\n",
       "<tr>\n",
       "  <th>Pclass_3</th>    <td>   -0.6238</td> <td> 1.33e+07</td> <td>-4.69e-08</td> <td> 1.000</td> <td>-2.61e+07</td> <td> 2.61e+07</td>\n",
       "</tr>\n",
       "<tr>\n",
       "  <th>Embarked_C</th>  <td>    0.8109</td> <td> 8.99e+06</td> <td> 9.02e-08</td> <td> 1.000</td> <td>-1.76e+07</td> <td> 1.76e+07</td>\n",
       "</tr>\n",
       "<tr>\n",
       "  <th>Embarked_Q</th>  <td>    0.5983</td> <td> 8.99e+06</td> <td> 6.65e-08</td> <td> 1.000</td> <td>-1.76e+07</td> <td> 1.76e+07</td>\n",
       "</tr>\n",
       "<tr>\n",
       "  <th>Embarked_S</th>  <td>    0.1007</td> <td> 8.99e+06</td> <td> 1.12e-08</td> <td> 1.000</td> <td>-1.76e+07</td> <td> 1.76e+07</td>\n",
       "</tr>\n",
       "<tr>\n",
       "  <th>Sex_male</th>    <td>   -2.7266</td> <td>    0.223</td> <td>  -12.230</td> <td> 0.000</td> <td>   -3.164</td> <td>   -2.290</td>\n",
       "</tr>\n",
       "</table>"
      ],
      "text/plain": [
       "<class 'statsmodels.iolib.summary.Summary'>\n",
       "\"\"\"\n",
       "                           Logit Regression Results                           \n",
       "==============================================================================\n",
       "Dep. Variable:               Survived   No. Observations:                  712\n",
       "Model:                          Logit   Df Residuals:                      703\n",
       "Method:                           MLE   Df Model:                            8\n",
       "Date:                Fri, 31 Jul 2020   Pseudo R-squ.:                  0.3217\n",
       "Time:                        12:59:44   Log-Likelihood:                -318.79\n",
       "converged:                       True   LL-Null:                       -470.00\n",
       "                                        LLR p-value:                 1.254e-60\n",
       "===============================================================================\n",
       "                  coef    std err          z      P>|z|      [0.025      0.975]\n",
       "-------------------------------------------------------------------------------\n",
       "const           1.5099   3.67e+06   4.12e-07      1.000   -7.18e+06    7.18e+06\n",
       "Age            -0.0299      0.009     -3.486      0.000      -0.047      -0.013\n",
       "Fare           -0.0015      0.003     -0.567      0.571      -0.007       0.004\n",
       "TravelAlone     0.1049      0.221      0.476      0.634      -0.327       0.537\n",
       "Pclass_1        1.4942   1.23e+07   1.21e-07      1.000   -2.42e+07    2.42e+07\n",
       "Pclass_2        0.6394   1.33e+07   4.81e-08      1.000   -2.61e+07    2.61e+07\n",
       "Pclass_3       -0.6238   1.33e+07  -4.69e-08      1.000   -2.61e+07    2.61e+07\n",
       "Embarked_C      0.8109   8.99e+06   9.02e-08      1.000   -1.76e+07    1.76e+07\n",
       "Embarked_Q      0.5983   8.99e+06   6.65e-08      1.000   -1.76e+07    1.76e+07\n",
       "Embarked_S      0.1007   8.99e+06   1.12e-08      1.000   -1.76e+07    1.76e+07\n",
       "Sex_male       -2.7266      0.223    -12.230      0.000      -3.164      -2.290\n",
       "===============================================================================\n",
       "\"\"\""
      ]
     },
     "execution_count": 25,
     "metadata": {},
     "output_type": "execute_result"
    }
   ],
   "source": [
    "import statsmodels.formula.api as sm\n",
    " \n",
    "model = sm.Logit(y_train, X_train1)\n",
    " \n",
    "result = model.fit()\n",
    "\n",
    "result.summary()"
   ]
  },
  {
   "cell_type": "code",
   "execution_count": 24,
   "metadata": {},
   "outputs": [
    {
     "data": {
      "text/plain": [
       "PassengerId\n",
       "488    0.357285\n",
       "575    0.106609\n",
       "564    0.076900\n",
       "819    0.050588\n",
       "765    0.106648\n",
       "dtype: float64"
      ]
     },
     "execution_count": 24,
     "metadata": {},
     "output_type": "execute_result"
    }
   ],
   "source": [
    "result.predict(X_train1).head()"
   ]
  },
  {
   "cell_type": "code",
   "execution_count": 8,
   "metadata": {},
   "outputs": [
    {
     "data": {
      "text/plain": [
       "array([[381.,  66.],\n",
       "       [ 80., 185.]])"
      ]
     },
     "execution_count": 8,
     "metadata": {},
     "output_type": "execute_result"
    }
   ],
   "source": [
    "result.pred_table()"
   ]
  },
  {
   "cell_type": "markdown",
   "metadata": {},
   "source": [
    "### Scikit-learn\n",
    "\n",
    "* Binary Logistic regression is a two-class decision rule with optional L1 or L2 penalization. When penalization is introduced to a method, the fitting procedure often has to rely more on optimization than distribution-related formulas.\n",
    "\n",
    "* The outputs returned look similar to those from statsmodels, but there’s no clean summary method to print the estimated coefficients and model fit statistics.\n",
    "\n",
    "* If you don’t want to regularize? Turns out, you can’t get rid of the penalty term in the loss function. Instead, you can set C=1e10 or another large value to make the penalty term small."
   ]
  },
  {
   "cell_type": "code",
   "execution_count": 9,
   "metadata": {},
   "outputs": [
    {
     "name": "stderr",
     "output_type": "stream",
     "text": [
      "C:\\Users\\pbhere\\AppData\\Local\\Continuum\\anaconda3\\lib\\site-packages\\sklearn\\linear_model\\logistic.py:433: FutureWarning: Default solver will be changed to 'lbfgs' in 0.22. Specify a solver to silence this warning.\n",
      "  FutureWarning)\n"
     ]
    },
    {
     "data": {
      "text/plain": [
       "LogisticRegression(C=1.0, class_weight=None, dual=False, fit_intercept=True,\n",
       "          intercept_scaling=1, max_iter=100, multi_class='warn',\n",
       "          n_jobs=None, penalty='l2', random_state=None, solver='warn',\n",
       "          tol=0.0001, verbose=0, warm_start=False)"
      ]
     },
     "execution_count": 9,
     "metadata": {},
     "output_type": "execute_result"
    }
   ],
   "source": [
    "from sklearn.linear_model import LogisticRegression\n",
    "\n",
    "logistic_model = LogisticRegression()\n",
    "logistic_model.fit(X_train,y_train)"
   ]
  },
  {
   "cell_type": "code",
   "execution_count": 10,
   "metadata": {},
   "outputs": [
    {
     "data": {
      "text/plain": [
       "0.7949438202247191"
      ]
     },
     "execution_count": 10,
     "metadata": {},
     "output_type": "execute_result"
    }
   ],
   "source": [
    "from sklearn import metrics\n",
    "metrics.accuracy_score(y_train,logistic_model.predict(X_train))"
   ]
  },
  {
   "cell_type": "code",
   "execution_count": 11,
   "metadata": {},
   "outputs": [
    {
     "data": {
      "text/html": [
       "<div>\n",
       "<style scoped>\n",
       "    .dataframe tbody tr th:only-of-type {\n",
       "        vertical-align: middle;\n",
       "    }\n",
       "\n",
       "    .dataframe tbody tr th {\n",
       "        vertical-align: top;\n",
       "    }\n",
       "\n",
       "    .dataframe thead th {\n",
       "        text-align: right;\n",
       "    }\n",
       "</style>\n",
       "<table border=\"1\" class=\"dataframe\">\n",
       "  <thead>\n",
       "    <tr style=\"text-align: right;\">\n",
       "      <th></th>\n",
       "      <th>features</th>\n",
       "      <th>coef</th>\n",
       "    </tr>\n",
       "  </thead>\n",
       "  <tbody>\n",
       "    <tr>\n",
       "      <th>0</th>\n",
       "      <td>Age</td>\n",
       "      <td>-0.025554</td>\n",
       "    </tr>\n",
       "    <tr>\n",
       "      <th>1</th>\n",
       "      <td>Fare</td>\n",
       "      <td>-0.000440</td>\n",
       "    </tr>\n",
       "    <tr>\n",
       "      <th>2</th>\n",
       "      <td>TravelAlone</td>\n",
       "      <td>0.089819</td>\n",
       "    </tr>\n",
       "    <tr>\n",
       "      <th>3</th>\n",
       "      <td>Pclass_1</td>\n",
       "      <td>1.309855</td>\n",
       "    </tr>\n",
       "    <tr>\n",
       "      <th>4</th>\n",
       "      <td>Pclass_2</td>\n",
       "      <td>0.585392</td>\n",
       "    </tr>\n",
       "    <tr>\n",
       "      <th>5</th>\n",
       "      <td>Pclass_3</td>\n",
       "      <td>-0.574172</td>\n",
       "    </tr>\n",
       "    <tr>\n",
       "      <th>6</th>\n",
       "      <td>Embarked_C</td>\n",
       "      <td>0.738398</td>\n",
       "    </tr>\n",
       "    <tr>\n",
       "      <th>7</th>\n",
       "      <td>Embarked_Q</td>\n",
       "      <td>0.510625</td>\n",
       "    </tr>\n",
       "    <tr>\n",
       "      <th>8</th>\n",
       "      <td>Embarked_S</td>\n",
       "      <td>0.072053</td>\n",
       "    </tr>\n",
       "    <tr>\n",
       "      <th>9</th>\n",
       "      <td>Sex_male</td>\n",
       "      <td>-2.551132</td>\n",
       "    </tr>\n",
       "  </tbody>\n",
       "</table>\n",
       "</div>"
      ],
      "text/plain": [
       "      features      coef\n",
       "0          Age -0.025554\n",
       "1         Fare -0.000440\n",
       "2  TravelAlone  0.089819\n",
       "3     Pclass_1  1.309855\n",
       "4     Pclass_2  0.585392\n",
       "5     Pclass_3 -0.574172\n",
       "6   Embarked_C  0.738398\n",
       "7   Embarked_Q  0.510625\n",
       "8   Embarked_S  0.072053\n",
       "9     Sex_male -2.551132"
      ]
     },
     "execution_count": 11,
     "metadata": {},
     "output_type": "execute_result"
    }
   ],
   "source": [
    "coef = pd.DataFrame({'features':X_train.columns,'coef':logistic_model.coef_.reshape((X_train.shape[1],))})\n",
    "coef.head(10)"
   ]
  },
  {
   "cell_type": "markdown",
   "metadata": {},
   "source": [
    "### Why we do Sclaing / Normalization of data for Logistic Regression?\n",
    "\n",
    "The reason is that, if their predictor variables with large ranges that do not affect the target variable, a regression algorithm will make the corresponding coefficients ai small so that they do not affect predictions so much.\n",
    "* For example, if you have two independent variables in different ranges [1, 2] and [1000, 2000] and you didn’t scale, then it’s likely the latter variables are considered dominent.\n",
    "* The implementation of logistic regression you use has a penalty on coefficent size (L1 or L2 norm). In this case, feature scaling matters, because coeffitients of features with large variance are small and thus less penalized.\n",
    "\n",
    "The performance of logistic regression did not improve with data scaling."
   ]
  },
  {
   "cell_type": "code",
   "execution_count": 12,
   "metadata": {},
   "outputs": [
    {
     "name": "stderr",
     "output_type": "stream",
     "text": [
      "C:\\Users\\pbhere\\AppData\\Local\\Continuum\\anaconda3\\lib\\site-packages\\sklearn\\preprocessing\\data.py:334: DataConversionWarning: Data with input dtype int64, float64 were all converted to float64 by MinMaxScaler.\n",
      "  return self.partial_fit(X, y)\n"
     ]
    },
    {
     "name": "stdout",
     "output_type": "stream",
     "text": [
      "(712, 10)\n"
     ]
    },
    {
     "data": {
      "text/html": [
       "<div>\n",
       "<style scoped>\n",
       "    .dataframe tbody tr th:only-of-type {\n",
       "        vertical-align: middle;\n",
       "    }\n",
       "\n",
       "    .dataframe tbody tr th {\n",
       "        vertical-align: top;\n",
       "    }\n",
       "\n",
       "    .dataframe thead th {\n",
       "        text-align: right;\n",
       "    }\n",
       "</style>\n",
       "<table border=\"1\" class=\"dataframe\">\n",
       "  <thead>\n",
       "    <tr style=\"text-align: right;\">\n",
       "      <th></th>\n",
       "      <th>Age</th>\n",
       "      <th>Fare</th>\n",
       "      <th>TravelAlone</th>\n",
       "      <th>Pclass_1</th>\n",
       "      <th>Pclass_2</th>\n",
       "      <th>Pclass_3</th>\n",
       "      <th>Embarked_C</th>\n",
       "      <th>Embarked_Q</th>\n",
       "      <th>Embarked_S</th>\n",
       "      <th>Sex_male</th>\n",
       "    </tr>\n",
       "  </thead>\n",
       "  <tbody>\n",
       "    <tr>\n",
       "      <th>count</th>\n",
       "      <td>712.000000</td>\n",
       "      <td>712.000000</td>\n",
       "      <td>712.000000</td>\n",
       "      <td>712.000000</td>\n",
       "      <td>712.000000</td>\n",
       "      <td>712.000000</td>\n",
       "      <td>712.000000</td>\n",
       "      <td>712.000000</td>\n",
       "      <td>712.000000</td>\n",
       "      <td>712.000000</td>\n",
       "    </tr>\n",
       "    <tr>\n",
       "      <th>mean</th>\n",
       "      <td>0.366776</td>\n",
       "      <td>0.061369</td>\n",
       "      <td>0.617978</td>\n",
       "      <td>0.237360</td>\n",
       "      <td>0.212079</td>\n",
       "      <td>0.550562</td>\n",
       "      <td>0.189607</td>\n",
       "      <td>0.082865</td>\n",
       "      <td>0.727528</td>\n",
       "      <td>0.655899</td>\n",
       "    </tr>\n",
       "    <tr>\n",
       "      <th>std</th>\n",
       "      <td>0.164418</td>\n",
       "      <td>0.093210</td>\n",
       "      <td>0.486224</td>\n",
       "      <td>0.425764</td>\n",
       "      <td>0.409068</td>\n",
       "      <td>0.497787</td>\n",
       "      <td>0.392265</td>\n",
       "      <td>0.275872</td>\n",
       "      <td>0.445544</td>\n",
       "      <td>0.475408</td>\n",
       "    </tr>\n",
       "    <tr>\n",
       "      <th>min</th>\n",
       "      <td>0.000000</td>\n",
       "      <td>0.000000</td>\n",
       "      <td>0.000000</td>\n",
       "      <td>0.000000</td>\n",
       "      <td>0.000000</td>\n",
       "      <td>0.000000</td>\n",
       "      <td>0.000000</td>\n",
       "      <td>0.000000</td>\n",
       "      <td>0.000000</td>\n",
       "      <td>0.000000</td>\n",
       "    </tr>\n",
       "    <tr>\n",
       "      <th>25%</th>\n",
       "      <td>0.283740</td>\n",
       "      <td>0.015412</td>\n",
       "      <td>0.000000</td>\n",
       "      <td>0.000000</td>\n",
       "      <td>0.000000</td>\n",
       "      <td>0.000000</td>\n",
       "      <td>0.000000</td>\n",
       "      <td>0.000000</td>\n",
       "      <td>0.000000</td>\n",
       "      <td>0.000000</td>\n",
       "    </tr>\n",
       "    <tr>\n",
       "      <th>50%</th>\n",
       "      <td>0.346569</td>\n",
       "      <td>0.026700</td>\n",
       "      <td>1.000000</td>\n",
       "      <td>0.000000</td>\n",
       "      <td>0.000000</td>\n",
       "      <td>1.000000</td>\n",
       "      <td>0.000000</td>\n",
       "      <td>0.000000</td>\n",
       "      <td>1.000000</td>\n",
       "      <td>1.000000</td>\n",
       "    </tr>\n",
       "    <tr>\n",
       "      <th>75%</th>\n",
       "      <td>0.434531</td>\n",
       "      <td>0.060508</td>\n",
       "      <td>1.000000</td>\n",
       "      <td>0.000000</td>\n",
       "      <td>0.000000</td>\n",
       "      <td>1.000000</td>\n",
       "      <td>0.000000</td>\n",
       "      <td>0.000000</td>\n",
       "      <td>1.000000</td>\n",
       "      <td>1.000000</td>\n",
       "    </tr>\n",
       "    <tr>\n",
       "      <th>max</th>\n",
       "      <td>1.000000</td>\n",
       "      <td>1.000000</td>\n",
       "      <td>1.000000</td>\n",
       "      <td>1.000000</td>\n",
       "      <td>1.000000</td>\n",
       "      <td>1.000000</td>\n",
       "      <td>1.000000</td>\n",
       "      <td>1.000000</td>\n",
       "      <td>1.000000</td>\n",
       "      <td>1.000000</td>\n",
       "    </tr>\n",
       "  </tbody>\n",
       "</table>\n",
       "</div>"
      ],
      "text/plain": [
       "              Age        Fare  TravelAlone    Pclass_1    Pclass_2  \\\n",
       "count  712.000000  712.000000   712.000000  712.000000  712.000000   \n",
       "mean     0.366776    0.061369     0.617978    0.237360    0.212079   \n",
       "std      0.164418    0.093210     0.486224    0.425764    0.409068   \n",
       "min      0.000000    0.000000     0.000000    0.000000    0.000000   \n",
       "25%      0.283740    0.015412     0.000000    0.000000    0.000000   \n",
       "50%      0.346569    0.026700     1.000000    0.000000    0.000000   \n",
       "75%      0.434531    0.060508     1.000000    0.000000    0.000000   \n",
       "max      1.000000    1.000000     1.000000    1.000000    1.000000   \n",
       "\n",
       "         Pclass_3  Embarked_C  Embarked_Q  Embarked_S    Sex_male  \n",
       "count  712.000000  712.000000  712.000000  712.000000  712.000000  \n",
       "mean     0.550562    0.189607    0.082865    0.727528    0.655899  \n",
       "std      0.497787    0.392265    0.275872    0.445544    0.475408  \n",
       "min      0.000000    0.000000    0.000000    0.000000    0.000000  \n",
       "25%      0.000000    0.000000    0.000000    0.000000    0.000000  \n",
       "50%      1.000000    0.000000    0.000000    1.000000    1.000000  \n",
       "75%      1.000000    0.000000    0.000000    1.000000    1.000000  \n",
       "max      1.000000    1.000000    1.000000    1.000000    1.000000  "
      ]
     },
     "execution_count": 12,
     "metadata": {},
     "output_type": "execute_result"
    }
   ],
   "source": [
    "from sklearn.preprocessing import MinMaxScaler\n",
    "\n",
    "minmaxscaler = MinMaxScaler().fit(X_train)\n",
    "X_train_scaled = minmaxscaler.transform(X_train)\n",
    "X_train_scaled = pd.DataFrame(data=X_train_scaled,columns=X_train.columns,index=X_train.index)\n",
    "print(X_train_scaled.shape)\n",
    "X_train_scaled.describe()"
   ]
  },
  {
   "cell_type": "code",
   "execution_count": 13,
   "metadata": {},
   "outputs": [
    {
     "name": "stderr",
     "output_type": "stream",
     "text": [
      "C:\\Users\\pbhere\\AppData\\Local\\Continuum\\anaconda3\\lib\\site-packages\\sklearn\\linear_model\\logistic.py:433: FutureWarning: Default solver will be changed to 'lbfgs' in 0.22. Specify a solver to silence this warning.\n",
      "  FutureWarning)\n"
     ]
    },
    {
     "data": {
      "text/plain": [
       "LogisticRegression(C=1.0, class_weight=None, dual=False, fit_intercept=True,\n",
       "          intercept_scaling=1, max_iter=100, multi_class='warn',\n",
       "          n_jobs=None, penalty='l2', random_state=None, solver='warn',\n",
       "          tol=0.0001, verbose=0, warm_start=False)"
      ]
     },
     "execution_count": 13,
     "metadata": {},
     "output_type": "execute_result"
    }
   ],
   "source": [
    "logistic_model_scaled=LogisticRegression()\n",
    "logistic_model_scaled.fit(X_train_scaled,y_train)"
   ]
  },
  {
   "cell_type": "code",
   "execution_count": 14,
   "metadata": {},
   "outputs": [
    {
     "data": {
      "text/html": [
       "<div>\n",
       "<style scoped>\n",
       "    .dataframe tbody tr th:only-of-type {\n",
       "        vertical-align: middle;\n",
       "    }\n",
       "\n",
       "    .dataframe tbody tr th {\n",
       "        vertical-align: top;\n",
       "    }\n",
       "\n",
       "    .dataframe thead th {\n",
       "        text-align: right;\n",
       "    }\n",
       "</style>\n",
       "<table border=\"1\" class=\"dataframe\">\n",
       "  <thead>\n",
       "    <tr style=\"text-align: right;\">\n",
       "      <th></th>\n",
       "      <th>features</th>\n",
       "      <th>coef</th>\n",
       "      <th>imp</th>\n",
       "    </tr>\n",
       "  </thead>\n",
       "  <tbody>\n",
       "    <tr>\n",
       "      <th>9</th>\n",
       "      <td>Sex_male</td>\n",
       "      <td>-2.543409</td>\n",
       "      <td>2.543409</td>\n",
       "    </tr>\n",
       "    <tr>\n",
       "      <th>0</th>\n",
       "      <td>Age</td>\n",
       "      <td>-1.438893</td>\n",
       "      <td>1.438893</td>\n",
       "    </tr>\n",
       "    <tr>\n",
       "      <th>3</th>\n",
       "      <td>Pclass_1</td>\n",
       "      <td>1.193934</td>\n",
       "      <td>1.193934</td>\n",
       "    </tr>\n",
       "    <tr>\n",
       "      <th>6</th>\n",
       "      <td>Embarked_C</td>\n",
       "      <td>0.695839</td>\n",
       "      <td>0.695839</td>\n",
       "    </tr>\n",
       "    <tr>\n",
       "      <th>5</th>\n",
       "      <td>Pclass_3</td>\n",
       "      <td>-0.568847</td>\n",
       "      <td>0.568847</td>\n",
       "    </tr>\n",
       "    <tr>\n",
       "      <th>4</th>\n",
       "      <td>Pclass_2</td>\n",
       "      <td>0.555274</td>\n",
       "      <td>0.555274</td>\n",
       "    </tr>\n",
       "    <tr>\n",
       "      <th>7</th>\n",
       "      <td>Embarked_Q</td>\n",
       "      <td>0.462994</td>\n",
       "      <td>0.462994</td>\n",
       "    </tr>\n",
       "    <tr>\n",
       "      <th>1</th>\n",
       "      <td>Fare</td>\n",
       "      <td>-0.066972</td>\n",
       "      <td>0.066972</td>\n",
       "    </tr>\n",
       "    <tr>\n",
       "      <th>2</th>\n",
       "      <td>TravelAlone</td>\n",
       "      <td>0.061490</td>\n",
       "      <td>0.061490</td>\n",
       "    </tr>\n",
       "    <tr>\n",
       "      <th>8</th>\n",
       "      <td>Embarked_S</td>\n",
       "      <td>0.021529</td>\n",
       "      <td>0.021529</td>\n",
       "    </tr>\n",
       "  </tbody>\n",
       "</table>\n",
       "</div>"
      ],
      "text/plain": [
       "      features      coef       imp\n",
       "9     Sex_male -2.543409  2.543409\n",
       "0          Age -1.438893  1.438893\n",
       "3     Pclass_1  1.193934  1.193934\n",
       "6   Embarked_C  0.695839  0.695839\n",
       "5     Pclass_3 -0.568847  0.568847\n",
       "4     Pclass_2  0.555274  0.555274\n",
       "7   Embarked_Q  0.462994  0.462994\n",
       "1         Fare -0.066972  0.066972\n",
       "2  TravelAlone  0.061490  0.061490\n",
       "8   Embarked_S  0.021529  0.021529"
      ]
     },
     "execution_count": 14,
     "metadata": {},
     "output_type": "execute_result"
    }
   ],
   "source": [
    "import numpy as np\n",
    "coef_norm = pd.DataFrame({'features':X_train_scaled.columns,'coef':logistic_model_scaled.coef_.reshape((X_train.shape[1],))})\n",
    "coef_norm['imp']=np.abs(coef_norm['coef'])\n",
    "coef_norm=coef_norm.sort_values('imp',ascending=False)\n",
    "coef_norm.head(10)"
   ]
  },
  {
   "cell_type": "markdown",
   "metadata": {},
   "source": [
    "### Cost Function\n",
    "Linear regression uses Least Squared Error as loss function that gives **a convex graph** and then we can complete the optimization by finding its vertex as global minimum. However, it’s not an option for logistic regression anymore. Since the hypothesis is changed, Least Squared Error will result in **a non-convex graph** with local minimums by calculating with sigmoid function applied on raw model output."
   ]
  },
  {
   "cell_type": "markdown",
   "metadata": {},
   "source": [
    "#### Convex cost function in case of Linear Regression\n",
    "<img src='convex.png' style='height:300px;width:500px'>"
   ]
  },
  {
   "cell_type": "markdown",
   "metadata": {},
   "source": [
    "#### Non-Convex cost function in case of Linear Regression\n",
    "<img src='non_convex.png' style='height:300px;width:500px'>"
   ]
  },
  {
   "cell_type": "markdown",
   "metadata": {},
   "source": [
    "Intuitively, we want to assign more punishment when predicting 1 while the actual is 0 and when predict 0 while the actual is 1. The loss function of logistic regression is doing this exactly which is called **Logistic Loss**.\n",
    "If y = 1, when prediction = 1, the cost = 0, when prediction = 0, the learning algorithm is punished by a very large cost. Similarly, if y = 0, predicting 0 has no punishment but predicting 1 has a large value of cost.\n"
   ]
  },
  {
   "cell_type": "markdown",
   "metadata": {},
   "source": [
    "<img src='cost_func.png'>\n",
    "So the cost function of the model is the summation from all training data samples:\n",
    "<img src='cost_func1.png'>"
   ]
  },
  {
   "cell_type": "markdown",
   "metadata": {},
   "source": [
    "### Optimization\n",
    "* Minimizing J(θ) as a function of θ to find optimal parameters. \n",
    "\n",
    "There are multiple techniques used to optimize cost function. We are going to discuss two of the common techniques used.\n",
    "\n",
    "#### 1) Gradient Descent\n",
    "\n",
    "*  It takes partial derivative of J with respect to θ (the slope of J), and updates θ via each iteration with a selected learning rate α until the Gradient Descent has converged. \n",
    "*  θ = θ - alpha * J'(θ)   where alpha is the learning rate\n",
    "\n",
    "#### 2) Newton’s Method\n",
    "\n",
    "* we firstly take the partial derivative of J(θ) that is the slope of J(θ), and note it as f(θ). Instead of decreasing θ by a certain chosen learning rate α multiplied with f(θ) , Newton’s Method gets an updated θ at the point of intersection of the tangent line of f(θ) at previous θ and x axis. After amount of iterations, Newton’s Method will converge at f(θ) = 0.\n",
    "\n",
    "<img src = 'newton.png'>\n",
    "<img src = 'newton1.png'>\n",
    "\n",
    "* Obviously Newton’s Method doesn’t need a chosen fixed learning rate, and the step size of each iteration is larger and varying as well, so that it usually converges faster and pretty efficient with a proper size of features and samples.\n",
    "\n"
   ]
  },
  {
   "cell_type": "markdown",
   "metadata": {},
   "source": [
    "## How to Interpret Logistic Regression Outputs\n",
    "<img src='confusion_matrix1.png' style='width:450px;height:250px'>"
   ]
  },
  {
   "cell_type": "markdown",
   "metadata": {},
   "source": [
    "### 1) Accuracy\n",
    " Accuracy is the proportion of true results among the total number of cases examined.\n",
    "#### Accuracy = (TP+TN)/(TP+FP+FN+TN)\n",
    " \n",
    "* Accuracy is a valid choice of evaluation for classification problems which are well balanced and not skewed or No class imbalance.\n",
    "* When target class is very sparse, model can be reasonably accurate, but not at all valuable.\n"
   ]
  },
  {
   "cell_type": "markdown",
   "metadata": {},
   "source": [
    "### 2) Precision\n",
    "what proportion of predicted Positives is truly Positive?\n",
    "\n",
    "#### Precision = (TP)/(TP+FP)\n",
    "\n",
    "* Precision is a valid choice of evaluation metric when we want to be very sure of our prediction. For example: If we are building a model to predict if we should decrease the credit limit on a particular account, we want to be very sure about our prediction or it may result in customer dissatisfaction."
   ]
  },
  {
   "cell_type": "markdown",
   "metadata": {},
   "source": [
    "### 3) Recall\n",
    "what proportion of actual Positives is correctly classified?\n",
    "\n",
    "#### Recall = (TP)/(TP+FN)\n",
    "\n",
    "* Recall is a valid choice of evaluation metric when we want to capture as many positives as possible. For example: If we are building a system to predict if a person has cancer or not, we want to capture the disease even if we are not very sure."
   ]
  },
  {
   "cell_type": "markdown",
   "metadata": {},
   "source": [
    "### 4) F1 Score\n",
    "The F1 score is a number between 0 and 1 and is the harmonic mean of precision and recall."
   ]
  },
  {
   "cell_type": "markdown",
   "metadata": {},
   "source": [
    "<img src='f1.png'>"
   ]
  },
  {
   "cell_type": "markdown",
   "metadata": {},
   "source": [
    "* F1 score sort of maintains a balance between the precision and recall for your classifier. If your precision is low, the F1 is low and if the recall is low again your F1 score is low.\n",
    "* for Example: If you are a police inspector and you want to catch criminals, you want to be sure that the person you catch is a criminal (Precision) and you also want to capture as many criminals (Recall) as possible. The F1 score manages this tradeoff."
   ]
  },
  {
   "cell_type": "markdown",
   "metadata": {},
   "source": [
    "### 5) AUC\n",
    "AUC ROC indicates how well the probabilities from the positive classes are separated from the negative classes.\n",
    "\n",
    "We can use various threshold values to plot our sensitivity(TPR) and specificity(FPR) on the cure and we will have a ROC curve.\n",
    "Where True positive rate or TPR is just the proportion of trues we are capturing using our algorithm.\n",
    "#### Sensitivty = TPR(True Positive Rate)= Recall = TP/(TP+FN)\n",
    "and False positive rate or FPR is just the proportion of false we are capturing using our algorithm.\n",
    "#### Specificity = FPR(False Positive Rate)= FP/(TN+FP)\n"
   ]
  },
  {
   "cell_type": "markdown",
   "metadata": {},
   "source": [
    "<img src='roc.jfif' style='height: 350px ; width: 400px '>"
   ]
  },
  {
   "cell_type": "markdown",
   "metadata": {},
   "source": [
    "* AUC is scale-invariant. It measures how well predictions are ranked, rather than their absolute values. So, for example, if you as a marketer want to find a list of users who will respond to a marketing campaign. AUC is a good metric to use since the predictions ranked by probability is the order in which you will create a list of users to send the marketing campaign.\n",
    "* It measures the quality of the model’s predictions irrespective of what classification threshold is chosen, unlike F1 score or accuracy which depend on the choice of threshold."
   ]
  },
  {
   "cell_type": "code",
   "execution_count": 15,
   "metadata": {},
   "outputs": [
    {
     "name": "stdout",
     "output_type": "stream",
     "text": [
      "confusion Matrix\n",
      "[[380  67]\n",
      " [ 80 185]]\n",
      "\n",
      "1) Accuracy:  0.7935393258426966\n",
      "\n",
      "2) Precision:  0.7341269841269841\n",
      "\n",
      "3) Recall:  0.6981132075471698\n",
      "\n",
      "4) F1 Score:  0.7156673114119922\n",
      "\n",
      "5) AUC:  0.774112532185218\n"
     ]
    }
   ],
   "source": [
    "from sklearn import metrics\n",
    "\n",
    "yhat_train=logistic_model_scaled.predict(X_train_scaled)\n",
    "\n",
    "print('confusion Matrix')\n",
    "print(metrics.confusion_matrix(y_train,yhat_train))\n",
    "\n",
    "print('\\n1) Accuracy: ',metrics.accuracy_score(y_train,yhat_train))\n",
    "\n",
    "print('\\n2) Precision: ',metrics.precision_score(y_train,yhat_train))\n",
    "\n",
    "print('\\n3) Recall: ',metrics.recall_score(y_train,yhat_train))\n",
    "\n",
    "print('\\n4) F1 Score: ',metrics.f1_score(y_train,yhat_train))\n",
    "\n",
    "print('\\n5) AUC: ',metrics.roc_auc_score(y_train,yhat_train))"
   ]
  },
  {
   "cell_type": "code",
   "execution_count": 16,
   "metadata": {},
   "outputs": [
    {
     "name": "stdout",
     "output_type": "stream",
     "text": [
      "              precision    recall  f1-score   support\n",
      "\n",
      "           0       0.83      0.85      0.84       447\n",
      "           1       0.73      0.70      0.72       265\n",
      "\n",
      "   micro avg       0.79      0.79      0.79       712\n",
      "   macro avg       0.78      0.77      0.78       712\n",
      "weighted avg       0.79      0.79      0.79       712\n",
      "\n"
     ]
    }
   ],
   "source": [
    "print(metrics.classification_report(y_train,yhat_train,digits=2))"
   ]
  },
  {
   "cell_type": "code",
   "execution_count": 17,
   "metadata": {},
   "outputs": [
    {
     "data": {
      "text/html": [
       "<div>\n",
       "<style scoped>\n",
       "    .dataframe tbody tr th:only-of-type {\n",
       "        vertical-align: middle;\n",
       "    }\n",
       "\n",
       "    .dataframe tbody tr th {\n",
       "        vertical-align: top;\n",
       "    }\n",
       "\n",
       "    .dataframe thead th {\n",
       "        text-align: right;\n",
       "    }\n",
       "</style>\n",
       "<table border=\"1\" class=\"dataframe\">\n",
       "  <thead>\n",
       "    <tr style=\"text-align: right;\">\n",
       "      <th></th>\n",
       "      <th>indvdl_id</th>\n",
       "      <th>Y</th>\n",
       "    </tr>\n",
       "  </thead>\n",
       "  <tbody>\n",
       "    <tr>\n",
       "      <th>0</th>\n",
       "      <td>488</td>\n",
       "      <td>0</td>\n",
       "    </tr>\n",
       "    <tr>\n",
       "      <th>1</th>\n",
       "      <td>575</td>\n",
       "      <td>0</td>\n",
       "    </tr>\n",
       "    <tr>\n",
       "      <th>2</th>\n",
       "      <td>564</td>\n",
       "      <td>0</td>\n",
       "    </tr>\n",
       "    <tr>\n",
       "      <th>3</th>\n",
       "      <td>819</td>\n",
       "      <td>0</td>\n",
       "    </tr>\n",
       "    <tr>\n",
       "      <th>4</th>\n",
       "      <td>765</td>\n",
       "      <td>0</td>\n",
       "    </tr>\n",
       "  </tbody>\n",
       "</table>\n",
       "</div>"
      ],
      "text/plain": [
       "   indvdl_id  Y\n",
       "0        488  0\n",
       "1        575  0\n",
       "2        564  0\n",
       "3        819  0\n",
       "4        765  0"
      ]
     },
     "execution_count": 17,
     "metadata": {},
     "output_type": "execute_result"
    }
   ],
   "source": [
    "id_train=y_train.reset_index()\n",
    "id_train=id_train.rename(columns={'Survived':'Y','PassengerId':'indvdl_id'})\n",
    "id_train.head()"
   ]
  },
  {
   "cell_type": "code",
   "execution_count": 20,
   "metadata": {},
   "outputs": [
    {
     "name": "stdout",
     "output_type": "stream",
     "text": [
      "\n",
      "Decile Summary :\n",
      "   Log_y_decile  Members  Event  Min_Prob  Max_Prob  Perc_Members  Perc_Event  \\\n",
      "0             1       72     69  0.831126  0.940258      0.101124    0.260377   \n",
      "1             2       71     64  0.696291  0.828573      0.099719    0.241509   \n",
      "2             3       71     39  0.546757  0.693652      0.099719    0.147170   \n",
      "3             4       71     25  0.363130  0.544952      0.099719    0.094340   \n",
      "4             5       71     26  0.254084  0.361081      0.099719    0.098113   \n",
      "5             6       71      6  0.178153  0.251502      0.099719    0.022642   \n",
      "6             7       71     11  0.122540  0.177003      0.099719    0.041509   \n",
      "7             8       71      6  0.094027  0.121687      0.099719    0.022642   \n",
      "8             9       71     10  0.085184  0.093118      0.099719    0.037736   \n",
      "9            10       72      9  0.039914  0.085176      0.101124    0.033962   \n",
      "\n",
      "   Cum_Perc_Members  Cum_Perc_Event  Event_Rate  \n",
      "0          0.101124        0.260377    0.958333  \n",
      "1          0.200843        0.501887    0.901408  \n",
      "2          0.300562        0.649057    0.549296  \n",
      "3          0.400281        0.743396    0.352113  \n",
      "4          0.500000        0.841509    0.366197  \n",
      "5          0.599719        0.864151    0.084507  \n",
      "6          0.699438        0.905660    0.154930  \n",
      "7          0.799157        0.928302    0.084507  \n",
      "8          0.898876        0.966038    0.140845  \n",
      "9          1.000000        1.000000    0.125000  \n",
      "\n",
      "Gain Rate by Deciles :\n"
     ]
    },
    {
     "data": {
      "image/png": "[encoded data removed]",
      "text/plain": [
       "<Figure size 720x360 with 1 Axes>"
      ]
     },
     "metadata": {
      "needs_background": "light"
     },
     "output_type": "display_data"
    },
    {
     "name": "stdout",
     "output_type": "stream",
     "text": [
      "\n",
      "Event Rate by Deciles :\n"
     ]
    },
    {
     "data": {
      "image/png": "[encoded data removed]",
      "text/plain": [
       "<Figure size 720x360 with 1 Axes>"
      ]
     },
     "metadata": {
      "needs_background": "light"
     },
     "output_type": "display_data"
    },
    {
     "name": "stdout",
     "output_type": "stream",
     "text": [
      "\n",
      "Histogram of Predicted probability:\n"
     ]
    },
    {
     "data": {
      "image/png": "[encoded data removed]",
      "text/plain": [
       "<Figure size 432x288 with 1 Axes>"
      ]
     },
     "metadata": {
      "needs_background": "light"
     },
     "output_type": "display_data"
    },
    {
     "name": "stdout",
     "output_type": "stream",
     "text": [
      "\n",
      "Summary of Predicted probability:\n",
      "count    712.000000\n",
      "mean       0.370533\n",
      "std        0.288084\n",
      "min        0.039914\n",
      "25%        0.100988\n",
      "50%        0.252793\n",
      "75%        0.634395\n",
      "max        0.940258\n",
      "Name: Log_y_prob, dtype: float64\n"
     ]
    }
   ],
   "source": [
    "decile_gain(id_train,X_train_scaled,logistic_model_scaled,'Log')"
   ]
  },
  {
   "cell_type": "markdown",
   "metadata": {},
   "source": [
    "### Regularization\n",
    "\n",
    "Overfitted models tend to have good performance with the data used to fit them (the training data), but they behave poorly with unseen data (or test data, which is data not used to fit the model).\n",
    "\n",
    "Overfitting usually occurs with complex models. Regularization normally tries to reduce or penalize the complexity of the model. Regularization techniques applied with logistic regression mostly tend to penalize large coefficients 𝑏₀, 𝑏₁, …, 𝑏ᵣ:\n",
    "\n",
    "* L1 regularization penalizes the LLF with the scaled sum of the absolute values of the weights: |𝑏₀|+|𝑏₁|+⋯+|𝑏ᵣ|.\n",
    "* L2 regularization penalizes the LLF with the scaled sum of the squares of the weights: 𝑏₀²+𝑏₁²+⋯+𝑏ᵣ².\n",
    "* Elastic-net regularization is a linear combination of L1 and L2 regularization.\n",
    "\n",
    "\n",
    "Regularization can significantly improve model performance on unseen data."
   ]
  },
  {
   "cell_type": "code",
   "execution_count": 21,
   "metadata": {},
   "outputs": [
    {
     "name": "stderr",
     "output_type": "stream",
     "text": [
      "C:\\Users\\pbhere\\AppData\\Local\\Continuum\\anaconda3\\lib\\site-packages\\sklearn\\linear_model\\logistic.py:433: FutureWarning: Default solver will be changed to 'lbfgs' in 0.22. Specify a solver to silence this warning.\n",
      "  FutureWarning)\n",
      "C:\\Users\\pbhere\\AppData\\Local\\Continuum\\anaconda3\\lib\\site-packages\\sklearn\\linear_model\\logistic.py:433: FutureWarning: Default solver will be changed to 'lbfgs' in 0.22. Specify a solver to silence this warning.\n",
      "  FutureWarning)\n"
     ]
    },
    {
     "data": {
      "text/html": [
       "<div>\n",
       "<style scoped>\n",
       "    .dataframe tbody tr th:only-of-type {\n",
       "        vertical-align: middle;\n",
       "    }\n",
       "\n",
       "    .dataframe tbody tr th {\n",
       "        vertical-align: top;\n",
       "    }\n",
       "\n",
       "    .dataframe thead th {\n",
       "        text-align: right;\n",
       "    }\n",
       "</style>\n",
       "<table border=\"1\" class=\"dataframe\">\n",
       "  <thead>\n",
       "    <tr style=\"text-align: right;\">\n",
       "      <th></th>\n",
       "      <th>coef_l1</th>\n",
       "      <th>coef_l2</th>\n",
       "    </tr>\n",
       "    <tr>\n",
       "      <th>features</th>\n",
       "      <th></th>\n",
       "      <th></th>\n",
       "    </tr>\n",
       "  </thead>\n",
       "  <tbody>\n",
       "    <tr>\n",
       "      <th>Age</th>\n",
       "      <td>-0.026201</td>\n",
       "      <td>-0.025554</td>\n",
       "    </tr>\n",
       "    <tr>\n",
       "      <th>Fare</th>\n",
       "      <td>-0.000741</td>\n",
       "      <td>-0.000440</td>\n",
       "    </tr>\n",
       "    <tr>\n",
       "      <th>TravelAlone</th>\n",
       "      <td>0.067321</td>\n",
       "      <td>0.089819</td>\n",
       "    </tr>\n",
       "    <tr>\n",
       "      <th>Pclass_1</th>\n",
       "      <td>1.926821</td>\n",
       "      <td>1.309855</td>\n",
       "    </tr>\n",
       "    <tr>\n",
       "      <th>Pclass_2</th>\n",
       "      <td>1.135261</td>\n",
       "      <td>0.585392</td>\n",
       "    </tr>\n",
       "    <tr>\n",
       "      <th>Pclass_3</th>\n",
       "      <td>0.000000</td>\n",
       "      <td>-0.574172</td>\n",
       "    </tr>\n",
       "    <tr>\n",
       "      <th>Embarked_C</th>\n",
       "      <td>0.638228</td>\n",
       "      <td>0.738398</td>\n",
       "    </tr>\n",
       "    <tr>\n",
       "      <th>Embarked_Q</th>\n",
       "      <td>0.354818</td>\n",
       "      <td>0.510625</td>\n",
       "    </tr>\n",
       "    <tr>\n",
       "      <th>Embarked_S</th>\n",
       "      <td>0.000000</td>\n",
       "      <td>0.072053</td>\n",
       "    </tr>\n",
       "    <tr>\n",
       "      <th>Sex_male</th>\n",
       "      <td>-2.624065</td>\n",
       "      <td>-2.551132</td>\n",
       "    </tr>\n",
       "  </tbody>\n",
       "</table>\n",
       "</div>"
      ],
      "text/plain": [
       "              coef_l1   coef_l2\n",
       "features                       \n",
       "Age         -0.026201 -0.025554\n",
       "Fare        -0.000741 -0.000440\n",
       "TravelAlone  0.067321  0.089819\n",
       "Pclass_1     1.926821  1.309855\n",
       "Pclass_2     1.135261  0.585392\n",
       "Pclass_3     0.000000 -0.574172\n",
       "Embarked_C   0.638228  0.738398\n",
       "Embarked_Q   0.354818  0.510625\n",
       "Embarked_S   0.000000  0.072053\n",
       "Sex_male    -2.624065 -2.551132"
      ]
     },
     "execution_count": 21,
     "metadata": {},
     "output_type": "execute_result"
    }
   ],
   "source": [
    "model_l1=LogisticRegression(penalty='l1').fit(X_train,y_train)\n",
    "coef_l1 = pd.DataFrame({'features':X_train.columns,'coef_l1':model_l1.coef_.reshape((X_train.shape[1],))})\n",
    "\n",
    "model_l2=LogisticRegression(penalty='l2').fit(X_train,y_train)\n",
    "coef_l2 = pd.DataFrame({'features':X_train.columns,'coef_l2':model_l2.coef_.reshape((X_train.shape[1],))})\n",
    "\n",
    "coef_l1.set_index('features').join(coef_l2.set_index('features'))\n"
   ]
  },
  {
   "cell_type": "markdown",
   "metadata": {},
   "source": [
    "### Advantages\n",
    "* One of the simplest machine learning algorithms yet provides great efficiency.\n",
    "* It can also used for feature extraction\n",
    "* Logistic models can be updated easily with new data using stochastic gradient descent."
   ]
  },
  {
   "cell_type": "markdown",
   "metadata": {},
   "source": [
    "### Disadvantages\n",
    "* Doesn’t handle large number of categorical variables well.\n",
    "* It requires transformation of non-linear features.\n",
    "* They are not flexible enough to naturally capture more complex relationships."
   ]
  },
  {
   "cell_type": "code",
   "execution_count": null,
   "metadata": {},
   "outputs": [],
   "source": []
  },
  {
   "cell_type": "code",
   "execution_count": null,
   "metadata": {},
   "outputs": [],
   "source": []
  },
  {
   "cell_type": "code",
   "execution_count": null,
   "metadata": {},
   "outputs": [],
   "source": []
  },
  {
   "cell_type": "code",
   "execution_count": 19,
   "metadata": {},
   "outputs": [],
   "source": [
    "#Important Functions\n",
    "\n",
    "def event_func(df,output,col):\n",
    "    member_cnt=len(df)\n",
    "    event_cnt=sum(output)\n",
    "    \n",
    "    print(\"\\n \\t\\t\\tEvent Rate by \",col)\n",
    "    df1=pd.crosstab(df[col],output).reset_index()\n",
    "    df1.columns=[col,'Non_Event','Event']\n",
    "    df1['Total']=df1['Non_Event']+df1['Event']\n",
    "    df1['Perc_Members']=df1['Total']/member_cnt\n",
    "    df1['Perc_Event']=df1['Event']/event_cnt\n",
    "    df1['Event_Rate']=df1['Event']/df1['Total']\n",
    "    df1.drop(['Non_Event'],axis=1,inplace=True)\n",
    "    \n",
    "    return df1\n",
    "\n",
    "def event_chart(data,col): \n",
    "    Event_plt=plt.bar(data[col],data['Event'],bottom=(data['Total']-data['Event']))\n",
    "    Non_Event_plt=plt.bar(data[col],(data['Total']-data['Event']))\n",
    "    plt.legend(['Event','Non_Event'])\n",
    "    plt.xticks(rotation=45)\n",
    "    for x,y,l in zip(data[col],data.Total,data.Event_Rate):\n",
    "        label = \"{:.1f}%\".format(l*100)\n",
    "        plt.text(x,y,label, ha='center')\n",
    "    plt.show()\n",
    "    \n",
    "#Missing Value Imputation\n",
    "from sklearn.base import TransformerMixin\n",
    "\n",
    "class DataFrameImputer(TransformerMixin):\n",
    "\n",
    "    def __init__(self):\n",
    "        \"\"\"Impute missing values.\n",
    "\n",
    "        Columns of dtype object are imputed with the most frequent value \n",
    "        in column.\n",
    "\n",
    "        Columns of other types are imputed with mean of column.\n",
    "\n",
    "        \"\"\"\n",
    "    def fit(self, X, y=None):\n",
    "\n",
    "        self.fill = pd.Series([X[c].value_counts().index[0]\n",
    "            if X[c].dtype == np.dtype('O') else X[c].median() for c in X],\n",
    "            index=X.columns)\n",
    "\n",
    "        return self\n",
    "\n",
    "    def transform(self, X, y=None):\n",
    "        return X.fillna(self.fill)\n",
    "    \n",
    "\n",
    "def create_dummies(df,cat_vars):\n",
    "    #print(\"Variable list before :\",df.columns)\n",
    "    for var in cat_vars:\n",
    "        cat_list='var'+'_'+var\n",
    "        #cat_list = pd.get_dummies(df[var], prefix=var,drop_first=True)\n",
    "        cat_list = pd.get_dummies(df[var], prefix=var)\n",
    "        df1=df.join(cat_list)\n",
    "        df=df1\n",
    "        \n",
    "        df_vars=df.columns.values.tolist()\n",
    "        to_keep=[i for i in df_vars if i not in cat_vars]\n",
    "        \n",
    "        df_final=df[to_keep]\n",
    "    #print(\"Variable list After :\",df_final.columns)\n",
    "    return df_final\n",
    "\n",
    "def Performance_measure(model,df,actual):\n",
    "    y_pred=model.predict(df)\n",
    "    y_lapse_prob=model.predict_proba(df)[:,1]\n",
    "    \n",
    "    from sklearn.metrics import classification_report\n",
    "    from sklearn.metrics import confusion_matrix\n",
    "    from sklearn.metrics import roc_auc_score\n",
    "    from sklearn.metrics import roc_curve\n",
    "    from sklearn.metrics import precision_score\n",
    "    from sklearn.metrics import recall_score\n",
    "    from sklearn.metrics import f1_score\n",
    "    from sklearn.metrics import auc\n",
    "    \n",
    "    print(\"\\nProportion of Positive class predicted :\", sum(y_pred)/len(y_pred))\n",
    "    \n",
    "    print(\"\\nConfusion Matrix : \\n\", confusion_matrix(actual,y_pred))\n",
    "    \n",
    "    print(\"\\n% Confusion Matrix : \\n\", confusion_matrix(actual,y_pred)/len(actual))\n",
    "    \n",
    "    print(\"\\nClassification Report : \\n\", classification_report(actual,y_pred))\n",
    "    \n",
    "    print(\"\\nPrecision Score : \", precision_score(actual, y_pred))\n",
    "    print(\"\\nRecall Score : \", recall_score(actual, y_pred))\n",
    "    print(\"\\nF1 Score : \", f1_score(actual, y_pred))\n",
    "    \n",
    "    print(\"ROC Curve\")\n",
    "    roc_auc = roc_auc_score(actual, y_pred)\n",
    "    fpr, tpr, thresholds = roc_curve(actual, y_lapse_prob)\n",
    "    print(\"AUC Value is : \",auc(fpr, tpr))\n",
    "    auc1=auc(fpr,tpr)\n",
    "    plt.figure()\n",
    "    #plt.plot(fpr, tpr, label='Area Under the curve (area = %0.2f)' % roc_auc)\n",
    "    plt.plot(fpr, tpr, label='Area Under the curve (area = %0.2f)' % auc1)\n",
    "    \n",
    "    \n",
    "    \n",
    "    plt.plot([0, 1], [0, 1],'r--')\n",
    "    plt.xlim([0.0, 1.0])\n",
    "    plt.ylim([0.0, 1.05])\n",
    "    plt.xlabel('False Positive Rate')\n",
    "    plt.ylabel('True Positive Rate')\n",
    "    plt.title('Receiver operating characteristic')\n",
    "    plt.legend(loc=\"lower right\")\n",
    "    #plt.savefig('Log_ROC')\n",
    "    plt.show()\n",
    "\n",
    "def prob_pred(df,X_train,model,model_name):\n",
    "    df[model_name+'_y_pred']=model.predict(X_train)\n",
    "    df[model_name+'_y_prob']=model.predict_proba(X_train)[:,1]\n",
    "    df[model_name+'_y_prob_decile']=pd.qcut(df[model_name+'_y_prob'],10,duplicates='drop')\n",
    "    \n",
    "    tmp=pd.DataFrame(df[model_name+'_y_prob_decile'].value_counts())\n",
    "    tmp.sort_index(ascending=False,inplace=True)\n",
    "    tmp.reset_index(inplace=True)\n",
    "    tmp['decile']=tmp.index+1\n",
    "    tmp.columns=[model_name+'_y_prob_decile',model_name+'_decile_members',model_name+'_y_decile']\n",
    "    \n",
    "    df1=pd.merge(df,tmp,how='left',on=[model_name+'_y_prob_decile'])\n",
    "    df1.index=X_train.index\n",
    "    \n",
    "    return df1\n",
    "\n",
    "def decile_summary(data,decile,prob):\n",
    "    summary=pd.pivot_table(data, \n",
    "                index=decile, \n",
    "               values =['indvdl_id', 'Y',prob],  \n",
    "                aggfunc={decile:len,'Y':[np.sum],prob:[min,max]})\n",
    "\n",
    "    summary=pd.DataFrame({'Members':summary[decile]['len'],\n",
    "                       'Event':summary['Y']['sum'],\n",
    "                       'Min_Prob':summary[prob]['min'],\n",
    "                       'Max_Prob':summary[prob]['max'],\n",
    "                      })\n",
    "\n",
    "    summary['Perc_Members']=summary['Members']/summary['Members'].sum()\n",
    "    summary['Perc_Event']=summary['Event']/summary['Event'].sum()\n",
    "    summary.reset_index(inplace=True)\n",
    "    summary.sort_values(decile,ascending=True,inplace=True)\n",
    "    summary['Cum_Perc_Members']=summary['Perc_Members'].cumsum()\n",
    "    summary['Cum_Perc_Event']=summary['Perc_Event'].cumsum()\n",
    "    summary['Event_Rate']=summary['Event']/summary['Members']\n",
    "\n",
    "    return summary\n",
    "\n",
    "def decile_summary_OEP(data,decile,prob):\n",
    "    summary=pd.pivot_table(data, \n",
    "                index=decile, \n",
    "               values =['FINAL_MBI', 'OEP_VLAPSE_FLAG',prob], \n",
    "                aggfunc={decile:len,'OEP_VLAPSE_FLAG':[np.sum],prob:[min,max]})\n",
    "\n",
    "    summary=pd.DataFrame({'Members':summary[decile]['len'],\n",
    "                       'Lapsers':summary['OEP_VLAPSE_FLAG']['sum'],\n",
    "                       'Min_Prob':summary[prob]['min'],\n",
    "                       'Max_Prob':summary[prob]['max'],\n",
    "                      })\n",
    "\n",
    "    summary['Perc_Members']=summary['Members']/summary['Members'].sum()\n",
    "    summary['Perc_Lapsers']=summary['Lapsers']/summary['Lapsers'].sum()\n",
    "    summary.reset_index(inplace=True)\n",
    "    summary.sort_values(decile,ascending=True,inplace=True)\n",
    "    summary['Cum_Perc_Members']=summary['Perc_Members'].cumsum()\n",
    "    summary['Cum_Perc_Lapsers']=summary['Perc_Lapsers'].cumsum()\n",
    "\n",
    "    return summary\n",
    "\n",
    "def gain_chart(data,decile):\n",
    "    import matplotlib.pyplot as plt\n",
    "    %matplotlib inline\n",
    "\n",
    "    plt.figure(figsize=(10,5))\n",
    "    plt.plot(data['Cum_Perc_Event'],label='Model')\n",
    "    plt.plot(data['Cum_Perc_Members'],label='Random')\n",
    "    plt.title(\"Gain chart\")\n",
    "    plt.xlabel(\"decile\")\n",
    "    plt.ylabel(\"% Members\")\n",
    "    plt.legend(loc='best')\n",
    "    plt.xlim(0,9,1)\n",
    "    plt.ylim(0,1,0.1)\n",
    "    plt.xticks(range(10), decile)\n",
    "    for x,y,l in zip(range(10),data['Cum_Perc_Event'],data['Cum_Perc_Event']):\n",
    "        label = \"{:.1f}%\".format(l*100)\n",
    "        plt.text(x,y+0.05,label, ha='center')\n",
    "    plt.show()\n",
    "    \n",
    "def event_decile_chart(data,decile):\n",
    "    import matplotlib.pyplot as plt\n",
    "    %matplotlib inline\n",
    "    \n",
    "    data['Model_Rate']=data['Event'].sum()/data['Members'].sum()\n",
    "\n",
    "    plt.figure(figsize=(10,5))\n",
    "    plt.plot(data['Event_Rate'],label='Decile-Wise')\n",
    "    plt.plot(data['Model_Rate'],label='Total')\n",
    "    plt.title(\"Event rate by decile\")\n",
    "    plt.xlabel(\"decile\")\n",
    "    plt.ylabel(\"% Event Rate\")\n",
    "    plt.legend(loc='best')\n",
    "    plt.xlim(0,9,1)\n",
    "    plt.ylim(data['Event_Rate'].min()-0.05,data['Event_Rate'].max()+0.05,(data['Event_Rate'].max()-data['Event_Rate'].min())/10)\n",
    "    plt.xticks(range(10), decile)\n",
    "    for x,y,l in zip(range(10),data['Event_Rate'],data['Event_Rate']):\n",
    "        label = \"{:.1f}%\".format(l*100)\n",
    "        plt.text(x,y-0.025,label, ha='center')\n",
    "    plt.show()\n",
    "    \n",
    "def prob_dist(data,prob):    \n",
    "    NL=pd.DataFrame(data[data['VLAPSE_FG']==0][prob].describe())\n",
    "    NL.columns=['Non_Lapsers']\n",
    "\n",
    "    L=pd.DataFrame(data[data['VLAPSE_FG']==1][prob].describe())\n",
    "    L.columns=['Lapsers']\n",
    "\n",
    "    NL=NL.join(L)\n",
    "    \n",
    "    pd.set_option('display.float_format', lambda x: '%.3f' % x)\n",
    "    \n",
    "    return NL\n",
    "\n",
    "\n",
    "def numeric_chart(data,col,event_flag):\n",
    "    print(\"Bi-Variate summary of : \",col)\n",
    "    sns.kdeplot(data[event_flag==1][col], shade=True, shade_lowest=False)\n",
    "    sns.kdeplot(data[event_flag==0][col], shade=True, shade_lowest=False)\n",
    "    plt.show()\n",
    "    sns.boxplot(x=event_flag,y=data[col],data=data,palette='coolwarm')\n",
    "    plt.show()\n",
    "    \n",
    "def numeric_summary(data):\n",
    "    \n",
    "    numeric_var=list(data[0:1].select_dtypes(include=['int64','float64']).columns.values)\n",
    "    cat_var=list(data[0:1].select_dtypes(include=['object']).columns.values)\n",
    "    \n",
    "    temp=data[numeric_var]\n",
    "    \n",
    "    #5 point summary\n",
    "    temp_summary=pd.DataFrame(temp.describe().T)\n",
    "    \n",
    "    #mode\n",
    "    from scipy.stats import mode\n",
    "    mod=mode(temp,axis=0)[0].flatten()\n",
    "    temp_summary['mode']=mod.tolist()\n",
    "\n",
    "    #shape\n",
    "    temp_summary['skewness']=temp.skew() #Skewness\n",
    "    temp_summary['kurtosis']=temp.kurtosis() #kurtosis\n",
    "    \n",
    "    #Missing values\n",
    "    temp_summary['missing']=temp.isnull().sum() #Number of missing values\n",
    "    temp_summary['perc_missing']=temp.isnull().sum()/len(temp) #Percentage of missing values\n",
    "\n",
    "    return temp_summary\n",
    "\n",
    "def cat_summary(data):\n",
    "    cat_var=list(data[0:1].select_dtypes(include=['object']).columns.values)\n",
    "    \n",
    "    temp=data[cat_var]\n",
    "    \n",
    "    temp1=create_dummies(temp,cat_var)\n",
    "\n",
    "    #5 point summary\n",
    "    temp_summary=pd.DataFrame(temp1.describe().T)\n",
    "    temp_summary\n",
    "\n",
    "    #counts\n",
    "    temp_summary['value_count']=temp1.sum() #counts\n",
    "    temp_summary['perc_count']=temp1.sum()/len(temp1) #percent count\n",
    "    temp_summary\n",
    "    \n",
    "    return temp_summary    \n",
    "\n",
    "#Bi-variate Analysis\n",
    "\n",
    "def cat_bivariate(data,Y):\n",
    "    cat_var=list(data[0:1].select_dtypes(include=['object']).columns.values)\n",
    "    \n",
    "    temp=data[cat_var]\n",
    "    \n",
    "    temp1=create_dummies(temp,cat_var)\n",
    "\n",
    "    #5 point summary\n",
    "    temp_summary=pd.DataFrame(temp1.describe().T)\n",
    "    temp_summary\n",
    "\n",
    "    #counts\n",
    "    temp_summary['value_count']=temp1.sum() #counts\n",
    "    temp_summary['perc_count']=temp1.sum()/len(temp1) #percent count\n",
    "    \n",
    "    temp_summary['event_count']=temp1.loc[Y==1].sum() #counts\n",
    "    temp_summary['perc_event_count']=temp1.loc[Y==1].sum()/temp1.loc[Y==1].sum().sum()\n",
    "    temp_summary['event_Rate']=temp_summary['event_count']/temp_summary['value_count']\n",
    "    \n",
    "    return temp_summary\n",
    "\n",
    "\n",
    "            \n",
    "def attribution_member(data,ind):\n",
    "    attr=data.describe()\n",
    "    attr.drop(['count','std'],axis=0,inplace=True)\n",
    "    \n",
    "    zero=np.zeros((1,len(data.columns)))\n",
    "    zero=pd.DataFrame(zero,columns=data.columns,index=['all_zero'])\n",
    "\n",
    "\n",
    "    X_sample=pd.DataFrame(data.iloc[ind:ind+1,:])\n",
    "    #X_sample=X_sample.append(X_sample,ignore_index=True)\n",
    "    X_sample.index=['sample_member']\n",
    "\n",
    "    sample=np.identity((len(data.columns)))\n",
    "    sample_zeros=np.zeros((len(data.columns),len(data.columns)))\n",
    "\n",
    "    sample_identity=pd.DataFrame(sample,columns=data.columns,index=data.columns+'_identity')\n",
    "    print(sample_identity.shape)\n",
    "\n",
    "    sample_mean=sample_identity.copy()\n",
    "    sample_mean.index=data.columns+'_mean'\n",
    "    print(sample_mean.shape)\n",
    "\n",
    "    for col in data.columns:\n",
    "        sample_mean.loc[col+'_mean',col]=data.mean()[col]\n",
    "\n",
    "    print(sample_mean.shape)\n",
    "\n",
    "\n",
    "    sample_value=pd.DataFrame(sample_zeros,columns=data.columns,index=data.columns+'_value')\n",
    "    print(sample_value.shape)\n",
    "\n",
    "    for col in data.columns:\n",
    "        sample_value.loc[col+'_value',col]=X_sample.loc['sample_member',col]\n",
    "\n",
    "    print(sample_value.shape)\n",
    "\n",
    "    sample1=pd.concat([zero,attr,X_sample,sample_identity,sample_mean,sample_value],axis=0)\n",
    "    print(sample1.shape)\n",
    "    sample1\n",
    "    \n",
    "    return sample1\n",
    "\n",
    "def decile_gain(data_id,data_train,model,model_prefix):\n",
    "    temp_out=prob_pred(data_id,data_train,model,model_prefix)\n",
    "    \n",
    "    print(\"\\nDecile Summary :\")\n",
    "    temp_decile=decile_summary(temp_out,model_prefix+'_y_decile',model_prefix+'_y_prob')\n",
    "    print(temp_decile)\n",
    "    \n",
    "    print(\"\\nGain Rate by Deciles :\")\n",
    "    gain_chart(temp_decile,temp_decile[model_prefix+'_y_decile'])\n",
    "    \n",
    "    print(\"\\nEvent Rate by Deciles :\")\n",
    "    event_decile_chart(temp_decile,temp_decile[model_prefix+'_y_decile'])\n",
    "    \n",
    "    print(\"\\nHistogram of Predicted probability:\")\n",
    "    plt.figure()\n",
    "    temp_out[model_prefix+'_y_prob'].hist()\n",
    "    plt.show()\n",
    "    \n",
    "    print(\"\\nSummary of Predicted probability:\")\n",
    "    print(temp_out[model_prefix+'_y_prob'].describe())\n",
    "    \n",
    "    \n",
    "    \n",
    "def RF_imp(RFmodel,data,Imp_var):\n",
    "    VarImp=pd.DataFrame({'columns':data.columns, 'RF_Imp':RFmodel.feature_importances_})\n",
    "    VarImp.sort_values('RF_Imp',ascending=False)\n",
    "    \n",
    "    VarImp1=VarImp[VarImp['columns'].isin(Imp_var)].reset_index()\n",
    "    VarImp1.drop('index',axis=1,inplace=True)\n",
    "    \n",
    "    print(\"Random Forest Important Features\")\n",
    "    print(\"% Importance captured : \",np.round(VarImp1.RF_Imp.sum()*100,2))\n",
    "\n",
    "    features=VarImp1['columns']\n",
    "    importances=VarImp1['RF_Imp']\n",
    "    indices=np.argsort(VarImp1['RF_Imp'])\n",
    "    plt.figure(figsize=[10,10])\n",
    "    plt.title('Random Forest - Feature Importance')\n",
    "    plt.barh(range(len(indices)), importances[indices], color='b', align='center')\n",
    "    plt.yticks(range(len(indices)), [features[i] for i in indices])\n",
    "    plt.xlabel('Relative Importance')\n",
    "    for x,y,l in zip(importances[indices]+0.003,range(len(indices)),importances[indices]):\n",
    "            label = \"{:.1f}%\".format(l*100)\n",
    "            plt.text(x,y+0.05,label, ha='center')\n",
    "    plt.show()\n",
    "    \n",
    "def XGB_imp(XGBmodel,data,threshold,labels_data):\n",
    "    VarImp=pd.DataFrame({'columns':data.columns, 'XGB_Imp':XGBmodel.feature_importances_})\n",
    "    VarImp.sort_values('XGB_Imp',ascending=False)\n",
    "    \n",
    "    VarImp1=VarImp[VarImp['XGB_Imp']>=threshold].reset_index()\n",
    "    VarImp1.drop('index',axis=1,inplace=True)\n",
    "    \n",
    "    VarImp1=pd.merge(VarImp1,labels_data,how='left',on='columns')\n",
    "    \n",
    "    \n",
    "    #VarImp1=VarImp[VarImp['columns'].isin(Imp_var)].reset_index()\n",
    "    #VarImp1.drop('index',axis=1,inplace=True)\n",
    "    \n",
    "    print(\"XGBoost Important Features\")\n",
    "    print(\"% Importance captured : \",np.round(VarImp1.XGB_Imp.sum()*100,2))\n",
    "\n",
    "    features=VarImp1['labels']\n",
    "    importances=VarImp1['XGB_Imp']\n",
    "    indices=np.argsort(VarImp1['XGB_Imp'])\n",
    "    plt.figure(figsize=[10,10])\n",
    "    plt.title('XGBoost - Feature Importance')\n",
    "    plt.barh(range(len(indices)), importances[indices], color='b', align='center')\n",
    "    plt.yticks(range(len(indices)), [features[i] for i in indices])\n",
    "    plt.xlabel('Relative Importance')\n",
    "    for x,y,l in zip(importances[indices]+0.005,range(len(indices)),importances[indices]):\n",
    "            label = \"{:.1f}%\".format(l*100)\n",
    "            plt.text(x,y+0.05,label, ha='center')\n",
    "    plt.show()\n",
    "    \n",
    "def numeric_chart(data,col,event_flag):\n",
    "    print(\"Bi-Variate summary of : \",col)\n",
    "    sns.kdeplot(data[event_flag==1][col], shade=True, shade_lowest=False)\n",
    "    sns.kdeplot(data[event_flag==0][col], shade=True, shade_lowest=False)\n",
    "    plt.show()\n",
    "    sns.boxplot(x=event_flag,y=data[col],data=data,palette='coolwarm')\n",
    "    plt.show()\n",
    "    print(data[event_flag==0][col].mean())\n",
    "    print(data[event_flag==1][col].mean())\n",
    "    \n",
    "   \n",
    "def EDA_Imp(data,y,Imp_var):\n",
    "    \n",
    "    data_cpy=data.copy()\n",
    "    \n",
    "    print(\"EDA on Important Variables\")\n",
    "    for i in range(len(Imp_var)): \n",
    "        print(\"Event Rate by :\", Imp_var[i])\n",
    "        \n",
    "        if len(data_cpy[Imp_var[i]].value_counts())<=10:\n",
    "            temp=event_func(data_cpy,y,Imp_var[i])\n",
    "            print(temp)\n",
    "            event_chart(temp,Imp_var[i])\n",
    "\n",
    "        else :\n",
    "            data_cpy[Imp_var[i]+'_bin']=pd.qcut(data_cpy[Imp_var[i]], q=10,duplicates='drop').astype(str)\n",
    "            #data['var']=data.astype({'var': str})\n",
    "            data_cpy.sort_values(by=Imp_var[i]+'_bin',ascending=True)\n",
    "            temp=event_func(data_cpy,y,Imp_var[i]+'_bin')\n",
    "            print(temp)\n",
    "            event_chart(temp,Imp_var[i]+'_bin')"
   ]
  },
  {
   "cell_type": "code",
   "execution_count": null,
   "metadata": {},
   "outputs": [],
   "source": []
  }
 ],
 "metadata": {
  "anaconda-cloud": {},
  "kernelspec": {
   "display_name": "Python 3",
   "language": "python",
   "name": "python3"
  },
  "language_info": {
   "codemirror_mode": {
    "name": "ipython",
    "version": 3
   },
   "file_extension": ".py",
   "mimetype": "text/x-python",
   "name": "python",
   "nbconvert_exporter": "python",
   "pygments_lexer": "ipython3",
   "version": "3.7.3"
  }
 },
 "nbformat": 4,
 "nbformat_minor": 1
}
