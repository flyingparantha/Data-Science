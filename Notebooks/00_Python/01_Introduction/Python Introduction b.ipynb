{
 "cells": [
  {
   "cell_type": "markdown",
   "metadata": {},
   "source": [
    "# <center>**Python Introduction - 2**</center>\n",
    "---\n",
    "\n",
    "### **1. Nuances between R and Python**\n",
    "\n",
    "### **2. List Operations**\n",
    "\n",
    "### **3. Dictionary Operations**\n",
    "\n",
    "### **4. String Operations**\n",
    "\n",
    "### **5. Map and Lambda**\n"
   ]
  },
  {
   "cell_type": "markdown",
   "metadata": {},
   "source": [
    "# **1. Nuances between R vs Python**"
   ]
  },
  {
   "cell_type": "markdown",
   "metadata": {},
   "source": [
    "### A) Size of a container"
   ]
  },
  {
   "cell_type": "code",
   "execution_count": 23,
   "metadata": {},
   "outputs": [
    {
     "name": "stdout",
     "output_type": "stream",
     "text": [
      "Length of list1 = 5\n",
      "Lenth of dict1 = 3\n"
     ]
    }
   ],
   "source": [
    "### R uses length()\n",
    "### Python uses len()\n",
    "\n",
    "list1 = [10, 20, 30, 40, 50]\n",
    "print('Length of list1 =',len(list1))\n",
    "\n",
    "dict1 = {1:'Apple',2:'Google',3:'IBM'}\n",
    "print('Lenth of dict1 =',len(dict1))"
   ]
  },
  {
   "cell_type": "markdown",
   "metadata": {},
   "source": [
    "### B) Check data type?"
   ]
  },
  {
   "cell_type": "code",
   "execution_count": 24,
   "metadata": {},
   "outputs": [
    {
     "name": "stdout",
     "output_type": "stream",
     "text": [
      "<class 'str'> <class 'str'> <class 'int'>\n"
     ]
    }
   ],
   "source": [
    "## R uses class()\n",
    "## Python uses type()\n",
    "\n",
    "x = 'OPTUM'\n",
    "y = '2017'\n",
    "z = 2017 \n",
    "print(type(x),type(y),type(z))"
   ]
  },
  {
   "cell_type": "code",
   "execution_count": 25,
   "metadata": {},
   "outputs": [
    {
     "data": {
      "text/plain": [
       "30"
      ]
     },
     "execution_count": 25,
     "metadata": {},
     "output_type": "execute_result"
    }
   ],
   "source": [
    "a = [10, 20, 30, 40, 50]\n",
    "a[2]"
   ]
  },
  {
   "cell_type": "markdown",
   "metadata": {},
   "source": [
    "### C) Indexing\n",
    "- R indexing starts from 1\n",
    "- Python indexing starts from 0"
   ]
  },
  {
   "cell_type": "code",
   "execution_count": 26,
   "metadata": {},
   "outputs": [
    {
     "name": "stdout",
     "output_type": "stream",
     "text": [
      "list2[1] => 20\n"
     ]
    }
   ],
   "source": [
    "list2 = [10,20,30,40,50]\n",
    "print(\"list2[1] =>\", list2[1])"
   ]
  },
  {
   "cell_type": "code",
   "execution_count": 1,
   "metadata": {},
   "outputs": [],
   "source": [
    "lst = [1,2,[3,4],[5,[100,200,['hello']],23,11],1,7]"
   ]
  },
  {
   "cell_type": "code",
   "execution_count": 2,
   "metadata": {},
   "outputs": [
    {
     "data": {
      "text/plain": [
       "'hello'"
      ]
     },
     "execution_count": 2,
     "metadata": {},
     "output_type": "execute_result"
    }
   ],
   "source": [
    "lst[3][1][2][0]"
   ]
  },
  {
   "cell_type": "markdown",
   "metadata": {},
   "source": [
    "### Note - **id( )** can be used to check memory location of a variable in python"
   ]
  },
  {
   "cell_type": "code",
   "execution_count": 6,
   "metadata": {},
   "outputs": [
    {
     "data": {
      "text/plain": [
       "94596544539776"
      ]
     },
     "execution_count": 6,
     "metadata": {},
     "output_type": "execute_result"
    }
   ],
   "source": [
    "apple = 20\n",
    "id(apple)"
   ]
  },
  {
   "cell_type": "markdown",
   "metadata": {},
   "source": [
    "### D) Containers and Secondary data types like **List, Dictionary** and **Set** are **mutable**. These behave differently *(compared to R)* when their copies are modified."
   ]
  },
  {
   "cell_type": "code",
   "execution_count": 10,
   "metadata": {},
   "outputs": [
    {
     "name": "stdout",
     "output_type": "stream",
     "text": [
      "Fruits [20, 30, 40, 50] 140504261344520\n",
      "Veggies [20, 30, 40, 50] 140504261344520 \n",
      "\n",
      "Fruits [20, 30, 40, 99] 140504261344520\n",
      "Veggies [20, 30, 40, 99] 140504261344520\n"
     ]
    }
   ],
   "source": [
    "Fruits = [20,30,40,50]\n",
    "Veggies = Fruits\n",
    "print(\"Fruits\",Fruits,id(Fruits))\n",
    "print(\"Veggies\",Veggies,id(Veggies),\"\\n\")\n",
    "\n",
    "Fruits[3] = 99\n",
    "print(\"Fruits\",Fruits,id(Fruits))\n",
    "print(\"Veggies\",Veggies,id(Veggies))"
   ]
  },
  {
   "cell_type": "markdown",
   "metadata": {},
   "source": [
    "### NOTE\n",
    "**This is because Python creates a shallow copy when mutable objects (Containers and Secondary data types) are replicated.**\n",
    "\n",
    "**Most of the times the above behaviour is not desirable in data science pipeline.**\n",
    "\n",
    "**Hence we prefer deep-copy against which ensures that a hard replica (with seperate memory location) is created.**\n",
    "\n",
    "**R by default follows copy-on-modify semantics. Which is synonymous to deep-copy**"
   ]
  },
  {
   "cell_type": "markdown",
   "metadata": {},
   "source": [
    "### E) Deep Copy\n",
    "#### **Going ahead data will be usually stored in containers/secondary data types. You should always use while making replicas/backup of your data.**"
   ]
  },
  {
   "cell_type": "code",
   "execution_count": 9,
   "metadata": {},
   "outputs": [
    {
     "name": "stdout",
     "output_type": "stream",
     "text": [
      "Fruits [20, 30, 40, 50] 140504270237960\n",
      "Veggies [20, 30, 40, 50] 140504270201992 \n",
      "\n",
      "Fruits [20, 30, 40, 99] 140504270237960\n",
      "Veggies [20, 30, 40, 50] 140504270201992\n"
     ]
    }
   ],
   "source": [
    "Fruits = [20,30,40,50]\n",
    "Veggies = Fruits.copy()\n",
    "print(\"Fruits\",Fruits,id(Fruits))\n",
    "print(\"Veggies\",Veggies,id(Veggies),\"\\n\")\n",
    "\n",
    "Fruits[3] = 99\n",
    "print(\"Fruits\",Fruits,id(Fruits))\n",
    "print(\"Veggies\",Veggies,id(Veggies))"
   ]
  },
  {
   "cell_type": "markdown",
   "metadata": {},
   "source": [
    "# **2. List Operations**"
   ]
  },
  {
   "cell_type": "markdown",
   "metadata": {},
   "source": [
    "### A) Generating a sequence "
   ]
  },
  {
   "cell_type": "code",
   "execution_count": 34,
   "metadata": {},
   "outputs": [
    {
     "name": "stdout",
     "output_type": "stream",
     "text": [
      "sequence1 = [0, 1, 2, 3, 4, 5, 6, 7, 8, 9, 10, 11, 12, 13, 14, 15, 16, 17, 18, 19]\n",
      "sequence2 = [50, 51, 52, 53, 54, 55, 56, 57, 58, 59]\n",
      "sequence3 = [100, 110, 120, 130, 140]\n"
     ]
    }
   ],
   "source": [
    "## Creates sequence of 20 elements starting from 0\n",
    "sequence1 = list(range(20))\n",
    "print('sequence1 =',sequence1)\n",
    "\n",
    "## Custom sequence from specific start and end points\n",
    "sequence2 = list(range(50,60))\n",
    "print('sequence2 =',sequence2)\n",
    "\n",
    "## Custom sequence from specific start and end points with variable leap\n",
    "sequence3 = list(range(100,150,10))\n",
    "print('sequence3 =',sequence3)"
   ]
  },
  {
   "cell_type": "markdown",
   "metadata": {},
   "source": [
    "### B) Iterating a list"
   ]
  },
  {
   "cell_type": "code",
   "execution_count": 35,
   "metadata": {},
   "outputs": [
    {
     "name": "stdout",
     "output_type": "stream",
     "text": [
      "cat\n",
      "dog\n",
      "monkey\n"
     ]
    }
   ],
   "source": [
    "# Using for loop\n",
    "animals = ['cat', 'dog', 'monkey']\n",
    "for animal in animals:\n",
    "    print(animal)"
   ]
  },
  {
   "cell_type": "code",
   "execution_count": 36,
   "metadata": {},
   "outputs": [
    {
     "name": "stdout",
     "output_type": "stream",
     "text": [
      "Index 1 cat\n",
      "Index 2 dog\n",
      "Index 3 monkey\n"
     ]
    }
   ],
   "source": [
    "# Iterating with index\n",
    "animals = ['cat', 'dog', 'monkey']\n",
    "for idx, animal in enumerate(animals):\n",
    "    print('Index', idx + 1, animal)"
   ]
  },
  {
   "cell_type": "markdown",
   "metadata": {},
   "source": [
    "### C) Slicing the list"
   ]
  },
  {
   "cell_type": "code",
   "execution_count": 37,
   "metadata": {},
   "outputs": [
    {
     "data": {
      "image/png": "[encoded data removed]",
      "text/plain": [
       "<IPython.core.display.Image object>"
      ]
     },
     "execution_count": 37,
     "metadata": {},
     "output_type": "execute_result"
    }
   ],
   "source": [
    "from IPython.display import Image\n",
    "Image(filename='list.png')"
   ]
  },
  {
   "cell_type": "markdown",
   "metadata": {},
   "source": [
    "### Note - start argument in inclusive but end argument in exclusive"
   ]
  },
  {
   "cell_type": "code",
   "execution_count": 38,
   "metadata": {},
   "outputs": [
    {
     "name": "stdout",
     "output_type": "stream",
     "text": [
      "['a', 'b', 'c', 'd', 'e', 'f']\n",
      "['c', 'd', 'e']\n",
      "['c', 'd', 'e', 'f']\n",
      "['a', 'b']\n"
     ]
    }
   ],
   "source": [
    "chars = ['a','b','c','d','e','f']    \n",
    "print(chars)                   # Prints whole list\n",
    "print(chars[2:5])         # Get a slice from index 2 to 4 (exclusive)\n",
    "print(chars[2:])           # Get a slice from index 2 to the end\n",
    "print(chars[:2])           # Get a slice from the start to index 2 (exclusive)"
   ]
  },
  {
   "cell_type": "code",
   "execution_count": 39,
   "metadata": {},
   "outputs": [
    {
     "name": "stdout",
     "output_type": "stream",
     "text": [
      "['e', 'f']\n",
      "['a', 'b', 'c', 'd']\n"
     ]
    }
   ],
   "source": [
    "## Negative Slicing\n",
    "chars = ['a','b','c','d','e','f']    \n",
    "print(chars[-2:])          # Last 2 elements\n",
    "print(chars[:-2])          # All elements from starting till second to last (Excluding last element)"
   ]
  },
  {
   "cell_type": "markdown",
   "metadata": {},
   "source": [
    "### D) Appending/Extending a list"
   ]
  },
  {
   "cell_type": "code",
   "execution_count": 40,
   "metadata": {},
   "outputs": [
    {
     "name": "stdout",
     "output_type": "stream",
     "text": [
      "[0, 1, 2, 3, 4, 5, 6, 7, 8, 9]\n",
      "[0, 1, 2, 3, 4, 5, 6, 7, 8, 9, 777]\n",
      "[0, 1, 2, 3, 4, 5, 6, 7, 8, 9, 777, 111, 222, 333]\n"
     ]
    }
   ],
   "source": [
    "l1= list(range(10))\n",
    "print(l1)\n",
    "\n",
    "l1.append(777)              # Append allows adding only 1 item at the end of list\n",
    "print(l1)\n",
    "\n",
    "l1.extend([111,222,333])    # Extend helps to add a list to list\n",
    "print(l1)"
   ]
  },
  {
   "cell_type": "markdown",
   "metadata": {},
   "source": [
    "## NOTE\n",
    "**These are just some frequently used functions in Data Science. You should lookout for other functions through python documentation or online sources as and when required.**\n",
    "\n",
    "**If you know the art of googling, you wont require to write custom logic of everything. Most of the problems are already tackled. Most fuctions already written.**\n",
    "\n",
    "**Googling alone can solve most of your problems. StackOverflow should be your best friend.** "
   ]
  },
  {
   "cell_type": "markdown",
   "metadata": {},
   "source": [
    "### E) List Comprehension"
   ]
  },
  {
   "cell_type": "code",
   "execution_count": 41,
   "metadata": {},
   "outputs": [
    {
     "name": "stdout",
     "output_type": "stream",
     "text": [
      "[0, 1, 4, 9, 16, 25, 36, 49, 64, 81]\n"
     ]
    }
   ],
   "source": [
    "## List of squares using for Loop\n",
    "nums = list(range(10))\n",
    "squares = []\n",
    "for x in nums:\n",
    "    squares.append(x ** 2)\n",
    "print(squares)"
   ]
  },
  {
   "cell_type": "code",
   "execution_count": 42,
   "metadata": {},
   "outputs": [
    {
     "name": "stdout",
     "output_type": "stream",
     "text": [
      "[0, 1, 4, 9, 16, 25, 36, 49, 64, 81]\n"
     ]
    }
   ],
   "source": [
    "## List of squares using list comprehension\n",
    "nums = list(range(10))\n",
    "squares = [x ** 2 for x in nums]\n",
    "print(squares)"
   ]
  },
  {
   "cell_type": "code",
   "execution_count": 43,
   "metadata": {},
   "outputs": [
    {
     "name": "stdout",
     "output_type": "stream",
     "text": [
      "[0, 4, 16]\n"
     ]
    }
   ],
   "source": [
    "## Versatile enough to accomodate conditions\n",
    "nums = list(range(6))\n",
    "even_squares = [x ** 2 for x in nums if x % 2 == 0]\n",
    "print(even_squares)"
   ]
  },
  {
   "cell_type": "markdown",
   "metadata": {},
   "source": [
    "### Activity - Write a list comprehesion that cubes the numbers between 1-100 only if it is divisible by both 2 and 3"
   ]
  },
  {
   "cell_type": "code",
   "execution_count": null,
   "metadata": {
    "collapsed": true
   },
   "outputs": [],
   "source": []
  },
  {
   "cell_type": "markdown",
   "metadata": {},
   "source": [
    "# 3. Dictionary Operations"
   ]
  },
  {
   "cell_type": "markdown",
   "metadata": {},
   "source": [
    "### A) Iterating through dictionary"
   ]
  },
  {
   "cell_type": "code",
   "execution_count": 44,
   "metadata": {},
   "outputs": [
    {
     "name": "stdout",
     "output_type": "stream",
     "text": [
      "person\n",
      "cat\n",
      "spider\n",
      "2\n",
      "4\n",
      "8\n",
      "A person has 2 legs\n",
      "A cat has 4 legs\n",
      "A spider has 8 legs\n"
     ]
    }
   ],
   "source": [
    "d = {'person': 2, 'cat': 4, 'spider': 8}\n",
    "\n",
    "# A simple for loop iterates through keys by default\n",
    "for animal in d:           \n",
    "    print(animal)\n",
    "    \n",
    "# dictionary.values() will iterate through values\n",
    "for animal in d.values():  \n",
    "    print(animal)\n",
    "    \n",
    "# dictionary.items() will give you key value pairs\n",
    "for animal, legs in d.items():              \n",
    "    print('A', animal, 'has', legs, 'legs')\n",
    "#     print('A %s has %d legs' % (animal, legs))   # Alternative formatting for the above string"
   ]
  },
  {
   "cell_type": "markdown",
   "metadata": {},
   "source": [
    "### B) Dictionary comprehension"
   ]
  },
  {
   "cell_type": "code",
   "execution_count": 45,
   "metadata": {},
   "outputs": [
    {
     "name": "stdout",
     "output_type": "stream",
     "text": [
      "{0: 0, 1: 1, 2: 4, 3: 9, 4: 16, 5: 25, 6: 36, 7: 49, 8: 64, 9: 81}\n",
      "{1: 1, 3: 9, 5: 25, 7: 49, 9: 81}\n"
     ]
    }
   ],
   "source": [
    "nums = list(range(10))\n",
    "squares = {x: x ** 2 for x in nums}\n",
    "print(squares)\n",
    "\n",
    "odd_squares = {x: x ** 2 for x in nums if x%2 != 0}\n",
    "print(odd_squares) "
   ]
  },
  {
   "cell_type": "markdown",
   "metadata": {},
   "source": [
    "### Activity - Create a dictionary of numbers from 1-100 and tag them odd or even\n",
    "Hint - Keys should be numbers 1-100 and values should be 'odd' or 'even'"
   ]
  },
  {
   "cell_type": "code",
   "execution_count": null,
   "metadata": {
    "collapsed": true
   },
   "outputs": [],
   "source": []
  },
  {
   "cell_type": "markdown",
   "metadata": {},
   "source": [
    "# 4. String Operations"
   ]
  },
  {
   "cell_type": "code",
   "execution_count": 46,
   "metadata": {},
   "outputs": [
    {
     "name": "stdout",
     "output_type": "stream",
     "text": [
      "Original string => India is my country...\n",
      "\n",
      "len() => 22\n",
      "\n",
      "upper() => INDIA IS MY COUNTRY...\n",
      "\n",
      "lower() => india is my country...\n",
      "\n",
      "replace() => India is our country...\n",
      "\n",
      "pledge.strip(\".\") => India is my country\n",
      "\n",
      "pledge + aux => India is my country...I love my country\n",
      "\n",
      "pledge.split() => ['India', 'is', 'my', 'country...']\n",
      "\n",
      "\" \".join(pledge_list) => India is my country...\n"
     ]
    }
   ],
   "source": [
    "pledge = \"India is my country...\"\n",
    "aux = \"I love my country\"\n",
    "\n",
    "print(\"Original string =>\", pledge)\n",
    "print(\"\\nlen() =>\", len(pledge))        # len()   -> length of the string\n",
    "print(\"\\nupper() =>\", pledge.upper())   # upper() -> convert string to upper case\n",
    "print(\"\\nlower() =>\", pledge.lower())   # lower() -> convert string to lower case\n",
    "print(\"\\nreplace() =>\", pledge.replace(\"my\",\"our\")) # replace(A,B) -> replace all occurences of A with B\n",
    "\n",
    "print('\\npledge.strip(\".\") =>', pledge.strip(\".\"))  # strip() -> remove leading or trailing occurences\n",
    "print(\"\\npledge + aux =>\",pledge + aux)             # str1 + str2 -> concatenate two string into one\n",
    "\n",
    "pledge_list = pledge.split()            # Split string into list of words\n",
    "print(\"\\npledge.split() =>\", pledge_list)        \n",
    "print('\\n\" \".join(pledge_list) =>',\" \".join(pledge_list))"
   ]
  },
  {
   "cell_type": "markdown",
   "metadata": {},
   "source": [
    "** Create a function that grabs the email website domain from a string in the form: **\n",
    "user@domain.com\n",
    "\n",
    "So for example, passing \"user@domain.com\" would return: domain.com\n"
   ]
  },
  {
   "cell_type": "code",
   "execution_count": null,
   "metadata": {},
   "outputs": [],
   "source": [
    "def domainGet(email):\n",
    "    return email.split('@')[-1]"
   ]
  },
  {
   "cell_type": "code",
   "execution_count": null,
   "metadata": {},
   "outputs": [],
   "source": [
    "domainGet('user@domain.com')"
   ]
  },
  {
   "cell_type": "raw",
   "metadata": {},
   "source": [
    " ** Create a function that counts the number of times the word \"dog\" occurs in a string. Again ignore edge cases. **"
   ]
  },
  {
   "cell_type": "code",
   "execution_count": null,
   "metadata": {},
   "outputs": [],
   "source": [
    "def countDog(st):\n",
    "    count = 0\n",
    "    for word in st.lower().split():\n",
    "        if word == 'dog':\n",
    "            count += 1\n",
    "    return count"
   ]
  },
  {
   "cell_type": "code",
   "execution_count": null,
   "metadata": {},
   "outputs": [],
   "source": [
    "countDog('This dog runs faster than the other dog dude!')"
   ]
  },
  {
   "cell_type": "markdown",
   "metadata": {},
   "source": [
    "Final Problem\n",
    "\n",
    "*You are driving a little too fast, and a police officer stops you. Write a function to return one of 3 possible results: \"No ticket\", \"Small ticket\", or \"Big Ticket\". If your speed is 60 or less, the result is \"No Ticket\". If speed is between 61 and 80 inclusive, the result is \"Small Ticket\". If speed is 81 or more, the result is \"Big Ticket\". Unless it is your birthday (encoded as a boolean value in the parameters of the function) -- on your birthday, your speed can be 5 higher in all cases. *\n"
   ]
  },
  {
   "cell_type": "code",
   "execution_count": null,
   "metadata": {},
   "outputs": [],
   "source": [
    "def caught_speeding(speed, is_birthday):\n",
    "    \n",
    "    if is_birthday:\n",
    "        speeding = speed - 5\n",
    "    else:\n",
    "        speeding = speed\n",
    "    \n",
    "    if speeding > 80:\n",
    "        return 'Big Ticket'\n",
    "    elif speeding > 60:\n",
    "        return 'Small Ticket'\n",
    "    else:\n",
    "        return 'No Ticket'"
   ]
  },
  {
   "cell_type": "code",
   "execution_count": null,
   "metadata": {},
   "outputs": [],
   "source": [
    "caught_speeding(81,True)"
   ]
  },
  {
   "cell_type": "markdown",
   "metadata": {},
   "source": [
    "# 5. Lambda  and Map"
   ]
  },
  {
   "cell_type": "code",
   "execution_count": null,
   "metadata": {},
   "outputs": [],
   "source": [
    "x = lambda a, b, c : a + b + c\n",
    "print(x(5, 6, 2))\n"
   ]
  },
  {
   "cell_type": "code",
   "execution_count": 6,
   "metadata": {
    "scrolled": true
   },
   "outputs": [
    {
     "name": "stdout",
     "output_type": "stream",
     "text": [
      "121\n",
      "484\n"
     ]
    }
   ],
   "source": [
    "def myfunc(n):\n",
    "  return lambda a : a ** n\n",
    "\n",
    "mydoubler = myfunc(2)\n",
    "\n",
    "print(mydoubler(11))\n",
    "print(mydoubler(22))"
   ]
  },
  {
   "cell_type": "code",
   "execution_count": 16,
   "metadata": {},
   "outputs": [
    {
     "name": "stdout",
     "output_type": "stream",
     "text": [
      "['s', 'a', 't']\n",
      "[['s', 'a', 't'], ['b', 'a', 't'], ['c', 'a', 't'], ['m', 'a', 't']]\n"
     ]
    }
   ],
   "source": [
    "l = ['sat', 'bat', 'cat', 'mat'] \n",
    "print(list('sat'))\n",
    "test = list(map(list, l)) \n",
    "print(test) \n"
   ]
  },
  {
   "cell_type": "markdown",
   "metadata": {},
   "source": [
    "### **Map and Lambda Combined**"
   ]
  },
  {
   "cell_type": "code",
   "execution_count": 19,
   "metadata": {},
   "outputs": [
    {
     "name": "stdout",
     "output_type": "stream",
     "text": [
      "[2, 4, 6, 8]\n"
     ]
    }
   ],
   "source": [
    "numbers = (1, 2, 3, 4) \n",
    "result = map(lambda x: x + x, numbers) \n",
    "print(list(result))"
   ]
  },
  {
   "cell_type": "markdown",
   "metadata": {},
   "source": [
    "Few important links:\n",
    "https://docs.anaconda.com/anaconda/user-guide/getting-started/\n",
    "\n",
    "https://nbviewer.jupyter.org/github/ipython/ipython/blob/master/examples/IPython%20Kernel/Index.ipynb\n",
    "\n",
    "https://github.com/rajathkmp/Python-Lectures\n"
   ]
  }
 ],
 "metadata": {
  "kernelspec": {
   "display_name": "Python 3",
   "language": "python",
   "name": "python3"
  },
  "language_info": {
   "codemirror_mode": {
    "name": "ipython",
    "version": 3
   },
   "file_extension": ".py",
   "mimetype": "text/x-python",
   "name": "python",
   "nbconvert_exporter": "python",
   "pygments_lexer": "ipython3",
   "version": "3.7.1"
  }
 },
 "nbformat": 4,
 "nbformat_minor": 1
}
