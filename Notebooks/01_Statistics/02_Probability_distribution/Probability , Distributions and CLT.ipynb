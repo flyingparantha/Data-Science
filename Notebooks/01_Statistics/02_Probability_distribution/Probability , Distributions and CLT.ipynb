{
 "cells": [
  {
   "cell_type": "markdown",
   "metadata": {},
   "source": [
    "# Topics \n",
    "\n",
    "1. Probability\n",
    "2. Distributions\n",
    "3. Central Limit Theorem"
   ]
  },
  {
   "cell_type": "markdown",
   "metadata": {},
   "source": [
    "# Introduction\n",
    "\n",
    "The fundamental ingredient of Probability Theory is an **Experiment** that can be **Repeated**, at least hypothetically, under essentially identical conditions. This experiment may lead to different **Outcomes** on different **Trials** or single performances of an experiment. The set of all possible outcomes or results of an experiment is then called a **Sample space**. An **Event** is a well-defined subset of the sample space.\n",
    "\n",
    "### Random Experiment \n",
    "A random experiment is a physical situation whose outcome cannot be predicted until it is observed.\n",
    "\n",
    "### Outcome\n",
    "Possible result of a trial/experiment\n",
    "\n",
    "### Sample Space \n",
    "Set of all possible ouctomes of an experiment.\n",
    "\n",
    "### Event\n",
    "A subset of a sample space/one possible outcome of a trial"
   ]
  },
  {
   "cell_type": "markdown",
   "metadata": {},
   "source": [
    "# Probability\n",
    "Determining the chances of an event occurring is called Probability.\n",
    "\n",
    "*** Probability of an event A     =    # favourable outcomes to A  /  # possible outcomes ***"
   ]
  },
  {
   "cell_type": "markdown",
   "metadata": {},
   "source": [
    "## Practical Example using Python\n",
    "\n",
    "Consider a standard deck of 52 cards. What is the probability of drawing an Ace card? \n",
    "\n",
    "Here ,  \n",
    "\n",
    "**Experiment** : Picking a random card out of 52 cards\n",
    "\n",
    "**Sample Space** : All the 52 cards in the deck\n",
    "\n",
    "**Outcome** : The chosen card\n",
    "\n",
    "**Event** :  All the \"Ace\" cards in the deck\n",
    "    "
   ]
  },
  {
   "cell_type": "code",
   "execution_count": 17,
   "metadata": {},
   "outputs": [
    {
     "name": "stdout",
     "output_type": "stream",
     "text": [
      "0.08\n"
     ]
    }
   ],
   "source": [
    "### Sample Space\n",
    "cards = 52\n",
    "\n",
    "### Event\n",
    "aces = 4\n",
    "\n",
    "### Divide possible outcomes by the sample set\n",
    "ace_probability = aces / cards\n",
    "\n",
    "# Print probability rounded to two decimal places\n",
    "print(round(ace_probability, 2))"
   ]
  },
  {
   "cell_type": "code",
   "execution_count": 18,
   "metadata": {},
   "outputs": [
    {
     "name": "stdout",
     "output_type": "stream",
     "text": [
      "8.0%\n"
     ]
    }
   ],
   "source": [
    "# Ace Probability Percent Code\n",
    "ace_probability_percent = ace_probability * 100\n",
    "\n",
    "# Print probability percent rounded to one decimal place\n",
    "print(str(round(ace_probability_percent, 0)) + '%')"
   ]
  },
  {
   "cell_type": "markdown",
   "metadata": {},
   "source": [
    "## Creating a function to calculate Probability"
   ]
  },
  {
   "cell_type": "code",
   "execution_count": 21,
   "metadata": {},
   "outputs": [
    {
     "name": "stdout",
     "output_type": "stream",
     "text": [
      "25.0%\n",
      "23.1%\n",
      "1.9%\n"
     ]
    }
   ],
   "source": [
    "def event_probability(event_outcomes, sample_space):\n",
    "    probability = (event_outcomes / sample_space) * 100\n",
    "    return round(probability, 1)\n",
    "\n",
    "# Sample Space\n",
    "cards = 52\n",
    "\n",
    "# Probability of drawing a heart\n",
    "hearts = 13\n",
    "heart_probability = event_probability(hearts, cards)\n",
    "\n",
    "# Probability of drawing a face card\n",
    "face_cards = 12\n",
    "face_card_probability = event_probability(face_cards, cards)\n",
    "\n",
    "# Probability of drawing the queen of hearts\n",
    "queen_of_hearts = 1\n",
    "queen_of_hearts_probability = event_probability(queen_of_hearts, cards)\n",
    "\n",
    "# Print each probability\n",
    "print(str(heart_probability) + '%')\n",
    "print(str(face_card_probability) + '%')\n",
    "print(str(queen_of_hearts_probability) + '%')"
   ]
  },
  {
   "cell_type": "markdown",
   "metadata": {},
   "source": [
    "## Probability to Statistics to Machine Learning\n",
    "\n",
    "- Probability theory is mainly concerned with predicting the likelihood of **future events**, while statistics analyzes the frequency of **past events**. \n",
    "- This explains why Probability theory is also one of the core topics that needs to be covered in Statistics.\n",
    "- In **Data science and Machine learning**, we use **data from events that have already occurred to predict future events**."
   ]
  },
  {
   "cell_type": "markdown",
   "metadata": {},
   "source": [
    "# Note\n",
    "This definition works  **ONLY** with the assumption that all events are **Equally Likely**.\n",
    "\n",
    "Counter Example : \n",
    " - Probability of life on Neptune? \n",
    " - Probability of falling of a Fan?\n",
    "               \n",
    "Here the likelihood of occurence of all events is not equal. \n",
    "The chances of life on Neptune are negligible.\n",
    "A Fan almost never falls.\n",
    "\n",
    "Here our traditional definition of Probability fails. \n",
    "\n"
   ]
  },
  {
   "cell_type": "markdown",
   "metadata": {},
   "source": [
    "# Characteristics of Probability\n",
    "\n",
    "-  Probabilities always lie between zero and one,both inclusive. \n",
    "  > P(O) = 0     \n",
    "  > P(S) = 1\n",
    "\n",
    "-  It follow the ***Law of large numbers*** which states that as the number of repetitions of an experiment is increased, the relative frequency obtained in the experiment tends to become closer and closer to the theoretical probability.\n",
    "\n",
    "\n",
    "-  The probability of all the events in a sample space sums up to 1.\n",
    ">P(E) + P(E’) = 1\n",
    "\n",
    "-  P ( A ∪ B ) = P ( A ) + P ( B ) − P ( A ∩ B )"
   ]
  },
  {
   "cell_type": "markdown",
   "metadata": {},
   "source": [
    "# Types of Events :\n",
    "\n",
    "- Independent and Dependent Events\n",
    "- Mutually Exclusive and Non Mutually Exclusive Events\n",
    "- Exhaustive Events\n"
   ]
  },
  {
   "cell_type": "markdown",
   "metadata": {},
   "source": [
    "# Independent vs Dependent Events \n",
    "\n",
    "Independent events are events that don't impact the probability of the other event(s). \n",
    "\n",
    "Two events A and B are independent if knowing whether event A occurred gives no information about whether event B occurred.\n",
    "\n",
    "Dependent events, then, are events that have an impact on the probability of the other event(s)\n",
    "\n",
    "###### Events A and B are independent if and only if one of the following equivalent statements holds:\n",
    "\n",
    "                                      P(A∩B)=P(A)P(B)\n",
    "                                      P(A|B)=P(A)\n",
    "                                      P(B|A)=P(B)\n",
    "\n",
    "***For Example : ***\n",
    ">Not paying your power bill on time and having your power cut off : ***Dependent***\n",
    "\n",
    ">Winning the lottery and running out of milk : ***Independent***\n",
    "\n",
    ">Getting Heads in a toss of a Fair coin : ***Independent***\n",
    "\n",
    ">Draw an Ace from the deck, replace the card, shuffle the deck, and then drawing another card : ***Independent***\n",
    "\n",
    ">Draw a card from the deck and then draw a second card from the deck without replacing the first card : ***Dependent***\n",
    "\n",
    "\n",
    "\n"
   ]
  },
  {
   "cell_type": "markdown",
   "metadata": {},
   "source": [
    "## Example using Python"
   ]
  },
  {
   "cell_type": "code",
   "execution_count": 23,
   "metadata": {},
   "outputs": [
    {
     "name": "stdout",
     "output_type": "stream",
     "text": [
      "7.8\n",
      "5.9\n",
      "7.7\n"
     ]
    }
   ],
   "source": [
    "# Sample Space\n",
    "cards = 52\n",
    "cards_drawn = 1 \n",
    "cards = cards - cards_drawn \n",
    "\n",
    "\n",
    "# Determine the probability of drawing an Ace after drawing a King on the first draw\n",
    "aces = 4\n",
    "ace_probability1 = event_probability(aces, cards)\n",
    "\n",
    "# Determine the probability of drawing an Ace after drawing an Ace on the first draw\n",
    "aces_drawn = 1\n",
    "aces = aces - aces_drawn\n",
    "ace_probability2 = event_probability(aces, cards)\n",
    "\n",
    "# Determine the probability of drawing an Ace after keeping the First Ace back in the deck\n",
    "aces = 4\n",
    "cards = 52\n",
    "ace_probability3 = event_probability(aces, cards)\n",
    "\n",
    "# Print each probability\n",
    "print(ace_probability1)\n",
    "print(ace_probability2)\n",
    "print(ace_probability3)"
   ]
  },
  {
   "cell_type": "markdown",
   "metadata": {},
   "source": [
    "# Mutually Exclusive vs Non Mutually Exclusive Events\n",
    "\n",
    "Two events A and B are **Mutually Exclusive Events** (disjoint) if they cannot occur at the same time. \n",
    "\n",
    "This means that A and B do not share any outcomes. \n",
    "\n",
    "P(A AND B) = 0\n",
    "\n",
    "P(A ∪ B)=P(A) + P(B)\n",
    "\n",
    "***Example : ***\n",
    "\n",
    "> Running forward and Running backwards\n",
    "\n",
    "> Toss a coin and get both a heads and tails.\n",
    "\n",
    "> Drawing a heart or drawing a club.\n",
    "\n",
    "> Drawing an ace, a king or a queen.\n",
    "\n",
    "\n",
    "\n",
    "Two events are **Non Mutually Exclusive** if they can occur at the same time.\n",
    "\n",
    "P(A ∪ B)=P(A) + P(B) − P(A ∩ B)\n",
    "\n",
    "***Example : ***\n",
    "\n",
    "> Running forward while singing a song\n",
    "\n",
    "> Drawing a heart or an ace.\n",
    "\n",
    "> Drawing a red card or drawing a face card."
   ]
  },
  {
   "cell_type": "markdown",
   "metadata": {},
   "source": [
    "##  Example using Python  - Mutually Exclusive Events"
   ]
  },
  {
   "cell_type": "code",
   "execution_count": 36,
   "metadata": {},
   "outputs": [
    {
     "name": "stdout",
     "output_type": "stream",
     "text": [
      "50.0\n",
      "23.1\n"
     ]
    }
   ],
   "source": [
    "# Sample Space\n",
    "cards = 52\n",
    "\n",
    "# Calculate the probability of drawing a heart or a club\n",
    "hearts = 13\n",
    "clubs = 13\n",
    "heart_or_club = event_probability(hearts, cards) + event_probability(clubs, cards)\n",
    "\n",
    "# Calculate the probability of drawing an ace, king, or a queen\n",
    "aces = 4\n",
    "kings = 4\n",
    "queens = 4\n",
    "ace_king_or_queen = event_probability(aces, cards) + event_probability(kings, cards) + event_probability(queens, cards)\n",
    "\n",
    "print(heart_or_club)\n",
    "print(ace_king_or_queen)"
   ]
  },
  {
   "cell_type": "markdown",
   "metadata": {},
   "source": [
    "## Example using Python -  Non Mutually Exclusive Events "
   ]
  },
  {
   "cell_type": "code",
   "execution_count": 39,
   "metadata": {},
   "outputs": [
    {
     "name": "stdout",
     "output_type": "stream",
     "text": [
      "30.8\n"
     ]
    }
   ],
   "source": [
    "# Sample Space\n",
    "cards = 52\n",
    "\n",
    "# Calculate the probability of drawing a heart or an ace\n",
    "hearts = 13\n",
    "aces = 4\n",
    "ace_of_hearts = 1\n",
    "heart_or_ace = event_probability(hearts, cards) + event_probability(aces, cards) - event_probability(ace_of_hearts, cards)\n",
    "\n",
    "print(round(heart_or_ace, 1))\n"
   ]
  },
  {
   "cell_type": "markdown",
   "metadata": {},
   "source": [
    "# Exhaustive Events \n",
    "\n",
    "Events are said to be exaustive events when they are such that atleast one of the events compulsorily occurs.\n",
    "\n",
    "***Example : ***\n",
    "\n",
    "> If you roll a die, at least one of the following events will occur:\n",
    "\n",
    "  A ={a number smaller than '5' shows up} (1,2,3,4)\n",
    "\n",
    "  B ={a number larger than '2' shows up}  (3,4,5,6)\n"
   ]
  },
  {
   "cell_type": "markdown",
   "metadata": {},
   "source": [
    "# Conditional Probability and Bayes Theorem\n",
    "\n",
    "### Marginal Probability:  \n",
    "The probability of an event irrespective of the outcomes of other random variables, e.g. P(A).\n",
    "\n",
    "### Joint Probability: \n",
    "Probability of two (or more) simultaneous events, e.g. P(A and B) or P(A ∩ B)\n",
    "    \n",
    "### Conditional Probability: \n",
    "Probability of one (or more) event given the occurrence of another event, e.g. P(A given B) or P(A | B)\n",
    "\n",
    "- The conditional probability of an event A is the probability that the event will occur **given the knowledge that an   event B has already occurred**. \n",
    "\n",
    "\n",
    "P(A ∩ B) = P(A | B) * P(B)\n",
    "\n",
    "P(A | B) = P(A ∩ B) / P(B)\n",
    "\n",
    "\n",
    "- In the case where events A and B are independent (where event A has no effect on the probability of event B),\n",
    "\n",
    "P(A | B) = P(A)\n",
    "\n",
    "P(B | A) = P(B)\n",
    "\n",
    "***Example :***\n",
    "\n",
    "> Finding the probability of liking Harry Potter given we know the individual prefers fiction.\n",
    "\n",
    "> Drawing a 2nd Ace from a deck of cards given we got the initial Ace\n"
   ]
  },
  {
   "cell_type": "markdown",
   "metadata": {},
   "source": [
    "## Example using Python"
   ]
  },
  {
   "cell_type": "code",
   "execution_count": 69,
   "metadata": {
    "collapsed": true
   },
   "outputs": [],
   "source": [
    "from itertools import product"
   ]
  },
  {
   "cell_type": "code",
   "execution_count": 78,
   "metadata": {},
   "outputs": [],
   "source": [
    "#Conduct a random experiment where 3 coins are tossed\n",
    "n = 3  #number of coin trials\n",
    "omega = set(product(['H','T'] , repeat = n))"
   ]
  },
  {
   "cell_type": "code",
   "execution_count": 79,
   "metadata": {},
   "outputs": [
    {
     "data": {
      "text/plain": [
       "{('H', 'H', 'H'),\n",
       " ('H', 'H', 'T'),\n",
       " ('H', 'T', 'H'),\n",
       " ('H', 'T', 'T'),\n",
       " ('T', 'H', 'H'),\n",
       " ('T', 'H', 'T'),\n",
       " ('T', 'T', 'H'),\n",
       " ('T', 'T', 'T')}"
      ]
     },
     "execution_count": 79,
     "metadata": {},
     "output_type": "execute_result"
    }
   ],
   "source": [
    "omega"
   ]
  },
  {
   "cell_type": "code",
   "execution_count": 80,
   "metadata": {},
   "outputs": [
    {
     "data": {
      "text/plain": [
       "8"
      ]
     },
     "execution_count": 80,
     "metadata": {},
     "output_type": "execute_result"
    }
   ],
   "source": [
    "len(omega)"
   ]
  },
  {
   "cell_type": "code",
   "execution_count": 99,
   "metadata": {
    "collapsed": true
   },
   "outputs": [],
   "source": [
    "#Consider events :\n",
    "A = {x for x in omega if x[0] == 'T'} # First outcome is Tail \n",
    "B = {x for x in omega if x.count('T') == 2} # Total tails is 2"
   ]
  },
  {
   "cell_type": "code",
   "execution_count": 100,
   "metadata": {},
   "outputs": [
    {
     "data": {
      "text/plain": [
       "{('T', 'H', 'H'), ('T', 'H', 'T'), ('T', 'T', 'H'), ('T', 'T', 'T')}"
      ]
     },
     "execution_count": 100,
     "metadata": {},
     "output_type": "execute_result"
    }
   ],
   "source": [
    "A"
   ]
  },
  {
   "cell_type": "code",
   "execution_count": 87,
   "metadata": {},
   "outputs": [
    {
     "data": {
      "text/plain": [
       "{('H', 'T', 'T'), ('T', 'H', 'T'), ('T', 'T', 'H')}"
      ]
     },
     "execution_count": 87,
     "metadata": {},
     "output_type": "execute_result"
    }
   ],
   "source": [
    "B"
   ]
  },
  {
   "cell_type": "code",
   "execution_count": 88,
   "metadata": {
    "collapsed": true
   },
   "outputs": [],
   "source": [
    "def prob(X):\n",
    "    return len(X)/len(omega)"
   ]
  },
  {
   "cell_type": "code",
   "execution_count": 89,
   "metadata": {
    "collapsed": true
   },
   "outputs": [],
   "source": [
    "def cond_prob(X , Y):\n",
    "    return len(X & Y)/len(Y)"
   ]
  },
  {
   "cell_type": "code",
   "execution_count": 90,
   "metadata": {},
   "outputs": [
    {
     "data": {
      "text/plain": [
       "0.5"
      ]
     },
     "execution_count": 90,
     "metadata": {},
     "output_type": "execute_result"
    }
   ],
   "source": [
    "prob(A)"
   ]
  },
  {
   "cell_type": "code",
   "execution_count": 91,
   "metadata": {},
   "outputs": [
    {
     "data": {
      "text/plain": [
       "0.375"
      ]
     },
     "execution_count": 91,
     "metadata": {},
     "output_type": "execute_result"
    }
   ],
   "source": [
    "prob(B)"
   ]
  },
  {
   "cell_type": "code",
   "execution_count": 660,
   "metadata": {
    "scrolled": true
   },
   "outputs": [
    {
     "data": {
      "text/plain": [
       "0.25"
      ]
     },
     "execution_count": 660,
     "metadata": {},
     "output_type": "execute_result"
    }
   ],
   "source": [
    "#P(A∩B) {('T', 'H', 'T'), ('T', 'T', 'H')}\n",
    "prob(A & B)"
   ]
  },
  {
   "cell_type": "code",
   "execution_count": 94,
   "metadata": {
    "scrolled": true
   },
   "outputs": [
    {
     "data": {
      "text/plain": [
       "0.1875"
      ]
     },
     "execution_count": 94,
     "metadata": {},
     "output_type": "execute_result"
    }
   ],
   "source": [
    "prob(A)*prob(B)"
   ]
  },
  {
   "cell_type": "code",
   "execution_count": 662,
   "metadata": {},
   "outputs": [
    {
     "data": {
      "text/plain": [
       "0.6666666666666666"
      ]
     },
     "execution_count": 662,
     "metadata": {},
     "output_type": "execute_result"
    }
   ],
   "source": [
    "cond_prob(A,B)"
   ]
  },
  {
   "cell_type": "code",
   "execution_count": 675,
   "metadata": {},
   "outputs": [
    {
     "data": {
      "text/plain": [
       "0.6666666666666666"
      ]
     },
     "execution_count": 675,
     "metadata": {},
     "output_type": "execute_result"
    }
   ],
   "source": [
    "# P(A & B ) * P(B)\n",
    "0.25/0.375"
   ]
  },
  {
   "cell_type": "code",
   "execution_count": 661,
   "metadata": {
    "collapsed": true
   },
   "outputs": [],
   "source": [
    "def ind_event (X,Y):\n",
    "    return prob(X&Y) == prob(X) *prob(Y)"
   ]
  },
  {
   "cell_type": "code",
   "execution_count": 96,
   "metadata": {},
   "outputs": [
    {
     "data": {
      "text/plain": [
       "False"
      ]
     },
     "execution_count": 96,
     "metadata": {},
     "output_type": "execute_result"
    }
   ],
   "source": [
    "ind_event(A,B)"
   ]
  },
  {
   "cell_type": "code",
   "execution_count": 677,
   "metadata": {},
   "outputs": [
    {
     "data": {
      "text/plain": [
       "{('H', 'H', 'H'), ('H', 'H', 'T'), ('H', 'T', 'H'), ('H', 'T', 'T')}"
      ]
     },
     "execution_count": 677,
     "metadata": {},
     "output_type": "execute_result"
    }
   ],
   "source": [
    "C = {x for x in omega if x[0] == 'H'} # First outcome is Head\n",
    "C"
   ]
  },
  {
   "cell_type": "code",
   "execution_count": 668,
   "metadata": {},
   "outputs": [
    {
     "data": {
      "text/plain": [
       "True"
      ]
     },
     "execution_count": 668,
     "metadata": {},
     "output_type": "execute_result"
    }
   ],
   "source": [
    "ind_event(A,C)"
   ]
  },
  {
   "cell_type": "code",
   "execution_count": 665,
   "metadata": {},
   "outputs": [
    {
     "data": {
      "text/plain": [
       "0.5"
      ]
     },
     "execution_count": 665,
     "metadata": {},
     "output_type": "execute_result"
    }
   ],
   "source": [
    "prob(C)"
   ]
  },
  {
   "cell_type": "code",
   "execution_count": 666,
   "metadata": {},
   "outputs": [
    {
     "data": {
      "text/plain": [
       "0.25"
      ]
     },
     "execution_count": 666,
     "metadata": {},
     "output_type": "execute_result"
    }
   ],
   "source": [
    "prob(A)*prob(C)"
   ]
  },
  {
   "cell_type": "code",
   "execution_count": 667,
   "metadata": {},
   "outputs": [
    {
     "data": {
      "text/plain": [
       "0.25"
      ]
     },
     "execution_count": 667,
     "metadata": {},
     "output_type": "execute_result"
    }
   ],
   "source": [
    "prob(A & C)"
   ]
  },
  {
   "cell_type": "markdown",
   "metadata": {},
   "source": [
    "## Bayes Rule\n",
    "\n",
    "Principled way of calculating a conditional probability without the joint probability.\n",
    "\n",
    "P(A|B) = P(B|A) * P(A) / P(B)\n",
    "\n",
    "- P(A|B) : Posterior probability \n",
    "- P(A) : Prior probability \n",
    "- P(B|A) : Likelihood\n",
    "- P(B) : Evidence\n",
    "\n",
    "Posterior = (Likelihood * Prior) / Evidence"
   ]
  },
  {
   "cell_type": "markdown",
   "metadata": {
    "collapsed": true
   },
   "source": [
    "# Conditional Probability and Bayes Theorem Applications\n",
    "\n",
    "\n",
    "-  What makes it useful is that it allows us to use some knowledge or belief that we already have (prior) to help us calculate the probability of a related event. \n",
    "> For example, if we want to find the probability of selling ice cream on a hot and sunny day, Bayes’ theorem gives us the tools to use prior knowledge about the likelihood of selling ice cream on any other type of day (rainy, windy, snowy etc.)\n",
    "\n",
    "- In any ML Problem , some basic performance meausres include :\n",
    "\n",
    " >Sensitivity = TPR (ability of an algorithm to predict a **positive outcome** when the actual outcome is **positive**)\n",
    " \n",
    " >Specificity = TNR (ability of algorithm to predict a **negative outcome** when the actual outcome is **negative**)  \n",
    "\n",
    "\n",
    " We can map these rates onto familiar terms from Bayes Theorem:\n",
    " \n",
    "#### Example : A test is conducted to diagnose cancer. \n",
    " \n",
    " A : Cancer True \n",
    " B : Test positive \n",
    " \n",
    " TPR(Sensitivity) =  P(Test = Positive | Cancer = True)\n",
    " \n",
    " TNR(Specificity) = P(Test = Negative = | Cancer = False)\n",
    "\n",
    " >P(B|A): True Positive Rate (TPR)\n",
    " \n",
    " >P(not B|not A): True Negative Rate (TNR)\n",
    " \n",
    " >P(B|not A): False Positive Rate (FPR)\n",
    " \n",
    " >P(not B|A): False Negative Rate (FNR).\n",
    "\n",
    " Question : Estimate the probability of a randomly selected person having cancer if they get a positive test result ? \n",
    "\n",
    " Answer : P(A|B) = P(B|A) * P(A) / (P(B)\n",
    "\n",
    "\n",
    "- The problem of classification predictive modeling can be framed as calculating the conditional probability of a class label given a data sample, for example:\n",
    "\n",
    " P(class|data) = (P(data|class) * P(class)) / P(data)\n",
    "\n",
    "where P(class|data) is the probability of class given the provided data.\n",
    "\n",
    "- Naive Bayes’ Classifiers\n",
    "\n",
    "- Discriminant Functions and Decision Surfaces\n",
    "\n",
    "- Bayesian Parameter Estimation"
   ]
  },
  {
   "cell_type": "markdown",
   "metadata": {
    "collapsed": true
   },
   "source": [
    "# Applications of Probability Theory in Machine Learning\n",
    "\n",
    "- Probabilities allow to precisely describe the relationships in the data. For exanple : Distribution of the input data, Distribution of outputs conditioned on inputs(Univariate and Bivariate analysis)\n",
    "\n",
    "- Data Preprocessing depending on the nature of the variables\n",
    "\n",
    "- Choice of algorithm depending on the nature of the variables and objective.\n",
    "\n",
    "#### Regression Methods\n",
    "\n",
    "In Regression we predict the output from input patterns which in statistic mean estimating P(output|input pattern)\n",
    "\n",
    "#### Classification tasks\n",
    "\n",
    "In Classification tasks we require to guess the class from an input which in statistics corresponds to estimating :     P(class|input pattern)\n",
    "\n",
    "#### Model evaluation\n",
    "\n",
    "An understanding of probabilities is also crucial for understanding the output of your algorithms.\n",
    "\n",
    "In binary classification tasks, we predict a single probability score.\n",
    "\n",
    "Model evaluation techniques require us to summarize the performance of a model based on predicted probabilities.\n",
    "\n",
    "#### Others \n",
    "\n",
    "- Softmax is a multinomial distribution \n",
    "\n",
    "- Naïve Bayes is based off of Bayesian statistics.\n",
    "\n",
    "- Dimensionality Reduction techniques \n",
    "\n",
    "- Regularisation techniques"
   ]
  },
  {
   "cell_type": "code",
   "execution_count": 669,
   "metadata": {
    "collapsed": true
   },
   "outputs": [],
   "source": [
    "#Reading Libraries\n",
    "import numpy as np\n",
    "import pandas as pd\n",
    "import matplotlib.pyplot as plt\n",
    "import scipy as sp\n",
    "\n",
    "%matplotlib inline\n",
    "import seaborn as sns\n",
    "pd.set_option('display.max_columns', None)\n",
    "pd.set_option('display.float_format', lambda x: '%.5f' % x)\n",
    "\n",
    "# Statistics\n",
    "from statistics import median\n",
    "from scipy import signal\n",
    "import scipy.stats as stats\n",
    "from scipy.stats import sem\n",
    "\n",
    "from scipy.stats import lognorm\n",
    "from scipy.stats import poisson\n",
    "from scipy.stats import bernoulli\n",
    "from scipy.stats import spearmanr\n",
    "from scipy.fftpack import fft, fftshift\n",
    "\n",
    "# Scikit-learn for Machine Learning models\n",
    "from sklearn.linear_model import LogisticRegression\n",
    "from sklearn.model_selection import train_test_split\n",
    "\n",
    "iris = sns.load_dataset('iris')"
   ]
  },
  {
   "cell_type": "markdown",
   "metadata": {},
   "source": [
    "# Random Variable\n",
    "\n",
    "- The most important fact about random variables is that they are ***Not variables***. \n",
    "\n",
    "- They are actually ***Functions***  \n",
    "\n",
    "- To calculate the likelihood of occurence of an event, we need to put a framework to ***express the outcome in numbers***. \n",
    "\n",
    "- We can do this by ***Mapping the outcome of an experiment to numbers***.\n",
    "\n",
    "- A numerical summary of an aspect of the experiment\n",
    "\n",
    "***Example***\n",
    "\n",
    "> X = Outcome of a coin toss then its domain is {1(heads) , 0(tails)}\n",
    "\n",
    "> X = Hair Color then the domain is {black, blond, gray, green, orange}\n"
   ]
  },
  {
   "cell_type": "markdown",
   "metadata": {},
   "source": [
    "# Types of RV - Discrete & Continuous\n",
    "\n",
    "**Contents** | **Discrete**     |  **Continuous** \n",
    " --|:---------:|:-----------:\n",
    "**`Definition`**| Take only a countable number of finite distinct values. | Takes an infinite number of possible values. \n",
    "**`Type`**| Usually counts | Usually measurements. \n",
    "**`Example`**|# heads in toss of 3 coins,  # defective light bulbs in a box of ten  | Life of a Human ,Height, Amount of sugar in an orange, time required to run a mile.\n",
    "**`Distribution`**| The Probability Distribution of a Discrete RV is a list of probabilities associated with each of its possible values. It is known as the ***probability mass function***. | Continuous RV is not defined at specific values. Instead, it is defined over an interval of values, and is represented by the area under a curve , an integral. Known as the  ***probability density function***\n",
    "**`CDF`**| The probability that the variable takes a value less than or equal to x(rv),That is F(x) = Pr[X ≤ x]. For Discrete,          **F(x)= (i=0 to x) ∑ f(i)**. | The probability that the variable takes a value less than or equal to x(rv),That is F(x) = Pr[X ≤ x].             For Continuous,  **F(x)= (-∞ to x) ∫ f(μ)dμ**\n",
    "**`Total`**| Sums upto 1 | Integrates upto 1\n",
    "**`Point value`**| F(X) = P(X = x) > 0 | F(X) = P(X = x) = 0\n",
    "**`Commom Distributions`**| Bernoulli , Binomial , Poisson , Geometric , Negative Binomial | Uniform , Normal , Gamma , Exponential , Beta \n",
    "\n"
   ]
  },
  {
   "cell_type": "code",
   "execution_count": 572,
   "metadata": {},
   "outputs": [],
   "source": [
    "#### We would be Using the ***stats*** module of the ***scipy*** library :\n",
    "    \n",
    "import numpy as np    \n",
    "import scipy as sp\n",
    "\n",
    "####  Statistics\n",
    "\n",
    "import scipy.stats as stats\n",
    "from scipy.stats import sem\n",
    "\n",
    "\n",
    "from scipy.stats import bernoulli\n",
    "from scipy.stats import binom \n",
    "from scipy.stats import poisson\n",
    "from scipy.stats import geom\n",
    "from scipy.stats import norm\n",
    "from scipy.stats import uniform\n",
    "from scipy.stats import lognorm\n",
    "from scipy.stats import gamma\n",
    "from scipy.stats import expon\n",
    "from scipy.stats import beta\n"
   ]
  },
  {
   "cell_type": "code",
   "execution_count": 678,
   "metadata": {},
   "outputs": [
    {
     "data": {
      "text/plain": [
       "['PearsonRConstantInputWarning',\n",
       " 'PearsonRNearConstantInputWarning',\n",
       " '__all__',\n",
       " '__builtins__',\n",
       " '__cached__',\n",
       " '__doc__',\n",
       " '__file__',\n",
       " '__loader__',\n",
       " '__name__',\n",
       " '__package__',\n",
       " '__path__',\n",
       " '__spec__',\n",
       " '_binned_statistic',\n",
       " '_constants',\n",
       " '_continuous_distns',\n",
       " '_discrete_distns',\n",
       " '_distn_infrastructure',\n",
       " '_distr_params',\n",
       " '_hypotests',\n",
       " '_multivariate',\n",
       " '_rvs_sampling',\n",
       " '_stats',\n",
       " '_stats_mstats_common',\n",
       " '_tukeylambda_stats',\n",
       " 'absolute_import',\n",
       " 'alpha',\n",
       " 'anderson',\n",
       " 'anderson_ksamp',\n",
       " 'anglit',\n",
       " 'ansari',\n",
       " 'arcsine',\n",
       " 'argus',\n",
       " 'bartlett',\n",
       " 'bayes_mvs',\n",
       " 'bernoulli',\n",
       " 'beta',\n",
       " 'betabinom',\n",
       " 'betaprime',\n",
       " 'binned_statistic',\n",
       " 'binned_statistic_2d',\n",
       " 'binned_statistic_dd',\n",
       " 'binom',\n",
       " 'binom_test',\n",
       " 'boltzmann',\n",
       " 'boxcox',\n",
       " 'boxcox_llf',\n",
       " 'boxcox_normmax',\n",
       " 'boxcox_normplot',\n",
       " 'bradford',\n",
       " 'brunnermunzel',\n",
       " 'burr',\n",
       " 'burr12',\n",
       " 'cauchy',\n",
       " 'chi',\n",
       " 'chi2',\n",
       " 'chi2_contingency',\n",
       " 'chisquare',\n",
       " 'circmean',\n",
       " 'circstd',\n",
       " 'circvar',\n",
       " 'combine_pvalues',\n",
       " 'contingency',\n",
       " 'cosine',\n",
       " 'crystalball',\n",
       " 'cumfreq',\n",
       " 'describe',\n",
       " 'dgamma',\n",
       " 'dirichlet',\n",
       " 'distributions',\n",
       " 'division',\n",
       " 'dlaplace',\n",
       " 'dweibull',\n",
       " 'energy_distance',\n",
       " 'entropy',\n",
       " 'epps_singleton_2samp',\n",
       " 'erlang',\n",
       " 'expon',\n",
       " 'exponnorm',\n",
       " 'exponpow',\n",
       " 'exponweib',\n",
       " 'f',\n",
       " 'f_oneway',\n",
       " 'fatiguelife',\n",
       " 'find_repeats',\n",
       " 'fisher_exact',\n",
       " 'fisk',\n",
       " 'fligner',\n",
       " 'foldcauchy',\n",
       " 'foldnorm',\n",
       " 'frechet_l',\n",
       " 'frechet_r',\n",
       " 'friedmanchisquare',\n",
       " 'gamma',\n",
       " 'gausshyper',\n",
       " 'gaussian_kde',\n",
       " 'genexpon',\n",
       " 'genextreme',\n",
       " 'gengamma',\n",
       " 'genhalflogistic',\n",
       " 'geninvgauss',\n",
       " 'genlogistic',\n",
       " 'gennorm',\n",
       " 'genpareto',\n",
       " 'geom',\n",
       " 'gilbrat',\n",
       " 'gmean',\n",
       " 'gompertz',\n",
       " 'gstd',\n",
       " 'gumbel_l',\n",
       " 'gumbel_r',\n",
       " 'halfcauchy',\n",
       " 'halfgennorm',\n",
       " 'halflogistic',\n",
       " 'halfnorm',\n",
       " 'hmean',\n",
       " 'hypergeom',\n",
       " 'hypsecant',\n",
       " 'invgamma',\n",
       " 'invgauss',\n",
       " 'invweibull',\n",
       " 'invwishart',\n",
       " 'iqr',\n",
       " 'itemfreq',\n",
       " 'jarque_bera',\n",
       " 'johnsonsb',\n",
       " 'johnsonsu',\n",
       " 'kappa3',\n",
       " 'kappa4',\n",
       " 'kde',\n",
       " 'kendalltau',\n",
       " 'kruskal',\n",
       " 'ks_2samp',\n",
       " 'ksone',\n",
       " 'kstat',\n",
       " 'kstatvar',\n",
       " 'kstest',\n",
       " 'kstwobign',\n",
       " 'kurtosis',\n",
       " 'kurtosistest',\n",
       " 'laplace',\n",
       " 'levene',\n",
       " 'levy',\n",
       " 'levy_l',\n",
       " 'levy_stable',\n",
       " 'linregress',\n",
       " 'loggamma',\n",
       " 'logistic',\n",
       " 'loglaplace',\n",
       " 'lognorm',\n",
       " 'logser',\n",
       " 'loguniform',\n",
       " 'lomax',\n",
       " 'mannwhitneyu',\n",
       " 'matrix_normal',\n",
       " 'maxwell',\n",
       " 'median_absolute_deviation',\n",
       " 'median_test',\n",
       " 'mielke',\n",
       " 'mode',\n",
       " 'moment',\n",
       " 'mood',\n",
       " 'morestats',\n",
       " 'moyal',\n",
       " 'mstats',\n",
       " 'mstats_basic',\n",
       " 'mstats_extras',\n",
       " 'multinomial',\n",
       " 'multiscale_graphcorr',\n",
       " 'multivariate_normal',\n",
       " 'mvn',\n",
       " 'mvsdist',\n",
       " 'nakagami',\n",
       " 'nbinom',\n",
       " 'ncf',\n",
       " 'nct',\n",
       " 'ncx2',\n",
       " 'norm',\n",
       " 'normaltest',\n",
       " 'norminvgauss',\n",
       " 'obrientransform',\n",
       " 'ortho_group',\n",
       " 'pareto',\n",
       " 'pearson3',\n",
       " 'pearsonr',\n",
       " 'percentileofscore',\n",
       " 'planck',\n",
       " 'pointbiserialr',\n",
       " 'poisson',\n",
       " 'power_divergence',\n",
       " 'powerlaw',\n",
       " 'powerlognorm',\n",
       " 'powernorm',\n",
       " 'ppcc_max',\n",
       " 'ppcc_plot',\n",
       " 'print_function',\n",
       " 'probplot',\n",
       " 'randint',\n",
       " 'random_correlation',\n",
       " 'rankdata',\n",
       " 'ranksums',\n",
       " 'rayleigh',\n",
       " 'rdist',\n",
       " 'recipinvgauss',\n",
       " 'reciprocal',\n",
       " 'relfreq',\n",
       " 'rice',\n",
       " 'rv_continuous',\n",
       " 'rv_discrete',\n",
       " 'rv_histogram',\n",
       " 'rvs_ratio_uniforms',\n",
       " 'scoreatpercentile',\n",
       " 'sem',\n",
       " 'semicircular',\n",
       " 'shapiro',\n",
       " 'siegelslopes',\n",
       " 'sigmaclip',\n",
       " 'skellam',\n",
       " 'skew',\n",
       " 'skewnorm',\n",
       " 'skewtest',\n",
       " 'spearmanr',\n",
       " 'special_ortho_group',\n",
       " 'statlib',\n",
       " 'stats',\n",
       " 't',\n",
       " 'test',\n",
       " 'theilslopes',\n",
       " 'tiecorrect',\n",
       " 'tmax',\n",
       " 'tmean',\n",
       " 'tmin',\n",
       " 'trapz',\n",
       " 'triang',\n",
       " 'trim1',\n",
       " 'trim_mean',\n",
       " 'trimboth',\n",
       " 'truncexpon',\n",
       " 'truncnorm',\n",
       " 'tsem',\n",
       " 'tstd',\n",
       " 'ttest_1samp',\n",
       " 'ttest_ind',\n",
       " 'ttest_ind_from_stats',\n",
       " 'ttest_rel',\n",
       " 'tukeylambda',\n",
       " 'tvar',\n",
       " 'uniform',\n",
       " 'unitary_group',\n",
       " 'variation',\n",
       " 'vonmises',\n",
       " 'vonmises_line',\n",
       " 'wald',\n",
       " 'wasserstein_distance',\n",
       " 'weibull_max',\n",
       " 'weibull_min',\n",
       " 'weightedtau',\n",
       " 'wilcoxon',\n",
       " 'wishart',\n",
       " 'wrapcauchy',\n",
       " 'yeojohnson',\n",
       " 'yeojohnson_llf',\n",
       " 'yeojohnson_normmax',\n",
       " 'yeojohnson_normplot',\n",
       " 'yulesimon',\n",
       " 'zipf',\n",
       " 'zmap',\n",
       " 'zscore']"
      ]
     },
     "execution_count": 678,
     "metadata": {},
     "output_type": "execute_result"
    }
   ],
   "source": [
    "dir(stats)"
   ]
  },
  {
   "cell_type": "markdown",
   "metadata": {},
   "source": [
    "### Random Variable :\n",
    "\n",
    "A function , mathematically , but really its 1 or 0 depending on the trial result\n",
    "\n",
    "### Distribution :\n",
    "\n",
    "Its the probability that a certain RV behaves in different ways"
   ]
  },
  {
   "cell_type": "markdown",
   "metadata": {},
   "source": [
    "# Binomial Distribution \n",
    "\n",
    "#### Bernoulli Distribution \n",
    "\n",
    "A RV X is said to have a Bernoulli distribution if X has only 2 possible outcomes : 0 and 1 .i.e. whatever the experiment is , it gets mapped to only 0 and 1.\n",
    "\n",
    "#### Binomial Distribution \n",
    "\n",
    "The distribution of the number of success in a sequence of n independent Bernoulli trials is called Binomial Distribution.\n",
    "\n",
    "There are 3 characteristics of a binomial experiment :\n",
    "\n",
    "- There are a fixed number of trials , ***n***\n",
    "\n",
    "- There are only two possible outcomes, called “success” and, “failure” for each trial. The letter ***p*** denotes the probability of a success on one trial and q denotes the probability of a failure on one trial. (p + q = 1)\n",
    "\n",
    "- The n trials are independent and are repeated using identical conditions.\n",
    "(because the n trials are independent, the outcome of one trial does not help in predicting the outcome of another trial.)\n",
    "\n",
    "Notation :\n",
    "\n",
    " ***X ∼  B(n,p)***\n",
    " \n",
    "PMF : (nCx)*(p^x)*(1−p)^(n−x)\n",
    " \n",
    "##### Example :\n",
    "\n",
    "  #Heads in Toss of 3 coins\n",
    "  \n",
    "  #Emails opened out of total emails sent\n",
    "  \n",
    "  #Housecalls completed out of Total Housecalls attempted\n",
    "  \n",
    "  #Calls answered out of total calls made\n"
   ]
  },
  {
   "cell_type": "code",
   "execution_count": 652,
   "metadata": {
    "scrolled": false
   },
   "outputs": [
    {
     "data": {
      "text/plain": [
       "[Text(0, 0.5, 'Frequency'), Text(0.5, 0, 'Bernoulli Distribution')]"
      ]
     },
     "execution_count": 652,
     "metadata": {},
     "output_type": "execute_result"
    },
    {
     "data": {
      "image/png": "[encoded data removed]",
      "text/plain": [
       "<Figure size 432x288 with 1 Axes>"
      ]
     },
     "metadata": {
      "needs_background": "light"
     },
     "output_type": "display_data"
    }
   ],
   "source": [
    "# Bernoulli Distribution \n",
    "\n",
    "from scipy.stats import bernoulli\n",
    "data_bern = bernoulli.rvs(size=10000,p=0.6)\n",
    "\n",
    "ax= sns.distplot(data_bern,\n",
    "                 kde=False,\n",
    "                 color=\"blue\",\n",
    "                 hist_kws={\"linewidth\": 15,'alpha':1})\n",
    "ax.set(xlabel='Bernoulli Distribution', ylabel='Frequency')"
   ]
  },
  {
   "cell_type": "markdown",
   "metadata": {},
   "source": [
    "# Understanding a Binomial Distribution in Python :"
   ]
  },
  {
   "cell_type": "markdown",
   "metadata": {},
   "source": [
    "#### Experiment :  \n",
    "\n",
    "What are the chances of **3 sixes in 7 rolls** of an unbiased die?\n",
    "\n",
    "Here Roll of the unbiased die is a ***Bernoulli*** distribution ,\n",
    "\n",
    "- Number of trials , n  = 7\n",
    "- Success = Occurence of 3 sixes \n",
    "- Probability of success on one trial , p = 1/6\n",
    "\n",
    "By Binomial Formula :  B(x ; n,p) = nCx  *  p^x  *  q^(n – x)\n",
    "\n",
    "P = (7c3) * (1/6)^3 * (5/6)^4 "
   ]
  },
  {
   "cell_type": "markdown",
   "metadata": {},
   "source": [
    "Using the ***stats*** module of the ***scipy*** library  , import ***binom.pmf*** function :"
   ]
  },
  {
   "cell_type": "code",
   "execution_count": 420,
   "metadata": {},
   "outputs": [],
   "source": [
    "from scipy import stats\n",
    "from scipy.stats import binom"
   ]
  },
  {
   "cell_type": "code",
   "execution_count": 679,
   "metadata": {
    "collapsed": true
   },
   "outputs": [],
   "source": [
    "?binom"
   ]
  },
  {
   "cell_type": "code",
   "execution_count": 576,
   "metadata": {},
   "outputs": [
    {
     "data": {
      "text/plain": [
       "0.07814286122542294"
      ]
     },
     "execution_count": 576,
     "metadata": {},
     "output_type": "execute_result"
    }
   ],
   "source": [
    "#PMF is the probability that the variate has the value x\n",
    "#stats.binom.pmf(k, n, p)\n",
    "stats.binom.pmf(3, 7, 1/6)"
   ]
  },
  {
   "cell_type": "code",
   "execution_count": 423,
   "metadata": {},
   "outputs": [
    {
     "data": {
      "text/plain": [
       "0.3282000171467765"
      ]
     },
     "execution_count": 423,
     "metadata": {},
     "output_type": "execute_result"
    }
   ],
   "source": [
    "#Similarly , To find  P( 2 ≤ E  ≤4) you can use\n",
    "\n",
    "sum(stats.binom.pmf([2, 3, 4], 7, 1/6))"
   ]
  },
  {
   "cell_type": "code",
   "execution_count": 559,
   "metadata": {},
   "outputs": [
    {
     "data": {
      "text/plain": [
       "0.9823673982624601"
      ]
     },
     "execution_count": 559,
     "metadata": {},
     "output_type": "execute_result"
    }
   ],
   "source": [
    "# To find  P( 0 ≤ E  ≤3) you can use\n",
    "\n",
    "sum(stats.binom.pmf([0, 1, 2, 3], 7, 1/6))"
   ]
  },
  {
   "cell_type": "code",
   "execution_count": 560,
   "metadata": {},
   "outputs": [
    {
     "name": "stdout",
     "output_type": "stream",
     "text": [
      "0.98236739826246\n"
     ]
    }
   ],
   "source": [
    "# CDF is the probability that the variable takes a value less than or equal to x(rv),That is F(x) = Pr[X ≤ x]\n",
    "\n",
    "print(stats.binom.cdf(3,7, 1/6))"
   ]
  },
  {
   "cell_type": "markdown",
   "metadata": {},
   "source": [
    "# Visualization  \n",
    "## PMF : Probability Mass Function"
   ]
  },
  {
   "cell_type": "code",
   "execution_count": 577,
   "metadata": {},
   "outputs": [
    {
     "data": {
      "text/plain": [
       "array([0, 1, 2, 3, 4, 5, 6, 7])"
      ]
     },
     "execution_count": 577,
     "metadata": {},
     "output_type": "execute_result"
    }
   ],
   "source": [
    "# parameters\n",
    "n = 7\n",
    "p = 1/6\n",
    "x = np.arange(n+1)\n",
    "x"
   ]
  },
  {
   "cell_type": "code",
   "execution_count": 551,
   "metadata": {
    "scrolled": true
   },
   "outputs": [
    {
     "data": {
      "text/plain": [
       "array([2.79081647e-01, 3.90714306e-01, 2.34428584e-01, 7.81428612e-02,\n",
       "       1.56285722e-02, 1.87542867e-03, 1.25028578e-04, 3.57224508e-06])"
      ]
     },
     "execution_count": 551,
     "metadata": {},
     "output_type": "execute_result"
    }
   ],
   "source": [
    "stats.binom(7,1/6).pmf(x)"
   ]
  },
  {
   "cell_type": "code",
   "execution_count": 552,
   "metadata": {
    "scrolled": true
   },
   "outputs": [
    {
     "data": {
      "text/plain": [
       "[<matplotlib.lines.Line2D at 0x7f8593ff0e90>]"
      ]
     },
     "execution_count": 552,
     "metadata": {},
     "output_type": "execute_result"
    },
    {
     "data": {
      "image/png": "[encoded data removed]",
      "text/plain": [
       "<Figure size 432x288 with 1 Axes>"
      ]
     },
     "metadata": {
      "needs_background": "light"
     },
     "output_type": "display_data"
    }
   ],
   "source": [
    "plt.plot(x,stats.binom(7,1/6).pmf(x) ,  marker = '*')"
   ]
  },
  {
   "cell_type": "markdown",
   "metadata": {},
   "source": [
    "# CDF : Cumulative Density Function "
   ]
  },
  {
   "cell_type": "code",
   "execution_count": 578,
   "metadata": {},
   "outputs": [
    {
     "data": {
      "text/plain": [
       "array([0, 1, 2, 3, 4, 5, 6, 7])"
      ]
     },
     "execution_count": 578,
     "metadata": {},
     "output_type": "execute_result"
    }
   ],
   "source": [
    "# parameters\n",
    "n = 7\n",
    "p = 1/6\n",
    "x = np.arange(n+1)\n",
    "x"
   ]
  },
  {
   "cell_type": "code",
   "execution_count": 554,
   "metadata": {
    "scrolled": true
   },
   "outputs": [
    {
     "data": {
      "text/plain": [
       "array([0.27908165, 0.66979595, 0.90422454, 0.9823674 , 0.99799597,\n",
       "       0.9998714 , 0.99999643, 1.        ])"
      ]
     },
     "execution_count": 554,
     "metadata": {},
     "output_type": "execute_result"
    }
   ],
   "source": [
    "stats.binom(7,1/6).cdf(x)"
   ]
  },
  {
   "cell_type": "code",
   "execution_count": 555,
   "metadata": {},
   "outputs": [
    {
     "data": {
      "text/plain": [
       "[<matplotlib.lines.Line2D at 0x7f8593f65a90>]"
      ]
     },
     "execution_count": 555,
     "metadata": {},
     "output_type": "execute_result"
    },
    {
     "data": {
      "image/png": "[encoded data removed]",
      "text/plain": [
       "<Figure size 432x288 with 1 Axes>"
      ]
     },
     "metadata": {
      "needs_background": "light"
     },
     "output_type": "display_data"
    }
   ],
   "source": [
    "plt.plot(x ,stats.binom(7,1/6).cdf(x))"
   ]
  },
  {
   "cell_type": "markdown",
   "metadata": {},
   "source": [
    "# PPF : Point Percentile Function (Inverse CDF)\n",
    "\n",
    "For a CDF we calculate the probability that the variable is less than or equal to x for a given x. \n",
    "\n",
    "For the percent point function, **we start with the probability and compute the corresponding x for the cumulative distribution**."
   ]
  },
  {
   "cell_type": "code",
   "execution_count": 680,
   "metadata": {},
   "outputs": [
    {
     "data": {
      "text/plain": [
       "array([0.        , 0.01010101, 0.02020202, 0.03030303, 0.04040404,\n",
       "       0.05050505, 0.06060606, 0.07070707, 0.08080808, 0.09090909,\n",
       "       0.1010101 , 0.11111111, 0.12121212, 0.13131313, 0.14141414,\n",
       "       0.15151515, 0.16161616, 0.17171717, 0.18181818, 0.19191919,\n",
       "       0.2020202 , 0.21212121, 0.22222222, 0.23232323, 0.24242424,\n",
       "       0.25252525, 0.26262626, 0.27272727, 0.28282828, 0.29292929,\n",
       "       0.3030303 , 0.31313131, 0.32323232, 0.33333333, 0.34343434,\n",
       "       0.35353535, 0.36363636, 0.37373737, 0.38383838, 0.39393939,\n",
       "       0.4040404 , 0.41414141, 0.42424242, 0.43434343, 0.44444444,\n",
       "       0.45454545, 0.46464646, 0.47474747, 0.48484848, 0.49494949,\n",
       "       0.50505051, 0.51515152, 0.52525253, 0.53535354, 0.54545455,\n",
       "       0.55555556, 0.56565657, 0.57575758, 0.58585859, 0.5959596 ,\n",
       "       0.60606061, 0.61616162, 0.62626263, 0.63636364, 0.64646465,\n",
       "       0.65656566, 0.66666667, 0.67676768, 0.68686869, 0.6969697 ,\n",
       "       0.70707071, 0.71717172, 0.72727273, 0.73737374, 0.74747475,\n",
       "       0.75757576, 0.76767677, 0.77777778, 0.78787879, 0.7979798 ,\n",
       "       0.80808081, 0.81818182, 0.82828283, 0.83838384, 0.84848485,\n",
       "       0.85858586, 0.86868687, 0.87878788, 0.88888889, 0.8989899 ,\n",
       "       0.90909091, 0.91919192, 0.92929293, 0.93939394, 0.94949495,\n",
       "       0.95959596, 0.96969697, 0.97979798, 0.98989899, 1.        ])"
      ]
     },
     "execution_count": 680,
     "metadata": {},
     "output_type": "execute_result"
    }
   ],
   "source": [
    "x = np.linspace(0,1,100)\n",
    "x"
   ]
  },
  {
   "cell_type": "code",
   "execution_count": 681,
   "metadata": {},
   "outputs": [
    {
     "data": {
      "text/plain": [
       "array([-1.,  0.,  0.,  0.,  0.,  0.,  0.,  0.,  0.,  0.,  0.,  0.,  0.,\n",
       "        0.,  0.,  0.,  0.,  0.,  0.,  0.,  0.,  0.,  0.,  0.,  0.,  0.,\n",
       "        0.,  0.,  1.,  1.,  1.,  1.,  1.,  1.,  1.,  1.,  1.,  1.,  1.,\n",
       "        1.,  1.,  1.,  1.,  1.,  1.,  1.,  1.,  1.,  1.,  1.,  1.,  1.,\n",
       "        1.,  1.,  1.,  1.,  1.,  1.,  1.,  1.,  1.,  1.,  1.,  1.,  1.,\n",
       "        1.,  1.,  2.,  2.,  2.,  2.,  2.,  2.,  2.,  2.,  2.,  2.,  2.,\n",
       "        2.,  2.,  2.,  2.,  2.,  2.,  2.,  2.,  2.,  2.,  2.,  2.,  3.,\n",
       "        3.,  3.,  3.,  3.,  3.,  3.,  3.,  4.,  7.])"
      ]
     },
     "execution_count": 681,
     "metadata": {},
     "output_type": "execute_result"
    }
   ],
   "source": [
    "stats.binom(7, 1/6).ppf(x)"
   ]
  },
  {
   "cell_type": "code",
   "execution_count": 583,
   "metadata": {
    "scrolled": true
   },
   "outputs": [
    {
     "name": "stdout",
     "output_type": "stream",
     "text": [
      "1.0\n",
      "2.0\n",
      "2.0\n",
      "3.0\n",
      "4.0\n"
     ]
    }
   ],
   "source": [
    "print(stats.binom(7, 1/6).ppf(0.5))\n",
    "print(stats.binom(7, 1/6).ppf(0.75))\n",
    "print(stats.binom(7, 1/6).ppf(0.90))\n",
    "print(stats.binom(7, 1/6).ppf(0.95))\n",
    "print(stats.binom(7, 1/6).ppf(0.99))"
   ]
  },
  {
   "cell_type": "code",
   "execution_count": 558,
   "metadata": {},
   "outputs": [
    {
     "data": {
      "text/plain": [
       "[<matplotlib.lines.Line2D at 0x7f8593ed4b90>]"
      ]
     },
     "execution_count": 558,
     "metadata": {},
     "output_type": "execute_result"
    },
    {
     "data": {
      "image/png": "[encoded data removed]",
      "text/plain": [
       "<Figure size 432x288 with 1 Axes>"
      ]
     },
     "metadata": {
      "needs_background": "light"
     },
     "output_type": "display_data"
    }
   ],
   "source": [
    "plt.plot(x , stats.binom(7, 1/6).ppf(x))"
   ]
  },
  {
   "cell_type": "markdown",
   "metadata": {},
   "source": [
    "## Everything about Binomial Distribution"
   ]
  },
  {
   "cell_type": "code",
   "execution_count": 479,
   "metadata": {},
   "outputs": [
    {
     "name": "stdout",
     "output_type": "stream",
     "text": [
      "Help on binom_gen in module scipy.stats._discrete_distns object:\n",
      "\n",
      "class binom_gen(scipy.stats._distn_infrastructure.rv_discrete)\n",
      " |  binom_gen(a=0, b=inf, name=None, badvalue=None, moment_tol=1e-08, values=None, inc=1, longname=None, shapes=None, extradoc=None, seed=None)\n",
      " |  \n",
      " |  A binomial discrete random variable.\n",
      " |  \n",
      " |  %(before_notes)s\n",
      " |  \n",
      " |  Notes\n",
      " |  -----\n",
      " |  The probability mass function for `binom` is:\n",
      " |  \n",
      " |  .. math::\n",
      " |  \n",
      " |     f(k) = \\binom{n}{k} p^k (1-p)^{n-k}\n",
      " |  \n",
      " |  for ``k`` in ``{0, 1,..., n}``.\n",
      " |  \n",
      " |  `binom` takes ``n`` and ``p`` as shape parameters.\n",
      " |  \n",
      " |  %(after_notes)s\n",
      " |  \n",
      " |  %(example)s\n",
      " |  \n",
      " |  Method resolution order:\n",
      " |      binom_gen\n",
      " |      scipy.stats._distn_infrastructure.rv_discrete\n",
      " |      scipy.stats._distn_infrastructure.rv_generic\n",
      " |      builtins.object\n",
      " |  \n",
      " |  Methods inherited from scipy.stats._distn_infrastructure.rv_discrete:\n",
      " |  \n",
      " |  __init__(self, a=0, b=inf, name=None, badvalue=None, moment_tol=1e-08, values=None, inc=1, longname=None, shapes=None, extradoc=None, seed=None)\n",
      " |      Initialize self.  See help(type(self)) for accurate signature.\n",
      " |  \n",
      " |  cdf(self, k, *args, **kwds)\n",
      " |      Cumulative distribution function of the given RV.\n",
      " |      \n",
      " |      Parameters\n",
      " |      ----------\n",
      " |      k : array_like, int\n",
      " |          Quantiles.\n",
      " |      arg1, arg2, arg3,... : array_like\n",
      " |          The shape parameter(s) for the distribution (see docstring of the\n",
      " |          instance object for more information).\n",
      " |      loc : array_like, optional\n",
      " |          Location parameter (default=0).\n",
      " |      \n",
      " |      Returns\n",
      " |      -------\n",
      " |      cdf : ndarray\n",
      " |          Cumulative distribution function evaluated at `k`.\n",
      " |  \n",
      " |  expect(self, func=None, args=(), loc=0, lb=None, ub=None, conditional=False, maxcount=1000, tolerance=1e-10, chunksize=32)\n",
      " |      Calculate expected value of a function with respect to the distribution\n",
      " |      for discrete distribution by numerical summation.\n",
      " |      \n",
      " |      Parameters\n",
      " |      ----------\n",
      " |      func : callable, optional\n",
      " |          Function for which the expectation value is calculated.\n",
      " |          Takes only one argument.\n",
      " |          The default is the identity mapping f(k) = k.\n",
      " |      args : tuple, optional\n",
      " |          Shape parameters of the distribution.\n",
      " |      loc : float, optional\n",
      " |          Location parameter.\n",
      " |          Default is 0.\n",
      " |      lb, ub : int, optional\n",
      " |          Lower and upper bound for the summation, default is set to the\n",
      " |          support of the distribution, inclusive (``ul <= k <= ub``).\n",
      " |      conditional : bool, optional\n",
      " |          If true then the expectation is corrected by the conditional\n",
      " |          probability of the summation interval. The return value is the\n",
      " |          expectation of the function, `func`, conditional on being in\n",
      " |          the given interval (k such that ``ul <= k <= ub``).\n",
      " |          Default is False.\n",
      " |      maxcount : int, optional\n",
      " |          Maximal number of terms to evaluate (to avoid an endless loop for\n",
      " |          an infinite sum). Default is 1000.\n",
      " |      tolerance : float, optional\n",
      " |          Absolute tolerance for the summation. Default is 1e-10.\n",
      " |      chunksize : int, optional\n",
      " |          Iterate over the support of a distributions in chunks of this size.\n",
      " |          Default is 32.\n",
      " |      \n",
      " |      Returns\n",
      " |      -------\n",
      " |      expect : float\n",
      " |          Expected value.\n",
      " |      \n",
      " |      Notes\n",
      " |      -----\n",
      " |      For heavy-tailed distributions, the expected value may or may not exist,\n",
      " |      depending on the function, `func`. If it does exist, but the sum converges\n",
      " |      slowly, the accuracy of the result may be rather low. For instance, for\n",
      " |      ``zipf(4)``, accuracy for mean, variance in example is only 1e-5.\n",
      " |      increasing `maxcount` and/or `chunksize` may improve the result, but may\n",
      " |      also make zipf very slow.\n",
      " |      \n",
      " |      The function is not vectorized.\n",
      " |  \n",
      " |  isf(self, q, *args, **kwds)\n",
      " |      Inverse survival function (inverse of `sf`) at q of the given RV.\n",
      " |      \n",
      " |      Parameters\n",
      " |      ----------\n",
      " |      q : array_like\n",
      " |          Upper tail probability.\n",
      " |      arg1, arg2, arg3,... : array_like\n",
      " |          The shape parameter(s) for the distribution (see docstring of the\n",
      " |          instance object for more information).\n",
      " |      loc : array_like, optional\n",
      " |          Location parameter (default=0).\n",
      " |      \n",
      " |      Returns\n",
      " |      -------\n",
      " |      k : ndarray or scalar\n",
      " |          Quantile corresponding to the upper tail probability, q.\n",
      " |  \n",
      " |  logcdf(self, k, *args, **kwds)\n",
      " |      Log of the cumulative distribution function at k of the given RV.\n",
      " |      \n",
      " |      Parameters\n",
      " |      ----------\n",
      " |      k : array_like, int\n",
      " |          Quantiles.\n",
      " |      arg1, arg2, arg3,... : array_like\n",
      " |          The shape parameter(s) for the distribution (see docstring of the\n",
      " |          instance object for more information).\n",
      " |      loc : array_like, optional\n",
      " |          Location parameter (default=0).\n",
      " |      \n",
      " |      Returns\n",
      " |      -------\n",
      " |      logcdf : array_like\n",
      " |          Log of the cumulative distribution function evaluated at k.\n",
      " |  \n",
      " |  logpmf(self, k, *args, **kwds)\n",
      " |      Log of the probability mass function at k of the given RV.\n",
      " |      \n",
      " |      Parameters\n",
      " |      ----------\n",
      " |      k : array_like\n",
      " |          Quantiles.\n",
      " |      arg1, arg2, arg3,... : array_like\n",
      " |          The shape parameter(s) for the distribution (see docstring of the\n",
      " |          instance object for more information).\n",
      " |      loc : array_like, optional\n",
      " |          Location parameter. Default is 0.\n",
      " |      \n",
      " |      Returns\n",
      " |      -------\n",
      " |      logpmf : array_like\n",
      " |          Log of the probability mass function evaluated at k.\n",
      " |  \n",
      " |  logsf(self, k, *args, **kwds)\n",
      " |      Log of the survival function of the given RV.\n",
      " |      \n",
      " |      Returns the log of the \"survival function,\" defined as 1 - `cdf`,\n",
      " |      evaluated at `k`.\n",
      " |      \n",
      " |      Parameters\n",
      " |      ----------\n",
      " |      k : array_like\n",
      " |          Quantiles.\n",
      " |      arg1, arg2, arg3,... : array_like\n",
      " |          The shape parameter(s) for the distribution (see docstring of the\n",
      " |          instance object for more information).\n",
      " |      loc : array_like, optional\n",
      " |          Location parameter (default=0).\n",
      " |      \n",
      " |      Returns\n",
      " |      -------\n",
      " |      logsf : ndarray\n",
      " |          Log of the survival function evaluated at `k`.\n",
      " |  \n",
      " |  pmf(self, k, *args, **kwds)\n",
      " |      Probability mass function at k of the given RV.\n",
      " |      \n",
      " |      Parameters\n",
      " |      ----------\n",
      " |      k : array_like\n",
      " |          Quantiles.\n",
      " |      arg1, arg2, arg3,... : array_like\n",
      " |          The shape parameter(s) for the distribution (see docstring of the\n",
      " |          instance object for more information)\n",
      " |      loc : array_like, optional\n",
      " |          Location parameter (default=0).\n",
      " |      \n",
      " |      Returns\n",
      " |      -------\n",
      " |      pmf : array_like\n",
      " |          Probability mass function evaluated at k\n",
      " |  \n",
      " |  ppf(self, q, *args, **kwds)\n",
      " |      Percent point function (inverse of `cdf`) at q of the given RV.\n",
      " |      \n",
      " |      Parameters\n",
      " |      ----------\n",
      " |      q : array_like\n",
      " |          Lower tail probability.\n",
      " |      arg1, arg2, arg3,... : array_like\n",
      " |          The shape parameter(s) for the distribution (see docstring of the\n",
      " |          instance object for more information).\n",
      " |      loc : array_like, optional\n",
      " |          Location parameter (default=0).\n",
      " |      \n",
      " |      Returns\n",
      " |      -------\n",
      " |      k : array_like\n",
      " |          Quantile corresponding to the lower tail probability, q.\n",
      " |  \n",
      " |  rvs(self, *args, **kwargs)\n",
      " |      Random variates of given type.\n",
      " |      \n",
      " |      Parameters\n",
      " |      ----------\n",
      " |      arg1, arg2, arg3,... : array_like\n",
      " |          The shape parameter(s) for the distribution (see docstring of the\n",
      " |          instance object for more information).\n",
      " |      loc : array_like, optional\n",
      " |          Location parameter (default=0).\n",
      " |      size : int or tuple of ints, optional\n",
      " |          Defining number of random variates (Default is 1).  Note that `size`\n",
      " |          has to be given as keyword, not as positional argument.\n",
      " |      random_state : None or int or ``np.random.RandomState`` instance, optional\n",
      " |          If int or RandomState, use it for drawing the random variates.\n",
      " |          If None, rely on ``self.random_state``.\n",
      " |          Default is None.\n",
      " |      \n",
      " |      Returns\n",
      " |      -------\n",
      " |      rvs : ndarray or scalar\n",
      " |          Random variates of given `size`.\n",
      " |  \n",
      " |  sf(self, k, *args, **kwds)\n",
      " |      Survival function (1 - `cdf`) at k of the given RV.\n",
      " |      \n",
      " |      Parameters\n",
      " |      ----------\n",
      " |      k : array_like\n",
      " |          Quantiles.\n",
      " |      arg1, arg2, arg3,... : array_like\n",
      " |          The shape parameter(s) for the distribution (see docstring of the\n",
      " |          instance object for more information).\n",
      " |      loc : array_like, optional\n",
      " |          Location parameter (default=0).\n",
      " |      \n",
      " |      Returns\n",
      " |      -------\n",
      " |      sf : array_like\n",
      " |          Survival function evaluated at k.\n",
      " |  \n",
      " |  ----------------------------------------------------------------------\n",
      " |  Static methods inherited from scipy.stats._distn_infrastructure.rv_discrete:\n",
      " |  \n",
      " |  __new__(cls, a=0, b=inf, name=None, badvalue=None, moment_tol=1e-08, values=None, inc=1, longname=None, shapes=None, extradoc=None, seed=None)\n",
      " |      Create and return a new object.  See help(type) for accurate signature.\n",
      " |  \n",
      " |  ----------------------------------------------------------------------\n",
      " |  Methods inherited from scipy.stats._distn_infrastructure.rv_generic:\n",
      " |  \n",
      " |  __call__(self, *args, **kwds)\n",
      " |      Freeze the distribution for the given arguments.\n",
      " |      \n",
      " |      Parameters\n",
      " |      ----------\n",
      " |      arg1, arg2, arg3,... : array_like\n",
      " |          The shape parameter(s) for the distribution.  Should include all\n",
      " |          the non-optional arguments, may include ``loc`` and ``scale``.\n",
      " |      \n",
      " |      Returns\n",
      " |      -------\n",
      " |      rv_frozen : rv_frozen instance\n",
      " |          The frozen distribution.\n",
      " |  \n",
      " |  __getstate__(self)\n",
      " |  \n",
      " |  __setstate__(self, state)\n",
      " |  \n",
      " |  entropy(self, *args, **kwds)\n",
      " |      Differential entropy of the RV.\n",
      " |      \n",
      " |      Parameters\n",
      " |      ----------\n",
      " |      arg1, arg2, arg3,... : array_like\n",
      " |          The shape parameter(s) for the distribution (see docstring of the\n",
      " |          instance object for more information).\n",
      " |      loc : array_like, optional\n",
      " |          Location parameter (default=0).\n",
      " |      scale : array_like, optional  (continuous distributions only).\n",
      " |          Scale parameter (default=1).\n",
      " |      \n",
      " |      Notes\n",
      " |      -----\n",
      " |      Entropy is defined base `e`:\n",
      " |      \n",
      " |      >>> drv = rv_discrete(values=((0, 1), (0.5, 0.5)))\n",
      " |      >>> np.allclose(drv.entropy(), np.log(2.0))\n",
      " |      True\n",
      " |  \n",
      " |  freeze(self, *args, **kwds)\n",
      " |      Freeze the distribution for the given arguments.\n",
      " |      \n",
      " |      Parameters\n",
      " |      ----------\n",
      " |      arg1, arg2, arg3,... : array_like\n",
      " |          The shape parameter(s) for the distribution.  Should include all\n",
      " |          the non-optional arguments, may include ``loc`` and ``scale``.\n",
      " |      \n",
      " |      Returns\n",
      " |      -------\n",
      " |      rv_frozen : rv_frozen instance\n",
      " |          The frozen distribution.\n",
      " |  \n",
      " |  interval(self, alpha, *args, **kwds)\n",
      " |      Confidence interval with equal areas around the median.\n",
      " |      \n",
      " |      Parameters\n",
      " |      ----------\n",
      " |      alpha : array_like of float\n",
      " |          Probability that an rv will be drawn from the returned range.\n",
      " |          Each value should be in the range [0, 1].\n",
      " |      arg1, arg2, ... : array_like\n",
      " |          The shape parameter(s) for the distribution (see docstring of the\n",
      " |          instance object for more information).\n",
      " |      loc : array_like, optional\n",
      " |          location parameter, Default is 0.\n",
      " |      scale : array_like, optional\n",
      " |          scale parameter, Default is 1.\n",
      " |      \n",
      " |      Returns\n",
      " |      -------\n",
      " |      a, b : ndarray of float\n",
      " |          end-points of range that contain ``100 * alpha %`` of the rv's\n",
      " |          possible values.\n",
      " |  \n",
      " |  mean(self, *args, **kwds)\n",
      " |      Mean of the distribution.\n",
      " |      \n",
      " |      Parameters\n",
      " |      ----------\n",
      " |      arg1, arg2, arg3,... : array_like\n",
      " |          The shape parameter(s) for the distribution (see docstring of the\n",
      " |          instance object for more information)\n",
      " |      loc : array_like, optional\n",
      " |          location parameter (default=0)\n",
      " |      scale : array_like, optional\n",
      " |          scale parameter (default=1)\n",
      " |      \n",
      " |      Returns\n",
      " |      -------\n",
      " |      mean : float\n",
      " |          the mean of the distribution\n",
      " |  \n",
      " |  median(self, *args, **kwds)\n",
      " |      Median of the distribution.\n",
      " |      \n",
      " |      Parameters\n",
      " |      ----------\n",
      " |      arg1, arg2, arg3,... : array_like\n",
      " |          The shape parameter(s) for the distribution (see docstring of the\n",
      " |          instance object for more information)\n",
      " |      loc : array_like, optional\n",
      " |          Location parameter, Default is 0.\n",
      " |      scale : array_like, optional\n",
      " |          Scale parameter, Default is 1.\n",
      " |      \n",
      " |      Returns\n",
      " |      -------\n",
      " |      median : float\n",
      " |          The median of the distribution.\n",
      " |      \n",
      " |      See Also\n",
      " |      --------\n",
      " |      rv_discrete.ppf\n",
      " |          Inverse of the CDF\n",
      " |  \n",
      " |  moment(self, n, *args, **kwds)\n",
      " |      n-th order non-central moment of distribution.\n",
      " |      \n",
      " |      Parameters\n",
      " |      ----------\n",
      " |      n : int, n >= 1\n",
      " |          Order of moment.\n",
      " |      arg1, arg2, arg3,... : float\n",
      " |          The shape parameter(s) for the distribution (see docstring of the\n",
      " |          instance object for more information).\n",
      " |      loc : array_like, optional\n",
      " |          location parameter (default=0)\n",
      " |      scale : array_like, optional\n",
      " |          scale parameter (default=1)\n",
      " |  \n",
      " |  stats(self, *args, **kwds)\n",
      " |      Some statistics of the given RV.\n",
      " |      \n",
      " |      Parameters\n",
      " |      ----------\n",
      " |      arg1, arg2, arg3,... : array_like\n",
      " |          The shape parameter(s) for the distribution (see docstring of the\n",
      " |          instance object for more information)\n",
      " |      loc : array_like, optional\n",
      " |          location parameter (default=0)\n",
      " |      scale : array_like, optional (continuous RVs only)\n",
      " |          scale parameter (default=1)\n",
      " |      moments : str, optional\n",
      " |          composed of letters ['mvsk'] defining which moments to compute:\n",
      " |          'm' = mean,\n",
      " |          'v' = variance,\n",
      " |          's' = (Fisher's) skew,\n",
      " |          'k' = (Fisher's) kurtosis.\n",
      " |          (default is 'mv')\n",
      " |      \n",
      " |      Returns\n",
      " |      -------\n",
      " |      stats : sequence\n",
      " |          of requested moments.\n",
      " |  \n",
      " |  std(self, *args, **kwds)\n",
      " |      Standard deviation of the distribution.\n",
      " |      \n",
      " |      Parameters\n",
      " |      ----------\n",
      " |      arg1, arg2, arg3,... : array_like\n",
      " |          The shape parameter(s) for the distribution (see docstring of the\n",
      " |          instance object for more information)\n",
      " |      loc : array_like, optional\n",
      " |          location parameter (default=0)\n",
      " |      scale : array_like, optional\n",
      " |          scale parameter (default=1)\n",
      " |      \n",
      " |      Returns\n",
      " |      -------\n",
      " |      std : float\n",
      " |          standard deviation of the distribution\n",
      " |  \n",
      " |  support(self, *args, **kwargs)\n",
      " |      Return the support of the distribution.\n",
      " |      \n",
      " |      Parameters\n",
      " |      ----------\n",
      " |      arg1, arg2, ... : array_like\n",
      " |          The shape parameter(s) for the distribution (see docstring of the\n",
      " |          instance object for more information).\n",
      " |      loc : array_like, optional\n",
      " |          location parameter, Default is 0.\n",
      " |      scale : array_like, optional\n",
      " |          scale parameter, Default is 1.\n",
      " |      Returns\n",
      " |      -------\n",
      " |      a, b : float\n",
      " |          end-points of the distribution's support.\n",
      " |  \n",
      " |  var(self, *args, **kwds)\n",
      " |      Variance of the distribution.\n",
      " |      \n",
      " |      Parameters\n",
      " |      ----------\n",
      " |      arg1, arg2, arg3,... : array_like\n",
      " |          The shape parameter(s) for the distribution (see docstring of the\n",
      " |          instance object for more information)\n",
      " |      loc : array_like, optional\n",
      " |          location parameter (default=0)\n",
      " |      scale : array_like, optional\n",
      " |          scale parameter (default=1)\n",
      " |      \n",
      " |      Returns\n",
      " |      -------\n",
      " |      var : float\n",
      " |          the variance of the distribution\n",
      " |  \n",
      " |  ----------------------------------------------------------------------\n",
      " |  Data descriptors inherited from scipy.stats._distn_infrastructure.rv_generic:\n",
      " |  \n",
      " |  __dict__\n",
      " |      dictionary for instance variables (if defined)\n",
      " |  \n",
      " |  __weakref__\n",
      " |      list of weak references to the object (if defined)\n",
      " |  \n",
      " |  random_state\n",
      " |      Get or set the RandomState object for generating random variates.\n",
      " |      \n",
      " |      This can be either None or an existing RandomState object.\n",
      " |      \n",
      " |      If None (or np.random), use the RandomState singleton used by np.random.\n",
      " |      If already a RandomState instance, use it.\n",
      " |      If an int, use a new RandomState instance seeded with seed.\n",
      "\n"
     ]
    }
   ],
   "source": [
    "help(binom)"
   ]
  },
  {
   "cell_type": "code",
   "execution_count": 584,
   "metadata": {
    "scrolled": true
   },
   "outputs": [
    {
     "data": {
      "text/plain": [
       "{'args': (10, 0.2),\n",
       " 'kwds': {},\n",
       " 'dist': <scipy.stats._discrete_distns.binom_gen at 0x7f8593dfd850>,\n",
       " 'a': 0,\n",
       " 'b': 10}"
      ]
     },
     "execution_count": 584,
     "metadata": {},
     "output_type": "execute_result"
    }
   ],
   "source": [
    "from scipy import stats\n",
    "#X = stats.binom(n, p)\n",
    "X = stats.binom(10, 0.2) # Declare X to be a binomial random variable\n",
    "X.__dict__"
   ]
  },
  {
   "cell_type": "code",
   "execution_count": 482,
   "metadata": {
    "scrolled": false
   },
   "outputs": [
    {
     "name": "stdout",
     "output_type": "stream",
     "text": [
      "0.20132659200000022\n",
      "0.9672065024000001\n",
      "2.0\n",
      "1.6\n",
      "1.2649110640673518\n",
      "3\n",
      "[2 3 3 2 1 0 1 0 1 1]\n"
     ]
    }
   ],
   "source": [
    "from scipy import stats\n",
    "\n",
    "X = stats.binom(10, 0.2)                   # Declare X to be a binomial random variable\n",
    "\n",
    "print(stats.binom(10, 0.2).pmf(3))           # P(X = 3)\n",
    "\n",
    "print(stats.binom(10, 0.2).cdf(4))           # P(X <= 4)\n",
    "\n",
    "print(stats.binom(10, 0.2).ppf(0.5)) \n",
    "\n",
    "print(stats.binom(10, 0.2).mean())           # E[X]\n",
    "\n",
    "print(stats.binom(10, 0.2).var())            # Var(X)\n",
    "print(stats.binom(10, 0.2).std())            # Std(X)\n",
    "print(stats.binom(10, 0.2).rvs())            # Get a random sample from X\n",
    "print(stats.binom(10, 0.2).rvs(10))      # Get 10 random samples form X"
   ]
  },
  {
   "cell_type": "markdown",
   "metadata": {},
   "source": [
    "# Moments of Binomial Distribution - Standard summary measures"
   ]
  },
  {
   "cell_type": "code",
   "execution_count": 507,
   "metadata": {
    "scrolled": false
   },
   "outputs": [
    {
     "name": "stdout",
     "output_type": "stream",
     "text": [
      "2.0\n",
      "1.6\n",
      "0.47434164902525694\n",
      "0.024999999999999883\n"
     ]
    }
   ],
   "source": [
    "n, p = 10, 0.2\n",
    "mean, var, skew, kurt = binom.stats(n, p, moments='mvsk')\n",
    "print(mean)\n",
    "print(var)\n",
    "print(skew)\n",
    "print(kurt)"
   ]
  },
  {
   "cell_type": "markdown",
   "metadata": {},
   "source": [
    "#### Skewness\n",
    "A positive skewness indicates that the size of the right-handed tail is larger than the left-handed tail known as ***Right skewed Data***.\n",
    "\n",
    "> If the skewness is between -0.5 and 0.5, the data are fairly symmetrical\n",
    "\n",
    "> If the skewness is between -1 and – 0.5 or between 0.5 and 1, the data are moderately skewed\n",
    "\n",
    "> If the skewness is less than -1 or greater than 1, the data are highly skewed\n",
    "\n",
    "#### Kurtosis\n",
    "\n",
    ">If the kurtosis is close to 0, then a normal distribution is often assumed.  These are called mesokurtic distributions.  \n",
    "\n",
    ">If the kurtosis is less than zero, then the distribution is **light tails** and is called a **platykurtic distribution**.  \n",
    "\n",
    ">If the kurtosis is greater than zero, then the distribution has heavier tails and is called a leptokurtic distribution  "
   ]
  },
  {
   "cell_type": "markdown",
   "metadata": {},
   "source": [
    "# PMF of a Binomial Distribution"
   ]
  },
  {
   "cell_type": "code",
   "execution_count": 122,
   "metadata": {
    "scrolled": false
   },
   "outputs": [
    {
     "data": {
      "image/png": "[encoded data removed]",
      "text/plain": [
       "<Figure size 1224x360 with 1 Axes>"
      ]
     },
     "metadata": {
      "needs_background": "light"
     },
     "output_type": "display_data"
    }
   ],
   "source": [
    "n = 100\n",
    "p = 0.5\n",
    "\n",
    "from scipy.stats import binom\n",
    "\n",
    "fig, ax = plt.subplots(1, 1, figsize=(17,5))\n",
    "x = np.arange(binom.ppf(0.01, n, p), binom.ppf(0.99, n, p))\n",
    "ax.plot(x, binom.pmf(x, n, p), 'bo', ms=8, label='Binomial PMF')\n",
    "ax.vlines(x, 0, binom.pmf(x, n, p), colors='b', lw=5, alpha=0.5)\n",
    "rv = binom(n, p)\n",
    "#ax.vlines(x, 0, rv.pmf(x), colors='k', linestyles='-', lw=1, label='frozen PMF')\n",
    "ax.legend(loc='best', frameon=False, fontsize='xx-large')\n",
    "plt.title('PMF of a binomial distribution (n=100, p=0.5)', fontsize='xx-large')\n",
    "plt.show()"
   ]
  },
  {
   "cell_type": "markdown",
   "metadata": {},
   "source": [
    "# Poisson Distribution\n",
    "\n",
    "A RV X that has a Poisson distribution represents the number of events occurring in a fixed time interval with a **rate parameters λ**. \n",
    "\n",
    "λ tells you the rate at which the number of events occur.  \n",
    "\n",
    "\n",
    "It is popular for modelling the number of times an event occurs in an interval of time or space.\n",
    "\n",
    "PMF : = ∑xi=0 (e^−λ * λ^i) / i!\n",
    "\n",
    "##### For example \n",
    "\n",
    "#users visited on a website in an interval : Poisson process (Digital data)\n",
    "\n",
    "#calls in a fixed time period\n"
   ]
  },
  {
   "cell_type": "code",
   "execution_count": 215,
   "metadata": {},
   "outputs": [],
   "source": [
    "import scipy.misc as misc\n",
    "import math\n",
    "from scipy.special import factorial"
   ]
  },
  {
   "cell_type": "code",
   "execution_count": 216,
   "metadata": {
    "scrolled": true
   },
   "outputs": [
    {
     "data": {
      "image/png": "[encoded data removed]",
      "text/plain": [
       "<Figure size 1080x576 with 1 Axes>"
      ]
     },
     "metadata": {
      "needs_background": "light"
     },
     "output_type": "display_data"
    }
   ],
   "source": [
    "x = np.arange(0, 20, 0.1)\n",
    "y = np.exp(-5)*np.power(5, x)/factorial(x)\n",
    "\n",
    "plt.figure(figsize=(15,8))\n",
    "plt.title('Poisson distribution with lambda=5', fontsize='xx-large')\n",
    "plt.plot(x, y, 'bs')\n",
    "plt.show()"
   ]
  },
  {
   "cell_type": "code",
   "execution_count": 589,
   "metadata": {
    "scrolled": true
   },
   "outputs": [
    {
     "data": {
      "text/plain": [
       "array([6.73794700e-03, 0.00000000e+00, 0.00000000e+00, 0.00000000e+00,\n",
       "       0.00000000e+00, 0.00000000e+00, 0.00000000e+00, 0.00000000e+00,\n",
       "       0.00000000e+00, 0.00000000e+00, 3.36897350e-02, 0.00000000e+00,\n",
       "       0.00000000e+00, 0.00000000e+00, 0.00000000e+00, 0.00000000e+00,\n",
       "       0.00000000e+00, 0.00000000e+00, 0.00000000e+00, 0.00000000e+00,\n",
       "       8.42243375e-02, 0.00000000e+00, 0.00000000e+00, 0.00000000e+00,\n",
       "       0.00000000e+00, 0.00000000e+00, 0.00000000e+00, 0.00000000e+00,\n",
       "       0.00000000e+00, 0.00000000e+00, 1.40373896e-01, 0.00000000e+00,\n",
       "       0.00000000e+00, 0.00000000e+00, 0.00000000e+00, 0.00000000e+00,\n",
       "       0.00000000e+00, 0.00000000e+00, 0.00000000e+00, 0.00000000e+00,\n",
       "       1.75467370e-01, 0.00000000e+00, 0.00000000e+00, 0.00000000e+00,\n",
       "       0.00000000e+00, 0.00000000e+00, 0.00000000e+00, 0.00000000e+00,\n",
       "       0.00000000e+00, 0.00000000e+00, 1.75467370e-01, 0.00000000e+00,\n",
       "       0.00000000e+00, 0.00000000e+00, 0.00000000e+00, 0.00000000e+00,\n",
       "       0.00000000e+00, 0.00000000e+00, 0.00000000e+00, 0.00000000e+00,\n",
       "       1.46222808e-01, 0.00000000e+00, 0.00000000e+00, 0.00000000e+00,\n",
       "       0.00000000e+00, 0.00000000e+00, 0.00000000e+00, 0.00000000e+00,\n",
       "       0.00000000e+00, 0.00000000e+00, 1.04444863e-01, 0.00000000e+00,\n",
       "       0.00000000e+00, 0.00000000e+00, 0.00000000e+00, 0.00000000e+00,\n",
       "       0.00000000e+00, 0.00000000e+00, 0.00000000e+00, 0.00000000e+00,\n",
       "       6.52780393e-02, 0.00000000e+00, 0.00000000e+00, 0.00000000e+00,\n",
       "       0.00000000e+00, 0.00000000e+00, 0.00000000e+00, 0.00000000e+00,\n",
       "       0.00000000e+00, 0.00000000e+00, 3.62655774e-02, 0.00000000e+00,\n",
       "       0.00000000e+00, 0.00000000e+00, 0.00000000e+00, 0.00000000e+00,\n",
       "       0.00000000e+00, 0.00000000e+00, 0.00000000e+00, 0.00000000e+00,\n",
       "       1.81327887e-02, 0.00000000e+00, 0.00000000e+00, 0.00000000e+00,\n",
       "       0.00000000e+00, 0.00000000e+00, 0.00000000e+00, 0.00000000e+00,\n",
       "       0.00000000e+00, 0.00000000e+00, 8.24217669e-03, 0.00000000e+00,\n",
       "       0.00000000e+00, 0.00000000e+00, 0.00000000e+00, 0.00000000e+00,\n",
       "       0.00000000e+00, 0.00000000e+00, 0.00000000e+00, 0.00000000e+00,\n",
       "       3.43424029e-03, 0.00000000e+00, 0.00000000e+00, 0.00000000e+00,\n",
       "       0.00000000e+00, 0.00000000e+00, 0.00000000e+00, 0.00000000e+00,\n",
       "       0.00000000e+00, 0.00000000e+00, 1.32086165e-03, 0.00000000e+00,\n",
       "       0.00000000e+00, 0.00000000e+00, 0.00000000e+00, 0.00000000e+00,\n",
       "       0.00000000e+00, 0.00000000e+00, 0.00000000e+00, 0.00000000e+00,\n",
       "       4.71736303e-04, 0.00000000e+00, 0.00000000e+00, 0.00000000e+00,\n",
       "       0.00000000e+00, 0.00000000e+00, 0.00000000e+00, 0.00000000e+00,\n",
       "       0.00000000e+00, 0.00000000e+00, 1.57245434e-04, 0.00000000e+00,\n",
       "       0.00000000e+00, 0.00000000e+00, 0.00000000e+00, 0.00000000e+00,\n",
       "       0.00000000e+00, 0.00000000e+00, 0.00000000e+00, 0.00000000e+00,\n",
       "       4.91391982e-05, 0.00000000e+00, 0.00000000e+00, 0.00000000e+00,\n",
       "       0.00000000e+00, 0.00000000e+00, 0.00000000e+00, 0.00000000e+00,\n",
       "       0.00000000e+00, 0.00000000e+00, 1.44527054e-05, 0.00000000e+00,\n",
       "       0.00000000e+00, 0.00000000e+00, 0.00000000e+00, 0.00000000e+00,\n",
       "       0.00000000e+00, 0.00000000e+00, 0.00000000e+00, 0.00000000e+00,\n",
       "       4.01464038e-06, 0.00000000e+00, 0.00000000e+00, 0.00000000e+00,\n",
       "       0.00000000e+00, 0.00000000e+00, 0.00000000e+00, 0.00000000e+00,\n",
       "       0.00000000e+00, 0.00000000e+00, 1.05648431e-06, 0.00000000e+00,\n",
       "       0.00000000e+00, 0.00000000e+00, 0.00000000e+00, 0.00000000e+00,\n",
       "       0.00000000e+00, 0.00000000e+00, 0.00000000e+00, 0.00000000e+00])"
      ]
     },
     "execution_count": 589,
     "metadata": {},
     "output_type": "execute_result"
    }
   ],
   "source": [
    "rate = 5\n",
    "n = np.arange(0,20,0.1)\n",
    "y = stats.poisson.pmf(n , rate)\n",
    "y"
   ]
  },
  {
   "cell_type": "code",
   "execution_count": 590,
   "metadata": {},
   "outputs": [
    {
     "data": {
      "text/plain": [
       "<function matplotlib.pyplot.show(*args, **kw)>"
      ]
     },
     "execution_count": 590,
     "metadata": {},
     "output_type": "execute_result"
    },
    {
     "data": {
      "image/png": "[encoded data removed]",
      "text/plain": [
       "<Figure size 432x288 with 1 Axes>"
      ]
     },
     "metadata": {
      "needs_background": "light"
     },
     "output_type": "display_data"
    }
   ],
   "source": [
    "plt.plot(n , y , 'o-')\n",
    "plt.show"
   ]
  },
  {
   "cell_type": "code",
   "execution_count": 224,
   "metadata": {},
   "outputs": [],
   "source": [
    "#data = stats.poisson.rvs(mu = 2 , loc = 0 , size = 1000)\n",
    "\n",
    "mu ,loc = 2,0 \n",
    "mean, var, skew, kurt = poisson.stats(mu, loc, moments='mvsk')\n"
   ]
  },
  {
   "cell_type": "code",
   "execution_count": 225,
   "metadata": {},
   "outputs": [
    {
     "name": "stdout",
     "output_type": "stream",
     "text": [
      "2.0\n",
      "2.0\n",
      "0.7071067811865476\n",
      "0.5\n"
     ]
    }
   ],
   "source": [
    "print(mean)\n",
    "print(var)\n",
    "print(skew)\n",
    "print(kurt)"
   ]
  },
  {
   "cell_type": "markdown",
   "metadata": {},
   "source": [
    "# Continuous Distributions :"
   ]
  },
  {
   "cell_type": "markdown",
   "metadata": {},
   "source": [
    "# Normal Distribution\n",
    "\n",
    "The normal distribution is the most important distribution in statistics, since it arises naturally in numerous\n",
    "applications. \n",
    "\n",
    "The key reason is that large sums of (small) random variables often turn out to be normally distributed.\n",
    "\n",
    "The normal distribution is a continuous distribution or a function that can take on values anywhere on the real line.\n",
    "\n",
    "It is parameterized by two parameters: the mean of the distribution μ and the variance σ2.\n",
    "\n",
    "It is also called the Gaussian Distribution.\n",
    "\n",
    "## Notation\n",
    "\n",
    "X ~ N(μ, σ) \n",
    "\n",
    "μ  : mean of the distribution \n",
    "σ2 : variance\n",
    " \n",
    "PDF : f(x)= [1/σ√2π] * [e ^ (−(x−μ)2) /(2σ2)]\n",
    "\n",
    "\n",
    "## Example\n",
    "\n",
    "Height : The # persons with shorter than average height ~ # persons taller than average height\n",
    "\n",
    "IQ Scores\n",
    "\n",
    "Heartbeat\n",
    "\n",
    "Marks in an Exam\n",
    "\n",
    "Temperature / Humidity meausres"
   ]
  },
  {
   "cell_type": "markdown",
   "metadata": {},
   "source": [
    "# Parameters of a Normal Distribution :\n",
    "\n",
    "## Mean \n",
    "\n",
    "- The mean is the central tendency of the distribution. \n",
    "- It defines the location of the peak for normal distributions. (location parameter)\n",
    "- Most values cluster around the mean. \n",
    "- On a graph, changing the mean shifts the entire curve left or right on the X-axis.\n",
    "\n",
    "## Standard deviation\n",
    "\n",
    "- The standard deviation is a measure of variability. \n",
    "- It defines the width of the normal distribution. (scale parameter)\n",
    "- The standard deviation determines how far away from the mean , the values tend to fall. It represents the typical distance between the observations and the average.\n",
    "- On a graph, changing the standard deviation either tightens or spreads out the width of the distribution along the X-axis. Larger standard deviations produce distributions that are more spread out."
   ]
  },
  {
   "cell_type": "code",
   "execution_count": 748,
   "metadata": {
    "collapsed": true
   },
   "outputs": [],
   "source": [
    "import scipy.stats as stats\n",
    "\n",
    "from scipy.stats import norm\n",
    "\n",
    "def plot_normal(x_range, mu=0, sigma=1, cdf=False,**kwargs):\n",
    "    x = x_range\n",
    "    if cdf:\n",
    "        y = stats.norm.cdf(x, mu, sigma)\n",
    "    else:\n",
    "        y = stats.norm.pdf(x, mu, sigma)\n",
    "    plt.plot(x, y,**kwargs)"
   ]
  },
  {
   "cell_type": "code",
   "execution_count": 670,
   "metadata": {
    "collapsed": true
   },
   "outputs": [],
   "source": [
    "stats.norm.cdf"
   ]
  },
  {
   "cell_type": "code",
   "execution_count": 600,
   "metadata": {
    "scrolled": true
   },
   "outputs": [
    {
     "data": {
      "image/png": "[encoded data removed]",
      "text/plain": [
       "<Figure size 432x288 with 1 Axes>"
      ]
     },
     "metadata": {
      "needs_background": "light"
     },
     "output_type": "display_data"
    }
   ],
   "source": [
    "#Changing Mean of the Normal\n",
    "x = np.linspace(-5, 5, 5000)\n",
    "plot_normal(x, -2, 0.8, color = 'red', lw=2, ls='-', alpha=0.5)\n",
    "plot_normal(x, 0, 0.8, color ='green', lw=2, ls='-', alpha=0.5);\n",
    "plot_normal(x, 2, 0.8, color ='blue', lw=2, ls='-', alpha=0.5)"
   ]
  },
  {
   "cell_type": "code",
   "execution_count": 594,
   "metadata": {},
   "outputs": [
    {
     "data": {
      "image/png": "[encoded data removed]",
      "text/plain": [
       "<Figure size 432x288 with 1 Axes>"
      ]
     },
     "metadata": {
      "needs_background": "light"
     },
     "output_type": "display_data"
    }
   ],
   "source": [
    "#Changing Standard deviation\n",
    "x = np.linspace(-5, 5, 5000)\n",
    "plot_normal(x, 0, 1, color = 'red', lw=2, ls='-', alpha=0.5)\n",
    "plot_normal(x, 0, 0.8, color ='green', lw=2, ls='-', alpha=0.5);\n",
    "plot_normal(x, 0, 1.2, color ='blue', lw=2, ls='-', alpha=0.5)"
   ]
  },
  {
   "cell_type": "code",
   "execution_count": 595,
   "metadata": {},
   "outputs": [
    {
     "data": {
      "image/png": "[encoded data removed]",
      "text/plain": [
       "<Figure size 432x288 with 1 Axes>"
      ]
     },
     "metadata": {
      "needs_background": "light"
     },
     "output_type": "display_data"
    }
   ],
   "source": [
    "x = np.linspace(-5, 5, 5000)\n",
    "plot_normal(x, -2, 1, color = 'red', lw=2, ls='-', alpha=0.5)\n",
    "plot_normal(x, 0, 0.8, color ='green', lw=2, ls='-', alpha=0.5);\n",
    "plot_normal(x, 2, 1.2, color ='blue', lw=2, ls='-', alpha=0.5)\n"
   ]
  },
  {
   "cell_type": "markdown",
   "metadata": {},
   "source": [
    "# Standard Normal Distribution \n",
    "\n",
    "A standard practice is to convert a Normal RV with arbitrary parameters\u001b\u001b\u001b into a standardized normal random variable Z with parameters 1 and 0 via the transformation:\n",
    "\n",
    "**Z = (X − μ) / σ **\n",
    "\u001b\n",
    "\n",
    "where X ~ N(μ, σ) \n",
    "\n",
    "μ = mu (mean of distribution)    \n",
    "\n",
    "σ = sigma (standard deviation of distribution)\n",
    "\n",
    "If μ = 0 and σ = 1, the RV is called the standard normal distribution.   \n",
    "\n",
    "** Z ~ N(0, 1) **\n",
    "\n",
    "This distribution is also known as the Z-distribution.\n",
    "\n",
    "## Z-Score\n",
    "\n",
    "A value on the Standard normal distribution is known as a standard score or a ***Z-score***.\n",
    "\n",
    "A standard score represents the number of standard deviations above or below the mean that a specific observation falls. \n",
    "\n",
    "### Why do we need this?\n",
    "\n",
    "- Help us understand where a specific observation falls ***relative*** to the entire distribution.\n",
    "\n",
    "- They also allow us to take an observation from any distribution and place them on a standard scale. This standard scale enables you to ***compare observations that would otherwise be difficult***.\n",
    "\n",
    "Thus , standardization, allows for comparison of observations and calculate probabilities across different populations. In other words, it permits you to compare apples to oranges.\n",
    "\n",
    "### Example :\n",
    "\n",
    "let’s compare apples to oranges.\n",
    "Suppose , Weight of apple = 110 grams   ,  Weight of orange  = 110 grams.\n",
    "\n",
    "On first impression , they seem to weigh same.\n",
    "Lets compare their Standard Scores!\n",
    "\n",
    "\n",
    " Category | Apples |  Oranges\n",
    " --|:---------:|:-----------:\n",
    "**`Mean weight`**| 100| 140\n",
    "**`Standard Deviation`**| 15| 25\n",
    "\n",
    "Now we’ll calculate the Z-scores:\n",
    "\n",
    "Apple = (110-100) / 15 = 0.667 -> Positive (our apple weighs more than the average apple)\n",
    "\n",
    "Orange = (110-140) / 25 = -1.2 -> Fairly Negative (pretty less than weight the mean weight for orange)\n",
    "\n",
    "Hence , apple weighs more than the orange."
   ]
  },
  {
   "cell_type": "markdown",
   "metadata": {},
   "source": [
    "# Properties of a Normal Distribution : \n",
    "\n",
    "\n",
    "- Normal Distribution is symmetric and bell shaped.\n",
    "\n",
    "\n",
    "- The normal curve is symmetric about the mean that is , half of the population is less than the mean and half is greater than the mean.\n",
    "\n",
    "\n",
    "- Mean, mode and median of a Normal distribution are all equal which is the centre of the curve.\n",
    "\n",
    "\n",
    "- Empirical Rule (68-95-99.7 rule)\n",
    "\n",
    "If X is a RV such that X ~ N( µ , σ) then ,\n",
    "\n",
    ">About 68% of the x values lie between –1σ and +1σ of the mean µ (within one standard deviation of the mean).\n",
    "\n",
    ">About 95% of the x values lie between –2σ and +2σ of the mean µ (within two standard deviations of the mean).\n",
    "\n",
    ">About 99.7% of the x values lie between –3σ and +3σ of the mean µ(within three standard deviations of the mean). \n",
    "\n",
    "\n",
    "That is , almost all the x values lie within three standard deviations of the mean.\n",
    "\n",
    "\n",
    ">The z-scores for +1σ and –1σ are +1 and –1, respectively.\n",
    "\n",
    ">The z-scores for +2σ and –2σ are +2 and –2, respectively.\n",
    "\n",
    ">The z-scores for +3σ and –3σ are +3 and –3 respectively.\n"
   ]
  },
  {
   "cell_type": "markdown",
   "metadata": {},
   "source": [
    "## Example :\n",
    "\n",
    "Let’s look at a Pizza Delivery example. \n",
    "\n",
    "Assume that a pizza restaurant has a **mean delivery time of 30 minutes and a standard deviation of 5 minutes**. \n",
    "\n",
    "Using the Empirical Rule, we can determine that :\n",
    "\n",
    "- 68% of the delivery times are between 25-35 minutes (30 +/- 5)  ; (µ +/- 1σ)\n",
    "- 95% are between 20-40 minutes (30 +/- 2*5) ; (µ +/- 2σ)\n",
    "- 99.7% are between 15-45 minutes (30 +/-3*5) ; (µ +/- 3σ)\n",
    "\n",
    "The chart below illustrates this property graphically."
   ]
  },
  {
   "cell_type": "code",
   "execution_count": 260,
   "metadata": {
    "scrolled": true
   },
   "outputs": [
    {
     "data": {
      "text/plain": [
       "Text(0.5, 1.0, '1 SD limit')"
      ]
     },
     "execution_count": 260,
     "metadata": {},
     "output_type": "execute_result"
    },
    {
     "data": {
      "image/png": "[encoded data removed]",
      "text/plain": [
       "<Figure size 432x288 with 3 Axes>"
      ]
     },
     "metadata": {
      "needs_background": "light"
     },
     "output_type": "display_data"
    }
   ],
   "source": [
    "# Plot Empirical Rule (68-95-99.7 rule)\n",
    "mu = 0\n",
    "variance = 1\n",
    "import math as math\n",
    "sigma = math.sqrt(variance)\n",
    "\n",
    "x1 = np.linspace(mu - 3*sigma, mu + 3*sigma, 100)\n",
    "x2 = np.linspace(mu - 2*sigma, mu + 2*sigma, 100)\n",
    "x3 = np.linspace(mu - 1*sigma, mu + 1*sigma, 100)\n",
    "\n",
    "fig,axes = plt.subplots(nrows = 1,ncols = 3)\n",
    "plt.tight_layout()\n",
    "axes[0].plot(x1,stats.norm.pdf(x1, mu, sigma))\n",
    "axes[0].set_title('3 SD limit')\n",
    "\n",
    "axes[1].plot(x2,stats.norm.pdf(x2, mu, sigma))\n",
    "axes[1].set_title('2 SD limit')\n",
    "\n",
    "axes[2].plot(x3,stats.norm.pdf(x3, mu, sigma))\n",
    "axes[2].set_title('1 SD limit')"
   ]
  },
  {
   "cell_type": "markdown",
   "metadata": {},
   "source": [
    "# Plotting Normal Distribution - PDF , CDF and PPF"
   ]
  },
  {
   "cell_type": "code",
   "execution_count": 281,
   "metadata": {
    "collapsed": true
   },
   "outputs": [],
   "source": [
    "def plot_normal(x_range, mu=0, sigma=1, cdf=False, **kwargs):\n",
    "    x = x_range\n",
    "    if cdf:\n",
    "        y = stats.norm.cdf(x, mu, sigma)\n",
    "    else:\n",
    "        y = stats.norm.pdf(x, mu, sigma)\n",
    "    plt.plot(x, y, **kwargs)"
   ]
  },
  {
   "cell_type": "code",
   "execution_count": 283,
   "metadata": {
    "scrolled": true
   },
   "outputs": [
    {
     "data": {
      "image/png": "[encoded data removed]",
      "text/plain": [
       "<Figure size 432x288 with 1 Axes>"
      ]
     },
     "metadata": {
      "needs_background": "light"
     },
     "output_type": "display_data"
    }
   ],
   "source": [
    "x = np.linspace(-5, 5, 5000)\n",
    "\n",
    "plot_normal(x , color='red' ,label='pdf' )\n",
    "plot_normal(x, cdf=True , color='blue', label='cdf')\n",
    "plt.legend();"
   ]
  },
  {
   "cell_type": "code",
   "execution_count": 301,
   "metadata": {},
   "outputs": [],
   "source": [
    "def norm_cdf(mean=0.0, std=1.0, **kwargs):\n",
    "    # 50 numbers between -3σ and 3σ\n",
    "    x = sp.linspace(-3*std, 3*std, 50)\n",
    "    # CDF at these values\n",
    "    y = stats.norm.cdf(x, loc=mean, scale=std)\n",
    "\n",
    "  \n",
    "    plt.xlabel(\"Variate\")\n",
    "    plt.ylabel(\"Cumulative Probability\")\n",
    "    plt.title(\"CDF for Gaussian of mean = {0} & std. deviation = {1}\".format(\n",
    "               mean, std))\n",
    "    plt.plot(x,y, **kwargs)\n",
    "    plt.show()\n",
    "    \n",
    "def norm_ppf(mean=0.0, std=1.0, **kwargs):\n",
    "    # 100 numbers between 0 and 1.0 i.e., probabilities.\n",
    "    x = sp.linspace(0, 1.0, 100)\n",
    "    # PPF at these values\n",
    "    y = stats.norm.ppf(x, loc=mean, scale=std)\n",
    "\n",
    "    plt.plot(x,y,  **kwargs)\n",
    "    plt.xlabel(\"Cumulative Probability\")\n",
    "    plt.ylabel(\"Variate\")\n",
    "\n",
    "    plt.title(\"PPF for Gaussian of mean = {0} & std. deviation = {1}\".format(\n",
    "               mean, std))\n",
    "    plt.draw()"
   ]
  },
  {
   "cell_type": "code",
   "execution_count": 300,
   "metadata": {
    "scrolled": false
   },
   "outputs": [
    {
     "name": "stderr",
     "output_type": "stream",
     "text": [
      "/mapr/datalake/other/aes_ucee_bd_pr_2/scripts/utils/python3.7-packages/lib/python3.7/site-packages/ipykernel/__main__.py:3: DeprecationWarning: scipy.linspace is deprecated and will be removed in SciPy 2.0.0, use numpy.linspace instead\n",
      "  app.launch_new_instance()\n"
     ]
    },
    {
     "data": {
      "image/png": "[encoded data removed]",
      "text/plain": [
       "<Figure size 432x288 with 1 Axes>"
      ]
     },
     "metadata": {
      "needs_background": "light"
     },
     "output_type": "display_data"
    },
    {
     "name": "stderr",
     "output_type": "stream",
     "text": [
      "/mapr/datalake/other/aes_ucee_bd_pr_2/scripts/utils/python3.7-packages/lib/python3.7/site-packages/ipykernel/__main__.py:3: DeprecationWarning: scipy.linspace is deprecated and will be removed in SciPy 2.0.0, use numpy.linspace instead\n",
      "  app.launch_new_instance()\n"
     ]
    },
    {
     "data": {
      "image/png": "[encoded data removed]",
      "text/plain": [
       "<Figure size 432x288 with 1 Axes>"
      ]
     },
     "metadata": {
      "needs_background": "light"
     },
     "output_type": "display_data"
    }
   ],
   "source": [
    "norm_cdf(mean = 0.5,std=1.5, color ='red', label = 'cdf')\n",
    "norm_ppf(mean = 0.5,std=1.5, color='blue', label='ppf')\n",
    "plt.legend();"
   ]
  },
  {
   "cell_type": "markdown",
   "metadata": {},
   "source": [
    "# Generate a sample from Normal Distribution"
   ]
  },
  {
   "cell_type": "code",
   "execution_count": 302,
   "metadata": {
    "collapsed": true
   },
   "outputs": [],
   "source": [
    "# Generate Normal Distribution\n",
    "normal_dist = np.random.randn(10000)\n",
    "normal_df = pd.DataFrame({'value' : normal_dist})\n",
    "# Create a Pandas Series for easy sample function\n",
    "normal_dist = pd.Series(normal_dist)"
   ]
  },
  {
   "cell_type": "code",
   "execution_count": 303,
   "metadata": {},
   "outputs": [
    {
     "name": "stdout",
     "output_type": "stream",
     "text": [
      "(10000, 1)\n"
     ]
    },
    {
     "data": {
      "text/html": [
       "<div>\n",
       "<style scoped>\n",
       "    .dataframe tbody tr th:only-of-type {\n",
       "        vertical-align: middle;\n",
       "    }\n",
       "\n",
       "    .dataframe tbody tr th {\n",
       "        vertical-align: top;\n",
       "    }\n",
       "\n",
       "    .dataframe thead th {\n",
       "        text-align: right;\n",
       "    }\n",
       "</style>\n",
       "<table border=\"1\" class=\"dataframe\">\n",
       "  <thead>\n",
       "    <tr style=\"text-align: right;\">\n",
       "      <th></th>\n",
       "      <th>value</th>\n",
       "    </tr>\n",
       "  </thead>\n",
       "  <tbody>\n",
       "    <tr>\n",
       "      <th>0</th>\n",
       "      <td>-0.10561</td>\n",
       "    </tr>\n",
       "    <tr>\n",
       "      <th>1</th>\n",
       "      <td>0.49590</td>\n",
       "    </tr>\n",
       "    <tr>\n",
       "      <th>2</th>\n",
       "      <td>-1.04078</td>\n",
       "    </tr>\n",
       "    <tr>\n",
       "      <th>3</th>\n",
       "      <td>-0.14131</td>\n",
       "    </tr>\n",
       "    <tr>\n",
       "      <th>4</th>\n",
       "      <td>1.37001</td>\n",
       "    </tr>\n",
       "  </tbody>\n",
       "</table>\n",
       "</div>"
      ],
      "text/plain": [
       "     value\n",
       "0 -0.10561\n",
       "1  0.49590\n",
       "2 -1.04078\n",
       "3 -0.14131\n",
       "4  1.37001"
      ]
     },
     "execution_count": 303,
     "metadata": {},
     "output_type": "execute_result"
    }
   ],
   "source": [
    "print(normal_df.shape)\n",
    "normal_df.head()"
   ]
  },
  {
   "cell_type": "code",
   "execution_count": 340,
   "metadata": {},
   "outputs": [
    {
     "name": "stdout",
     "output_type": "stream",
     "text": [
      "(10000,)\n"
     ]
    },
    {
     "data": {
      "text/plain": [
       "0   -0.10561\n",
       "1    0.49590\n",
       "2   -1.04078\n",
       "3   -0.14131\n",
       "4    1.37001\n",
       "dtype: float64"
      ]
     },
     "execution_count": 340,
     "metadata": {},
     "output_type": "execute_result"
    }
   ],
   "source": [
    "print(normal_dist.shape)\n",
    "normal_dist.head()"
   ]
  },
  {
   "cell_type": "code",
   "execution_count": 305,
   "metadata": {
    "scrolled": true
   },
   "outputs": [
    {
     "data": {
      "text/plain": [
       "Text(0.5, 1.0, 'Normal distribution (n=1000)')"
      ]
     },
     "execution_count": 305,
     "metadata": {},
     "output_type": "execute_result"
    },
    {
     "data": {
      "image/png": "[encoded data removed]",
      "text/plain": [
       "<Figure size 1296x360 with 1 Axes>"
      ]
     },
     "metadata": {
      "needs_background": "light"
     },
     "output_type": "display_data"
    }
   ],
   "source": [
    "# Normal Distribution as a Bell Curve\n",
    "plt.figure(figsize=(18,5))\n",
    "sns.distplot(normal_df)\n",
    "plt.title('Normal distribution (n=1000)', fontsize='xx-large')"
   ]
  },
  {
   "cell_type": "markdown",
   "metadata": {},
   "source": [
    "# Moments of Normal Distribution :"
   ]
  },
  {
   "cell_type": "code",
   "execution_count": 671,
   "metadata": {
    "scrolled": true
   },
   "outputs": [
    {
     "name": "stdout",
     "output_type": "stream",
     "text": [
      "Summary Statistics for a normal distribution: \n",
      "Median:  0.00022238081828962933\n"
     ]
    },
    {
     "data": {
      "text/html": [
       "<div>\n",
       "<style scoped>\n",
       "    .dataframe tbody tr th:only-of-type {\n",
       "        vertical-align: middle;\n",
       "    }\n",
       "\n",
       "    .dataframe tbody tr th {\n",
       "        vertical-align: top;\n",
       "    }\n",
       "\n",
       "    .dataframe thead th {\n",
       "        text-align: right;\n",
       "    }\n",
       "</style>\n",
       "<table border=\"1\" class=\"dataframe\">\n",
       "  <thead>\n",
       "    <tr style=\"text-align: right;\">\n",
       "      <th></th>\n",
       "      <th>value</th>\n",
       "    </tr>\n",
       "  </thead>\n",
       "  <tbody>\n",
       "    <tr>\n",
       "      <th>count</th>\n",
       "      <td>10000.00000</td>\n",
       "    </tr>\n",
       "    <tr>\n",
       "      <th>mean</th>\n",
       "      <td>-0.01675</td>\n",
       "    </tr>\n",
       "    <tr>\n",
       "      <th>std</th>\n",
       "      <td>0.98384</td>\n",
       "    </tr>\n",
       "    <tr>\n",
       "      <th>min</th>\n",
       "      <td>-3.66591</td>\n",
       "    </tr>\n",
       "    <tr>\n",
       "      <th>25%</th>\n",
       "      <td>-0.67783</td>\n",
       "    </tr>\n",
       "    <tr>\n",
       "      <th>50%</th>\n",
       "      <td>0.00022</td>\n",
       "    </tr>\n",
       "    <tr>\n",
       "      <th>75%</th>\n",
       "      <td>0.64658</td>\n",
       "    </tr>\n",
       "    <tr>\n",
       "      <th>max</th>\n",
       "      <td>4.25688</td>\n",
       "    </tr>\n",
       "  </tbody>\n",
       "</table>\n",
       "</div>"
      ],
      "text/plain": [
       "            value\n",
       "count 10000.00000\n",
       "mean     -0.01675\n",
       "std       0.98384\n",
       "min      -3.66591\n",
       "25%      -0.67783\n",
       "50%       0.00022\n",
       "75%       0.64658\n",
       "max       4.25688"
      ]
     },
     "metadata": {},
     "output_type": "display_data"
    },
    {
     "name": "stdout",
     "output_type": "stream",
     "text": [
      "The first four moments of a normal distribution: \n",
      "Mean:  -0.016745919135911603\n",
      "Variance:  0.9678526365130605\n",
      "Skewness:  -0.0472901894170335\n",
      "Kurtosis:  0.08349359814559909\n"
     ]
    }
   ],
   "source": [
    "# Summary\n",
    "print('Summary Statistics for a normal distribution: ')\n",
    "# Median\n",
    "medi = np.median(normal_dist)\n",
    "print('Median: ', medi)\n",
    "display(normal_df.describe())\n",
    "\n",
    "# Standard Deviation\n",
    "std = math.sqrt(np.var(normal_dist))\n",
    "\n",
    "print('The first four moments of a normal distribution: ')\n",
    "# Mean\n",
    "mean = normal_dist.mean()\n",
    "print('Mean: ', mean)\n",
    "\n",
    "# Variance\n",
    "var = np.var(normal_dist)\n",
    "print('Variance: ', var)\n",
    "\n",
    "# Return unbiased skew normalized by N-1\n",
    "skew = normal_df['value'].skew()\n",
    "print('Skewness: ', skew)\n",
    "\n",
    "# Return unbiased kurtosis over requested axis using Fisher’s definition of kurtosis \n",
    "# (kurtosis of normal == 0.0) normalized by N-1\n",
    "kurt = normal_df['value'].kurtosis()\n",
    "print('Kurtosis: ', kurt)"
   ]
  },
  {
   "cell_type": "code",
   "execution_count": 638,
   "metadata": {
    "scrolled": true
   },
   "outputs": [
    {
     "name": "stdout",
     "output_type": "stream",
     "text": [
      "2.0\n",
      "2.0\n",
      "9.0\n"
     ]
    }
   ],
   "source": [
    "print(stats.norm(2,3).mean())\n",
    "print(stats.norm(2,3).median())\n",
    "print(stats.norm(2,3).var())"
   ]
  },
  {
   "cell_type": "code",
   "execution_count": 656,
   "metadata": {},
   "outputs": [
    {
     "name": "stdout",
     "output_type": "stream",
     "text": [
      "Kurtosis of normal distribution : 0.002084066073009705\n",
      "Skewness of normal distribution : -0.00953878591164125\n"
     ]
    }
   ],
   "source": [
    "from scipy.stats import kurtosis, skew\n",
    "\n",
    "x = np.random.normal(0, 2, 1000) \n",
    "\n",
    "print( 'Kurtosis of normal distribution : {}'.format( kurtosis(x) ))\n",
    "print( 'Skewness of normal distribution : {}'.format( skew(x) ))"
   ]
  },
  {
   "cell_type": "markdown",
   "metadata": {},
   "source": [
    "# Importance of Normal Distribution \n",
    "\n",
    "- Some statistical hypothesis tests assume that the data follow a normal distribution. \n",
    "\n",
    "\n",
    "- Linear and Nonlinear Regression both assume that the residuals follow a Normal Distribution.\n",
    "\n",
    "\n",
    "-  The normal distribution is of high significance because of the Central Limit Theorem.\n",
    "\n",
    "\n",
    "-  At the end of the we are trying to determine  y = f(x)  for every  x  and  y  in our dataset where we have good reason to believe that our function  f  is linear. Now it’s unlikely that we’ll be able to perfectly fit a linear function because real world data often tends to be noisy. Turns out a good ***model for noise is the normal distribution*** (often times it’s a multivariate normal distribution when dealing with data jointly) which is justified by an incredible result in probability theory called the central limit theorem (CLT)."
   ]
  },
  {
   "cell_type": "markdown",
   "metadata": {},
   "source": [
    "# Normality Check on Data\n"
   ]
  },
  {
   "cell_type": "code",
   "execution_count": 345,
   "metadata": {
    "scrolled": true
   },
   "outputs": [
    {
     "data": {
      "image/png": "[encoded data removed]",
      "text/plain": [
       "<Figure size 432x288 with 1 Axes>"
      ]
     },
     "metadata": {
      "needs_background": "light"
     },
     "output_type": "display_data"
    }
   ],
   "source": [
    "# Visual Normality Checks\n",
    "\n",
    "# Histogram plot\n",
    "from numpy.random import seed\n",
    "from numpy.random import randn\n",
    "from matplotlib import pyplot\n",
    "\n",
    "# seed the random number generator\n",
    "seed(1)\n",
    "\n",
    "# generate univariate observations\n",
    "\n",
    "data = 5 * randn(100) + 50\n",
    "\n",
    "# histogram plot\n",
    "pyplot.hist(data)\n",
    "pyplot.show()"
   ]
  },
  {
   "cell_type": "markdown",
   "metadata": {},
   "source": [
    "### QQ Plot\n",
    "\n",
    "- A Q–Q (quantile-quantile) plot is a probability plot, which is a graphical method for comparing two probability \n",
    "distributions by plotting their quantiles against each other.\n",
    "\n",
    "- Quantiles are points in your data below which a certain proportion of your data fall. Like percentiles.\n",
    "\n",
    "- It shows the distribution of the data against the expected normal distribution(theoritical distribution).\n",
    "\n",
    "- For normally distributed data, observations should lie approximately on a straight line. If the data is non-normal, the points form a curve that deviates markedly from a straight line. \n",
    "\n",
    "- Possible outliers are points at the ends of the line, distanced from the bulk of the observations."
   ]
  },
  {
   "cell_type": "code",
   "execution_count": 346,
   "metadata": {},
   "outputs": [
    {
     "data": {
      "image/png": "[encoded data removed]",
      "text/plain": [
       "<Figure size 432x288 with 1 Axes>"
      ]
     },
     "metadata": {
      "needs_background": "light"
     },
     "output_type": "display_data"
    }
   ],
   "source": [
    "# QQ Plot\n",
    "from numpy.random import seed\n",
    "from numpy.random import randn\n",
    "from statsmodels.graphics.gofplots import qqplot\n",
    "from matplotlib import pyplot\n",
    "\n",
    "# seed the random number generator\n",
    "seed(1)\n",
    "\n",
    "# generate univariate observations\n",
    "data = 5 * randn(100) + 50\n",
    "\n",
    "# q-q plot\n",
    "qqplot(data, line='s')\n",
    "pyplot.show()"
   ]
  },
  {
   "cell_type": "markdown",
   "metadata": {},
   "source": [
    "# Exponential Distribution\n",
    "\n",
    "The Exponential Distribution is typically used to model time intervals between “random events” (Poisson point process)\n",
    "\n",
    "where events occur continuously and independently at a constant average rate.\n",
    "\n",
    "It is a particular case of the gamma distribution. \n",
    "\n",
    "The exponential distribution predicts the wait time until the *very first* event. The gamma distribution, on the other hand, predicts the wait time until the *k-th* event occurs.\n",
    "\n",
    "It has a parameter λ called rate parameter.\n",
    "\n",
    "PDF(exp) = lambda * exp(-lambda * x). \n",
    "\n",
    "#### Interpretation\n",
    "\n",
    "What does it mean for X ~ Exp(0.25)?\n",
    "\n",
    "It means the Poisson rate will be 0.25. During a unit time (either it’s a minute, hour or year), the event occurs 0.25 times on average. Converting this into time terms, it takes 4 hours (a reciprocal of 0.25) until the event occurs, assuming your unit time is an hour.\n",
    "\n",
    "####  Memoryless Property :\n",
    "\n",
    "The Exponential Distribution has the memoryless property , which says that **future probabilities do not depend on any past information**. \n",
    "\n",
    "Mathematically, it says that P(X > x + k|X > x) = P(X > k).\n",
    "\n",
    "Suppose that five minutes have elapsed since the last customer arrived. Since an unusually long amount of time has now elapsed, it would seem to be more likely for a customer to arrive within the next minute. With the exponential distribution, this is not the case–the additional time spent waiting for the next customer does not depend on how much time has already elapsed since the last customer. This is referred to as the memoryless property.\n",
    "\n",
    "\n",
    "#### Relation with Poisson Distribution :\n",
    "\n",
    "Poisson distribution deals with number of occurences of an event in a time period whereas exponential distribution deals with the time between these events.\n",
    "\n",
    "There is an interesting relationship between the exponential distribution and the Poisson distribution. Suppose that the time that elapses between two successive events follows the exponential distribution with a mean of μ units of time. Also assume that these times are independent, meaning that the time between events is not affected by the times between previous events. If these assumptions hold, then the number of events per unit time follows a Poisson distribution with mean λ = 1/μ.\n",
    "\n",
    "If the times between random events follow exponential distribution with rate λ, then the total number of events in a time period of length t follows the Poisson distribution with parameter λt.\n",
    "\n",
    "\n",
    "#### Applications / Examples :\n",
    "\n",
    "- The exponential distribution is widely used in the field of reliability. Reliability deals with the amount of time a product lasts.\n",
    "\n",
    "- Exponential distribution is widely used for survival analysis. From the expected life of a machine to the expected life of a human. \n",
    "\n",
    "- The length of time between telephone calls.\n",
    "\n",
    "- The length of time between arrivals at a service station.\n"
   ]
  },
  {
   "cell_type": "code",
   "execution_count": 640,
   "metadata": {
    "collapsed": true
   },
   "outputs": [],
   "source": [
    "# generate an exponentially distributed random variable\n",
    "\n",
    "from scipy.stats import expon\n",
    "data_expon = expon.rvs(scale=1,loc=0,size=1000)"
   ]
  },
  {
   "cell_type": "code",
   "execution_count": 733,
   "metadata": {},
   "outputs": [
    {
     "name": "stdout",
     "output_type": "stream",
     "text": [
      "Help on expon_gen in module scipy.stats._continuous_distns object:\n",
      "\n",
      "class expon_gen(scipy.stats._distn_infrastructure.rv_continuous)\n",
      " |  expon_gen(momtype=1, a=None, b=None, xtol=1e-14, badvalue=None, name=None, longname=None, shapes=None, extradoc=None, seed=None)\n",
      " |  \n",
      " |  An exponential continuous random variable.\n",
      " |  \n",
      " |  %(before_notes)s\n",
      " |  \n",
      " |  Notes\n",
      " |  -----\n",
      " |  The probability density function for `expon` is:\n",
      " |  \n",
      " |  .. math::\n",
      " |  \n",
      " |      f(x) = \\exp(-x)\n",
      " |  \n",
      " |  for :math:`x \\ge 0`.\n",
      " |  \n",
      " |  %(after_notes)s\n",
      " |  \n",
      " |  A common parameterization for `expon` is in terms of the rate parameter\n",
      " |  ``lambda``, such that ``pdf = lambda * exp(-lambda * x)``. This\n",
      " |  parameterization corresponds to using ``scale = 1 / lambda``.\n",
      " |  \n",
      " |  %(example)s\n",
      " |  \n",
      " |  Method resolution order:\n",
      " |      expon_gen\n",
      " |      scipy.stats._distn_infrastructure.rv_continuous\n",
      " |      scipy.stats._distn_infrastructure.rv_generic\n",
      " |      builtins.object\n",
      " |  \n",
      " |  Methods defined here:\n",
      " |  \n",
      " |  fit(self, data, *args, **kwds)\n",
      " |      Return MLEs for shape (if applicable), location, and scale\n",
      " |      parameters from data.\n",
      " |      \n",
      " |      MLE stands for Maximum Likelihood Estimate.  Starting estimates for\n",
      " |      the fit are given by input arguments; for any arguments not provided\n",
      " |      with starting estimates, ``self._fitstart(data)`` is called to generate\n",
      " |      such.\n",
      " |      \n",
      " |      One can hold some parameters fixed to specific values by passing in\n",
      " |      keyword arguments ``f0``, ``f1``, ..., ``fn`` (for shape parameters)\n",
      " |      and ``floc`` and ``fscale`` (for location and scale parameters,\n",
      " |      respectively).\n",
      " |      \n",
      " |      Parameters\n",
      " |      ----------\n",
      " |      data : array_like\n",
      " |          Data to use in calculating the MLEs.\n",
      " |      args : floats, optional\n",
      " |          Starting value(s) for any shape-characterizing arguments (those not\n",
      " |          provided will be determined by a call to ``_fitstart(data)``).\n",
      " |          No default value.\n",
      " |      kwds : floats, optional\n",
      " |          Starting values for the location and scale parameters; no default.\n",
      " |          Special keyword arguments are recognized as holding certain\n",
      " |          parameters fixed:\n",
      " |      \n",
      " |          - f0...fn : hold respective shape parameters fixed.\n",
      " |            Alternatively, shape parameters to fix can be specified by name.\n",
      " |            For example, if ``self.shapes == \"a, b\"``, ``fa``and ``fix_a``\n",
      " |            are equivalent to ``f0``, and ``fb`` and ``fix_b`` are\n",
      " |            equivalent to ``f1``.\n",
      " |      \n",
      " |          - floc : hold location parameter fixed to specified value.\n",
      " |      \n",
      " |          - fscale : hold scale parameter fixed to specified value.\n",
      " |      \n",
      " |          - optimizer : The optimizer to use.  The optimizer must take ``func``,\n",
      " |            and starting position as the first two arguments,\n",
      " |            plus ``args`` (for extra arguments to pass to the\n",
      " |            function to be optimized) and ``disp=0`` to suppress\n",
      " |            output as keyword arguments.\n",
      " |      \n",
      " |      Returns\n",
      " |      -------\n",
      " |      mle_tuple : tuple of floats\n",
      " |          MLEs for any shape parameters (if applicable), followed by those\n",
      " |          for location and scale. For most random variables, shape statistics\n",
      " |          will be returned, but there are exceptions (e.g. ``norm``).\n",
      " |      \n",
      " |      Notes\n",
      " |      -----\n",
      " |      This function uses explicit formulas for the maximum likelihood\n",
      " |      estimation of the exponential distribution parameters, so the\n",
      " |      `optimizer`, `loc` and `scale` keyword arguments are ignored.\n",
      " |      \n",
      " |      Examples\n",
      " |      --------\n",
      " |      \n",
      " |      Generate some data to fit: draw random variates from the `beta`\n",
      " |      distribution\n",
      " |      \n",
      " |      >>> from scipy.stats import beta\n",
      " |      >>> a, b = 1., 2.\n",
      " |      >>> x = beta.rvs(a, b, size=1000)\n",
      " |      \n",
      " |      Now we can fit all four parameters (``a``, ``b``, ``loc`` and ``scale``):\n",
      " |      \n",
      " |      >>> a1, b1, loc1, scale1 = beta.fit(x)\n",
      " |      \n",
      " |      We can also use some prior knowledge about the dataset: let's keep\n",
      " |      ``loc`` and ``scale`` fixed:\n",
      " |      \n",
      " |      >>> a1, b1, loc1, scale1 = beta.fit(x, floc=0, fscale=1)\n",
      " |      >>> loc1, scale1\n",
      " |      (0, 1)\n",
      " |      \n",
      " |      We can also keep shape parameters fixed by using ``f``-keywords. To\n",
      " |      keep the zero-th shape parameter ``a`` equal 1, use ``f0=1`` or,\n",
      " |      equivalently, ``fa=1``:\n",
      " |      \n",
      " |      >>> a1, b1, loc1, scale1 = beta.fit(x, fa=1, floc=0, fscale=1)\n",
      " |      >>> a1\n",
      " |      1\n",
      " |      \n",
      " |      Not all distributions return estimates for the shape parameters.\n",
      " |      ``norm`` for example just returns estimates for location and scale:\n",
      " |      \n",
      " |      >>> from scipy.stats import norm\n",
      " |      >>> x = norm.rvs(a, b, size=1000, random_state=123)\n",
      " |      >>> loc1, scale1 = norm.fit(x)\n",
      " |      >>> loc1, scale1\n",
      " |      (0.92087172783841631, 2.0015750750324668)\n",
      " |  \n",
      " |  ----------------------------------------------------------------------\n",
      " |  Methods inherited from scipy.stats._distn_infrastructure.rv_continuous:\n",
      " |  \n",
      " |  __init__(self, momtype=1, a=None, b=None, xtol=1e-14, badvalue=None, name=None, longname=None, shapes=None, extradoc=None, seed=None)\n",
      " |      Initialize self.  See help(type(self)) for accurate signature.\n",
      " |  \n",
      " |  cdf(self, x, *args, **kwds)\n",
      " |      Cumulative distribution function of the given RV.\n",
      " |      \n",
      " |      Parameters\n",
      " |      ----------\n",
      " |      x : array_like\n",
      " |          quantiles\n",
      " |      arg1, arg2, arg3,... : array_like\n",
      " |          The shape parameter(s) for the distribution (see docstring of the\n",
      " |          instance object for more information)\n",
      " |      loc : array_like, optional\n",
      " |          location parameter (default=0)\n",
      " |      scale : array_like, optional\n",
      " |          scale parameter (default=1)\n",
      " |      \n",
      " |      Returns\n",
      " |      -------\n",
      " |      cdf : ndarray\n",
      " |          Cumulative distribution function evaluated at `x`\n",
      " |  \n",
      " |  expect(self, func=None, args=(), loc=0, scale=1, lb=None, ub=None, conditional=False, **kwds)\n",
      " |      Calculate expected value of a function with respect to the\n",
      " |      distribution by numerical integration.\n",
      " |      \n",
      " |      The expected value of a function ``f(x)`` with respect to a\n",
      " |      distribution ``dist`` is defined as::\n",
      " |      \n",
      " |                  ub\n",
      " |          E[f(x)] = Integral(f(x) * dist.pdf(x)),\n",
      " |                  lb\n",
      " |      \n",
      " |      where ``ub`` and ``lb`` are arguments and ``x`` has the ``dist.pdf(x)``\n",
      " |      distribution. If the bounds ``lb`` and ``ub`` correspond to the\n",
      " |      support of the distribution, e.g. ``[-inf, inf]`` in the default\n",
      " |      case, then the integral is the unrestricted expectation of ``f(x)``.\n",
      " |      Also, the function ``f(x)`` may be defined such that ``f(x)`` is ``0``\n",
      " |      outside a finite interval in which case the expectation is\n",
      " |      calculated within the finite range ``[lb, ub]``.\n",
      " |      \n",
      " |      Parameters\n",
      " |      ----------\n",
      " |      func : callable, optional\n",
      " |          Function for which integral is calculated. Takes only one argument.\n",
      " |          The default is the identity mapping f(x) = x.\n",
      " |      args : tuple, optional\n",
      " |          Shape parameters of the distribution.\n",
      " |      loc : float, optional\n",
      " |          Location parameter (default=0).\n",
      " |      scale : float, optional\n",
      " |          Scale parameter (default=1).\n",
      " |      lb, ub : scalar, optional\n",
      " |          Lower and upper bound for integration. Default is set to the\n",
      " |          support of the distribution.\n",
      " |      conditional : bool, optional\n",
      " |          If True, the integral is corrected by the conditional probability\n",
      " |          of the integration interval.  The return value is the expectation\n",
      " |          of the function, conditional on being in the given interval.\n",
      " |          Default is False.\n",
      " |      \n",
      " |      Additional keyword arguments are passed to the integration routine.\n",
      " |      \n",
      " |      Returns\n",
      " |      -------\n",
      " |      expect : float\n",
      " |          The calculated expected value.\n",
      " |      \n",
      " |      Notes\n",
      " |      -----\n",
      " |      The integration behavior of this function is inherited from\n",
      " |      `scipy.integrate.quad`. Neither this function nor\n",
      " |      `scipy.integrate.quad` can verify whether the integral exists or is\n",
      " |      finite. For example ``cauchy(0).mean()`` returns ``np.nan`` and\n",
      " |      ``cauchy(0).expect()`` returns ``0.0``.\n",
      " |      \n",
      " |      Examples\n",
      " |      --------\n",
      " |      \n",
      " |      To understand the effect of the bounds of integration consider\n",
      " |      \n",
      " |      >>> from scipy.stats import expon\n",
      " |      >>> expon(1).expect(lambda x: 1, lb=0.0, ub=2.0)\n",
      " |      0.6321205588285578\n",
      " |      \n",
      " |      This is close to\n",
      " |      \n",
      " |      >>> expon(1).cdf(2.0) - expon(1).cdf(0.0)\n",
      " |      0.6321205588285577\n",
      " |      \n",
      " |      If ``conditional=True``\n",
      " |      \n",
      " |      >>> expon(1).expect(lambda x: 1, lb=0.0, ub=2.0, conditional=True)\n",
      " |      1.0000000000000002\n",
      " |      \n",
      " |      The slight deviation from 1 is due to numerical integration.\n",
      " |  \n",
      " |  fit_loc_scale(self, data, *args)\n",
      " |      Estimate loc and scale parameters from data using 1st and 2nd moments.\n",
      " |      \n",
      " |      Parameters\n",
      " |      ----------\n",
      " |      data : array_like\n",
      " |          Data to fit.\n",
      " |      arg1, arg2, arg3,... : array_like\n",
      " |          The shape parameter(s) for the distribution (see docstring of the\n",
      " |          instance object for more information).\n",
      " |      \n",
      " |      Returns\n",
      " |      -------\n",
      " |      Lhat : float\n",
      " |          Estimated location parameter for the data.\n",
      " |      Shat : float\n",
      " |          Estimated scale parameter for the data.\n",
      " |  \n",
      " |  isf(self, q, *args, **kwds)\n",
      " |      Inverse survival function (inverse of `sf`) at q of the given RV.\n",
      " |      \n",
      " |      Parameters\n",
      " |      ----------\n",
      " |      q : array_like\n",
      " |          upper tail probability\n",
      " |      arg1, arg2, arg3,... : array_like\n",
      " |          The shape parameter(s) for the distribution (see docstring of the\n",
      " |          instance object for more information)\n",
      " |      loc : array_like, optional\n",
      " |          location parameter (default=0)\n",
      " |      scale : array_like, optional\n",
      " |          scale parameter (default=1)\n",
      " |      \n",
      " |      Returns\n",
      " |      -------\n",
      " |      x : ndarray or scalar\n",
      " |          Quantile corresponding to the upper tail probability q.\n",
      " |  \n",
      " |  logcdf(self, x, *args, **kwds)\n",
      " |      Log of the cumulative distribution function at x of the given RV.\n",
      " |      \n",
      " |      Parameters\n",
      " |      ----------\n",
      " |      x : array_like\n",
      " |          quantiles\n",
      " |      arg1, arg2, arg3,... : array_like\n",
      " |          The shape parameter(s) for the distribution (see docstring of the\n",
      " |          instance object for more information)\n",
      " |      loc : array_like, optional\n",
      " |          location parameter (default=0)\n",
      " |      scale : array_like, optional\n",
      " |          scale parameter (default=1)\n",
      " |      \n",
      " |      Returns\n",
      " |      -------\n",
      " |      logcdf : array_like\n",
      " |          Log of the cumulative distribution function evaluated at x\n",
      " |  \n",
      " |  logpdf(self, x, *args, **kwds)\n",
      " |      Log of the probability density function at x of the given RV.\n",
      " |      \n",
      " |      This uses a more numerically accurate calculation if available.\n",
      " |      \n",
      " |      Parameters\n",
      " |      ----------\n",
      " |      x : array_like\n",
      " |          quantiles\n",
      " |      arg1, arg2, arg3,... : array_like\n",
      " |          The shape parameter(s) for the distribution (see docstring of the\n",
      " |          instance object for more information)\n",
      " |      loc : array_like, optional\n",
      " |          location parameter (default=0)\n",
      " |      scale : array_like, optional\n",
      " |          scale parameter (default=1)\n",
      " |      \n",
      " |      Returns\n",
      " |      -------\n",
      " |      logpdf : array_like\n",
      " |          Log of the probability density function evaluated at x\n",
      " |  \n",
      " |  logsf(self, x, *args, **kwds)\n",
      " |      Log of the survival function of the given RV.\n",
      " |      \n",
      " |      Returns the log of the \"survival function,\" defined as (1 - `cdf`),\n",
      " |      evaluated at `x`.\n",
      " |      \n",
      " |      Parameters\n",
      " |      ----------\n",
      " |      x : array_like\n",
      " |          quantiles\n",
      " |      arg1, arg2, arg3,... : array_like\n",
      " |          The shape parameter(s) for the distribution (see docstring of the\n",
      " |          instance object for more information)\n",
      " |      loc : array_like, optional\n",
      " |          location parameter (default=0)\n",
      " |      scale : array_like, optional\n",
      " |          scale parameter (default=1)\n",
      " |      \n",
      " |      Returns\n",
      " |      -------\n",
      " |      logsf : ndarray\n",
      " |          Log of the survival function evaluated at `x`.\n",
      " |  \n",
      " |  nnlf(self, theta, x)\n",
      " |      Return negative loglikelihood function.\n",
      " |      \n",
      " |      Notes\n",
      " |      -----\n",
      " |      This is ``-sum(log pdf(x, theta), axis=0)`` where `theta` are the\n",
      " |      parameters (including loc and scale).\n",
      " |  \n",
      " |  pdf(self, x, *args, **kwds)\n",
      " |      Probability density function at x of the given RV.\n",
      " |      \n",
      " |      Parameters\n",
      " |      ----------\n",
      " |      x : array_like\n",
      " |          quantiles\n",
      " |      arg1, arg2, arg3,... : array_like\n",
      " |          The shape parameter(s) for the distribution (see docstring of the\n",
      " |          instance object for more information)\n",
      " |      loc : array_like, optional\n",
      " |          location parameter (default=0)\n",
      " |      scale : array_like, optional\n",
      " |          scale parameter (default=1)\n",
      " |      \n",
      " |      Returns\n",
      " |      -------\n",
      " |      pdf : ndarray\n",
      " |          Probability density function evaluated at x\n",
      " |  \n",
      " |  ppf(self, q, *args, **kwds)\n",
      " |      Percent point function (inverse of `cdf`) at q of the given RV.\n",
      " |      \n",
      " |      Parameters\n",
      " |      ----------\n",
      " |      q : array_like\n",
      " |          lower tail probability\n",
      " |      arg1, arg2, arg3,... : array_like\n",
      " |          The shape parameter(s) for the distribution (see docstring of the\n",
      " |          instance object for more information)\n",
      " |      loc : array_like, optional\n",
      " |          location parameter (default=0)\n",
      " |      scale : array_like, optional\n",
      " |          scale parameter (default=1)\n",
      " |      \n",
      " |      Returns\n",
      " |      -------\n",
      " |      x : array_like\n",
      " |          quantile corresponding to the lower tail probability q.\n",
      " |  \n",
      " |  sf(self, x, *args, **kwds)\n",
      " |      Survival function (1 - `cdf`) at x of the given RV.\n",
      " |      \n",
      " |      Parameters\n",
      " |      ----------\n",
      " |      x : array_like\n",
      " |          quantiles\n",
      " |      arg1, arg2, arg3,... : array_like\n",
      " |          The shape parameter(s) for the distribution (see docstring of the\n",
      " |          instance object for more information)\n",
      " |      loc : array_like, optional\n",
      " |          location parameter (default=0)\n",
      " |      scale : array_like, optional\n",
      " |          scale parameter (default=1)\n",
      " |      \n",
      " |      Returns\n",
      " |      -------\n",
      " |      sf : array_like\n",
      " |          Survival function evaluated at x\n",
      " |  \n",
      " |  ----------------------------------------------------------------------\n",
      " |  Methods inherited from scipy.stats._distn_infrastructure.rv_generic:\n",
      " |  \n",
      " |  __call__(self, *args, **kwds)\n",
      " |      Freeze the distribution for the given arguments.\n",
      " |      \n",
      " |      Parameters\n",
      " |      ----------\n",
      " |      arg1, arg2, arg3,... : array_like\n",
      " |          The shape parameter(s) for the distribution.  Should include all\n",
      " |          the non-optional arguments, may include ``loc`` and ``scale``.\n",
      " |      \n",
      " |      Returns\n",
      " |      -------\n",
      " |      rv_frozen : rv_frozen instance\n",
      " |          The frozen distribution.\n",
      " |  \n",
      " |  __getstate__(self)\n",
      " |  \n",
      " |  __setstate__(self, state)\n",
      " |  \n",
      " |  entropy(self, *args, **kwds)\n",
      " |      Differential entropy of the RV.\n",
      " |      \n",
      " |      Parameters\n",
      " |      ----------\n",
      " |      arg1, arg2, arg3,... : array_like\n",
      " |          The shape parameter(s) for the distribution (see docstring of the\n",
      " |          instance object for more information).\n",
      " |      loc : array_like, optional\n",
      " |          Location parameter (default=0).\n",
      " |      scale : array_like, optional  (continuous distributions only).\n",
      " |          Scale parameter (default=1).\n",
      " |      \n",
      " |      Notes\n",
      " |      -----\n",
      " |      Entropy is defined base `e`:\n",
      " |      \n",
      " |      >>> drv = rv_discrete(values=((0, 1), (0.5, 0.5)))\n",
      " |      >>> np.allclose(drv.entropy(), np.log(2.0))\n",
      " |      True\n",
      " |  \n",
      " |  freeze(self, *args, **kwds)\n",
      " |      Freeze the distribution for the given arguments.\n",
      " |      \n",
      " |      Parameters\n",
      " |      ----------\n",
      " |      arg1, arg2, arg3,... : array_like\n",
      " |          The shape parameter(s) for the distribution.  Should include all\n",
      " |          the non-optional arguments, may include ``loc`` and ``scale``.\n",
      " |      \n",
      " |      Returns\n",
      " |      -------\n",
      " |      rv_frozen : rv_frozen instance\n",
      " |          The frozen distribution.\n",
      " |  \n",
      " |  interval(self, alpha, *args, **kwds)\n",
      " |      Confidence interval with equal areas around the median.\n",
      " |      \n",
      " |      Parameters\n",
      " |      ----------\n",
      " |      alpha : array_like of float\n",
      " |          Probability that an rv will be drawn from the returned range.\n",
      " |          Each value should be in the range [0, 1].\n",
      " |      arg1, arg2, ... : array_like\n",
      " |          The shape parameter(s) for the distribution (see docstring of the\n",
      " |          instance object for more information).\n",
      " |      loc : array_like, optional\n",
      " |          location parameter, Default is 0.\n",
      " |      scale : array_like, optional\n",
      " |          scale parameter, Default is 1.\n",
      " |      \n",
      " |      Returns\n",
      " |      -------\n",
      " |      a, b : ndarray of float\n",
      " |          end-points of range that contain ``100 * alpha %`` of the rv's\n",
      " |          possible values.\n",
      " |  \n",
      " |  mean(self, *args, **kwds)\n",
      " |      Mean of the distribution.\n",
      " |      \n",
      " |      Parameters\n",
      " |      ----------\n",
      " |      arg1, arg2, arg3,... : array_like\n",
      " |          The shape parameter(s) for the distribution (see docstring of the\n",
      " |          instance object for more information)\n",
      " |      loc : array_like, optional\n",
      " |          location parameter (default=0)\n",
      " |      scale : array_like, optional\n",
      " |          scale parameter (default=1)\n",
      " |      \n",
      " |      Returns\n",
      " |      -------\n",
      " |      mean : float\n",
      " |          the mean of the distribution\n",
      " |  \n",
      " |  median(self, *args, **kwds)\n",
      " |      Median of the distribution.\n",
      " |      \n",
      " |      Parameters\n",
      " |      ----------\n",
      " |      arg1, arg2, arg3,... : array_like\n",
      " |          The shape parameter(s) for the distribution (see docstring of the\n",
      " |          instance object for more information)\n",
      " |      loc : array_like, optional\n",
      " |          Location parameter, Default is 0.\n",
      " |      scale : array_like, optional\n",
      " |          Scale parameter, Default is 1.\n",
      " |      \n",
      " |      Returns\n",
      " |      -------\n",
      " |      median : float\n",
      " |          The median of the distribution.\n",
      " |      \n",
      " |      See Also\n",
      " |      --------\n",
      " |      rv_discrete.ppf\n",
      " |          Inverse of the CDF\n",
      " |  \n",
      " |  moment(self, n, *args, **kwds)\n",
      " |      n-th order non-central moment of distribution.\n",
      " |      \n",
      " |      Parameters\n",
      " |      ----------\n",
      " |      n : int, n >= 1\n",
      " |          Order of moment.\n",
      " |      arg1, arg2, arg3,... : float\n",
      " |          The shape parameter(s) for the distribution (see docstring of the\n",
      " |          instance object for more information).\n",
      " |      loc : array_like, optional\n",
      " |          location parameter (default=0)\n",
      " |      scale : array_like, optional\n",
      " |          scale parameter (default=1)\n",
      " |  \n",
      " |  rvs(self, *args, **kwds)\n",
      " |      Random variates of given type.\n",
      " |      \n",
      " |      Parameters\n",
      " |      ----------\n",
      " |      arg1, arg2, arg3,... : array_like\n",
      " |          The shape parameter(s) for the distribution (see docstring of the\n",
      " |          instance object for more information).\n",
      " |      loc : array_like, optional\n",
      " |          Location parameter (default=0).\n",
      " |      scale : array_like, optional\n",
      " |          Scale parameter (default=1).\n",
      " |      size : int or tuple of ints, optional\n",
      " |          Defining number of random variates (default is 1).\n",
      " |      random_state : None or int or ``np.random.RandomState`` instance, optional\n",
      " |          If int or RandomState, use it for drawing the random variates.\n",
      " |          If None, rely on ``self.random_state``.\n",
      " |          Default is None.\n",
      " |      \n",
      " |      Returns\n",
      " |      -------\n",
      " |      rvs : ndarray or scalar\n",
      " |          Random variates of given `size`.\n",
      " |  \n",
      " |  stats(self, *args, **kwds)\n",
      " |      Some statistics of the given RV.\n",
      " |      \n",
      " |      Parameters\n",
      " |      ----------\n",
      " |      arg1, arg2, arg3,... : array_like\n",
      " |          The shape parameter(s) for the distribution (see docstring of the\n",
      " |          instance object for more information)\n",
      " |      loc : array_like, optional\n",
      " |          location parameter (default=0)\n",
      " |      scale : array_like, optional (continuous RVs only)\n",
      " |          scale parameter (default=1)\n",
      " |      moments : str, optional\n",
      " |          composed of letters ['mvsk'] defining which moments to compute:\n",
      " |          'm' = mean,\n",
      " |          'v' = variance,\n",
      " |          's' = (Fisher's) skew,\n",
      " |          'k' = (Fisher's) kurtosis.\n",
      " |          (default is 'mv')\n",
      " |      \n",
      " |      Returns\n",
      " |      -------\n",
      " |      stats : sequence\n",
      " |          of requested moments.\n",
      " |  \n",
      " |  std(self, *args, **kwds)\n",
      " |      Standard deviation of the distribution.\n",
      " |      \n",
      " |      Parameters\n",
      " |      ----------\n",
      " |      arg1, arg2, arg3,... : array_like\n",
      " |          The shape parameter(s) for the distribution (see docstring of the\n",
      " |          instance object for more information)\n",
      " |      loc : array_like, optional\n",
      " |          location parameter (default=0)\n",
      " |      scale : array_like, optional\n",
      " |          scale parameter (default=1)\n",
      " |      \n",
      " |      Returns\n",
      " |      -------\n",
      " |      std : float\n",
      " |          standard deviation of the distribution\n",
      " |  \n",
      " |  support(self, *args, **kwargs)\n",
      " |      Return the support of the distribution.\n",
      " |      \n",
      " |      Parameters\n",
      " |      ----------\n",
      " |      arg1, arg2, ... : array_like\n",
      " |          The shape parameter(s) for the distribution (see docstring of the\n",
      " |          instance object for more information).\n",
      " |      loc : array_like, optional\n",
      " |          location parameter, Default is 0.\n",
      " |      scale : array_like, optional\n",
      " |          scale parameter, Default is 1.\n",
      " |      Returns\n",
      " |      -------\n",
      " |      a, b : float\n",
      " |          end-points of the distribution's support.\n",
      " |  \n",
      " |  var(self, *args, **kwds)\n",
      " |      Variance of the distribution.\n",
      " |      \n",
      " |      Parameters\n",
      " |      ----------\n",
      " |      arg1, arg2, arg3,... : array_like\n",
      " |          The shape parameter(s) for the distribution (see docstring of the\n",
      " |          instance object for more information)\n",
      " |      loc : array_like, optional\n",
      " |          location parameter (default=0)\n",
      " |      scale : array_like, optional\n",
      " |          scale parameter (default=1)\n",
      " |      \n",
      " |      Returns\n",
      " |      -------\n",
      " |      var : float\n",
      " |          the variance of the distribution\n",
      " |  \n",
      " |  ----------------------------------------------------------------------\n",
      " |  Data descriptors inherited from scipy.stats._distn_infrastructure.rv_generic:\n",
      " |  \n",
      " |  __dict__\n",
      " |      dictionary for instance variables (if defined)\n",
      " |  \n",
      " |  __weakref__\n",
      " |      list of weak references to the object (if defined)\n",
      " |  \n",
      " |  random_state\n",
      " |      Get or set the RandomState object for generating random variates.\n",
      " |      \n",
      " |      This can be either None or an existing RandomState object.\n",
      " |      \n",
      " |      If None (or np.random), use the RandomState singleton used by np.random.\n",
      " |      If already a RandomState instance, use it.\n",
      " |      If an int, use a new RandomState instance seeded with seed.\n",
      "\n"
     ]
    }
   ],
   "source": [
    "help(expon)"
   ]
  },
  {
   "cell_type": "code",
   "execution_count": 644,
   "metadata": {
    "scrolled": false
   },
   "outputs": [
    {
     "data": {
      "text/plain": [
       "[Text(0, 0.5, 'Frequency'), Text(0.5, 0, 'Exponential Distribution')]"
      ]
     },
     "execution_count": 644,
     "metadata": {},
     "output_type": "execute_result"
    },
    {
     "data": {
      "image/png": "[encoded data removed]",
      "text/plain": [
       "<Figure size 432x288 with 1 Axes>"
      ]
     },
     "metadata": {
      "needs_background": "light"
     },
     "output_type": "display_data"
    }
   ],
   "source": [
    "ax = sns.distplot(data_expon,\n",
    "                  kde=True,\n",
    "                  bins=100,\n",
    "                  hist_kws={\"linewidth\": 15,'alpha':1})\n",
    "ax.set(xlabel='Exponential Distribution', ylabel='Frequency')"
   ]
  },
  {
   "cell_type": "code",
   "execution_count": 642,
   "metadata": {
    "collapsed": true
   },
   "outputs": [],
   "source": [
    "def plot_exponential(x_range, mu=0, sigma=1, cdf=False, **kwargs):\n",
    "    '''\n",
    "    Plots the exponential distribution function for a given x range\n",
    "    If mu and sigma are not provided, standard exponential is plotted\n",
    "    If cdf=True cumulative distribution is plotted\n",
    "    Passes any keyword arguments to matplotlib plot function\n",
    "    '''\n",
    "    x = x_range\n",
    "    if cdf:\n",
    "        y = stats.expon.cdf(x, mu, sigma)\n",
    "    else:\n",
    "        y = stats.expon.pdf(x, mu, sigma)\n",
    "    plt.plot(x, y, **kwargs)"
   ]
  },
  {
   "cell_type": "code",
   "execution_count": 643,
   "metadata": {
    "scrolled": true
   },
   "outputs": [
    {
     "data": {
      "image/png": "[encoded data removed]",
      "text/plain": [
       "<Figure size 432x288 with 1 Axes>"
      ]
     },
     "metadata": {
      "needs_background": "light"
     },
     "output_type": "display_data"
    }
   ],
   "source": [
    "x = np.linspace(0, 5, 5000)\n",
    "\n",
    "plot_exponential(x, 0, 1, color='red', lw=2, ls='-', alpha=0.5, label='pdf')\n",
    "plot_exponential(x, 0, 1, cdf=True, color='blue', lw=2, ls='-', alpha=0.5, label='cdf')\n",
    "plt.legend();"
   ]
  },
  {
   "cell_type": "code",
   "execution_count": 749,
   "metadata": {
    "scrolled": true
   },
   "outputs": [
    {
     "data": {
      "image/png": "[encoded data removed]",
      "text/plain": [
       "<Figure size 432x288 with 1 Axes>"
      ]
     },
     "metadata": {
      "needs_background": "light"
     },
     "output_type": "display_data"
    }
   ],
   "source": [
    "# Exponential Distribution for different Rate parameters\n",
    "x = np.linspace(0, 5, 5000)\n",
    "plot_exponential(x, 0, 0.5, color='black', lw=2, ls='-', alpha=0.5)\n",
    "plot_exponential(x, 0, 1, color='red', lw=2, ls='-', alpha=0.5)\n",
    "plot_exponential(x, 0, 2, color='blue', lw=2, ls='-', alpha=0.5)\n",
    "plot_exponential(x, 0, 3, color='green', lw=2, ls='-', alpha=0.5)\n",
    "plot_exponential(x, 0, 4, color='grey', lw=2, ls='-', alpha=0.5)\n"
   ]
  },
  {
   "cell_type": "code",
   "execution_count": 741,
   "metadata": {
    "scrolled": true
   },
   "outputs": [
    {
     "name": "stdout",
     "output_type": "stream",
     "text": [
      "2.0\n",
      "4.0\n",
      "2.0\n",
      "6.0\n"
     ]
    }
   ],
   "source": [
    "mean, var, skew, kurt = expon.stats(0,2, moments='mvsk')\n",
    "#Mean = 1/λ\n",
    "print(mean) \n",
    "#Variance = 1/λ^2\n",
    "print(var)\n",
    "print(skew)\n",
    "print(kurt)"
   ]
  },
  {
   "cell_type": "markdown",
   "metadata": {},
   "source": [
    "## Other Continuous Distributions\n",
    "\n",
    "### Rectangular (or Uniform distribution)\n",
    "\n",
    "A random variable X is said to have a continuous uniform distribution over an interval (a, b) if its probability\n",
    "density function is constant = k (say), over the entire range of X\n",
    "\n",
    "***Applications*** : In Hypothesis testing situations, random sampling cases, finance etc assumption that something or the probability of falling in an interval of fixed length is constant.\n",
    "\n",
    "\n",
    "### Lognormal distribution \n",
    "\n",
    "A normal distribution, plotted on an exponential scale. Often used to convert a strongly skewed distribution into a normal one. For any X , if  Y = logX has a normal distribution, then X is said to have a lognormal distribution.\n",
    "\n",
    "X ~ logN( μ , σ^2 ) \n",
    "\n",
    "***Applications*** : For energies, concentrations, lengths, financial returns and other amounts. Human behaviors , The length of chess games tends to follow a log normal distribution\n",
    "\n",
    "\n",
    "### Weibull distribution \n",
    "\n",
    "The Weibull distribution is used similarly to the exponential distribution to model times to an event, but with an extra parameter included for flexilibility. \n",
    "\n",
    "***Applications*** : Similar to Exponential distribution , In survival analysis , In reliability engineering and failure analysis\n",
    "\n",
    "### Gamma distribution\n",
    "\n",
    "The Gamma distribution, which describes the time until n consecutive rare random events occur in a process with no memory. The parametrizations includes :\n",
    "\n",
    "- shape parameter , k : The number of events for which you are waiting to occur\n",
    "\n",
    "- scale parameter , λ : The rate of events happening which follows the Poisson process.\n",
    "\n",
    "The chi-squared distribution , Erlang distribution , Exponential is a special case of the gamma distribution.\n",
    "\n",
    "***Applications*** : The gamma distribution has been used to model the size of insurance claims, and rainfalls.\n",
    "\n",
    "The gamma distribution is widely used as a conjugate prior in Bayesian statistics. It is the conjugate prior for the precision of a normal distribution. It is also the conjugate prior for the exponential distribution.\n",
    "\n",
    "### Beta distribution \n",
    "\n",
    "Beta distribution is a family of continuous probability distributions defined on the interval [0, 1] parametrized by two positive shape parameters, denoted by α and β, that appear as exponents of the random variable and control the shape of the distribution. The generalization to multiple variables is called a ***Dirichlet distribution***.\n",
    "\n",
    "***Applications*** : The beta distribution has been applied to model the behavior of random variables limited to intervals of finite length in a wide variety of disciplines.\n",
    "\n",
    "In Bayesian inference, the Beta distribution is the conjugate prior probability distribution for the Bernoulli, binomial, negative binomial and geometric distributions. The beta distribution is a suitable model for the random behavior of percentages and proportions."
   ]
  },
  {
   "cell_type": "code",
   "execution_count": 732,
   "metadata": {
    "collapsed": true
   },
   "outputs": [],
   "source": [
    "from scipy.stats import lognorm\n",
    "from scipy.stats import uniform\n",
    "from scipy.stats import gamma\n",
    "from scipy.stats import weibull_max\n",
    "from scipy.stats import dweibull\n",
    "from scipy.stats import erlang\n",
    "from scipy.stats import dirichlet\n",
    "from scipy.stats import beta\n",
    "from scipy.stats import betabinom"
   ]
  },
  {
   "cell_type": "markdown",
   "metadata": {},
   "source": [
    "https://docs.scipy.org/doc/scipy/reference/stats.html"
   ]
  },
  {
   "cell_type": "markdown",
   "metadata": {},
   "source": [
    "# Central Limit Theorem \n",
    "\n",
    "Let  Xn be a sequence of independent and identically distributed (iid) RVs of finite mean and standard deviation.\n",
    "\n",
    "Central Limit Theorem (CLT) says that the sum of iid random variables will always converge to a Normal (Gaussian)  Distribution with mean and standard deviation.\n",
    "\n",
    "Even if the original population is not normally distributed, the distribution of sample means will follow a normal distribution (as sample size increases). \n",
    "\n",
    "We show this below for Uniform Distribution.\n",
    "\n",
    "Practically, sample size of 30 or more is considered large.\n",
    "\n"
   ]
  },
  {
   "cell_type": "code",
   "execution_count": 308,
   "metadata": {},
   "outputs": [
    {
     "data": {
      "image/png": "[encoded data removed]",
      "text/plain": [
       "<Figure size 1296x720 with 6 Axes>"
      ]
     },
     "metadata": {
      "needs_background": "light"
     },
     "output_type": "display_data"
    }
   ],
   "source": [
    "f = plt.figure(figsize=(18, 10))\n",
    " \n",
    "def plotHist(nr, N, n_, mean, var0, x0):\n",
    "    ''' plots the RVs'''\n",
    "    x = np.zeros((N))\n",
    "    sp = f.add_subplot(3, 2, n_ )\n",
    "    \n",
    "    for i in range(N):    \n",
    "        for j in range(nr):\n",
    "            x[i] += np.random.random() \n",
    "        x[i] *= 1/nr\n",
    "    plt.hist(x, 100, density=True, color='#348ABD', label=\" %d RVs\"%(nr));\n",
    "    plt.setp(sp.get_yticklabels(), visible=False)\n",
    "    \n",
    "    variance = var0/nr                     \n",
    "    fac = 1/np.sqrt(2*np.pi*variance)\n",
    "    dist = fac*np.exp(-(x0-mean)**2/(2*variance))\n",
    "    plt.plot(x0,dist,color='#A60628',linewidth=3,label='CLT',alpha=0.8)\n",
    "    plt.xlabel('r')\n",
    "    plt.xlim([0, 1])\n",
    "    leg = plt.legend(loc=\"upper left\")\n",
    "    leg.get_frame().set_alpha(0.1)\n",
    "\n",
    "    \n",
    "N = 1000000   # number of samples taken\n",
    "nr = ([1, 2, 4, 8, 16, 32])\n",
    "\n",
    "mean, var0 = 0.5, 1.0/12  # mean and variance of uniform distribution in range 0, 1\n",
    "x0 = np.linspace(0, 1, 128)\n",
    "\n",
    "for i in range(np.size(nr)):\n",
    "    plotHist(nr[i], N, i+1, mean, var0, x0)\n",
    "\n",
    "plt.suptitle(\"Addition of uniform random variables (RVs) converge to a Gaussian distribution (CLT)\",fontsize=20);"
   ]
  },
  {
   "cell_type": "markdown",
   "metadata": {},
   "source": [
    "# Applications of CLT\n",
    "\n",
    "To calculate the probabilities with large values of n, you had to use the binomial formula, which could be very complicated.  Using the normal approximation to the binomial distribution simplified the process."
   ]
  },
  {
   "cell_type": "markdown",
   "metadata": {
    "collapsed": true
   },
   "source": [
    "## Important links :\n",
    "\n",
    "Distributions in Python - http://web.stanford.edu/class/archive/cs/cs109/cs109.1192/handouts/pythonForProbability.html\n",
    "\n",
    "Different Prob Distributions Description -  https://onlinelibrary.wiley.com/doi/pdf/10.1002/9781119197096.app03\n",
    "    \n",
    "Kaggle tutorial on Distributions - https://www.kaggle.com/sherylee/statistics-tutorial\n"
   ]
  },
  {
   "cell_type": "markdown",
   "metadata": {
    "collapsed": true
   },
   "source": [
    "# Sampling Distributions"
   ]
  },
  {
   "cell_type": "markdown",
   "metadata": {
    "collapsed": true
   },
   "source": [
    "###  Why is it needed?\n",
    "\n",
    " A **Probability distribution** is the theoretical outcome of an experiment whereas a **Sampling distribution** is the real outcome of an experiment\n",
    "\n",
    "In real life , we do not have the resources to define a **Population** (unknown), so , as a usual practise we draw a **Sample** from that population ,that is a good representation of our actual population in which we are interested.\n",
    "\n",
    "Drawing conclusions about a Population from a Sample is know as Inference. Inferential statistics allows you to make predictions (“inferences”) from that data. \n",
    "\n",
    "\n",
    "## Inferential Statistics : Basic terminology\n",
    "\n",
    "### Population Parameter\n",
    "\n",
    "A population may refer to an entire group of people, objects, events or measurements. A population can thus be said to be an aggregate observation of subjects grouped together , for which we are interested to make decisions. Parameter is the measure of some attribute of the population.\n",
    "\n",
    "### Sample Statistic\n",
    "\n",
    "A Single measure of some attribute of a sample drawn from the population of interest. The statistic chosen should be the best possible representative of the population parameter.\n",
    "\n",
    "### Standard Deviation\n",
    "\n",
    "It is the amount of variation in the population data. It is given by σ.\n",
    "\n",
    "### Standard Error\n",
    "\n",
    "It is the amount of variation in the sample data. It is related to Standard Deviation as σ/√n, where, n is the sample size.\n",
    "\n",
    "#### What is a sampling distribution? \n",
    "\n",
    "- A Sampling Distribution is a probability distribution of a statistic obtained through a large number of samples drawn from a population.\n",
    "\n",
    "- Sampling Distribution helps to estimate the population parameter.\n",
    "\n",
    "\n",
    "#### With the help of Inferential statistics, we can answer the following questions:\n",
    "\n",
    "\n",
    "- Making **inferences about the population** from the sample.\n",
    "\n",
    "- Concluding whether a sample is **significantly different** from the population. \n",
    "\n",
    "- If adding or removing a feature from a model will really help to **improve the model**.\n",
    "\n",
    "- If one model is significantly **better** than the other?\n",
    "\n",
    "- **Hypothesis testing** in general.\n"
   ]
  },
  {
   "cell_type": "markdown",
   "metadata": {
    "collapsed": true
   },
   "source": [
    "### For example :\n",
    "\n",
    "1. A medical researcher wanted to compare the **Average weight of all babies born in North America from 1995 to 2005** to those born in South America within the same time period. He cannot draw the data for the entire population of over a million childbirths that occurred over the ten-year time frame within a reasonable amount of time. \n",
    "He will instead only use the weight of, say, 100 babies, in each continent to make a conclusion. \n",
    "The **weight of 200 babies used is the sample** and the average weight calculated is the sample mean.\n",
    "\n",
    "2. Finding average height of all males in a particular geography.\n",
    "\n",
    "3. An airline claims that 80% of all its flights to a certain region arrive on time. To check the accuray of that statement , we can draw a sample of some flights."
   ]
  },
  {
   "cell_type": "markdown",
   "metadata": {
    "collapsed": true
   },
   "source": [
    "#### Three most widely used Sampling Distributions are :\n",
    "\n",
    "1. t - distribution\n",
    "2. f - distribution\n",
    "3. chi-square distribution\n",
    "    "
   ]
  },
  {
   "cell_type": "markdown",
   "metadata": {
    "collapsed": true
   },
   "source": [
    "# T - Distribution\n",
    "\n",
    "- This is a widely used distribution in hypothesis testing that plays a central role in the very popular t-test.\n",
    "\n",
    "\n",
    "- For a small number of samples (<10) from a normal distribution, the distribution of the mean deviates slightly from the normal distribution. The reason is that the sample mean does not coincide exactly with the population mean. **This modified distribution is the t-distribution, and converges for larger values towards the normal distribution.**\n",
    "\n",
    "\n",
    "- PDF of a t-distribution is :\n",
    "\n",
    "\n",
    "                                      gamma((df+1)/2)\n",
    "       t.pdf(x, df) =  ---------------------------------------------------\n",
    "                       sqrt(pi*df) * gamma(df/2) * (1+x**2/df)**((df+1)/2)\n",
    "    \n",
    "                   \n",
    "                   \n",
    "wher 'df' is its parameter.\n",
    "df is the **degree of freedom** , it is the number of values in a calculation that are free to vary without violating the result of the calculation.\n",
    "the number of degrees of freedom can be defined as the minimum number of independent coordinates that can specify the position of the system completely.\n",
    "The number of independent pieces of information that go into the estimate of a parameter are called the degrees of freedom.\n",
    "\n",
    "#### Applications :\n",
    "\n",
    "- The t-distribution plays a role in a number of widely used statistical analyses, including Student's t-test for assessing the statistical significance of the difference between two sample means.\n",
    "- A very frequent application of the t-distribution is in the calculation of Confidence intervals.\n",
    "- In linear regression analysis.\n",
    "- The Student's t-distribution also arises in the Bayesian analysis of data from a normal family.\n",
    "\n"
   ]
  },
  {
   "cell_type": "markdown",
   "metadata": {
    "collapsed": true
   },
   "source": [
    "## When to use?\n",
    "According to the central limit theorem, the sampling distribution of a statistic (like a sample mean) will follow a normal distribution, as long as the sample size is sufficiently large. \n",
    "\n",
    "Therefore, when we know the standard deviation of the population, we can compute a z-score, and use the normal distribution to evaluate probabilities with the sample mean.\n",
    "\n",
    "But **sample sizes are sometimes small**, and often we do not know the **standard deviation of the population**. When either of these problems occur, we rely on the distribution of the t statistic (also known as the t score), whose values are given by:     \n",
    "\n",
    "            [x - μ]\n",
    "    t =  --------------\n",
    "          [s/sqrt( n )]\n",
    "\n",
    "where\n",
    "> x : sample mean\n",
    "> μ : population mean\n",
    "> s : standard deviation of the sample\n",
    "> n : sample size\n",
    "\n",
    "The distribution of the t statistic is called the t distribution or the Student t distribution."
   ]
  },
  {
   "cell_type": "code",
   "execution_count": 692,
   "metadata": {
    "scrolled": true
   },
   "outputs": [
    {
     "name": "stdout",
     "output_type": "stream",
     "text": [
      "Help on t_gen in module scipy.stats._continuous_distns object:\n",
      "\n",
      "class t_gen(scipy.stats._distn_infrastructure.rv_continuous)\n",
      " |  t_gen(momtype=1, a=None, b=None, xtol=1e-14, badvalue=None, name=None, longname=None, shapes=None, extradoc=None, seed=None)\n",
      " |  \n",
      " |  A Student's t continuous random variable.\n",
      " |  \n",
      " |  %(before_notes)s\n",
      " |  \n",
      " |  Notes\n",
      " |  -----\n",
      " |  The probability density function for `t` is:\n",
      " |  \n",
      " |  .. math::\n",
      " |  \n",
      " |      f(x, \\nu) = \\frac{\\Gamma((\\nu+1)/2)}\n",
      " |                      {\\sqrt{\\pi \\nu} \\Gamma(\\nu/2)}\n",
      " |                  (1+x^2/\\nu)^{-(\\nu+1)/2}\n",
      " |  \n",
      " |  where :math:`x` is a real number and the degrees of freedom parameter\n",
      " |  :math:`\\nu` (denoted ``df`` in the implementation) satisfies\n",
      " |  :math:`\\nu > 0`. :math:`\\Gamma` is the gamma function\n",
      " |  (`scipy.special.gamma`).\n",
      " |  \n",
      " |  %(after_notes)s\n",
      " |  \n",
      " |  %(example)s\n",
      " |  \n",
      " |  Method resolution order:\n",
      " |      t_gen\n",
      " |      scipy.stats._distn_infrastructure.rv_continuous\n",
      " |      scipy.stats._distn_infrastructure.rv_generic\n",
      " |      builtins.object\n",
      " |  \n",
      " |  Methods inherited from scipy.stats._distn_infrastructure.rv_continuous:\n",
      " |  \n",
      " |  __init__(self, momtype=1, a=None, b=None, xtol=1e-14, badvalue=None, name=None, longname=None, shapes=None, extradoc=None, seed=None)\n",
      " |      Initialize self.  See help(type(self)) for accurate signature.\n",
      " |  \n",
      " |  cdf(self, x, *args, **kwds)\n",
      " |      Cumulative distribution function of the given RV.\n",
      " |      \n",
      " |      Parameters\n",
      " |      ----------\n",
      " |      x : array_like\n",
      " |          quantiles\n",
      " |      arg1, arg2, arg3,... : array_like\n",
      " |          The shape parameter(s) for the distribution (see docstring of the\n",
      " |          instance object for more information)\n",
      " |      loc : array_like, optional\n",
      " |          location parameter (default=0)\n",
      " |      scale : array_like, optional\n",
      " |          scale parameter (default=1)\n",
      " |      \n",
      " |      Returns\n",
      " |      -------\n",
      " |      cdf : ndarray\n",
      " |          Cumulative distribution function evaluated at `x`\n",
      " |  \n",
      " |  expect(self, func=None, args=(), loc=0, scale=1, lb=None, ub=None, conditional=False, **kwds)\n",
      " |      Calculate expected value of a function with respect to the\n",
      " |      distribution by numerical integration.\n",
      " |      \n",
      " |      The expected value of a function ``f(x)`` with respect to a\n",
      " |      distribution ``dist`` is defined as::\n",
      " |      \n",
      " |                  ub\n",
      " |          E[f(x)] = Integral(f(x) * dist.pdf(x)),\n",
      " |                  lb\n",
      " |      \n",
      " |      where ``ub`` and ``lb`` are arguments and ``x`` has the ``dist.pdf(x)``\n",
      " |      distribution. If the bounds ``lb`` and ``ub`` correspond to the\n",
      " |      support of the distribution, e.g. ``[-inf, inf]`` in the default\n",
      " |      case, then the integral is the unrestricted expectation of ``f(x)``.\n",
      " |      Also, the function ``f(x)`` may be defined such that ``f(x)`` is ``0``\n",
      " |      outside a finite interval in which case the expectation is\n",
      " |      calculated within the finite range ``[lb, ub]``.\n",
      " |      \n",
      " |      Parameters\n",
      " |      ----------\n",
      " |      func : callable, optional\n",
      " |          Function for which integral is calculated. Takes only one argument.\n",
      " |          The default is the identity mapping f(x) = x.\n",
      " |      args : tuple, optional\n",
      " |          Shape parameters of the distribution.\n",
      " |      loc : float, optional\n",
      " |          Location parameter (default=0).\n",
      " |      scale : float, optional\n",
      " |          Scale parameter (default=1).\n",
      " |      lb, ub : scalar, optional\n",
      " |          Lower and upper bound for integration. Default is set to the\n",
      " |          support of the distribution.\n",
      " |      conditional : bool, optional\n",
      " |          If True, the integral is corrected by the conditional probability\n",
      " |          of the integration interval.  The return value is the expectation\n",
      " |          of the function, conditional on being in the given interval.\n",
      " |          Default is False.\n",
      " |      \n",
      " |      Additional keyword arguments are passed to the integration routine.\n",
      " |      \n",
      " |      Returns\n",
      " |      -------\n",
      " |      expect : float\n",
      " |          The calculated expected value.\n",
      " |      \n",
      " |      Notes\n",
      " |      -----\n",
      " |      The integration behavior of this function is inherited from\n",
      " |      `scipy.integrate.quad`. Neither this function nor\n",
      " |      `scipy.integrate.quad` can verify whether the integral exists or is\n",
      " |      finite. For example ``cauchy(0).mean()`` returns ``np.nan`` and\n",
      " |      ``cauchy(0).expect()`` returns ``0.0``.\n",
      " |      \n",
      " |      Examples\n",
      " |      --------\n",
      " |      \n",
      " |      To understand the effect of the bounds of integration consider\n",
      " |      \n",
      " |      >>> from scipy.stats import expon\n",
      " |      >>> expon(1).expect(lambda x: 1, lb=0.0, ub=2.0)\n",
      " |      0.6321205588285578\n",
      " |      \n",
      " |      This is close to\n",
      " |      \n",
      " |      >>> expon(1).cdf(2.0) - expon(1).cdf(0.0)\n",
      " |      0.6321205588285577\n",
      " |      \n",
      " |      If ``conditional=True``\n",
      " |      \n",
      " |      >>> expon(1).expect(lambda x: 1, lb=0.0, ub=2.0, conditional=True)\n",
      " |      1.0000000000000002\n",
      " |      \n",
      " |      The slight deviation from 1 is due to numerical integration.\n",
      " |  \n",
      " |  fit(self, data, *args, **kwds)\n",
      " |      Return MLEs for shape (if applicable), location, and scale\n",
      " |      parameters from data.\n",
      " |      \n",
      " |      MLE stands for Maximum Likelihood Estimate.  Starting estimates for\n",
      " |      the fit are given by input arguments; for any arguments not provided\n",
      " |      with starting estimates, ``self._fitstart(data)`` is called to generate\n",
      " |      such.\n",
      " |      \n",
      " |      One can hold some parameters fixed to specific values by passing in\n",
      " |      keyword arguments ``f0``, ``f1``, ..., ``fn`` (for shape parameters)\n",
      " |      and ``floc`` and ``fscale`` (for location and scale parameters,\n",
      " |      respectively).\n",
      " |      \n",
      " |      Parameters\n",
      " |      ----------\n",
      " |      data : array_like\n",
      " |          Data to use in calculating the MLEs.\n",
      " |      args : floats, optional\n",
      " |          Starting value(s) for any shape-characterizing arguments (those not\n",
      " |          provided will be determined by a call to ``_fitstart(data)``).\n",
      " |          No default value.\n",
      " |      kwds : floats, optional\n",
      " |          Starting values for the location and scale parameters; no default.\n",
      " |          Special keyword arguments are recognized as holding certain\n",
      " |          parameters fixed:\n",
      " |      \n",
      " |          - f0...fn : hold respective shape parameters fixed.\n",
      " |            Alternatively, shape parameters to fix can be specified by name.\n",
      " |            For example, if ``self.shapes == \"a, b\"``, ``fa``and ``fix_a``\n",
      " |            are equivalent to ``f0``, and ``fb`` and ``fix_b`` are\n",
      " |            equivalent to ``f1``.\n",
      " |      \n",
      " |          - floc : hold location parameter fixed to specified value.\n",
      " |      \n",
      " |          - fscale : hold scale parameter fixed to specified value.\n",
      " |      \n",
      " |          - optimizer : The optimizer to use.  The optimizer must take ``func``,\n",
      " |            and starting position as the first two arguments,\n",
      " |            plus ``args`` (for extra arguments to pass to the\n",
      " |            function to be optimized) and ``disp=0`` to suppress\n",
      " |            output as keyword arguments.\n",
      " |      \n",
      " |      Returns\n",
      " |      -------\n",
      " |      mle_tuple : tuple of floats\n",
      " |          MLEs for any shape parameters (if applicable), followed by those\n",
      " |          for location and scale. For most random variables, shape statistics\n",
      " |          will be returned, but there are exceptions (e.g. ``norm``).\n",
      " |      \n",
      " |      Notes\n",
      " |      -----\n",
      " |      This fit is computed by maximizing a log-likelihood function, with\n",
      " |      penalty applied for samples outside of range of the distribution. The\n",
      " |      returned answer is not guaranteed to be the globally optimal MLE, it\n",
      " |      may only be locally optimal, or the optimization may fail altogether.\n",
      " |      If the data contain any of np.nan, np.inf, or -np.inf, the fit routine\n",
      " |      will throw a RuntimeError.\n",
      " |      \n",
      " |      Examples\n",
      " |      --------\n",
      " |      \n",
      " |      Generate some data to fit: draw random variates from the `beta`\n",
      " |      distribution\n",
      " |      \n",
      " |      >>> from scipy.stats import beta\n",
      " |      >>> a, b = 1., 2.\n",
      " |      >>> x = beta.rvs(a, b, size=1000)\n",
      " |      \n",
      " |      Now we can fit all four parameters (``a``, ``b``, ``loc`` and ``scale``):\n",
      " |      \n",
      " |      >>> a1, b1, loc1, scale1 = beta.fit(x)\n",
      " |      \n",
      " |      We can also use some prior knowledge about the dataset: let's keep\n",
      " |      ``loc`` and ``scale`` fixed:\n",
      " |      \n",
      " |      >>> a1, b1, loc1, scale1 = beta.fit(x, floc=0, fscale=1)\n",
      " |      >>> loc1, scale1\n",
      " |      (0, 1)\n",
      " |      \n",
      " |      We can also keep shape parameters fixed by using ``f``-keywords. To\n",
      " |      keep the zero-th shape parameter ``a`` equal 1, use ``f0=1`` or,\n",
      " |      equivalently, ``fa=1``:\n",
      " |      \n",
      " |      >>> a1, b1, loc1, scale1 = beta.fit(x, fa=1, floc=0, fscale=1)\n",
      " |      >>> a1\n",
      " |      1\n",
      " |      \n",
      " |      Not all distributions return estimates for the shape parameters.\n",
      " |      ``norm`` for example just returns estimates for location and scale:\n",
      " |      \n",
      " |      >>> from scipy.stats import norm\n",
      " |      >>> x = norm.rvs(a, b, size=1000, random_state=123)\n",
      " |      >>> loc1, scale1 = norm.fit(x)\n",
      " |      >>> loc1, scale1\n",
      " |      (0.92087172783841631, 2.0015750750324668)\n",
      " |  \n",
      " |  fit_loc_scale(self, data, *args)\n",
      " |      Estimate loc and scale parameters from data using 1st and 2nd moments.\n",
      " |      \n",
      " |      Parameters\n",
      " |      ----------\n",
      " |      data : array_like\n",
      " |          Data to fit.\n",
      " |      arg1, arg2, arg3,... : array_like\n",
      " |          The shape parameter(s) for the distribution (see docstring of the\n",
      " |          instance object for more information).\n",
      " |      \n",
      " |      Returns\n",
      " |      -------\n",
      " |      Lhat : float\n",
      " |          Estimated location parameter for the data.\n",
      " |      Shat : float\n",
      " |          Estimated scale parameter for the data.\n",
      " |  \n",
      " |  isf(self, q, *args, **kwds)\n",
      " |      Inverse survival function (inverse of `sf`) at q of the given RV.\n",
      " |      \n",
      " |      Parameters\n",
      " |      ----------\n",
      " |      q : array_like\n",
      " |          upper tail probability\n",
      " |      arg1, arg2, arg3,... : array_like\n",
      " |          The shape parameter(s) for the distribution (see docstring of the\n",
      " |          instance object for more information)\n",
      " |      loc : array_like, optional\n",
      " |          location parameter (default=0)\n",
      " |      scale : array_like, optional\n",
      " |          scale parameter (default=1)\n",
      " |      \n",
      " |      Returns\n",
      " |      -------\n",
      " |      x : ndarray or scalar\n",
      " |          Quantile corresponding to the upper tail probability q.\n",
      " |  \n",
      " |  logcdf(self, x, *args, **kwds)\n",
      " |      Log of the cumulative distribution function at x of the given RV.\n",
      " |      \n",
      " |      Parameters\n",
      " |      ----------\n",
      " |      x : array_like\n",
      " |          quantiles\n",
      " |      arg1, arg2, arg3,... : array_like\n",
      " |          The shape parameter(s) for the distribution (see docstring of the\n",
      " |          instance object for more information)\n",
      " |      loc : array_like, optional\n",
      " |          location parameter (default=0)\n",
      " |      scale : array_like, optional\n",
      " |          scale parameter (default=1)\n",
      " |      \n",
      " |      Returns\n",
      " |      -------\n",
      " |      logcdf : array_like\n",
      " |          Log of the cumulative distribution function evaluated at x\n",
      " |  \n",
      " |  logpdf(self, x, *args, **kwds)\n",
      " |      Log of the probability density function at x of the given RV.\n",
      " |      \n",
      " |      This uses a more numerically accurate calculation if available.\n",
      " |      \n",
      " |      Parameters\n",
      " |      ----------\n",
      " |      x : array_like\n",
      " |          quantiles\n",
      " |      arg1, arg2, arg3,... : array_like\n",
      " |          The shape parameter(s) for the distribution (see docstring of the\n",
      " |          instance object for more information)\n",
      " |      loc : array_like, optional\n",
      " |          location parameter (default=0)\n",
      " |      scale : array_like, optional\n",
      " |          scale parameter (default=1)\n",
      " |      \n",
      " |      Returns\n",
      " |      -------\n",
      " |      logpdf : array_like\n",
      " |          Log of the probability density function evaluated at x\n",
      " |  \n",
      " |  logsf(self, x, *args, **kwds)\n",
      " |      Log of the survival function of the given RV.\n",
      " |      \n",
      " |      Returns the log of the \"survival function,\" defined as (1 - `cdf`),\n",
      " |      evaluated at `x`.\n",
      " |      \n",
      " |      Parameters\n",
      " |      ----------\n",
      " |      x : array_like\n",
      " |          quantiles\n",
      " |      arg1, arg2, arg3,... : array_like\n",
      " |          The shape parameter(s) for the distribution (see docstring of the\n",
      " |          instance object for more information)\n",
      " |      loc : array_like, optional\n",
      " |          location parameter (default=0)\n",
      " |      scale : array_like, optional\n",
      " |          scale parameter (default=1)\n",
      " |      \n",
      " |      Returns\n",
      " |      -------\n",
      " |      logsf : ndarray\n",
      " |          Log of the survival function evaluated at `x`.\n",
      " |  \n",
      " |  nnlf(self, theta, x)\n",
      " |      Return negative loglikelihood function.\n",
      " |      \n",
      " |      Notes\n",
      " |      -----\n",
      " |      This is ``-sum(log pdf(x, theta), axis=0)`` where `theta` are the\n",
      " |      parameters (including loc and scale).\n",
      " |  \n",
      " |  pdf(self, x, *args, **kwds)\n",
      " |      Probability density function at x of the given RV.\n",
      " |      \n",
      " |      Parameters\n",
      " |      ----------\n",
      " |      x : array_like\n",
      " |          quantiles\n",
      " |      arg1, arg2, arg3,... : array_like\n",
      " |          The shape parameter(s) for the distribution (see docstring of the\n",
      " |          instance object for more information)\n",
      " |      loc : array_like, optional\n",
      " |          location parameter (default=0)\n",
      " |      scale : array_like, optional\n",
      " |          scale parameter (default=1)\n",
      " |      \n",
      " |      Returns\n",
      " |      -------\n",
      " |      pdf : ndarray\n",
      " |          Probability density function evaluated at x\n",
      " |  \n",
      " |  ppf(self, q, *args, **kwds)\n",
      " |      Percent point function (inverse of `cdf`) at q of the given RV.\n",
      " |      \n",
      " |      Parameters\n",
      " |      ----------\n",
      " |      q : array_like\n",
      " |          lower tail probability\n",
      " |      arg1, arg2, arg3,... : array_like\n",
      " |          The shape parameter(s) for the distribution (see docstring of the\n",
      " |          instance object for more information)\n",
      " |      loc : array_like, optional\n",
      " |          location parameter (default=0)\n",
      " |      scale : array_like, optional\n",
      " |          scale parameter (default=1)\n",
      " |      \n",
      " |      Returns\n",
      " |      -------\n",
      " |      x : array_like\n",
      " |          quantile corresponding to the lower tail probability q.\n",
      " |  \n",
      " |  sf(self, x, *args, **kwds)\n",
      " |      Survival function (1 - `cdf`) at x of the given RV.\n",
      " |      \n",
      " |      Parameters\n",
      " |      ----------\n",
      " |      x : array_like\n",
      " |          quantiles\n",
      " |      arg1, arg2, arg3,... : array_like\n",
      " |          The shape parameter(s) for the distribution (see docstring of the\n",
      " |          instance object for more information)\n",
      " |      loc : array_like, optional\n",
      " |          location parameter (default=0)\n",
      " |      scale : array_like, optional\n",
      " |          scale parameter (default=1)\n",
      " |      \n",
      " |      Returns\n",
      " |      -------\n",
      " |      sf : array_like\n",
      " |          Survival function evaluated at x\n",
      " |  \n",
      " |  ----------------------------------------------------------------------\n",
      " |  Methods inherited from scipy.stats._distn_infrastructure.rv_generic:\n",
      " |  \n",
      " |  __call__(self, *args, **kwds)\n",
      " |      Freeze the distribution for the given arguments.\n",
      " |      \n",
      " |      Parameters\n",
      " |      ----------\n",
      " |      arg1, arg2, arg3,... : array_like\n",
      " |          The shape parameter(s) for the distribution.  Should include all\n",
      " |          the non-optional arguments, may include ``loc`` and ``scale``.\n",
      " |      \n",
      " |      Returns\n",
      " |      -------\n",
      " |      rv_frozen : rv_frozen instance\n",
      " |          The frozen distribution.\n",
      " |  \n",
      " |  __getstate__(self)\n",
      " |  \n",
      " |  __setstate__(self, state)\n",
      " |  \n",
      " |  entropy(self, *args, **kwds)\n",
      " |      Differential entropy of the RV.\n",
      " |      \n",
      " |      Parameters\n",
      " |      ----------\n",
      " |      arg1, arg2, arg3,... : array_like\n",
      " |          The shape parameter(s) for the distribution (see docstring of the\n",
      " |          instance object for more information).\n",
      " |      loc : array_like, optional\n",
      " |          Location parameter (default=0).\n",
      " |      scale : array_like, optional  (continuous distributions only).\n",
      " |          Scale parameter (default=1).\n",
      " |      \n",
      " |      Notes\n",
      " |      -----\n",
      " |      Entropy is defined base `e`:\n",
      " |      \n",
      " |      >>> drv = rv_discrete(values=((0, 1), (0.5, 0.5)))\n",
      " |      >>> np.allclose(drv.entropy(), np.log(2.0))\n",
      " |      True\n",
      " |  \n",
      " |  freeze(self, *args, **kwds)\n",
      " |      Freeze the distribution for the given arguments.\n",
      " |      \n",
      " |      Parameters\n",
      " |      ----------\n",
      " |      arg1, arg2, arg3,... : array_like\n",
      " |          The shape parameter(s) for the distribution.  Should include all\n",
      " |          the non-optional arguments, may include ``loc`` and ``scale``.\n",
      " |      \n",
      " |      Returns\n",
      " |      -------\n",
      " |      rv_frozen : rv_frozen instance\n",
      " |          The frozen distribution.\n",
      " |  \n",
      " |  interval(self, alpha, *args, **kwds)\n",
      " |      Confidence interval with equal areas around the median.\n",
      " |      \n",
      " |      Parameters\n",
      " |      ----------\n",
      " |      alpha : array_like of float\n",
      " |          Probability that an rv will be drawn from the returned range.\n",
      " |          Each value should be in the range [0, 1].\n",
      " |      arg1, arg2, ... : array_like\n",
      " |          The shape parameter(s) for the distribution (see docstring of the\n",
      " |          instance object for more information).\n",
      " |      loc : array_like, optional\n",
      " |          location parameter, Default is 0.\n",
      " |      scale : array_like, optional\n",
      " |          scale parameter, Default is 1.\n",
      " |      \n",
      " |      Returns\n",
      " |      -------\n",
      " |      a, b : ndarray of float\n",
      " |          end-points of range that contain ``100 * alpha %`` of the rv's\n",
      " |          possible values.\n",
      " |  \n",
      " |  mean(self, *args, **kwds)\n",
      " |      Mean of the distribution.\n",
      " |      \n",
      " |      Parameters\n",
      " |      ----------\n",
      " |      arg1, arg2, arg3,... : array_like\n",
      " |          The shape parameter(s) for the distribution (see docstring of the\n",
      " |          instance object for more information)\n",
      " |      loc : array_like, optional\n",
      " |          location parameter (default=0)\n",
      " |      scale : array_like, optional\n",
      " |          scale parameter (default=1)\n",
      " |      \n",
      " |      Returns\n",
      " |      -------\n",
      " |      mean : float\n",
      " |          the mean of the distribution\n",
      " |  \n",
      " |  median(self, *args, **kwds)\n",
      " |      Median of the distribution.\n",
      " |      \n",
      " |      Parameters\n",
      " |      ----------\n",
      " |      arg1, arg2, arg3,... : array_like\n",
      " |          The shape parameter(s) for the distribution (see docstring of the\n",
      " |          instance object for more information)\n",
      " |      loc : array_like, optional\n",
      " |          Location parameter, Default is 0.\n",
      " |      scale : array_like, optional\n",
      " |          Scale parameter, Default is 1.\n",
      " |      \n",
      " |      Returns\n",
      " |      -------\n",
      " |      median : float\n",
      " |          The median of the distribution.\n",
      " |      \n",
      " |      See Also\n",
      " |      --------\n",
      " |      rv_discrete.ppf\n",
      " |          Inverse of the CDF\n",
      " |  \n",
      " |  moment(self, n, *args, **kwds)\n",
      " |      n-th order non-central moment of distribution.\n",
      " |      \n",
      " |      Parameters\n",
      " |      ----------\n",
      " |      n : int, n >= 1\n",
      " |          Order of moment.\n",
      " |      arg1, arg2, arg3,... : float\n",
      " |          The shape parameter(s) for the distribution (see docstring of the\n",
      " |          instance object for more information).\n",
      " |      loc : array_like, optional\n",
      " |          location parameter (default=0)\n",
      " |      scale : array_like, optional\n",
      " |          scale parameter (default=1)\n",
      " |  \n",
      " |  rvs(self, *args, **kwds)\n",
      " |      Random variates of given type.\n",
      " |      \n",
      " |      Parameters\n",
      " |      ----------\n",
      " |      arg1, arg2, arg3,... : array_like\n",
      " |          The shape parameter(s) for the distribution (see docstring of the\n",
      " |          instance object for more information).\n",
      " |      loc : array_like, optional\n",
      " |          Location parameter (default=0).\n",
      " |      scale : array_like, optional\n",
      " |          Scale parameter (default=1).\n",
      " |      size : int or tuple of ints, optional\n",
      " |          Defining number of random variates (default is 1).\n",
      " |      random_state : None or int or ``np.random.RandomState`` instance, optional\n",
      " |          If int or RandomState, use it for drawing the random variates.\n",
      " |          If None, rely on ``self.random_state``.\n",
      " |          Default is None.\n",
      " |      \n",
      " |      Returns\n",
      " |      -------\n",
      " |      rvs : ndarray or scalar\n",
      " |          Random variates of given `size`.\n",
      " |  \n",
      " |  stats(self, *args, **kwds)\n",
      " |      Some statistics of the given RV.\n",
      " |      \n",
      " |      Parameters\n",
      " |      ----------\n",
      " |      arg1, arg2, arg3,... : array_like\n",
      " |          The shape parameter(s) for the distribution (see docstring of the\n",
      " |          instance object for more information)\n",
      " |      loc : array_like, optional\n",
      " |          location parameter (default=0)\n",
      " |      scale : array_like, optional (continuous RVs only)\n",
      " |          scale parameter (default=1)\n",
      " |      moments : str, optional\n",
      " |          composed of letters ['mvsk'] defining which moments to compute:\n",
      " |          'm' = mean,\n",
      " |          'v' = variance,\n",
      " |          's' = (Fisher's) skew,\n",
      " |          'k' = (Fisher's) kurtosis.\n",
      " |          (default is 'mv')\n",
      " |      \n",
      " |      Returns\n",
      " |      -------\n",
      " |      stats : sequence\n",
      " |          of requested moments.\n",
      " |  \n",
      " |  std(self, *args, **kwds)\n",
      " |      Standard deviation of the distribution.\n",
      " |      \n",
      " |      Parameters\n",
      " |      ----------\n",
      " |      arg1, arg2, arg3,... : array_like\n",
      " |          The shape parameter(s) for the distribution (see docstring of the\n",
      " |          instance object for more information)\n",
      " |      loc : array_like, optional\n",
      " |          location parameter (default=0)\n",
      " |      scale : array_like, optional\n",
      " |          scale parameter (default=1)\n",
      " |      \n",
      " |      Returns\n",
      " |      -------\n",
      " |      std : float\n",
      " |          standard deviation of the distribution\n",
      " |  \n",
      " |  support(self, *args, **kwargs)\n",
      " |      Return the support of the distribution.\n",
      " |      \n",
      " |      Parameters\n",
      " |      ----------\n",
      " |      arg1, arg2, ... : array_like\n",
      " |          The shape parameter(s) for the distribution (see docstring of the\n",
      " |          instance object for more information).\n",
      " |      loc : array_like, optional\n",
      " |          location parameter, Default is 0.\n",
      " |      scale : array_like, optional\n",
      " |          scale parameter, Default is 1.\n",
      " |      Returns\n",
      " |      -------\n",
      " |      a, b : float\n",
      " |          end-points of the distribution's support.\n",
      " |  \n",
      " |  var(self, *args, **kwds)\n",
      " |      Variance of the distribution.\n",
      " |      \n",
      " |      Parameters\n",
      " |      ----------\n",
      " |      arg1, arg2, arg3,... : array_like\n",
      " |          The shape parameter(s) for the distribution (see docstring of the\n",
      " |          instance object for more information)\n",
      " |      loc : array_like, optional\n",
      " |          location parameter (default=0)\n",
      " |      scale : array_like, optional\n",
      " |          scale parameter (default=1)\n",
      " |      \n",
      " |      Returns\n",
      " |      -------\n",
      " |      var : float\n",
      " |          the variance of the distribution\n",
      " |  \n",
      " |  ----------------------------------------------------------------------\n",
      " |  Data descriptors inherited from scipy.stats._distn_infrastructure.rv_generic:\n",
      " |  \n",
      " |  __dict__\n",
      " |      dictionary for instance variables (if defined)\n",
      " |  \n",
      " |  __weakref__\n",
      " |      list of weak references to the object (if defined)\n",
      " |  \n",
      " |  random_state\n",
      " |      Get or set the RandomState object for generating random variates.\n",
      " |      \n",
      " |      This can be either None or an existing RandomState object.\n",
      " |      \n",
      " |      If None (or np.random), use the RandomState singleton used by np.random.\n",
      " |      If already a RandomState instance, use it.\n",
      " |      If an int, use a new RandomState instance seeded with seed.\n",
      "\n"
     ]
    }
   ],
   "source": [
    "help(stats.t)"
   ]
  },
  {
   "cell_type": "code",
   "execution_count": 686,
   "metadata": {},
   "outputs": [
    {
     "data": {
      "text/plain": [
       "[<matplotlib.lines.Line2D at 0x7f858c8c5a10>]"
      ]
     },
     "execution_count": 686,
     "metadata": {},
     "output_type": "execute_result"
    },
    {
     "data": {
      "image/png": "[encoded data removed]",
      "text/plain": [
       "<Figure size 432x288 with 1 Axes>"
      ]
     },
     "metadata": {
      "needs_background": "light"
     },
     "output_type": "display_data"
    }
   ],
   "source": [
    "import numpy as np\n",
    "from scipy.stats import t\n",
    "import matplotlib.pyplot as plt\n",
    "%matplotlib inline\n",
    "\n",
    "rv = t(df=20, loc=0, scale=1)\n",
    "x = np.linspace(rv.ppf(0.0001), rv.ppf(0.9999), 100)\n",
    "y = rv.pdf(x) \n",
    "\n",
    "plt.xlim(-5,5)\n",
    "plt.plot(x,y)"
   ]
  },
  {
   "cell_type": "code",
   "execution_count": 689,
   "metadata": {
    "scrolled": false
   },
   "outputs": [
    {
     "data": {
      "text/plain": [
       "[<matplotlib.lines.Line2D at 0x7f858c837390>,\n",
       " <matplotlib.lines.Line2D at 0x7f858c837550>]"
      ]
     },
     "execution_count": 689,
     "metadata": {},
     "output_type": "execute_result"
    },
    {
     "data": {
      "image/png": "[encoded data removed]",
      "text/plain": [
       "<Figure size 432x288 with 1 Axes>"
      ]
     },
     "metadata": {
      "needs_background": "light"
     },
     "output_type": "display_data"
    }
   ],
   "source": [
    "import matplotlib.pyplot as plt  \n",
    "import numpy as np  \n",
    "     \n",
    "x = np.linspace(0, 5, 100)  \n",
    "     \n",
    "# Varying positional arguments  \n",
    "y1 = t.pdf(x, 1, 3, 5)  \n",
    "y2 = t.pdf(x, 1, 4, 4)  \n",
    "plt.plot(x, y1, \"*\", x, y2, \"r--\")"
   ]
  },
  {
   "cell_type": "code",
   "execution_count": 694,
   "metadata": {},
   "outputs": [
    {
     "data": {
      "text/plain": [
       "0.9177463367772799"
      ]
     },
     "execution_count": 694,
     "metadata": {},
     "output_type": "execute_result"
    }
   ],
   "source": [
    "stats.t.cdf(1.5,df=10)"
   ]
  },
  {
   "cell_type": "code",
   "execution_count": 695,
   "metadata": {},
   "outputs": [
    {
     "data": {
      "text/plain": [
       "1.8124611228107335"
      ]
     },
     "execution_count": 695,
     "metadata": {},
     "output_type": "execute_result"
    }
   ],
   "source": [
    "stats.t.ppf(0.95,df=10)"
   ]
  },
  {
   "cell_type": "code",
   "execution_count": 693,
   "metadata": {},
   "outputs": [
    {
     "data": {
      "text/plain": [
       "(array(0.), array(1.11111111), array(0.), array(0.375))"
      ]
     },
     "execution_count": 693,
     "metadata": {},
     "output_type": "execute_result"
    }
   ],
   "source": [
    "from scipy.stats import t\n",
    "\n",
    "# Freeze for df=20, loc=0, scale=1 and get the first four moments from stats()\n",
    "rv = t(df=20, loc=0, scale=1)\n",
    "mean, var, skew, kurt = rv.stats(moments='mvsk')\n",
    "mean, var, skew, kurt"
   ]
  },
  {
   "cell_type": "markdown",
   "metadata": {},
   "source": [
    "# F-Distribution \n",
    "\n",
    "The F distribution also known as Snedecor's Fisher distribution is a continuous probability distribution which arises most commonly in analysis of variance .i.e. ANOVA (releant to F-test)\n",
    "\n",
    "As F statistic is calculated in the form of a variance ratio it has two df shape parameters:\n",
    "\n",
    "- dfn (degrees of freedom in the estimate of variance of numerator)\n",
    "- dfd (degrees of freedom in the estimate of variance of denominator)\n",
    "\n",
    "PDF of a F-distribution is :\n",
    "\n",
    "\n",
    "                           df2**(df2/2) * df1**(df1/2) * x**(df1/2-1)\n",
    "     F.pdf(x, df1, df2) = --------------------------------------------\n",
    "                          (df2+df1*x)**((df1+df2)/2) * B(df1/2, df2/2)\n",
    "\n",
    "where B is the Beta function"
   ]
  },
  {
   "cell_type": "code",
   "execution_count": 719,
   "metadata": {},
   "outputs": [
    {
     "data": {
      "text/plain": [
       "array([0, 1, 2, 3, 4, 5, 6, 7, 8, 9])"
      ]
     },
     "execution_count": 719,
     "metadata": {},
     "output_type": "execute_result"
    }
   ],
   "source": [
    "x = np.arange(0,10,1)\n",
    "x"
   ]
  },
  {
   "cell_type": "code",
   "execution_count": 720,
   "metadata": {},
   "outputs": [
    {
     "data": {
      "text/plain": [
       "[<matplotlib.lines.Line2D at 0x7f858c22dc90>]"
      ]
     },
     "execution_count": 720,
     "metadata": {},
     "output_type": "execute_result"
    },
    {
     "data": {
      "image/png": "[encoded data removed]",
      "text/plain": [
       "<Figure size 432x288 with 1 Axes>"
      ]
     },
     "metadata": {
      "needs_background": "light"
     },
     "output_type": "display_data"
    }
   ],
   "source": [
    "#plotting pdf\n",
    "plt.plot(x , stats.f.pdf(x,dfn=4,dfd=26))"
   ]
  },
  {
   "cell_type": "code",
   "execution_count": 714,
   "metadata": {
    "scrolled": true
   },
   "outputs": [
    {
     "data": {
      "text/plain": [
       "[<matplotlib.lines.Line2D at 0x7f858c39f190>]"
      ]
     },
     "execution_count": 714,
     "metadata": {},
     "output_type": "execute_result"
    },
    {
     "data": {
      "image/png": "[encoded data removed]",
      "text/plain": [
       "<Figure size 432x288 with 1 Axes>"
      ]
     },
     "metadata": {
      "needs_background": "light"
     },
     "output_type": "display_data"
    }
   ],
   "source": [
    "#plotting CDF\n",
    "plt.plot(x , stats.f.cdf(x,dfn=4,dfd=26))"
   ]
  },
  {
   "cell_type": "code",
   "execution_count": 716,
   "metadata": {},
   "outputs": [
    {
     "data": {
      "text/plain": [
       "[<matplotlib.lines.Line2D at 0x7f858c2ef590>]"
      ]
     },
     "execution_count": 716,
     "metadata": {},
     "output_type": "execute_result"
    },
    {
     "data": {
      "image/png": "[encoded data removed]",
      "text/plain": [
       "<Figure size 432x288 with 1 Axes>"
      ]
     },
     "metadata": {
      "needs_background": "light"
     },
     "output_type": "display_data"
    }
   ],
   "source": [
    "import numpy as np\n",
    "from scipy.stats import f, norm\n",
    "import matplotlib.pyplot as plt\n",
    "%matplotlib inline\n",
    "\n",
    "# first f\n",
    "rv1 = f(dfn=3, dfd=15, loc=0, scale=1)\n",
    "x = np.linspace(rv1.ppf(0.0001), rv1.ppf(0.9999), 100)\n",
    "y = rv1.pdf(x) \n",
    "\n",
    "plt.xlim(0,5)\n",
    "plt.plot(x,y, 'b-')\n",
    "\n",
    "# second f \n",
    "rv2 = f(dfn=10, dfd=50, loc=0, scale=1)\n",
    "x = np.linspace(rv2.ppf(0.0001), rv2.ppf(0.9999), 100)\n",
    "y = rv2.pdf(x) \n",
    "\n",
    "plt.plot(x,y, 'r--')\n",
    "\n",
    "\n",
    "# third f \n",
    "rv3 = f(dfn=40, dfd=50, loc=0, scale=1)\n",
    "x = np.linspace(rv3.ppf(0.0001), rv3.ppf(0.9999), 100)\n",
    "y = rv3.pdf(x) \n",
    "\n",
    "plt.plot(x,y, 'g--')"
   ]
  },
  {
   "cell_type": "markdown",
   "metadata": {},
   "source": [
    "# Chi-sqaure Distribution \n",
    "\n",
    "The Chi-square distribution is related to normal distribution in a simple way. If a RV X has a normal distribution ( X ∈ N(0,1)), then X^2 has a chi-square distribution, with one degree of freedom. \n",
    "\n",
    "Notation :  X^2 ∈ χ2(1) \n",
    "\n",
    "The distribution of the chi-square statistic is called the chi-square distribution. \n",
    "\n",
    "The chi-square distribution (χ2-distribution) with k degrees of freedom is the distribution of a sum of the squares of k independent standard normal random variables. \n",
    "\n",
    "PDF of a Chi Square - distribution is :\n",
    "\n",
    "chi2.pdf(x, df) = 1 / (2*gamma(df/2)) * (x/2)*(df/2-1) * exp(-x/2)\n",
    "\n",
    "#### Applications :\n",
    "\n",
    "- The chi-square distribution is used in the common chi-square tests for goodness of fit of an observed distribution to a theoretical one\n",
    "- The independence of two criteria of classification of qualitative data\n",
    "- Used for Confidence interval estimation for a population standard deviation of a normal distribution from a sample standard deviation. \n",
    "- Many other statistical tests also use this distribution, such as Friedman's analysis of variance by ranks.   "
   ]
  },
  {
   "cell_type": "code",
   "execution_count": 721,
   "metadata": {
    "scrolled": true
   },
   "outputs": [
    {
     "data": {
      "image/png": "[encoded data removed]",
      "text/plain": [
       "<Figure size 432x288 with 1 Axes>"
      ]
     },
     "metadata": {
      "needs_background": "light"
     },
     "output_type": "display_data"
    }
   ],
   "source": [
    "from numpy import random\n",
    "import matplotlib.pyplot as plt\n",
    "import seaborn as sns\n",
    "from scipy.stats import chisquare\n",
    "\n",
    "sns.distplot(random.chisquare(df=1, size=1000), hist=False)\n",
    "\n",
    "plt.show()"
   ]
  },
  {
   "cell_type": "code",
   "execution_count": 724,
   "metadata": {},
   "outputs": [
    {
     "name": "stderr",
     "output_type": "stream",
     "text": [
      "No handles with labels found to put in legend.\n"
     ]
    },
    {
     "data": {
      "image/png": "[encoded data removed]",
      "text/plain": [
       "<Figure size 432x288 with 1 Axes>"
      ]
     },
     "metadata": {
      "needs_background": "light"
     },
     "output_type": "display_data"
    }
   ],
   "source": [
    "from scipy import stats\n",
    "import numpy as np\n",
    "import matplotlib.pyplot as plt\n",
    "\n",
    "x = np.linspace(0, 10, 100)\n",
    "fig,ax = plt.subplots(1,1)\n",
    "\n",
    "linestyles = [':', '--', '-.', '-']\n",
    "deg_of_freedom = [1, 4, 7, 6]\n",
    "for df, ls in zip(deg_of_freedom, linestyles):\n",
    "    ax.plot(x, stats.chi2.pdf(x, df), linestyle=ls)\n",
    "\n",
    "plt.xlim(0, 10)\n",
    "plt.ylim(0, 0.4)\n",
    "\n",
    "plt.xlabel('Value')\n",
    "plt.ylabel('Frequency')\n",
    "plt.title('Chi-Square Distribution')\n",
    "\n",
    "plt.legend()\n",
    "plt.show()"
   ]
  },
  {
   "cell_type": "code",
   "execution_count": 729,
   "metadata": {},
   "outputs": [
    {
     "name": "stdout",
     "output_type": "stream",
     "text": [
      "55.0\n",
      "110.0\n",
      "0.3813850356982369\n",
      "0.21818181818181817\n"
     ]
    }
   ],
   "source": [
    "df = 55\n",
    "mean, var, skew, kurt = stats.chi2.stats(df, moments='mvsk')\n",
    "print(mean)\n",
    "print(var)\n",
    "print(skew)\n",
    "print(kurt)"
   ]
  },
  {
   "cell_type": "code",
   "execution_count": null,
   "metadata": {
    "collapsed": true
   },
   "outputs": [],
   "source": []
  },
  {
   "cell_type": "code",
   "execution_count": null,
   "metadata": {
    "collapsed": true
   },
   "outputs": [],
   "source": []
  },
  {
   "cell_type": "code",
   "execution_count": null,
   "metadata": {
    "collapsed": true
   },
   "outputs": [],
   "source": []
  },
  {
   "cell_type": "code",
   "execution_count": null,
   "metadata": {
    "collapsed": true
   },
   "outputs": [],
   "source": []
  },
  {
   "cell_type": "code",
   "execution_count": null,
   "metadata": {
    "collapsed": true
   },
   "outputs": [],
   "source": []
  },
  {
   "cell_type": "code",
   "execution_count": null,
   "metadata": {
    "collapsed": true
   },
   "outputs": [],
   "source": []
  },
  {
   "cell_type": "code",
   "execution_count": null,
   "metadata": {
    "collapsed": true
   },
   "outputs": [],
   "source": []
  },
  {
   "cell_type": "code",
   "execution_count": null,
   "metadata": {
    "collapsed": true
   },
   "outputs": [],
   "source": []
  },
  {
   "cell_type": "code",
   "execution_count": null,
   "metadata": {
    "collapsed": true
   },
   "outputs": [],
   "source": []
  }
 ],
 "metadata": {
  "anaconda-cloud": {},
  "celltoolbar": "Raw Cell Format",
  "kernelspec": {
   "display_name": "Python 3",
   "language": "python",
   "name": "python3"
  },
  "language_info": {
   "codemirror_mode": {
    "name": "ipython",
    "version": 3
   },
   "file_extension": ".py",
   "mimetype": "text/x-python",
   "name": "python",
   "nbconvert_exporter": "python",
   "pygments_lexer": "ipython3",
   "version": "3.7.3"
  }
 },
 "nbformat": 4,
 "nbformat_minor": 1
}
