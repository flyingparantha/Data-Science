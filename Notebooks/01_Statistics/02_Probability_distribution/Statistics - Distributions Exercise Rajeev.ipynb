{
 "cells": [
  {
   "cell_type": "markdown",
   "metadata": {},
   "source": [
    "** Following are some questions based on calculation of probabilities using Binomial and Poisson Distribution. **"
   ]
  },
  {
   "cell_type": "markdown",
   "metadata": {},
   "source": [
    "## Question 1\n",
    "\n",
    "Suppose a die is tossed 5 times. What is the probability of getting exactly 2 fours? "
   ]
  },
  {
   "cell_type": "code",
   "execution_count": 2,
   "metadata": {},
   "outputs": [
    {
     "data": {
      "text/plain": [
       "0.16075102880658435"
      ]
     },
     "execution_count": 2,
     "metadata": {},
     "output_type": "execute_result"
    }
   ],
   "source": [
    "import scipy.stats as stats\n",
    "from scipy.stats import binom \n",
    "from scipy.stats import poisson\n",
    "\n",
    "n=5\n",
    "p=1/6\n",
    "\n",
    "stats.binom(5,1/6).pmf(2)"
   ]
  },
  {
   "cell_type": "markdown",
   "metadata": {
    "collapsed": true
   },
   "source": [
    "## Question 2\n",
    "Hospital records show that of patients suffering from a certain disease, 75% die of it. What is the probability that\n",
    "of 6 randomly selected patients, 4 will recover? "
   ]
  },
  {
   "cell_type": "code",
   "execution_count": 27,
   "metadata": {},
   "outputs": [
    {
     "name": "stdout",
     "output_type": "stream",
     "text": [
      "1.0000000000000004\n",
      "Probability of :  0 th person recovering : 0.17797851562500003\n",
      "Probability of :  1 th person recovering : 0.3559570312500002\n",
      "Probability of :  2 th person recovering : 0.29663085937500006\n",
      "Probability of :  3 th person recovering : 0.13183593750000008\n",
      "Probability of :  4 th person recovering : 0.032958984375\n",
      "Probability of :  5 th person recovering : 0.004394531250000003\n",
      "Probability of :  6 th person recovering : 0.00024414062500000016\n"
     ]
    },
    {
     "data": {
      "text/plain": [
       "0.032958984375"
      ]
     },
     "execution_count": 27,
     "metadata": {},
     "output_type": "execute_result"
    }
   ],
   "source": [
    "import scipy.stats as stats\n",
    "import numpy as np\n",
    "import pandas as pd\n",
    "from scipy.stats import binom \n",
    "from scipy.stats import poisson\n",
    "pd.set_option('display.float_format', lambda x: '%.3f' % x)\n",
    "\n",
    "np.set_printoptions(suppress=True)\n",
    "\n",
    "n=6\n",
    "p=3/4\n",
    "x=np.arange(0,7)\n",
    "\n",
    "x_prob=stats.binom(n,1-p).pmf(x)\n",
    "print(x_prob.sum())\n",
    "\n",
    "for i in x:\n",
    "    prob=stats.binom(n,1-p).pmf(x[i])\n",
    "    #output=\"{:.3f}\".format(prob)\n",
    "    print(\"Probability of : \",i,\"th person recovering :\", prob )\n",
    "    \n",
    "stats.binom(n,1-p).pmf(4)"
   ]
  },
  {
   "cell_type": "markdown",
   "metadata": {},
   "source": [
    "## Question 3\n",
    "In the old days, there was a probability of 0.8 of success in any attempt to make a telephone call.\n",
    "Calculate the probability of having 7 successes in 10 attempts "
   ]
  },
  {
   "cell_type": "code",
   "execution_count": 30,
   "metadata": {},
   "outputs": [
    {
     "name": "stdout",
     "output_type": "stream",
     "text": [
      "[ 0  1  2  3  4  5  6  7  8  9 10]\n",
      "[0.0000001  0.0000041  0.00007373 0.00078643 0.00550502 0.02642412\n",
      " 0.08808038 0.20132659 0.30198989 0.26843546 0.10737418]\n",
      "1.0000000000000007\n"
     ]
    },
    {
     "data": {
      "text/plain": [
       "0.20132659200000014"
      ]
     },
     "execution_count": 30,
     "metadata": {},
     "output_type": "execute_result"
    }
   ],
   "source": [
    "p=0.8\n",
    "n=10\n",
    "\n",
    "x=np.arange(n+1)\n",
    "print(x)\n",
    "print(stats.binom(n,p).pmf(x))\n",
    "print(stats.binom(n,p).pmf(x).sum())\n",
    "\n",
    "stats.binom(n,p).pmf(7)"
   ]
  },
  {
   "cell_type": "markdown",
   "metadata": {},
   "source": [
    "## Question 4 \n",
    "A multiple choice test contains 20 questions. Each question has five choices for the correct answer. Only one of\n",
    "the choices is correct. What is the probability of making an 80 with random guessing? "
   ]
  },
  {
   "cell_type": "code",
   "execution_count": 36,
   "metadata": {},
   "outputs": [
    {
     "name": "stdout",
     "output_type": "stream",
     "text": [
      "[ 0  1  2  3  4  5  6  7  8  9 10 11 12 13 14 15 16 17 18 19 20]\n",
      "[0.01152922 0.05764608 0.13690943 0.20536414 0.2181994  0.17455952\n",
      " 0.1090997  0.05454985 0.02216088 0.00738696 0.00203141 0.00046168\n",
      " 0.00008657 0.00001332 0.00000166 0.00000017 0.00000001 0.\n",
      " 0.         0.         0.        ]\n",
      "[0.01152922 0.06917529 0.20608472 0.41144886 0.62964826 0.80420779\n",
      " 0.91330749 0.96785734 0.99001821 0.99740517 0.99943659 0.99989827\n",
      " 0.99998484 0.99999815 0.99999982 0.99999999 1.         1.\n",
      " 1.         1.         1.        ]\n",
      "0.999999999999998\n"
     ]
    },
    {
     "data": {
      "image/png": "[encoded data removed]",
      "text/plain": [
       "<Figure size 432x288 with 1 Axes>"
      ]
     },
     "metadata": {
      "needs_background": "light"
     },
     "output_type": "display_data"
    },
    {
     "data": {
      "text/plain": [
       "1.3005697843199991e-08"
      ]
     },
     "execution_count": 36,
     "metadata": {},
     "output_type": "execute_result"
    }
   ],
   "source": [
    "p=1/5\n",
    "n=20\n",
    "np.set_printoptions(suppress=True)\n",
    "\n",
    "x=np.arange(n+1)\n",
    "print(x)\n",
    "print(stats.binom(n,p).pmf(x))\n",
    "print(stats.binom(n,p).cdf(x))\n",
    "print(stats.binom(n,p).pmf(x).sum())\n",
    "\n",
    "y=0.8*n\n",
    "\n",
    "import matplotlib.pyplot as plt\n",
    "\n",
    "plt.plot(x,stats.binom(n,p).pmf(x) ,  marker = '*')\n",
    "plt.show()\n",
    "\n",
    "stats.binom(n,p).pmf(y)"
   ]
  },
  {
   "cell_type": "markdown",
   "metadata": {},
   "source": [
    "## Question 5\n",
    "\n",
    "The telephone sales department of a certain store receives an average of 24 calls per hour. What is the probability that between 10:00 a.m. and 10:05 a.m. there will be 3 calls?"
   ]
  },
  {
   "cell_type": "code",
   "execution_count": 39,
   "metadata": {},
   "outputs": [
    {
     "name": "stdout",
     "output_type": "stream",
     "text": [
      "[ 0  1  2  3  4  5  6  7  8  9 10]\n",
      "[0.13533528 0.27067057 0.27067057 0.18044704 0.09022352 0.03608941\n",
      " 0.0120298  0.00343709 0.00085927 0.00019095 0.00003819]\n",
      "[0.13533528 0.40600585 0.67667642 0.85712346 0.94734698 0.98343639\n",
      " 0.99546619 0.99890328 0.99976255 0.9999535  0.99999169]\n",
      "0.9999916917756315\n"
     ]
    },
    {
     "data": {
      "image/png": "[encoded data removed]",
      "text/plain": [
       "<Figure size 432x288 with 1 Axes>"
      ]
     },
     "metadata": {
      "needs_background": "light"
     },
     "output_type": "display_data"
    },
    {
     "data": {
      "text/plain": [
       "0.18044704431548356"
      ]
     },
     "execution_count": 39,
     "metadata": {},
     "output_type": "execute_result"
    }
   ],
   "source": [
    "np.set_printoptions(suppress=True)\n",
    "\n",
    "rate=24*5/60\n",
    "x=np.arange(10+1)\n",
    "\n",
    "\n",
    "#x=np.arange(n+1)\n",
    "print(x)\n",
    "print(stats.poisson.pmf(x,rate))\n",
    "print(stats.poisson.cdf(x,rate))\n",
    "print(stats.poisson.pmf(x,rate).sum())\n",
    "\n",
    "import matplotlib.pyplot as plt\n",
    "\n",
    "plt.plot(x,stats.poisson.pmf(x,rate) ,  marker = '*')\n",
    "plt.show()\n",
    "\n",
    "\n",
    "y=3\n",
    "\n",
    "stats.poisson.pmf(y,rate)\n",
    "\n"
   ]
  },
  {
   "cell_type": "markdown",
   "metadata": {},
   "source": [
    "# Question 6\n",
    "A bank is interested in studying the number of people who use the ATM located outside its office late at night.\n",
    "On average, 1.6 customers walk up to the ATM during any 10 minute interval between 9pm and midnight.\n",
    "1. What is lambda λ for this problem?\n",
    "2. What is the probability of exactly 3 customers using the ATM during any 10 minute interval?\n",
    "3. What is the probability of 3 or fewer people?"
   ]
  },
  {
   "cell_type": "code",
   "execution_count": 40,
   "metadata": {},
   "outputs": [
    {
     "name": "stdout",
     "output_type": "stream",
     "text": [
      "[ 0  1  2  3  4  5  6  7  8  9 10]\n",
      "[0.20189652 0.32303443 0.25842754 0.13782802 0.05513121 0.01764199\n",
      " 0.00470453 0.00107532 0.00021506 0.00003823 0.00000612]\n",
      "[0.20189652 0.52493095 0.78335849 0.92118651 0.97631772 0.99395971\n",
      " 0.99866424 0.99973956 0.99995462 0.99999286 0.99999898]\n",
      "0.9999989750905057\n"
     ]
    },
    {
     "data": {
      "image/png": "[encoded data removed]",
      "text/plain": [
       "<Figure size 432x288 with 1 Axes>"
      ]
     },
     "metadata": {
      "needs_background": "light"
     },
     "output_type": "display_data"
    },
    {
     "name": "stdout",
     "output_type": "stream",
     "text": [
      "0.13782802295101812\n",
      "0.9211865127702811\n"
     ]
    }
   ],
   "source": [
    "np.set_printoptions(suppress=True)\n",
    "\n",
    "rate=1.6\n",
    "x=np.arange(10+1)\n",
    "\n",
    "\n",
    "#x=np.arange(n+1)\n",
    "print(x)\n",
    "print(stats.poisson.pmf(x,rate))\n",
    "print(stats.poisson.cdf(x,rate))\n",
    "print(stats.poisson.pmf(x,rate).sum())\n",
    "\n",
    "import matplotlib.pyplot as plt\n",
    "\n",
    "plt.plot(x,stats.poisson.pmf(x,rate) ,  marker = '*')\n",
    "plt.show()\n",
    "\n",
    "\n",
    "y=3\n",
    "\n",
    "print(stats.poisson.pmf(y,rate))\n",
    "print(stats.poisson.cdf(y,rate))\n",
    "\n"
   ]
  },
  {
   "cell_type": "markdown",
   "metadata": {},
   "source": [
    "# Question 7\n",
    "The average number of homes sold by the Acme Realty company is 2 homes per day. What is the probability that exactly 3 homes will be sold tomorrow?"
   ]
  },
  {
   "cell_type": "code",
   "execution_count": 41,
   "metadata": {},
   "outputs": [
    {
     "name": "stdout",
     "output_type": "stream",
     "text": [
      "[0.13533528 0.27067057 0.27067057 0.18044704 0.09022352 0.03608941\n",
      " 0.0120298  0.00343709 0.00085927 0.00019095 0.00003819]\n",
      "[0.13533528 0.40600585 0.67667642 0.85712346 0.94734698 0.98343639\n",
      " 0.99546619 0.99890328 0.99976255 0.9999535  0.99999169]\n",
      "0.9999916917756315\n"
     ]
    },
    {
     "data": {
      "image/png": "[encoded data removed]",
      "text/plain": [
       "<Figure size 432x288 with 1 Axes>"
      ]
     },
     "metadata": {
      "needs_background": "light"
     },
     "output_type": "display_data"
    },
    {
     "name": "stdout",
     "output_type": "stream",
     "text": [
      "0.18044704431548356\n"
     ]
    }
   ],
   "source": [
    "np.set_printoptions(suppress=True)\n",
    "\n",
    "rate=2\n",
    "x=np.arange(10+1)\n",
    "\n",
    "\n",
    "#x=np.arange(n+1)\n",
    "#print(x)\n",
    "print(stats.poisson.pmf(x,rate))\n",
    "print(stats.poisson.cdf(x,rate))\n",
    "print(stats.poisson.pmf(x,rate).sum())\n",
    "\n",
    "import matplotlib.pyplot as plt\n",
    "\n",
    "plt.plot(x,stats.poisson.pmf(x,rate) ,  marker = '*')\n",
    "plt.show()\n",
    "\n",
    "\n",
    "y=3\n",
    "\n",
    "print(stats.poisson.pmf(y,rate))\n",
    "#print(stats.poisson.cdf(y,rate))\n",
    "\n"
   ]
  },
  {
   "cell_type": "markdown",
   "metadata": {},
   "source": [
    "# Question 8\n",
    "Suppose the average number of lions seen on a 1-day safari is 5. What is the probability that tourists will see fewer than four lions on the next 1-day safari?"
   ]
  },
  {
   "cell_type": "code",
   "execution_count": 42,
   "metadata": {},
   "outputs": [
    {
     "name": "stdout",
     "output_type": "stream",
     "text": [
      "[0.00673795 0.03368973 0.08422434 0.1403739  0.17546737 0.17546737\n",
      " 0.14622281 0.10444486 0.06527804 0.03626558 0.01813279]\n",
      "[0.00673795 0.04042768 0.12465202 0.26502592 0.44049329 0.61596065\n",
      " 0.76218346 0.86662833 0.93190637 0.96817194 0.98630473]\n",
      "0.9863047314016166\n"
     ]
    },
    {
     "data": {
      "image/png": "[encoded data removed]",
      "text/plain": [
       "<Figure size 432x288 with 1 Axes>"
      ]
     },
     "metadata": {
      "needs_background": "light"
     },
     "output_type": "display_data"
    },
    {
     "name": "stdout",
     "output_type": "stream",
     "text": [
      "0.2650259152973616\n"
     ]
    }
   ],
   "source": [
    "np.set_printoptions(suppress=True)\n",
    "\n",
    "rate=5\n",
    "x=np.arange(10+1)\n",
    "\n",
    "\n",
    "#x=np.arange(n+1)\n",
    "#print(x)\n",
    "print(stats.poisson.pmf(x,rate))\n",
    "print(stats.poisson.cdf(x,rate))\n",
    "print(stats.poisson.pmf(x,rate).sum())\n",
    "\n",
    "import matplotlib.pyplot as plt\n",
    "\n",
    "plt.plot(x,stats.poisson.pmf(x,rate) ,  marker = '*')\n",
    "plt.show()\n",
    "\n",
    "\n",
    "y=3\n",
    "\n",
    "#print(stats.poisson.pmf(y,rate))\n",
    "print(stats.poisson.cdf(y,rate))\n",
    "\n"
   ]
  },
  {
   "cell_type": "markdown",
   "metadata": {},
   "source": [
    "# Question 9\n",
    "\n",
    "The probability that it is Friday and that a student is absent is 0.03. Since there are 5 school days in a week, the probability that it is Friday is 0.2. What is the probability that a student is absent given that today is Friday?"
   ]
  },
  {
   "cell_type": "code",
   "execution_count": 44,
   "metadata": {},
   "outputs": [
    {
     "data": {
      "text/plain": [
       "0.15"
      ]
     },
     "execution_count": 44,
     "metadata": {},
     "output_type": "execute_result"
    }
   ],
   "source": [
    "np.set_printoptions(suppress=True)\n",
    "\n",
    "#p(A|B)=P(AF)/P(B)\n",
    "#P(AF)=P(A|F)*P(F)\n",
    "#P(AF)=P(F|A)*P(A)\n",
    "\n",
    "\n",
    "P_AF=0.03\n",
    "P_F=0.2\n",
    "P_A_g_F=P_AF/P_F\n",
    "P_A_g_F"
   ]
  },
  {
   "cell_type": "markdown",
   "metadata": {},
   "source": [
    "## Question 10\n",
    "\n",
    " Let A and B be two events such that P(A) = 1⁄5 While P(A or B) = 1⁄2. Let P(B) = P. For what values of P are A and B independent?"
   ]
  },
  {
   "cell_type": "code",
   "execution_count": 46,
   "metadata": {},
   "outputs": [
    {
     "data": {
      "text/plain": [
       "0.3"
      ]
     },
     "execution_count": 46,
     "metadata": {},
     "output_type": "execute_result"
    }
   ],
   "source": [
    "P_A=1/5\n",
    "P_AB=1/2\n",
    "P_B=P_AB-P_A\n",
    "P_B"
   ]
  },
  {
   "cell_type": "code",
   "execution_count": null,
   "metadata": {},
   "outputs": [],
   "source": []
  }
 ],
 "metadata": {
  "anaconda-cloud": {},
  "kernelspec": {
   "display_name": "Python 3",
   "language": "python",
   "name": "python3"
  },
  "language_info": {
   "codemirror_mode": {
    "name": "ipython",
    "version": 3
   },
   "file_extension": ".py",
   "mimetype": "text/x-python",
   "name": "python",
   "nbconvert_exporter": "python",
   "pygments_lexer": "ipython3",
   "version": "3.7.3"
  }
 },
 "nbformat": 4,
 "nbformat_minor": 1
}
