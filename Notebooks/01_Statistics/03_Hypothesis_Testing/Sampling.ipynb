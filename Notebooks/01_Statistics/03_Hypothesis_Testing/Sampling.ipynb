{
 "cells": [
  {
   "cell_type": "markdown",
   "metadata": {},
   "source": [
    "<h1><center> Sampling Distribution </center></h1>"
   ]
  },
  {
   "cell_type": "markdown",
   "metadata": {},
   "source": [
    "# Table of Content\n",
    " - What is Sampling Distribution?\n",
    " - Why Sampling Distribution?\n",
    " - Sampling Error\n",
    " - Central Limit Theorem\n",
    " - Confidence Interval\n",
    " \n",
    " - Sampling distribution of Mean\n",
    " - Sampling distribution of difference between means\n",
    " - Sampling distribution of Pearson's r\n",
    " - Sampling distribution of Variance\n",
    " "
   ]
  },
  {
   "cell_type": "markdown",
   "metadata": {},
   "source": [
    "## What is Sampling distribution?\n",
    "\n",
    "Our goal in sampling is to determine the value of a statistic for an entire population of interest, using just a small subset of the population. \n",
    "   - Collect sample data\n",
    "   - Estimate parameters of the sampling distribution\n",
    "   - Get a sense of how close your sample estimate is likely to be to the population estimate\n",
    "   \n",
    "Sample should be representative of the population. When this fails, then we have to worry about whether the statistic calculated from the sample is biased, that is whether its value is systematically different from the population value.\n",
    "\n",
    "**Note** : We do not know our population value while conducting the experiment, but we will be considering we have access to entire population in order to explain key ideas\n",
    "\n",
    "\n",
    "**Two different ways of sampling -**\n",
    " - **With replacement** - after a member has been sampled they are put back so that they can potentially be sampled again\n",
    " - **Without replacement** - once a member has been sampled the are not eligible to be sampled again\n",
    " \n",
    "As the **number of samples** approaches **infinity**, the **relative frequency distribution** will approach the **sampling distribution**\n",
    "\n",
    "**Note** : It is important to keep in mind that **every statistic**, not just the mean, **has a sampling distribution.** Mean, variance, difference between means, pearson correlation."
   ]
  },
  {
   "cell_type": "markdown",
   "metadata": {},
   "source": [
    "## Why sampling distribution?\n",
    "\n",
    "Sampling distribution is important because -\n",
    "  - These are important for inferential statistics\n",
    "  - It saves time and effort"
   ]
  },
  {
   "cell_type": "markdown",
   "metadata": {},
   "source": [
    "## Sampling Error\n",
    "\n",
    "**Sampling Error** : Regardless of how representative our sample is, it’s likely that the statistic that we compute from the sample is going to differ at least slightly from the population parameter. This is known as sampling error.\n",
    "\n",
    "**Sampling Distribution** - The value of our statistical estimate will also vary from sample to sample, we refer to this distribution of our statistic across samples as the sampling distribution\n",
    "\n",
    "Sampling error is directly related to the quality of our measurement of the population. Reducing sampling error is an important step towards better measurement"
   ]
  },
  {
   "cell_type": "markdown",
   "metadata": {},
   "source": [
    "### Standard Error of Mean\n",
    "\n",
    "This is used to measure how variable our samples are in order to make inference about the sample statistics.\n",
    "\n",
    "**Standard Error of Mean (SEM)** : This is standard deviation of the sampling distribution.\n",
    "\n",
    "To compute the standard error of the mean for our sample, we divide the **estimated standard deviation** by the square root of the **sample size**\n",
    "\n",
    "**Note** : Be careful about computing SEM using the estimated standard deviation if our sample is small (less than about 30)\n",
    "\n",
    "\n",
    "**Quality of our measurement** involves two quantities: \n",
    " - population variability \n",
    " - size of our sample : \n",
    " \n",
    "A **larger sample size** will yield a **smaller SEM** when holding the population variability constant\n",
    " \n",
    "We have **no control over the population variability**, but we do have **control over the sample size**. \n",
    "Thus, if we wish to **improve our sample statistics** (by reducing their sampling variability) then we should use **larger samples**\n",
    "\n",
    "**Note**:  The utility of larger samples diminishes with the square root of the sample size"
   ]
  },
  {
   "cell_type": "markdown",
   "metadata": {},
   "source": [
    "## Central Limit Theorem\n",
    "\n",
    "The Central Limit Theorem tells us that as **sample sizes get larger**, the **sampling distribution of the mean** will become **normally distributed** with mean mu and variance sigma^2/N for sample size N, even if the data within each sample are not normally distributed. \n",
    "\n",
    "The Central Limit Theorem is important for statistics because it allows us to safely assume that the sampling distribution of the mean will be normal in most cases. This means that we can take advantage of statistical techniques that assume a normal distribution."
   ]
  },
  {
   "cell_type": "markdown",
   "metadata": {},
   "source": [
    "## Confidence Interval\n",
    "It provides a measure of our **degree of uncertainty** about how close our estimate is to the population parameter\n",
    "\n",
    "The larger the confidence interval, the greater our uncertainty.\n",
    "\n",
    "**95% confidence Interval** - What is the range of values within which we would expect to capture 95% of all estimates of the mean\n",
    "\n",
    "To answer this, we use normal distribution, for which we know the values between which we expect 95% of all sample means to fall. This can be easily computed as shown in previous lecture.\n",
    "\n",
    "**Note** : Confidence intervals are notoriously **confusing**, primarily because they don’t mean what we would hope they mean. *Like Woman.*\n",
    "\n",
    "It seems natural to think that the 95% confidence interval tells us that there is a 95% chance that the population mean falls within the interval. We can’t interpret them in this way because the population parameter has a fixed value – it either is or isn’t in the interval.\n",
    "\n",
    "The proper interpretation of the 95% confidence interval is that **it is an interval that will contain the true population mean 95% of the time**"
   ]
  },
  {
   "cell_type": "markdown",
   "metadata": {},
   "source": [
    "## A. Sampling Distribution of Mean\n",
    "\n",
    "**Mean** : The mean of the sampling distribution of mean is the mean of the population from which the scores were sampled\n",
    "\n",
    "**Variance** : Variance of the sampling distribution of mean is the population variance divided by N (sample size). Larger the sample size, smaller the variance of the sampling distribution of mean\n",
    "\n",
    "**Standard Error** - It the standard deviation of the sampling distribution of mean"
   ]
  },
  {
   "cell_type": "markdown",
   "metadata": {},
   "source": [
    "### Example 1: Binomial Population\n",
    "Let us assume that we know that data is coming from binomial distribution with parameters(n,p).\n",
    "We can define our population to be of size 1,000,000 and its mean to be the population mean\n",
    "\n",
    "We would like to predict this population mean by picking few samples from this population"
   ]
  },
  {
   "cell_type": "markdown",
   "metadata": {},
   "source": [
    "### 1.1 Creating Binomial Population"
   ]
  },
  {
   "cell_type": "code",
   "execution_count": 34,
   "metadata": {},
   "outputs": [
    {
     "name": "stdout",
     "output_type": "stream",
     "text": [
      "Population size : 100000\n",
      "Population Mean : 9.00316\n",
      "Population Standard Deviation : 0.9475389250051948\n"
     ]
    },
    {
     "data": {
      "text/plain": [
       "(array([2.0000e+00, 9.0000e+00, 1.4100e+02, 0.0000e+00, 1.0830e+03,\n",
       "        5.7640e+03, 0.0000e+00, 1.9357e+04, 3.8573e+04, 3.5071e+04]),\n",
       " array([ 3. ,  3.7,  4.4,  5.1,  5.8,  6.5,  7.2,  7.9,  8.6,  9.3, 10. ]),\n",
       " <a list of 10 Patch objects>)"
      ]
     },
     "execution_count": 34,
     "metadata": {},
     "output_type": "execute_result"
    },
    {
     "data": {
      "image/png": "[encoded data removed]",
      "text/plain": [
       "<Figure size 432x288 with 1 Axes>"
      ]
     },
     "metadata": {
      "needs_background": "light"
     },
     "output_type": "display_data"
    }
   ],
   "source": [
    "from scipy import stats\n",
    "import numpy as np\n",
    "import pandas as pd\n",
    "from scipy.stats import binom\n",
    "from matplotlib import pyplot as plt\n",
    "%matplotlib inline\n",
    "\n",
    "\n",
    "#Fair coin example - Number of heads in a toss of a fair coin ten times\n",
    "\n",
    "#generate population data - many samples\n",
    "n=10,\n",
    "p=0.9,\n",
    "size=100000\n",
    "\n",
    "pop_binom=binom.rvs(n=n,p=p,size=size)\n",
    "print(\"Population size :\",len(pop_binom))\n",
    "print(\"Population Mean :\", pop_binom.mean())\n",
    "print(\"Population Standard Deviation :\", pop_binom.std())\n",
    "\n",
    "plt.hist(pop_binom)"
   ]
  },
  {
   "cell_type": "markdown",
   "metadata": {},
   "source": [
    "### 1.2 Pulling Multiple samples from this population"
   ]
  },
  {
   "cell_type": "code",
   "execution_count": 36,
   "metadata": {},
   "outputs": [
    {
     "name": "stdout",
     "output_type": "stream",
     "text": [
      "Minimum Sample Mean :  8.2\n",
      "Maximum Sample Mean :  9.6\n",
      "Average Sample Mean :  8.952\n",
      "Standard Deviation of Sample Mean :  0.2923969904085882\n",
      "Percentile 2.5 : 8.4\n",
      "Percentile 97.5 : 9.4525\n",
      "Percentile 95 : 9.4\n",
      "Median : 9.0\n",
      "\n",
      "Plotting histogram\n"
     ]
    },
    {
     "data": {
      "image/png": "[encoded data removed]",
      "text/plain": [
       "<Figure size 432x288 with 1 Axes>"
      ]
     },
     "metadata": {
      "needs_background": "light"
     },
     "output_type": "display_data"
    },
    {
     "name": "stdout",
     "output_type": "stream",
     "text": [
      "\n",
      "Plotting Normal distribution using parameters from above sampling results\n"
     ]
    },
    {
     "data": {
      "image/png": "[encoded data removed]",
      "text/plain": [
       "<Figure size 1224x360 with 1 Axes>"
      ]
     },
     "metadata": {
      "needs_background": "light"
     },
     "output_type": "display_data"
    },
    {
     "name": "stdout",
     "output_type": "stream",
     "text": [
      "Sample Data Mean : 8.952\n",
      "Sample Data Standard Deviation : 0.2923969904085882\n",
      "Confidence Intrval ( 8.378901898799167 , 9.525098101200832 )\n"
     ]
    }
   ],
   "source": [
    "def sampling_data(data,sample_size=10,n_samples=1000):\n",
    "    sample_binom=np.empty(n_samples)\n",
    "    \n",
    "    for i in range(n_samples):\n",
    "        np.random.shuffle(pop_binom)\n",
    "        sample_binom[i]=pop_binom[0:sample_size].mean()\n",
    "    \n",
    "    print(\"Minimum Sample Mean : \",sample_binom.min())\n",
    "    print(\"Maximum Sample Mean : \",sample_binom.max())\n",
    "    print(\"Average Sample Mean : \",sample_binom.mean())\n",
    "    print(\"Standard Deviation of Sample Mean : \",sample_binom.std())\n",
    "    print(\"Percentile 2.5 :\", np.percentile(sample_binom, 2.5))\n",
    "    print(\"Percentile 97.5 :\", np.percentile(sample_binom, 97.5))\n",
    "    print(\"Percentile 95 :\", np.percentile(sample_binom, 95))\n",
    "    print(\"Median :\", np.percentile(sample_binom, 50))\n",
    "\n",
    "\n",
    "    \n",
    "    #Plotting histogram\n",
    "    print(\"\\nPlotting histogram\")\n",
    "    plt.hist(sample_binom)\n",
    "    plt.show()\n",
    "    \n",
    "    #Plotting Normal distribution using parameters from above sampling results\n",
    "    print(\"\\nPlotting Normal distribution using parameters from above sampling results\")\n",
    "    plt.figure(figsize=(17,5))\n",
    "    x=np.linspace(sample_binom.min(),sample_binom.max(),1000)\n",
    "    y=stats.norm.pdf(x,sample_binom.mean(),np.power(sample_binom.std(),2))\n",
    "    plt.plot(x,y,label='sample_size_'+str(sample_size))\n",
    "    plt.legend()\n",
    "    plt.show()\n",
    "    \n",
    "    return sample_binom\n",
    "\n",
    "sample_size=10\n",
    "n_samples=100\n",
    "sample_data=sampling_data(pop_binom,sample_size,n_samples)\n",
    "\n",
    "\n",
    "sample_data_mean=sample_data.mean()\n",
    "sample_data_SEM=sample_data.std()\n",
    "\n",
    "print(\"Sample Data Mean :\", sample_data_mean)\n",
    "print(\"Sample Data Standard Deviation :\", sample_data_SEM)\n",
    "#Confidence Interval\n",
    "LCI=sample_data_mean - 1.96*sample_data_SEM\n",
    "UCI=sample_data_mean + 1.96*sample_data_SEM\n",
    "\n",
    "print(\"Confidence Intrval (\",LCI,\",\",UCI,\")\")\n"
   ]
  },
  {
   "cell_type": "markdown",
   "metadata": {},
   "source": [
    "### 1.3 Lets estimate from one sample only"
   ]
  },
  {
   "cell_type": "code",
   "execution_count": 37,
   "metadata": {},
   "outputs": [
    {
     "name": "stdout",
     "output_type": "stream",
     "text": [
      "[10  9  9  9 10  8  7 10  8 10]\n",
      "Size of the sample :  10\n",
      "Minimum value in the sample :  7\n",
      "Maximum value in the sample :  10\n",
      "Average value in the sample :  9.0\n",
      "Standard Deviation of Sample :  1.0\n",
      "Estimated Standard Error :  0.31622776601683794\n",
      "Confidence Intrval ( 8.81929692863706 , 9.18070307136294 )\n"
     ]
    }
   ],
   "source": [
    "#Pulling just one sample - same size as above\n",
    "n=10\n",
    "p=0.9\n",
    "sample_size=10\n",
    "np.random.shuffle(pop_binom)\n",
    "one_sample=pop_binom[0:sample_size]\n",
    "print(one_sample)\n",
    "\n",
    "print(\"Size of the sample : \",len(one_sample))\n",
    "print(\"Minimum value in the sample : \",one_sample.min())\n",
    "print(\"Maximum value in the sample : \",one_sample.max())\n",
    "print(\"Average value in the sample : \",one_sample.mean())\n",
    "print(\"Standard Deviation of Sample : \",one_sample.std())\n",
    "print(\"Estimated Standard Error : \",one_sample.std()/(np.sqrt(len(one_sample))))\n",
    "\n",
    "one_sample_mean=one_sample.mean()\n",
    "#one_sample_SEM= np.sqrt(p*(1-p)/sample_size)\n",
    "one_sample.std()/(np.sqrt(len(one_sample)))\n",
    "\n",
    "#Confidence Interval\n",
    "LCI=one_sample_mean - 1.96*one_sample_SEM\n",
    "UCI=one_sample_mean + 1.96*one_sample_SEM\n",
    "\n",
    "print(\"Confidence Intrval (\",LCI,\",\",UCI,\")\")"
   ]
  },
  {
   "cell_type": "code",
   "execution_count": null,
   "metadata": {},
   "outputs": [],
   "source": []
  },
  {
   "cell_type": "code",
   "execution_count": 38,
   "metadata": {},
   "outputs": [
    {
     "name": "stdout",
     "output_type": "stream",
     "text": [
      "[ 9 10  8  7 10  9  9  9  9 10  9 10  7  9  9  9  9  8 10  9  8  9 10  8\n",
      "  8  8 10  9 10  9  9  9  8  7  9  6  9  9  8 10 10  7 10  9  7  9  8  9\n",
      "  9  8  9  9 10  9  8  9  7 10  7  9 10  7  8  6 10 10 10 10  6 10 10 10\n",
      "  7  9  9  7 10 10 10  9  8 10 10  7  8 10  9  9  9  8 10  8 10  9 10 10\n",
      "  9  8 10 10]\n",
      "Size of the sample :  100\n",
      "Minimum value in the sample :  6\n",
      "Maximum value in the sample :  10\n",
      "Average value in the sample :  8.85\n",
      "Standard Deviation of Sample :  1.0897247358851685\n",
      "Estimated Standard Error :  0.10897247358851685\n",
      "Confidence Intrval ( 8.636413951766507 , 9.063586048233493 )\n"
     ]
    }
   ],
   "source": [
    "#Pulling just one sample - bigger size\n",
    "\n",
    "sample_size=100\n",
    "np.random.shuffle(pop_binom)\n",
    "one_sample=pop_binom[0:sample_size]\n",
    "print(one_sample)\n",
    "\n",
    "print(\"Size of the sample : \",len(one_sample))\n",
    "print(\"Minimum value in the sample : \",one_sample.min())\n",
    "print(\"Maximum value in the sample : \",one_sample.max())\n",
    "print(\"Average value in the sample : \",one_sample.mean())\n",
    "print(\"Standard Deviation of Sample : \",one_sample.std())\n",
    "print(\"Estimated Standard Error : \",one_sample.std()/(np.sqrt(len(one_sample))))\n",
    "#print(\"Estimated Standard Error : \", np.sqrt(p*(1-p)/sample_size))\n",
    "\n",
    "one_sample_mean=one_sample.mean()\n",
    "#one_sample_SEM= np.sqrt(p*(1-p)/sample_size)\n",
    "one_sample_SEM=one_sample.std()/(np.sqrt(len(one_sample)))\n",
    "\n",
    "#Confidence Interval\n",
    "LCI=one_sample_mean - 1.96*one_sample_SEM\n",
    "UCI=one_sample_mean + 1.96*one_sample_SEM\n",
    "\n",
    "print(\"Confidence Intrval (\",LCI,\",\",UCI,\")\")"
   ]
  },
  {
   "cell_type": "code",
   "execution_count": null,
   "metadata": {},
   "outputs": [],
   "source": []
  },
  {
   "cell_type": "code",
   "execution_count": 39,
   "metadata": {},
   "outputs": [
    {
     "name": "stdout",
     "output_type": "stream",
     "text": [
      "Size of the sample :  1000\n",
      "Minimum value in the sample :  5\n",
      "Maximum value in the sample :  10\n",
      "Average value in the sample :  9.001\n",
      "Standard Deviation of Sample :  0.9439274336515492\n",
      "Estimated Standard Error :  0.029849606362563643\n",
      "Estimated Standard Error :  0.009486832980505136\n",
      "Confidence Intrval ( 8.982405807358209 , 9.01959419264179 )\n"
     ]
    }
   ],
   "source": [
    "one_sample.std()/np.sqrt(len(one_sample))\n",
    "#Pulling just one sample - bigger size\n",
    "\n",
    "sample_size=1000\n",
    "np.random.shuffle(pop_binom)\n",
    "one_sample=pop_binom[0:sample_size]\n",
    "#print(one_sample)\n",
    "\n",
    "print(\"Size of the sample : \",len(one_sample))\n",
    "print(\"Minimum value in the sample : \",one_sample.min())\n",
    "print(\"Maximum value in the sample : \",one_sample.max())\n",
    "print(\"Average value in the sample : \",one_sample.mean())\n",
    "print(\"Standard Deviation of Sample : \",one_sample.std())\n",
    "print(\"Estimated Standard Error : \",one_sample.std()/(np.sqrt(len(one_sample))))\n",
    "print(\"Estimated Standard Error : \", np.sqrt(p*(1-p)/sample_size))\n",
    "\n",
    "\n",
    "one_sample_mean=one_sample.mean()\n",
    "one_sample_SEM= np.sqrt(p*(1-p)/sample_size)\n",
    "\n",
    "#Confidence Interval\n",
    "LCI=one_sample_mean - 1.96*one_sample_SEM\n",
    "UCI=one_sample_mean + 1.96*one_sample_SEM\n",
    "\n",
    "print(\"Confidence Intrval (\",LCI,\",\",UCI,\")\")"
   ]
  },
  {
   "cell_type": "markdown",
   "metadata": {},
   "source": [
    "### 1.4 Normality Test - Population v/s sample v/s sampling distribution"
   ]
  },
  {
   "cell_type": "code",
   "execution_count": 49,
   "metadata": {},
   "outputs": [],
   "source": [
    "#Test of Normality\n",
    "import matplotlib.pyplot as plt\n",
    "%matplotlib inline\n",
    "\n",
    "def shapiro_normality_test(data):\n",
    "    from scipy.stats import shapiro\n",
    "    print(\"Shapiro-Wilk test for Normality\")\n",
    "    print(\"Null Hypothesis : Data is drawn from a normal distribution\")\n",
    "    print(\"Alternative Hypothesis : Data is not drawn from a normal distribution\")\n",
    "    \n",
    "    stats,p=shapiro(data)\n",
    "    \n",
    "    print(\"P-value :\", p)\n",
    "    if p>0.05:\n",
    "        print('Fail to reject Null Hypotheis : Sample Looks Gaussian')\n",
    "    else:\n",
    "        print('Reject Null Hypotheis : Sample does not Look Gaussian')\n",
    "     \n",
    "    print(\"\\n\")\n",
    "\n",
    "\n",
    "def d_agostino_normality_test(data):\n",
    "    from scipy.stats import normaltest\n",
    "    print(\"D-Agostino and Pearson test for Normality\")\n",
    "    print(\"combines skew and kurtosis to produce an omnibus test of normality\")\n",
    "    print(\"Null Hypothesis : Data is drawn from a normal distribution\")\n",
    "    print(\"Alternative Hypothesis : Data is not drawn from a normal distribution\")\n",
    "    \n",
    "    stats,p=normaltest(data)\n",
    "    \n",
    "    print(\"P-value :\", p)\n",
    "    if p>0.05:\n",
    "        print('Fail to reject Null Hypotheis : Sample Looks Gaussian')\n",
    "    else:\n",
    "        print('Reject Null Hypotheis : Sample does not Look Gaussian')\n",
    "        \n",
    "    print(\"\\n\")\n",
    "\n",
    "\n",
    "def anderson_normality_test(data):\n",
    "    from scipy.stats import anderson\n",
    "    print(\"Anderson test for Normality\")\n",
    "    print(\"the critical values depend on which distribution is being tested against\")\n",
    "    print(\"Null Hypothesis : Data is drawn from a normal distribution\")\n",
    "    print(\"Alternative Hypothesis : Data is not drawn from a normal distribution\")\n",
    "    \n",
    "    result=anderson(data,dist='norm')\n",
    "    print(\"level of significance : \",result.significance_level[4])\n",
    "    print(\"Critical value : \",result.critical_values[4])\n",
    " \n",
    "    print(\"Result statistic :\", result.statistic)\n",
    "    if result.statistic<result.critical_values[4]:\n",
    "        print('Fail to reject Null Hypotheis : Sample Looks Gaussian')\n",
    "    else:\n",
    "        print('Reject Null Hypotheis : Sample does not Look Gaussian')\n",
    "        \n",
    "    print(\"\\n\")\n",
    "    \n",
    "def qqplot_normality_test(data):\n",
    "    from statsmodels.graphics.gofplots import qqplot\n",
    "    print(\"QQPlot test for Normality\")\n",
    "    qqplot(data,line='s')\n",
    "    pyplot.show()\n",
    "    print(\"\\n\")\n",
    "    \n",
    "    \n",
    "def normality_test(data):\n",
    "    #qqplot_normality_test(data)\n",
    "    shapiro_normality_test(data)\n",
    "    d_agostino_normality_test(data)\n",
    "    anderson_normality_test(data)"
   ]
  },
  {
   "cell_type": "markdown",
   "metadata": {},
   "source": [
    "#### Normality test on Population"
   ]
  },
  {
   "cell_type": "code",
   "execution_count": 50,
   "metadata": {},
   "outputs": [
    {
     "name": "stdout",
     "output_type": "stream",
     "text": [
      "Shapiro-Wilk test for Normality\n",
      "Null Hypothesis : Data is drawn from a normal distribution\n",
      "Alternative Hypothesis : Data is not drawn from a normal distribution\n",
      "P-value : 0.0\n",
      "Reject Null Hypotheis : Sample does not Look Gaussian\n",
      "\n",
      "\n",
      "D-Agostino and Pearson test for Normality\n",
      "combines skew and kurtosis to produce an omnibus test of normality\n",
      "Null Hypothesis : Data is drawn from a normal distribution\n",
      "Alternative Hypothesis : Data is not drawn from a normal distribution\n",
      "P-value : 0.0\n",
      "Reject Null Hypotheis : Sample does not Look Gaussian\n",
      "\n",
      "\n",
      "Anderson test for Normality\n",
      "the critical values depend on which distribution is being tested against\n",
      "Null Hypothesis : Data is drawn from a normal distribution\n",
      "Alternative Hypothesis : Data is not drawn from a normal distribution\n",
      "level of significance :  1.0\n",
      "Critical value :  1.092\n",
      "Result statistic : 5997.963678305212\n",
      "Reject Null Hypotheis : Sample does not Look Gaussian\n",
      "\n",
      "\n"
     ]
    },
    {
     "name": "stderr",
     "output_type": "stream",
     "text": [
      "C:\\ProgramData\\Anaconda3\\lib\\site-packages\\scipy\\stats\\morestats.py:1653: UserWarning: p-value may not be accurate for N > 5000.\n",
      "  warnings.warn(\"p-value may not be accurate for N > 5000.\")\n"
     ]
    }
   ],
   "source": [
    "#Normality test on Population        \n",
    "normality_test(pop_binom)"
   ]
  },
  {
   "cell_type": "markdown",
   "metadata": {},
   "source": [
    "#### Normality test on one sample"
   ]
  },
  {
   "cell_type": "code",
   "execution_count": 51,
   "metadata": {},
   "outputs": [
    {
     "name": "stdout",
     "output_type": "stream",
     "text": [
      "Shapiro-Wilk test for Normality\n",
      "Null Hypothesis : Data is drawn from a normal distribution\n",
      "Alternative Hypothesis : Data is not drawn from a normal distribution\n",
      "P-value : 1.440342067780067e-30\n",
      "Reject Null Hypotheis : Sample does not Look Gaussian\n",
      "\n",
      "\n",
      "D-Agostino and Pearson test for Normality\n",
      "combines skew and kurtosis to produce an omnibus test of normality\n",
      "Null Hypothesis : Data is drawn from a normal distribution\n",
      "Alternative Hypothesis : Data is not drawn from a normal distribution\n",
      "P-value : 1.7676693321131014e-23\n",
      "Reject Null Hypotheis : Sample does not Look Gaussian\n",
      "\n",
      "\n",
      "Anderson test for Normality\n",
      "the critical values depend on which distribution is being tested against\n",
      "Null Hypothesis : Data is drawn from a normal distribution\n",
      "Alternative Hypothesis : Data is not drawn from a normal distribution\n",
      "level of significance :  1.0\n",
      "Critical value :  1.088\n",
      "Result statistic : 60.43215303619672\n",
      "Reject Null Hypotheis : Sample does not Look Gaussian\n",
      "\n",
      "\n"
     ]
    }
   ],
   "source": [
    "normality_test(one_sample)"
   ]
  },
  {
   "cell_type": "markdown",
   "metadata": {},
   "source": [
    "#### Normality test on sampling distribution of mean"
   ]
  },
  {
   "cell_type": "code",
   "execution_count": 52,
   "metadata": {},
   "outputs": [
    {
     "name": "stdout",
     "output_type": "stream",
     "text": [
      "Shapiro-Wilk test for Normality\n",
      "Null Hypothesis : Data is drawn from a normal distribution\n",
      "Alternative Hypothesis : Data is not drawn from a normal distribution\n",
      "P-value : 0.09944283217191696\n",
      "Fail to reject Null Hypotheis : Sample Looks Gaussian\n",
      "\n",
      "\n",
      "D-Agostino and Pearson test for Normality\n",
      "combines skew and kurtosis to produce an omnibus test of normality\n",
      "Null Hypothesis : Data is drawn from a normal distribution\n",
      "Alternative Hypothesis : Data is not drawn from a normal distribution\n",
      "P-value : 0.3645362313688131\n",
      "Fail to reject Null Hypotheis : Sample Looks Gaussian\n",
      "\n",
      "\n",
      "Anderson test for Normality\n",
      "the critical values depend on which distribution is being tested against\n",
      "Null Hypothesis : Data is drawn from a normal distribution\n",
      "Alternative Hypothesis : Data is not drawn from a normal distribution\n",
      "level of significance :  1.0\n",
      "Critical value :  1.053\n",
      "Result statistic : 0.8286284541401869\n",
      "Fail to reject Null Hypotheis : Sample Looks Gaussian\n",
      "\n",
      "\n"
     ]
    }
   ],
   "source": [
    "normality_test(sample_data)"
   ]
  },
  {
   "cell_type": "markdown",
   "metadata": {},
   "source": [
    "### 1.5 one sample mean test"
   ]
  },
  {
   "cell_type": "code",
   "execution_count": 212,
   "metadata": {},
   "outputs": [
    {
     "name": "stdout",
     "output_type": "stream",
     "text": [
      "\n",
      "\n",
      "Estimating population mean to be equal to  5\n",
      "Null Hypothesis : Mean value of population is equal to  5\n",
      "Alternative Hypothesis : Mean value of population is not equal to  5\n",
      "t-statistic : 40.41282983195486\n",
      "p-value : probability of seeing this test statistic when null hypothesis is true : 2.4486337373267427e-63\n",
      "Probability is very low, hence reject the null hypothesis\n",
      "Population mean is not equal to  5\n",
      "\n",
      "\n",
      "Estimating population mean to be equal to  9\n",
      "Null Hypothesis : Mean value of population is equal to  9\n",
      "Alternative Hypothesis : Mean value of population is not equal to  9\n",
      "t-statistic : 0.2010588548853433\n",
      "p-value : probability of seeing this test statistic when null hypothesis is true : 0.8410650588386251\n",
      "Probability is not so low, hence Fail to reject the null hypothesis\n",
      "Population mean is equal to  9\n"
     ]
    }
   ],
   "source": [
    "#One sample t-test\n",
    "\n",
    "def one_sample_mean_test(data,mean_val):\n",
    "    statistic,p=stats.ttest_1samp(one_sample,mean_val)\n",
    "    print(\"\\n\")\n",
    "    print(\"Estimating population mean to be equal to \", mean_val)\n",
    "    print(\"Null Hypothesis : Mean value of population is equal to \",mean_val)\n",
    "    print(\"Alternative Hypothesis : Mean value of population is not equal to \",mean_val)\n",
    "    \n",
    "    print(\"t-statistic :\",statistic)\n",
    "    print(\"p-value : probability of seeing this test statistic when null hypothesis is true :\",p)\n",
    "    \n",
    "    if p>0.05:\n",
    "        print(\"Probability is not so low, hence Fail to reject the null hypothesis\")\n",
    "        print(\"Population mean is equal to \",mean_val)\n",
    "    else :\n",
    "        print(\"Probability is very low, hence reject the null hypothesis\")\n",
    "        print(\"Population mean is not equal to \",mean_val)\n",
    "        \n",
    "one_sample_mean_test(one_sample,5)\n",
    "one_sample_mean_test(one_sample,9)"
   ]
  },
  {
   "cell_type": "code",
   "execution_count": null,
   "metadata": {},
   "outputs": [],
   "source": []
  },
  {
   "cell_type": "code",
   "execution_count": null,
   "metadata": {},
   "outputs": [],
   "source": []
  },
  {
   "cell_type": "markdown",
   "metadata": {},
   "source": [
    "### Example 2: Normal Distribution\n",
    "Let us assume that we know that data is coming from Normal distribution with parameters(mu,sigma).\n",
    "We can define our population to be of size 1,000,000 and its mean to be the population mean and variance to be population variance\n",
    "\n",
    "We would like to predict this population mean by picking few samples from this population"
   ]
  },
  {
   "cell_type": "markdown",
   "metadata": {},
   "source": [
    "### 1.1 Creating Normal Population"
   ]
  },
  {
   "cell_type": "code",
   "execution_count": 269,
   "metadata": {},
   "outputs": [
    {
     "name": "stdout",
     "output_type": "stream",
     "text": [
      "Population size : 1000000\n",
      "Population Mean : 39.985592440996236\n",
      "Population Standard Deviation : 19.981148167327635\n"
     ]
    },
    {
     "data": {
      "text/plain": [
       "(array([9.50000e+01, 2.56800e+03, 3.22690e+04, 1.61535e+05, 3.46530e+05,\n",
       "        3.14684e+05, 1.21458e+05, 1.95090e+04, 1.30000e+03, 5.20000e+01]),\n",
       " array([-53.98547571, -34.75872267, -15.53196962,   3.69478342,\n",
       "         22.92153646,  42.1482895 ,  61.37504254,  80.60179558,\n",
       "         99.82854862, 119.05530166, 138.2820547 ]),\n",
       " <a list of 10 Patch objects>)"
      ]
     },
     "execution_count": 269,
     "metadata": {},
     "output_type": "execute_result"
    },
    {
     "data": {
      "image/png": "[encoded data removed]",
      "text/plain": [
       "<Figure size 432x288 with 1 Axes>"
      ]
     },
     "metadata": {
      "needs_background": "light"
     },
     "output_type": "display_data"
    }
   ],
   "source": [
    "from scipy import stats\n",
    "import numpy as np\n",
    "import pandas as pd\n",
    "from scipy.stats import binom\n",
    "from scipy.stats import norm\n",
    "from matplotlib import pyplot as plt\n",
    "%matplotlib inline\n",
    "\n",
    "\n",
    "#Fair coin example - Number of heads in a toss of a fair coin ten times\n",
    "\n",
    "#generate population data - many samples\n",
    "mu=40,\n",
    "sigma=20,\n",
    "size=1000000\n",
    "\n",
    "pop_normal=norm.rvs(loc=mu,scale=sigma,size=size)\n",
    "print(\"Population size :\",len(pop_normal))\n",
    "print(\"Population Mean :\", pop_normal.mean())\n",
    "print(\"Population Standard Deviation :\", pop_normal.std())\n",
    "\n",
    "plt.hist(pop_normal)"
   ]
  },
  {
   "cell_type": "markdown",
   "metadata": {},
   "source": [
    "### 1.2 Pulling Multiple samples from this population"
   ]
  },
  {
   "cell_type": "code",
   "execution_count": 284,
   "metadata": {},
   "outputs": [
    {
     "name": "stdout",
     "output_type": "stream",
     "text": [
      "Minimum Sample Mean :  33.88373100806857\n",
      "Maximum Sample Mean :  46.236009401712366\n",
      "Average Sample Mean :  40.00396936439327\n",
      "Standard Deviation of Sample Mean :  1.998010226747688\n",
      "Percentile 2.5 : 36.14362101799951\n",
      "Percentile 97.5 : 43.87933531348676\n",
      "Percentile 95 : 43.31165754986953\n",
      "Median : 39.9723094719443\n",
      "\n",
      "Plotting histogram\n"
     ]
    },
    {
     "data": {
      "image/png": "[encoded data removed]",
      "text/plain": [
       "<Figure size 432x288 with 1 Axes>"
      ]
     },
     "metadata": {
      "needs_background": "light"
     },
     "output_type": "display_data"
    },
    {
     "name": "stdout",
     "output_type": "stream",
     "text": [
      "\n",
      "Plotting Normal distribution using parameters from above sampling results\n"
     ]
    },
    {
     "data": {
      "image/png": "[encoded data removed]",
      "text/plain": [
       "<Figure size 1224x360 with 1 Axes>"
      ]
     },
     "metadata": {
      "needs_background": "light"
     },
     "output_type": "display_data"
    },
    {
     "name": "stdout",
     "output_type": "stream",
     "text": [
      "Minimum Sample Mean :  15.33529929633694\n",
      "Maximum Sample Mean :  23.732790815619595\n",
      "Average Sample Mean :  19.736701780878438\n",
      "Standard Deviation of Sample Mean :  1.4444371677302108\n",
      "Percentile 2.5 : 16.98998604104254\n",
      "Percentile 97.5 : 22.66335362694634\n",
      "Percentile 95 : 22.197269094946673\n",
      "Median : 19.724821556584082\n",
      "\n",
      "Plotting histogram\n"
     ]
    },
    {
     "data": {
      "image/png": "[encoded data removed]",
      "text/plain": [
       "<Figure size 432x288 with 1 Axes>"
      ]
     },
     "metadata": {
      "needs_background": "light"
     },
     "output_type": "display_data"
    },
    {
     "name": "stdout",
     "output_type": "stream",
     "text": [
      "\n",
      "Plotting Normal distribution using parameters from above sampling results\n"
     ]
    },
    {
     "data": {
      "image/png": "[encoded data removed]",
      "text/plain": [
       "<Figure size 1224x360 with 1 Axes>"
      ]
     },
     "metadata": {
      "needs_background": "light"
     },
     "output_type": "display_data"
    },
    {
     "name": "stdout",
     "output_type": "stream",
     "text": [
      "\n",
      "\n",
      "Statistic Name :  mean\n",
      "Mean of the Sample Statistic :  40.00396936439327\n",
      "Standard Deviation of the Sample Statistic :  1.998010226747688\n",
      "Confidence Intrval ( 36.0878693199678 , 43.92006940881874 )\n",
      "\n",
      "\n",
      "Statistic Name :  sigma\n",
      "Mean of the Sample Statistic :  19.736701780878438\n",
      "Standard Deviation of the Sample Statistic :  1.4444371677302108\n",
      "Confidence Intrval ( 16.905604932127225 , 22.56779862962965 )\n"
     ]
    }
   ],
   "source": [
    "def sampling_data(data,sample_size=100,n_samples=1000):\n",
    "    \n",
    "    sample_normal_mean=np.empty(n_samples)\n",
    "    sample_normal_sigma=np.empty(n_samples)\n",
    "    \n",
    "    for i in range(n_samples):\n",
    "        np.random.shuffle(data)\n",
    "        sample_normal_mean[i]=data[0:sample_size].mean()\n",
    "        sample_normal_sigma[i]=data[0:sample_size].std()\n",
    "    \n",
    "    \n",
    "    #Sampling distribution of mean\n",
    "    print(\"Minimum Sample Mean : \",sample_normal_mean.min())\n",
    "    print(\"Maximum Sample Mean : \",sample_normal_mean.max())\n",
    "    print(\"Average Sample Mean : \",sample_normal_mean.mean())\n",
    "    print(\"Standard Deviation of Sample Mean : \",sample_normal_mean.std())\n",
    "    print(\"Percentile 2.5 :\", np.percentile(sample_normal_mean, 2.5))\n",
    "    print(\"Percentile 97.5 :\", np.percentile(sample_normal_mean, 97.5))\n",
    "    print(\"Percentile 95 :\", np.percentile(sample_normal_mean, 95))\n",
    "    print(\"Median :\", np.percentile(sample_normal_mean, 50))\n",
    "    \n",
    "    \n",
    "    #Plotting histogram\n",
    "    print(\"\\nPlotting histogram\")\n",
    "    plt.hist(sample_normal_mean)\n",
    "    plt.show()\n",
    "    \n",
    "    #Plotting Normal distribution using parameters from above sampling results\n",
    "    print(\"\\nPlotting Normal distribution using parameters from above sampling results\")\n",
    "    plt.figure(figsize=(17,5))\n",
    "    x=np.linspace(sample_normal_mean.mean()-3*sample_normal_mean.std(),sample_normal_mean.mean()+3*sample_normal_mean.std(),1000)\n",
    "    y=stats.norm.pdf(x,sample_normal_mean.mean(),np.power(sample_normal_mean.std(),2))\n",
    "    plt.plot(x,y,label='sample_size_'+str(sample_size))\n",
    "    plt.legend()\n",
    "    plt.show()\n",
    "    \n",
    "    \n",
    "\n",
    "    #Sampling distribution of sigma\n",
    "    print(\"Minimum Sample Mean : \",sample_normal_sigma.min())\n",
    "    print(\"Maximum Sample Mean : \",sample_normal_sigma.max())\n",
    "    print(\"Average Sample Mean : \",sample_normal_sigma.mean())\n",
    "    print(\"Standard Deviation of Sample Mean : \",sample_normal_sigma.std())\n",
    "    print(\"Percentile 2.5 :\", np.percentile(sample_normal_sigma, 2.5))\n",
    "    print(\"Percentile 97.5 :\", np.percentile(sample_normal_sigma, 97.5))\n",
    "    print(\"Percentile 95 :\", np.percentile(sample_normal_sigma, 95))\n",
    "    print(\"Median :\", np.percentile(sample_normal_sigma, 50))\n",
    "    \n",
    "    #Plotting histogram\n",
    "    print(\"\\nPlotting histogram\")\n",
    "    plt.hist(sample_normal_sigma)\n",
    "    plt.show()\n",
    "    \n",
    "    #Plotting Normal distribution using parameters from above sampling results\n",
    "    print(\"\\nPlotting Normal distribution using parameters from above sampling results\")\n",
    "    plt.figure(figsize=(17,5))\n",
    "    x=np.linspace(sample_normal_sigma.mean()-3*sample_normal_sigma.std(),sample_normal_sigma.mean()+3*sample_normal_sigma.std(),1000)\n",
    "    y=stats.norm.pdf(x,sample_normal_sigma.mean(),np.power(sample_normal_sigma.std(),2))\n",
    "    plt.plot(x,y,label='sample_size_'+str(sample_size))\n",
    "    plt.legend()\n",
    "    plt.show()\n",
    "    \n",
    "\n",
    "    \n",
    "    \n",
    "    return sample_normal_mean, sample_normal_sigma\n",
    "\n",
    "sample_size=100\n",
    "n_samples=1000\n",
    "\n",
    "sample_data_mean, sample_data_sigma=sampling_data(pop_normal,sample_size,n_samples)\n",
    "\n",
    "def estimated_statistic(statistic_sample,statistic_name):\n",
    "    print(\"\\n\")\n",
    "    print(\"Statistic Name : \",statistic_name)\n",
    "    estimate_mean=statistic_sample.mean()\n",
    "    estimate_std=statistic_sample.std()\n",
    "    \n",
    "    print(\"Mean of the Sample Statistic : \", estimate_mean)\n",
    "    print(\"Standard Deviation of the Sample Statistic : \", estimate_std)\n",
    "    \n",
    "    #Confidence Interval\n",
    "    \n",
    "    LCI=estimate_mean - 1.96*estimate_std\n",
    "    UCI=estimate_mean + 1.96*estimate_std\n",
    "    \n",
    "    print(\"Confidence Intrval (\",LCI,\",\",UCI,\")\")\n",
    "\n",
    "\n",
    "estimated_statistic(sample_data_mean,\"mean\")\n",
    "estimated_statistic(sample_data_sigma,\"sigma\")\n"
   ]
  },
  {
   "cell_type": "code",
   "execution_count": 280,
   "metadata": {},
   "outputs": [
    {
     "data": {
      "text/plain": [
       "1.959963984540054"
      ]
     },
     "execution_count": 280,
     "metadata": {},
     "output_type": "execute_result"
    }
   ],
   "source": [
    "vals = norm.ppf([0.001, 0.5, 0.999])\n",
    "vals\n",
    "\n",
    "norm.ppf(0.025)\n",
    "norm.ppf(0.975)"
   ]
  },
  {
   "cell_type": "code",
   "execution_count": 285,
   "metadata": {},
   "outputs": [
    {
     "name": "stdout",
     "output_type": "stream",
     "text": [
      "QQPlot test for Normality\n"
     ]
    },
    {
     "data": {
      "image/png": "[encoded data removed]",
      "text/plain": [
       "<Figure size 432x288 with 1 Axes>"
      ]
     },
     "metadata": {
      "needs_background": "light"
     },
     "output_type": "display_data"
    },
    {
     "name": "stdout",
     "output_type": "stream",
     "text": [
      "\n",
      "\n",
      "Shapiro-Wilk test for Normality\n",
      "Null Hypothesis : Data is drawn from a normal distribution\n",
      "Alternative Hypothesis : Data is not drawn from a normal distribution\n",
      "P-value : 0.7161415815353394\n",
      "Fail to reject Null Hypotheis : Sample Looks Gaussian\n",
      "\n",
      "\n",
      "D-Agostino and Pearson test for Normality\n",
      "combines skew and kurtosis to produce an omnibus test of normality\n",
      "Null Hypothesis : Data is drawn from a normal distribution\n",
      "Alternative Hypothesis : Data is not drawn from a normal distribution\n",
      "P-value : 0.39395068427162455\n",
      "Fail to reject Null Hypotheis : Sample Looks Gaussian\n",
      "\n",
      "\n",
      "Anderson test for Normality\n",
      "the critical values depend on which distribution is being tested against\n",
      "Null Hypothesis : Data is drawn from a normal distribution\n",
      "Alternative Hypothesis : Data is not drawn from a normal distribution\n",
      "level of significance :  1.0\n",
      "Critical value :  1.088\n",
      "Result statistic : 0.2198556445594022\n",
      "Fail to reject Null Hypotheis : Sample Looks Gaussian\n",
      "\n",
      "\n"
     ]
    }
   ],
   "source": [
    "normality_test(sample_data_mean)"
   ]
  },
  {
   "cell_type": "code",
   "execution_count": 286,
   "metadata": {},
   "outputs": [
    {
     "name": "stdout",
     "output_type": "stream",
     "text": [
      "QQPlot test for Normality\n"
     ]
    },
    {
     "data": {
      "image/png": "[encoded data removed]",
      "text/plain": [
       "<Figure size 432x288 with 1 Axes>"
      ]
     },
     "metadata": {
      "needs_background": "light"
     },
     "output_type": "display_data"
    },
    {
     "name": "stdout",
     "output_type": "stream",
     "text": [
      "\n",
      "\n",
      "Shapiro-Wilk test for Normality\n",
      "Null Hypothesis : Data is drawn from a normal distribution\n",
      "Alternative Hypothesis : Data is not drawn from a normal distribution\n",
      "P-value : 0.2726532816886902\n",
      "Fail to reject Null Hypotheis : Sample Looks Gaussian\n",
      "\n",
      "\n",
      "D-Agostino and Pearson test for Normality\n",
      "combines skew and kurtosis to produce an omnibus test of normality\n",
      "Null Hypothesis : Data is drawn from a normal distribution\n",
      "Alternative Hypothesis : Data is not drawn from a normal distribution\n",
      "P-value : 0.40486325526554146\n",
      "Fail to reject Null Hypotheis : Sample Looks Gaussian\n",
      "\n",
      "\n",
      "Anderson test for Normality\n",
      "the critical values depend on which distribution is being tested against\n",
      "Null Hypothesis : Data is drawn from a normal distribution\n",
      "Alternative Hypothesis : Data is not drawn from a normal distribution\n",
      "level of significance :  1.0\n",
      "Critical value :  1.088\n",
      "Result statistic : 0.27528978625423406\n",
      "Fail to reject Null Hypotheis : Sample Looks Gaussian\n",
      "\n",
      "\n"
     ]
    }
   ],
   "source": [
    "normality_test(sample_data_sigma)"
   ]
  },
  {
   "cell_type": "markdown",
   "metadata": {},
   "source": [
    "## B. Sampling distribution of difference between means\n",
    "\n",
    "Example : Compare the mean of a control group with the mean of an experimental group\n",
    "\n",
    "Steps:\n",
    "  - Sample n1 score from Population 1 and n2 scores from Population 2\n",
    "  - Compute the means of the two samples (M1 and M2)\n",
    "  - Compute the difference between means, M1-M2\n",
    "  \n",
    "Distribution of differences between means is the sampling distribution of the difference between means.\n",
    "\n",
    "**Mean** : Mean of the sampling distribution of the differences between means is M1-M2\n",
    "**Variance** : Variance of the sampling distribution of the differences between means is Variance of the sampling distribution of the mean for population 1 plus the variance of the sampling distribution of the mean for population 2.\n",
    "\n",
    "**Standard Error** : Standard deviation of the sampling distribution"
   ]
  },
  {
   "cell_type": "markdown",
   "metadata": {},
   "source": [
    "### Example 1: \n",
    "Mean height of 15 year old boys is 175cm and the variance is 64. For girls, the mean is 165 and the variance is 64. If 8 boys and 8 girls were sampled, what is the probability that the mean height of of the sample of girls would be higher than the mean height of the sample of boys?"
   ]
  },
  {
   "cell_type": "code",
   "execution_count": 247,
   "metadata": {},
   "outputs": [
    {
     "name": "stdout",
     "output_type": "stream",
     "text": [
      "-10\n",
      "4.0\n"
     ]
    },
    {
     "data": {
      "image/png": "[encoded data removed]",
      "text/plain": [
       "<Figure size 1224x360 with 1 Axes>"
      ]
     },
     "metadata": {
      "needs_background": "light"
     },
     "output_type": "display_data"
    },
    {
     "data": {
      "text/plain": [
       "0.006209665325776159"
      ]
     },
     "execution_count": 247,
     "metadata": {},
     "output_type": "execute_result"
    }
   ],
   "source": [
    "MB=175\n",
    "MG=165\n",
    "\n",
    "Var=64\n",
    "n=8\n",
    "\n",
    "MG_MB_diff_mean=MG-MB\n",
    "print(MG_MB_diff_mean)\n",
    "\n",
    "MG_MB_diff_std=np.sqrt(2*Var/n)\n",
    "print(MG_MB_diff_std)\n",
    "\n",
    "plt.figure(figsize=(17,5))\n",
    "x=np.linspace(-30,10,1000)\n",
    "y=stats.norm.pdf(x,loc=MG_MB_diff_mean,scale=MG_MB_diff_std)\n",
    "plt.plot(x,y)\n",
    "#print(stats.norm.pdf(0,MG_MB_diff_mean,np.power(MG_MB_diff_std,2)))\n",
    "plt.axvline(x=0,ymax=0.10)\n",
    "plt.show()\n",
    "\n",
    "\n",
    "#stats.norm.cdf(x=0,MG_MB_diff_mean,np.power(MG_MB_diff_std,2))\n",
    "\n",
    "rv=stats.norm(loc=MG_MB_diff_mean,scale=MG_MB_diff_std)\n",
    "rv.cdf(x=0)\n",
    "\n",
    "prob_MG_gt_MB=1-rv.cdf(x=0)\n",
    "prob_MG_gt_MB\n"
   ]
  },
  {
   "cell_type": "markdown",
   "metadata": {},
   "source": [
    "#### Example 2: \n",
    "Mean height of species 1 is 32 and the variance is 60. For species 2, the mean is 22 and the variance is 70. If 10 members of species 1 and 14 members of species 2 were sampled, what is the probability that the mean of the 10 members of species 1 will exceed the mean of the 14 members of species 2 by 5 or more?"
   ]
  },
  {
   "cell_type": "code",
   "execution_count": 255,
   "metadata": {},
   "outputs": [
    {
     "name": "stdout",
     "output_type": "stream",
     "text": [
      "10\n",
      "3.3166247903554\n"
     ]
    },
    {
     "data": {
      "image/png": "[encoded data removed]",
      "text/plain": [
       "<Figure size 1224x360 with 1 Axes>"
      ]
     },
     "metadata": {
      "needs_background": "light"
     },
     "output_type": "display_data"
    },
    {
     "data": {
      "text/plain": [
       "0.9341659919885928"
      ]
     },
     "execution_count": 255,
     "metadata": {},
     "output_type": "execute_result"
    }
   ],
   "source": [
    "mu_s1=32\n",
    "mu_s2=22\n",
    "\n",
    "var_s1=60\n",
    "var_s2=70\n",
    "\n",
    "n1=10\n",
    "n2=14\n",
    "\n",
    "mu_s1_s2_diff=mu_s1-mu_s2\n",
    "print(mu_s1_s2_diff)\n",
    "\n",
    "SE_s1_s2_diff=np.sqrt(var_s1/10 + var_s2/14)\n",
    "print(SE_s1_s2_diff)\n",
    "\n",
    "\n",
    "plt.figure(figsize=(17,5))\n",
    "x=np.linspace(-10,30,1000)\n",
    "y=stats.norm.pdf(x,loc=mu_s1_s2_diff,scale=SE_s1_s2_diff)\n",
    "plt.plot(x,y)\n",
    "#print(stats.norm.pdf(0,MG_MB_diff_mean,np.power(MG_MB_diff_std,2)))\n",
    "plt.axvline(x=5,ymax=0.35)\n",
    "plt.show()\n",
    "\n",
    "\n",
    "#stats.norm.cdf(x=0,MG_MB_diff_mean,np.power(MG_MB_diff_std,2))\n",
    "\n",
    "rv=stats.norm(loc=mu_s1_s2_diff,scale=SE_s1_s2_diff)\n",
    "rv.cdf(x=5)\n",
    "\n",
    "prob_MG_gt_MB=1-rv.cdf(x=5)\n",
    "prob_MG_gt_MB\n",
    "\n"
   ]
  },
  {
   "cell_type": "markdown",
   "metadata": {},
   "source": [
    "## C. Sampling distribution of Pearson's r\n",
    "\n",
    "This sampling distribution is not symmetric and is negatively skewed. The reason for skewness is that r cannot take on values greater than 1 and therefore the distribution cannot extend as far in the positive direction as it can in the negative direction.\n",
    "\n",
    "Statistician Fisher developed a way to transform r to a variable that is normally distributed with a known standard error. \n",
    "\n",
    "z= 0.5 ln[(1+r)/(1-r)]\n",
    "\n",
    "z is normally distributed and has standard error of 1/sqrt(N-3)"
   ]
  },
  {
   "cell_type": "markdown",
   "metadata": {},
   "source": [
    "### Example 1 : \n",
    "\n",
    "Assume that correlation between quantiative and verbal CAT scores in a given population is 0.6. If 12 students were sampled randomly, the sample correlation r might not be 0.6. What is the probability of getting a sample correlation of 0.75 or above?"
   ]
  },
  {
   "cell_type": "code",
   "execution_count": 266,
   "metadata": {},
   "outputs": [
    {
     "name": "stdout",
     "output_type": "stream",
     "text": [
      "0.6931471805599453\n",
      "0.9729550745276566\n",
      "0.3333333333333333\n"
     ]
    },
    {
     "data": {
      "image/png": "[encoded data removed]",
      "text/plain": [
       "<Figure size 1224x360 with 1 Axes>"
      ]
     },
     "metadata": {
      "needs_background": "light"
     },
     "output_type": "display_data"
    },
    {
     "data": {
      "text/plain": [
       "0.2006157995772706"
      ]
     },
     "execution_count": 266,
     "metadata": {},
     "output_type": "execute_result"
    }
   ],
   "source": [
    "#Converting correlation to z value\n",
    "\n",
    "pop_corr=0.6\n",
    "sample_corr=0.75\n",
    "n=12\n",
    "\n",
    "def corr_z(r):\n",
    "    return 0.5 * np.log((1+r)/(1-r))\n",
    "\n",
    "pop_corr_z=corr_z(pop_corr)\n",
    "print(pop_corr_z)\n",
    "\n",
    "sample_corr_z=corr_z(sample_corr)\n",
    "print(sample_corr_z)\n",
    "\n",
    "SE=1/np.sqrt(n-3)\n",
    "print(SE)\n",
    "\n",
    "\n",
    "\n",
    "plt.figure(figsize=(17,5))\n",
    "x=np.linspace(-1,2,1000)\n",
    "y=stats.norm.pdf(x,loc=pop_corr,scale=SE)\n",
    "plt.plot(x,y)\n",
    "#print(stats.norm.pdf(0,MG_MB_diff_mean,np.power(MG_MB_diff_std,2)))\n",
    "plt.axvline(x=sample_corr,ymax=0.85)\n",
    "plt.show()\n",
    "\n",
    "\n",
    "#stats.norm.cdf(x=0,MG_MB_diff_mean,np.power(MG_MB_diff_std,2))\n",
    "\n",
    "rv=stats.norm(loc=pop_corr_z,scale=SE)\n",
    "rv.cdf(x=sample_corr_z)\n",
    "\n",
    "prob_sample_corr=1-rv.cdf(x=sample_corr_z)\n",
    "prob_sample_corr"
   ]
  },
  {
   "cell_type": "markdown",
   "metadata": {},
   "source": [
    "### Degrees of Freedom\n",
    "Some estimates are based on more information than others. Estimate of variance based on 5 standard deviation "
   ]
  },
  {
   "cell_type": "code",
   "execution_count": null,
   "metadata": {},
   "outputs": [],
   "source": []
  }
 ],
 "metadata": {
  "kernelspec": {
   "display_name": "Python 3",
   "language": "python",
   "name": "python3"
  },
  "language_info": {
   "codemirror_mode": {
    "name": "ipython",
    "version": 3
   },
   "file_extension": ".py",
   "mimetype": "text/x-python",
   "name": "python",
   "nbconvert_exporter": "python",
   "pygments_lexer": "ipython3",
   "version": "3.7.3"
  }
 },
 "nbformat": 4,
 "nbformat_minor": 2
}
